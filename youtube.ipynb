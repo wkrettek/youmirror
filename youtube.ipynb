{
 "cells": [
  {
   "cell_type": "code",
   "execution_count": 16,
   "metadata": {},
   "outputs": [],
   "source": [
    "from pytube import YouTube, Playlist, Stream, Channel\n",
    "from typing import Union"
   ]
  },
  {
   "cell_type": "code",
   "execution_count": 93,
   "metadata": {},
   "outputs": [
    {
     "name": "stdout",
     "output_type": "stream",
     "text": [
      "True\n"
     ]
    }
   ],
   "source": [
    "# well = type(playlist) in [Channel, Playlist]\n",
    "# print(well)"
   ]
  },
  {
   "cell_type": "markdown",
   "metadata": {},
   "source": [
    "## Videos"
   ]
  },
  {
   "cell_type": "code",
   "execution_count": 17,
   "metadata": {},
   "outputs": [
    {
     "name": "stdout",
     "output_type": "stream",
     "text": [
      "Non-Fungible Planet | YouTube\n",
      "https://youtube.com/watch?v=pn4XSDnaiPY\n",
      "https://i.ytimg.com/vi/pn4XSDnaiPY/sddefault.jpg\n",
      "UCBR8-60-B28hp2BmDPdntcQ\n",
      "https://www.youtube.com/channel/UCBR8-60-B28hp2BmDPdntcQ\n",
      "YouTube\n",
      "pn4XSDnaiPY\n"
     ]
    }
   ],
   "source": [
    "yt = YouTube('https://www.youtube.com/watch?v=pn4XSDnaiPY&list=PLbpi6ZahtOH52gc6K5nH46dbD55DxH3a1')\n",
    "print(yt.title)\n",
    "print(yt.watch_url)\n",
    "print(yt.thumbnail_url)\n",
    "print(yt.channel_id)\n",
    "print(yt.channel_url)\n",
    "print(yt.author)\n",
    "print(yt.video_id)"
   ]
  },
  {
   "cell_type": "markdown",
   "metadata": {},
   "source": [
    "## Playlists"
   ]
  },
  {
   "cell_type": "code",
   "execution_count": 65,
   "metadata": {},
   "outputs": [
    {
     "name": "stdout",
     "output_type": "stream",
     "text": [
      "Non-Fungible Planet from YouTube\n",
      "YouTube\n",
      "UCBR8-60-B28hp2BmDPdntcQ\n",
      "Celebrate Earth Day with YouTube and your favorite Creators as we explore this Non-Fungible Planet we call home. \n",
      "After all, there’s nothing more valuable in the world than the world itself.\n",
      "Playlist id PLbpi6ZahtOH52gc6K5nH46dbD55DxH3a1\n",
      "Playlist url https://www.youtube.com/playlist?list=PLbpi6ZahtOH52gc6K5nH46dbD55DxH3a1\n",
      "https://www.youtube.com/watch?v=pn4XSDnaiPY\n",
      "https://www.youtube.com/watch?v=fiYvkBkdlOQ\n",
      "https://www.youtube.com/watch?v=mdecshXNmgA\n",
      "https://www.youtube.com/watch?v=UzfCgcgrOH8\n",
      "https://www.youtube.com/watch?v=bIJAiJk97aw\n",
      "https://www.youtube.com/watch?v=UfUawgZKKoE\n",
      "https://www.youtube.com/watch?v=qqpgezEiup0\n"
     ]
    }
   ],
   "source": [
    "playlist = Playlist(\"https://www.youtube.com/watch?v=pn4XSDnaiPY&list=PLbpi6ZahtOH52gc6K5nH46dbD55DxH3a1\")\n",
    "playlist.url_generator()\n",
    "print(playlist.title)\n",
    "print(playlist.owner)\n",
    "print(playlist.owner_id)\n",
    "print(playlist.description)\n",
    "print(\"Playlist id\", playlist.playlist_id)\n",
    "print(\"Playlist url\", playlist.playlist_url)\n",
    "for url in playlist.url_generator():\n",
    "    print(url)"
   ]
  },
  {
   "cell_type": "markdown",
   "metadata": {},
   "source": [
    "## Channels"
   ]
  },
  {
   "cell_type": "code",
   "execution_count": 66,
   "metadata": {},
   "outputs": [
    {
     "name": "stdout",
     "output_type": "stream",
     "text": [
      "videogamedunkey\n",
      "UCsvn_Po0SmunchJYOWpOxMg\n",
      "http://www.youtube.com/user/videogamedunkey\n",
      "/user/videogamedunkey\n"
     ]
    },
    {
     "ename": "KeyboardInterrupt",
     "evalue": "",
     "output_type": "error",
     "traceback": [
      "\u001b[0;31m---------------------------------------------------------------------------\u001b[0m",
      "\u001b[0;31mKeyboardInterrupt\u001b[0m                         Traceback (most recent call last)",
      "\u001b[1;32m/Users/warrenkrettek/Documents/projects/youmirror/youtube.ipynb Cell 7'\u001b[0m in \u001b[0;36m<cell line: 14>\u001b[0;34m()\u001b[0m\n\u001b[1;32m     <a href='vscode-notebook-cell:/Users/warrenkrettek/Documents/projects/youmirror/youtube.ipynb#ch0000006?line=11'>12</a>\u001b[0m \u001b[39mprint\u001b[39m(channel\u001b[39m.\u001b[39mvanity_url)\n\u001b[1;32m     <a href='vscode-notebook-cell:/Users/warrenkrettek/Documents/projects/youmirror/youtube.ipynb#ch0000006?line=12'>13</a>\u001b[0m \u001b[39mprint\u001b[39m(channel\u001b[39m.\u001b[39mchannel_uri)  \u001b[39m# Okay the key is using the uri, not the vanity url\u001b[39;00m\n\u001b[0;32m---> <a href='vscode-notebook-cell:/Users/warrenkrettek/Documents/projects/youmirror/youtube.ipynb#ch0000006?line=13'>14</a>\u001b[0m \u001b[39mprint\u001b[39m(\u001b[39mlen\u001b[39;49m(channel\u001b[39m.\u001b[39;49mvideo_urls))\n",
      "File \u001b[0;32m~/Library/Caches/pypoetry/virtualenvs/youmirror-DiMKVoJk-py3.9/lib/python3.9/site-packages/pytube/helpers.py:89\u001b[0m, in \u001b[0;36mDeferredGeneratorList.__len__\u001b[0;34m(self)\u001b[0m\n\u001b[1;32m     <a href='file:///Users/warrenkrettek/Library/Caches/pypoetry/virtualenvs/youmirror-DiMKVoJk-py3.9/lib/python3.9/site-packages/pytube/helpers.py?line=86'>87</a>\u001b[0m \u001b[39mdef\u001b[39;00m \u001b[39m__len__\u001b[39m(\u001b[39mself\u001b[39m) \u001b[39m-\u001b[39m\u001b[39m>\u001b[39m \u001b[39mint\u001b[39m:\n\u001b[1;32m     <a href='file:///Users/warrenkrettek/Library/Caches/pypoetry/virtualenvs/youmirror-DiMKVoJk-py3.9/lib/python3.9/site-packages/pytube/helpers.py?line=87'>88</a>\u001b[0m     \u001b[39m\"\"\"Return length of list of all items.\"\"\"\u001b[39;00m\n\u001b[0;32m---> <a href='file:///Users/warrenkrettek/Library/Caches/pypoetry/virtualenvs/youmirror-DiMKVoJk-py3.9/lib/python3.9/site-packages/pytube/helpers.py?line=88'>89</a>\u001b[0m     \u001b[39mself\u001b[39;49m\u001b[39m.\u001b[39;49mgenerate_all()\n\u001b[1;32m     <a href='file:///Users/warrenkrettek/Library/Caches/pypoetry/virtualenvs/youmirror-DiMKVoJk-py3.9/lib/python3.9/site-packages/pytube/helpers.py?line=89'>90</a>\u001b[0m     \u001b[39mreturn\u001b[39;00m \u001b[39mlen\u001b[39m(\u001b[39mself\u001b[39m\u001b[39m.\u001b[39m_elements)\n",
      "File \u001b[0;32m~/Library/Caches/pypoetry/virtualenvs/youmirror-DiMKVoJk-py3.9/lib/python3.9/site-packages/pytube/helpers.py:105\u001b[0m, in \u001b[0;36mDeferredGeneratorList.generate_all\u001b[0;34m(self)\u001b[0m\n\u001b[1;32m    <a href='file:///Users/warrenkrettek/Library/Caches/pypoetry/virtualenvs/youmirror-DiMKVoJk-py3.9/lib/python3.9/site-packages/pytube/helpers.py?line=102'>103</a>\u001b[0m \u001b[39mwhile\u001b[39;00m \u001b[39mTrue\u001b[39;00m:\n\u001b[1;32m    <a href='file:///Users/warrenkrettek/Library/Caches/pypoetry/virtualenvs/youmirror-DiMKVoJk-py3.9/lib/python3.9/site-packages/pytube/helpers.py?line=103'>104</a>\u001b[0m     \u001b[39mtry\u001b[39;00m:\n\u001b[0;32m--> <a href='file:///Users/warrenkrettek/Library/Caches/pypoetry/virtualenvs/youmirror-DiMKVoJk-py3.9/lib/python3.9/site-packages/pytube/helpers.py?line=104'>105</a>\u001b[0m         next_item \u001b[39m=\u001b[39m \u001b[39mnext\u001b[39;49m(\u001b[39mself\u001b[39;49m\u001b[39m.\u001b[39;49mgen)\n\u001b[1;32m    <a href='file:///Users/warrenkrettek/Library/Caches/pypoetry/virtualenvs/youmirror-DiMKVoJk-py3.9/lib/python3.9/site-packages/pytube/helpers.py?line=105'>106</a>\u001b[0m     \u001b[39mexcept\u001b[39;00m \u001b[39mStopIteration\u001b[39;00m:\n\u001b[1;32m    <a href='file:///Users/warrenkrettek/Library/Caches/pypoetry/virtualenvs/youmirror-DiMKVoJk-py3.9/lib/python3.9/site-packages/pytube/helpers.py?line=106'>107</a>\u001b[0m         \u001b[39mbreak\u001b[39;00m\n",
      "File \u001b[0;32m~/Library/Caches/pypoetry/virtualenvs/youmirror-DiMKVoJk-py3.9/lib/python3.9/site-packages/pytube/contrib/playlist.py:281\u001b[0m, in \u001b[0;36mPlaylist.url_generator\u001b[0;34m(self)\u001b[0m\n\u001b[1;32m    <a href='file:///Users/warrenkrettek/Library/Caches/pypoetry/virtualenvs/youmirror-DiMKVoJk-py3.9/lib/python3.9/site-packages/pytube/contrib/playlist.py?line=275'>276</a>\u001b[0m \u001b[39mdef\u001b[39;00m \u001b[39murl_generator\u001b[39m(\u001b[39mself\u001b[39m):\n\u001b[1;32m    <a href='file:///Users/warrenkrettek/Library/Caches/pypoetry/virtualenvs/youmirror-DiMKVoJk-py3.9/lib/python3.9/site-packages/pytube/contrib/playlist.py?line=276'>277</a>\u001b[0m     \u001b[39m\"\"\"Generator that yields video URLs.\u001b[39;00m\n\u001b[1;32m    <a href='file:///Users/warrenkrettek/Library/Caches/pypoetry/virtualenvs/youmirror-DiMKVoJk-py3.9/lib/python3.9/site-packages/pytube/contrib/playlist.py?line=277'>278</a>\u001b[0m \n\u001b[1;32m    <a href='file:///Users/warrenkrettek/Library/Caches/pypoetry/virtualenvs/youmirror-DiMKVoJk-py3.9/lib/python3.9/site-packages/pytube/contrib/playlist.py?line=278'>279</a>\u001b[0m \u001b[39m    :Yields: Video URLs\u001b[39;00m\n\u001b[1;32m    <a href='file:///Users/warrenkrettek/Library/Caches/pypoetry/virtualenvs/youmirror-DiMKVoJk-py3.9/lib/python3.9/site-packages/pytube/contrib/playlist.py?line=279'>280</a>\u001b[0m \u001b[39m    \"\"\"\u001b[39;00m\n\u001b[0;32m--> <a href='file:///Users/warrenkrettek/Library/Caches/pypoetry/virtualenvs/youmirror-DiMKVoJk-py3.9/lib/python3.9/site-packages/pytube/contrib/playlist.py?line=280'>281</a>\u001b[0m     \u001b[39mfor\u001b[39;00m page \u001b[39min\u001b[39;00m \u001b[39mself\u001b[39m\u001b[39m.\u001b[39m_paginate():\n\u001b[1;32m    <a href='file:///Users/warrenkrettek/Library/Caches/pypoetry/virtualenvs/youmirror-DiMKVoJk-py3.9/lib/python3.9/site-packages/pytube/contrib/playlist.py?line=281'>282</a>\u001b[0m         \u001b[39mfor\u001b[39;00m video \u001b[39min\u001b[39;00m page:\n\u001b[1;32m    <a href='file:///Users/warrenkrettek/Library/Caches/pypoetry/virtualenvs/youmirror-DiMKVoJk-py3.9/lib/python3.9/site-packages/pytube/contrib/playlist.py?line=282'>283</a>\u001b[0m             \u001b[39myield\u001b[39;00m \u001b[39mself\u001b[39m\u001b[39m.\u001b[39m_video_url(video)\n",
      "File \u001b[0;32m~/Library/Caches/pypoetry/virtualenvs/youmirror-DiMKVoJk-py3.9/lib/python3.9/site-packages/pytube/contrib/playlist.py:142\u001b[0m, in \u001b[0;36mPlaylist._paginate\u001b[0;34m(self, until_watch_id)\u001b[0m\n\u001b[1;32m    <a href='file:///Users/warrenkrettek/Library/Caches/pypoetry/virtualenvs/youmirror-DiMKVoJk-py3.9/lib/python3.9/site-packages/pytube/contrib/playlist.py?line=138'>139</a>\u001b[0m logger\u001b[39m.\u001b[39mdebug(\u001b[39m\"\u001b[39m\u001b[39mload more url: \u001b[39m\u001b[39m%s\u001b[39;00m\u001b[39m\"\u001b[39m, load_more_url)\n\u001b[1;32m    <a href='file:///Users/warrenkrettek/Library/Caches/pypoetry/virtualenvs/youmirror-DiMKVoJk-py3.9/lib/python3.9/site-packages/pytube/contrib/playlist.py?line=139'>140</a>\u001b[0m \u001b[39m# requesting the next page of videos with the url generated from the\u001b[39;00m\n\u001b[1;32m    <a href='file:///Users/warrenkrettek/Library/Caches/pypoetry/virtualenvs/youmirror-DiMKVoJk-py3.9/lib/python3.9/site-packages/pytube/contrib/playlist.py?line=140'>141</a>\u001b[0m \u001b[39m# previous page, needs to be a post\u001b[39;00m\n\u001b[0;32m--> <a href='file:///Users/warrenkrettek/Library/Caches/pypoetry/virtualenvs/youmirror-DiMKVoJk-py3.9/lib/python3.9/site-packages/pytube/contrib/playlist.py?line=141'>142</a>\u001b[0m req \u001b[39m=\u001b[39m request\u001b[39m.\u001b[39;49mpost(load_more_url, extra_headers\u001b[39m=\u001b[39;49mheaders, data\u001b[39m=\u001b[39;49mdata)\n\u001b[1;32m    <a href='file:///Users/warrenkrettek/Library/Caches/pypoetry/virtualenvs/youmirror-DiMKVoJk-py3.9/lib/python3.9/site-packages/pytube/contrib/playlist.py?line=142'>143</a>\u001b[0m \u001b[39m# extract up to 100 songs from the page loaded\u001b[39;00m\n\u001b[1;32m    <a href='file:///Users/warrenkrettek/Library/Caches/pypoetry/virtualenvs/youmirror-DiMKVoJk-py3.9/lib/python3.9/site-packages/pytube/contrib/playlist.py?line=143'>144</a>\u001b[0m \u001b[39m# returns another continuation if more videos are available\u001b[39;00m\n\u001b[1;32m    <a href='file:///Users/warrenkrettek/Library/Caches/pypoetry/virtualenvs/youmirror-DiMKVoJk-py3.9/lib/python3.9/site-packages/pytube/contrib/playlist.py?line=144'>145</a>\u001b[0m videos_urls, continuation \u001b[39m=\u001b[39m \u001b[39mself\u001b[39m\u001b[39m.\u001b[39m_extract_videos(req)\n",
      "File \u001b[0;32m~/Library/Caches/pypoetry/virtualenvs/youmirror-DiMKVoJk-py3.9/lib/python3.9/site-packages/pytube/request.py:85\u001b[0m, in \u001b[0;36mpost\u001b[0;34m(url, extra_headers, data, timeout)\u001b[0m\n\u001b[1;32m     <a href='file:///Users/warrenkrettek/Library/Caches/pypoetry/virtualenvs/youmirror-DiMKVoJk-py3.9/lib/python3.9/site-packages/pytube/request.py?line=77'>78</a>\u001b[0m extra_headers\u001b[39m.\u001b[39mupdate({\u001b[39m\"\u001b[39m\u001b[39mContent-Type\u001b[39m\u001b[39m\"\u001b[39m: \u001b[39m\"\u001b[39m\u001b[39mapplication/json\u001b[39m\u001b[39m\"\u001b[39m})\n\u001b[1;32m     <a href='file:///Users/warrenkrettek/Library/Caches/pypoetry/virtualenvs/youmirror-DiMKVoJk-py3.9/lib/python3.9/site-packages/pytube/request.py?line=78'>79</a>\u001b[0m response \u001b[39m=\u001b[39m _execute_request(\n\u001b[1;32m     <a href='file:///Users/warrenkrettek/Library/Caches/pypoetry/virtualenvs/youmirror-DiMKVoJk-py3.9/lib/python3.9/site-packages/pytube/request.py?line=79'>80</a>\u001b[0m     url,\n\u001b[1;32m     <a href='file:///Users/warrenkrettek/Library/Caches/pypoetry/virtualenvs/youmirror-DiMKVoJk-py3.9/lib/python3.9/site-packages/pytube/request.py?line=80'>81</a>\u001b[0m     headers\u001b[39m=\u001b[39mextra_headers,\n\u001b[1;32m     <a href='file:///Users/warrenkrettek/Library/Caches/pypoetry/virtualenvs/youmirror-DiMKVoJk-py3.9/lib/python3.9/site-packages/pytube/request.py?line=81'>82</a>\u001b[0m     data\u001b[39m=\u001b[39mdata,\n\u001b[1;32m     <a href='file:///Users/warrenkrettek/Library/Caches/pypoetry/virtualenvs/youmirror-DiMKVoJk-py3.9/lib/python3.9/site-packages/pytube/request.py?line=82'>83</a>\u001b[0m     timeout\u001b[39m=\u001b[39mtimeout\n\u001b[1;32m     <a href='file:///Users/warrenkrettek/Library/Caches/pypoetry/virtualenvs/youmirror-DiMKVoJk-py3.9/lib/python3.9/site-packages/pytube/request.py?line=83'>84</a>\u001b[0m )\n\u001b[0;32m---> <a href='file:///Users/warrenkrettek/Library/Caches/pypoetry/virtualenvs/youmirror-DiMKVoJk-py3.9/lib/python3.9/site-packages/pytube/request.py?line=84'>85</a>\u001b[0m \u001b[39mreturn\u001b[39;00m response\u001b[39m.\u001b[39;49mread()\u001b[39m.\u001b[39mdecode(\u001b[39m\"\u001b[39m\u001b[39mutf-8\u001b[39m\u001b[39m\"\u001b[39m)\n",
      "File \u001b[0;32m/opt/homebrew/Cellar/python@3.9/3.9.12/Frameworks/Python.framework/Versions/3.9/lib/python3.9/http/client.py:470\u001b[0m, in \u001b[0;36mHTTPResponse.read\u001b[0;34m(self, amt)\u001b[0m\n\u001b[1;32m    <a href='file:///opt/homebrew/Cellar/python%403.9/3.9.12/Frameworks/Python.framework/Versions/3.9/lib/python3.9/http/client.py?line=464'>465</a>\u001b[0m \u001b[39melse\u001b[39;00m:\n\u001b[1;32m    <a href='file:///opt/homebrew/Cellar/python%403.9/3.9.12/Frameworks/Python.framework/Versions/3.9/lib/python3.9/http/client.py?line=465'>466</a>\u001b[0m     \u001b[39m# Amount is not given (unbounded read) so we must check self.length\u001b[39;00m\n\u001b[1;32m    <a href='file:///opt/homebrew/Cellar/python%403.9/3.9.12/Frameworks/Python.framework/Versions/3.9/lib/python3.9/http/client.py?line=466'>467</a>\u001b[0m     \u001b[39m# and self.chunked\u001b[39;00m\n\u001b[1;32m    <a href='file:///opt/homebrew/Cellar/python%403.9/3.9.12/Frameworks/Python.framework/Versions/3.9/lib/python3.9/http/client.py?line=468'>469</a>\u001b[0m     \u001b[39mif\u001b[39;00m \u001b[39mself\u001b[39m\u001b[39m.\u001b[39mchunked:\n\u001b[0;32m--> <a href='file:///opt/homebrew/Cellar/python%403.9/3.9.12/Frameworks/Python.framework/Versions/3.9/lib/python3.9/http/client.py?line=469'>470</a>\u001b[0m         \u001b[39mreturn\u001b[39;00m \u001b[39mself\u001b[39;49m\u001b[39m.\u001b[39;49m_readall_chunked()\n\u001b[1;32m    <a href='file:///opt/homebrew/Cellar/python%403.9/3.9.12/Frameworks/Python.framework/Versions/3.9/lib/python3.9/http/client.py?line=471'>472</a>\u001b[0m     \u001b[39mif\u001b[39;00m \u001b[39mself\u001b[39m\u001b[39m.\u001b[39mlength \u001b[39mis\u001b[39;00m \u001b[39mNone\u001b[39;00m:\n\u001b[1;32m    <a href='file:///opt/homebrew/Cellar/python%403.9/3.9.12/Frameworks/Python.framework/Versions/3.9/lib/python3.9/http/client.py?line=472'>473</a>\u001b[0m         s \u001b[39m=\u001b[39m \u001b[39mself\u001b[39m\u001b[39m.\u001b[39mfp\u001b[39m.\u001b[39mread()\n",
      "File \u001b[0;32m/opt/homebrew/Cellar/python@3.9/3.9.12/Frameworks/Python.framework/Versions/3.9/lib/python3.9/http/client.py:580\u001b[0m, in \u001b[0;36mHTTPResponse._readall_chunked\u001b[0;34m(self)\u001b[0m\n\u001b[1;32m    <a href='file:///opt/homebrew/Cellar/python%403.9/3.9.12/Frameworks/Python.framework/Versions/3.9/lib/python3.9/http/client.py?line=577'>578</a>\u001b[0m     \u001b[39mif\u001b[39;00m chunk_left \u001b[39mis\u001b[39;00m \u001b[39mNone\u001b[39;00m:\n\u001b[1;32m    <a href='file:///opt/homebrew/Cellar/python%403.9/3.9.12/Frameworks/Python.framework/Versions/3.9/lib/python3.9/http/client.py?line=578'>579</a>\u001b[0m         \u001b[39mbreak\u001b[39;00m\n\u001b[0;32m--> <a href='file:///opt/homebrew/Cellar/python%403.9/3.9.12/Frameworks/Python.framework/Versions/3.9/lib/python3.9/http/client.py?line=579'>580</a>\u001b[0m     value\u001b[39m.\u001b[39mappend(\u001b[39mself\u001b[39;49m\u001b[39m.\u001b[39;49m_safe_read(chunk_left))\n\u001b[1;32m    <a href='file:///opt/homebrew/Cellar/python%403.9/3.9.12/Frameworks/Python.framework/Versions/3.9/lib/python3.9/http/client.py?line=580'>581</a>\u001b[0m     \u001b[39mself\u001b[39m\u001b[39m.\u001b[39mchunk_left \u001b[39m=\u001b[39m \u001b[39m0\u001b[39m\n\u001b[1;32m    <a href='file:///opt/homebrew/Cellar/python%403.9/3.9.12/Frameworks/Python.framework/Versions/3.9/lib/python3.9/http/client.py?line=581'>582</a>\u001b[0m \u001b[39mreturn\u001b[39;00m \u001b[39mb\u001b[39m\u001b[39m'\u001b[39m\u001b[39m'\u001b[39m\u001b[39m.\u001b[39mjoin(value)\n",
      "File \u001b[0;32m/opt/homebrew/Cellar/python@3.9/3.9.12/Frameworks/Python.framework/Versions/3.9/lib/python3.9/http/client.py:626\u001b[0m, in \u001b[0;36mHTTPResponse._safe_read\u001b[0;34m(self, amt)\u001b[0m\n\u001b[1;32m    <a href='file:///opt/homebrew/Cellar/python%403.9/3.9.12/Frameworks/Python.framework/Versions/3.9/lib/python3.9/http/client.py?line=623'>624</a>\u001b[0m s \u001b[39m=\u001b[39m []\n\u001b[1;32m    <a href='file:///opt/homebrew/Cellar/python%403.9/3.9.12/Frameworks/Python.framework/Versions/3.9/lib/python3.9/http/client.py?line=624'>625</a>\u001b[0m \u001b[39mwhile\u001b[39;00m amt \u001b[39m>\u001b[39m \u001b[39m0\u001b[39m:\n\u001b[0;32m--> <a href='file:///opt/homebrew/Cellar/python%403.9/3.9.12/Frameworks/Python.framework/Versions/3.9/lib/python3.9/http/client.py?line=625'>626</a>\u001b[0m     chunk \u001b[39m=\u001b[39m \u001b[39mself\u001b[39;49m\u001b[39m.\u001b[39;49mfp\u001b[39m.\u001b[39;49mread(\u001b[39mmin\u001b[39;49m(amt, MAXAMOUNT))\n\u001b[1;32m    <a href='file:///opt/homebrew/Cellar/python%403.9/3.9.12/Frameworks/Python.framework/Versions/3.9/lib/python3.9/http/client.py?line=626'>627</a>\u001b[0m     \u001b[39mif\u001b[39;00m \u001b[39mnot\u001b[39;00m chunk:\n\u001b[1;32m    <a href='file:///opt/homebrew/Cellar/python%403.9/3.9.12/Frameworks/Python.framework/Versions/3.9/lib/python3.9/http/client.py?line=627'>628</a>\u001b[0m         \u001b[39mraise\u001b[39;00m IncompleteRead(\u001b[39mb\u001b[39m\u001b[39m'\u001b[39m\u001b[39m'\u001b[39m\u001b[39m.\u001b[39mjoin(s), amt)\n",
      "File \u001b[0;32m/opt/homebrew/Cellar/python@3.9/3.9.12/Frameworks/Python.framework/Versions/3.9/lib/python3.9/socket.py:704\u001b[0m, in \u001b[0;36mSocketIO.readinto\u001b[0;34m(self, b)\u001b[0m\n\u001b[1;32m    <a href='file:///opt/homebrew/Cellar/python%403.9/3.9.12/Frameworks/Python.framework/Versions/3.9/lib/python3.9/socket.py?line=701'>702</a>\u001b[0m \u001b[39mwhile\u001b[39;00m \u001b[39mTrue\u001b[39;00m:\n\u001b[1;32m    <a href='file:///opt/homebrew/Cellar/python%403.9/3.9.12/Frameworks/Python.framework/Versions/3.9/lib/python3.9/socket.py?line=702'>703</a>\u001b[0m     \u001b[39mtry\u001b[39;00m:\n\u001b[0;32m--> <a href='file:///opt/homebrew/Cellar/python%403.9/3.9.12/Frameworks/Python.framework/Versions/3.9/lib/python3.9/socket.py?line=703'>704</a>\u001b[0m         \u001b[39mreturn\u001b[39;00m \u001b[39mself\u001b[39;49m\u001b[39m.\u001b[39;49m_sock\u001b[39m.\u001b[39;49mrecv_into(b)\n\u001b[1;32m    <a href='file:///opt/homebrew/Cellar/python%403.9/3.9.12/Frameworks/Python.framework/Versions/3.9/lib/python3.9/socket.py?line=704'>705</a>\u001b[0m     \u001b[39mexcept\u001b[39;00m timeout:\n\u001b[1;32m    <a href='file:///opt/homebrew/Cellar/python%403.9/3.9.12/Frameworks/Python.framework/Versions/3.9/lib/python3.9/socket.py?line=705'>706</a>\u001b[0m         \u001b[39mself\u001b[39m\u001b[39m.\u001b[39m_timeout_occurred \u001b[39m=\u001b[39m \u001b[39mTrue\u001b[39;00m\n",
      "File \u001b[0;32m/opt/homebrew/Cellar/python@3.9/3.9.12/Frameworks/Python.framework/Versions/3.9/lib/python3.9/ssl.py:1241\u001b[0m, in \u001b[0;36mSSLSocket.recv_into\u001b[0;34m(self, buffer, nbytes, flags)\u001b[0m\n\u001b[1;32m   <a href='file:///opt/homebrew/Cellar/python%403.9/3.9.12/Frameworks/Python.framework/Versions/3.9/lib/python3.9/ssl.py?line=1236'>1237</a>\u001b[0m     \u001b[39mif\u001b[39;00m flags \u001b[39m!=\u001b[39m \u001b[39m0\u001b[39m:\n\u001b[1;32m   <a href='file:///opt/homebrew/Cellar/python%403.9/3.9.12/Frameworks/Python.framework/Versions/3.9/lib/python3.9/ssl.py?line=1237'>1238</a>\u001b[0m         \u001b[39mraise\u001b[39;00m \u001b[39mValueError\u001b[39;00m(\n\u001b[1;32m   <a href='file:///opt/homebrew/Cellar/python%403.9/3.9.12/Frameworks/Python.framework/Versions/3.9/lib/python3.9/ssl.py?line=1238'>1239</a>\u001b[0m           \u001b[39m\"\u001b[39m\u001b[39mnon-zero flags not allowed in calls to recv_into() on \u001b[39m\u001b[39m%s\u001b[39;00m\u001b[39m\"\u001b[39m \u001b[39m%\u001b[39m\n\u001b[1;32m   <a href='file:///opt/homebrew/Cellar/python%403.9/3.9.12/Frameworks/Python.framework/Versions/3.9/lib/python3.9/ssl.py?line=1239'>1240</a>\u001b[0m           \u001b[39mself\u001b[39m\u001b[39m.\u001b[39m\u001b[39m__class__\u001b[39m)\n\u001b[0;32m-> <a href='file:///opt/homebrew/Cellar/python%403.9/3.9.12/Frameworks/Python.framework/Versions/3.9/lib/python3.9/ssl.py?line=1240'>1241</a>\u001b[0m     \u001b[39mreturn\u001b[39;00m \u001b[39mself\u001b[39;49m\u001b[39m.\u001b[39;49mread(nbytes, buffer)\n\u001b[1;32m   <a href='file:///opt/homebrew/Cellar/python%403.9/3.9.12/Frameworks/Python.framework/Versions/3.9/lib/python3.9/ssl.py?line=1241'>1242</a>\u001b[0m \u001b[39melse\u001b[39;00m:\n\u001b[1;32m   <a href='file:///opt/homebrew/Cellar/python%403.9/3.9.12/Frameworks/Python.framework/Versions/3.9/lib/python3.9/ssl.py?line=1242'>1243</a>\u001b[0m     \u001b[39mreturn\u001b[39;00m \u001b[39msuper\u001b[39m()\u001b[39m.\u001b[39mrecv_into(buffer, nbytes, flags)\n",
      "File \u001b[0;32m/opt/homebrew/Cellar/python@3.9/3.9.12/Frameworks/Python.framework/Versions/3.9/lib/python3.9/ssl.py:1099\u001b[0m, in \u001b[0;36mSSLSocket.read\u001b[0;34m(self, len, buffer)\u001b[0m\n\u001b[1;32m   <a href='file:///opt/homebrew/Cellar/python%403.9/3.9.12/Frameworks/Python.framework/Versions/3.9/lib/python3.9/ssl.py?line=1096'>1097</a>\u001b[0m \u001b[39mtry\u001b[39;00m:\n\u001b[1;32m   <a href='file:///opt/homebrew/Cellar/python%403.9/3.9.12/Frameworks/Python.framework/Versions/3.9/lib/python3.9/ssl.py?line=1097'>1098</a>\u001b[0m     \u001b[39mif\u001b[39;00m buffer \u001b[39mis\u001b[39;00m \u001b[39mnot\u001b[39;00m \u001b[39mNone\u001b[39;00m:\n\u001b[0;32m-> <a href='file:///opt/homebrew/Cellar/python%403.9/3.9.12/Frameworks/Python.framework/Versions/3.9/lib/python3.9/ssl.py?line=1098'>1099</a>\u001b[0m         \u001b[39mreturn\u001b[39;00m \u001b[39mself\u001b[39;49m\u001b[39m.\u001b[39;49m_sslobj\u001b[39m.\u001b[39;49mread(\u001b[39mlen\u001b[39;49m, buffer)\n\u001b[1;32m   <a href='file:///opt/homebrew/Cellar/python%403.9/3.9.12/Frameworks/Python.framework/Versions/3.9/lib/python3.9/ssl.py?line=1099'>1100</a>\u001b[0m     \u001b[39melse\u001b[39;00m:\n\u001b[1;32m   <a href='file:///opt/homebrew/Cellar/python%403.9/3.9.12/Frameworks/Python.framework/Versions/3.9/lib/python3.9/ssl.py?line=1100'>1101</a>\u001b[0m         \u001b[39mreturn\u001b[39;00m \u001b[39mself\u001b[39m\u001b[39m.\u001b[39m_sslobj\u001b[39m.\u001b[39mread(\u001b[39mlen\u001b[39m)\n",
      "\u001b[0;31mKeyboardInterrupt\u001b[0m: "
     ]
    }
   ],
   "source": [
    "# Need to do some weird stuff to track channels because \n",
    "# https://www.youtube.com/channel/UC-9-kyTW8ZkZNDHQJ6FgpwQ\n",
    "# is different from \n",
    "# https://www.youtube.com/c/UC-9-kyTW8ZkZNDHQJ6FgpwQ\n",
    "# But they have the same id!!!\n",
    "# ---- Going to use the uri ----\n",
    "\n",
    "# Maybe track the prefix?\n",
    "channel = Channel(\"https://www.youtube.com/user/videogamedunkey\")\n",
    "print(channel.channel_name)\n",
    "print(channel.channel_id)\n",
    "print(channel.vanity_url)\n",
    "print(channel.channel_uri)  # Okay the key is using the uri, not the vanity url\n",
    "print(len(channel.video_urls))"
   ]
  },
  {
   "cell_type": "code",
   "execution_count": 14,
   "metadata": {},
   "outputs": [
    {
     "ename": "NameError",
     "evalue": "name 'YouTube' is not defined",
     "output_type": "error",
     "traceback": [
      "\u001b[0;31m---------------------------------------------------------------------------\u001b[0m",
      "\u001b[0;31mNameError\u001b[0m                                 Traceback (most recent call last)",
      "\u001b[1;32m/Users/warrenkrettek/Documents/projects/youmirror/youtube.ipynb Cell 9'\u001b[0m in \u001b[0;36m<cell line: 1>\u001b[0;34m()\u001b[0m\n\u001b[0;32m----> <a href='vscode-notebook-cell:/Users/warrenkrettek/Documents/projects/youmirror/youtube.ipynb#ch0000008?line=0'>1</a>\u001b[0m yt \u001b[39m=\u001b[39m YouTube(\u001b[39m\"\u001b[39m\u001b[39mhttps://www.youtube.com/watch?v=xviPQ07WfXI&t=534s\u001b[39m\u001b[39m\"\u001b[39m)\n\u001b[1;32m      <a href='vscode-notebook-cell:/Users/warrenkrettek/Documents/projects/youmirror/youtube.ipynb#ch0000008?line=1'>2</a>\u001b[0m \u001b[39mprint\u001b[39m(yt\u001b[39m.\u001b[39mlength)\n\u001b[1;32m      <a href='vscode-notebook-cell:/Users/warrenkrettek/Documents/projects/youmirror/youtube.ipynb#ch0000008?line=2'>3</a>\u001b[0m resolutions \u001b[39m=\u001b[39m [\u001b[39m\"\u001b[39m\u001b[39m144p\u001b[39m\u001b[39m\"\u001b[39m, \u001b[39m\"\u001b[39m\u001b[39m240p\u001b[39m\u001b[39m\"\u001b[39m, \u001b[39m\"\u001b[39m\u001b[39m360p\u001b[39m\u001b[39m\"\u001b[39m, \u001b[39m\"\u001b[39m\u001b[39m480p\u001b[39m\u001b[39m\"\u001b[39m, \u001b[39m\"\u001b[39m\u001b[39m720p\u001b[39m\u001b[39m\"\u001b[39m, \u001b[39m\"\u001b[39m\u001b[39m1080p\u001b[39m\u001b[39m\"\u001b[39m, \u001b[39m\"\u001b[39m\u001b[39m1440p\u001b[39m\u001b[39m\"\u001b[39m, \u001b[39m\"\u001b[39m\u001b[39m2160p\u001b[39m\u001b[39m\"\u001b[39m, \u001b[39m\"\u001b[39m\u001b[39m4320p\u001b[39m\u001b[39m\"\u001b[39m]\n",
      "\u001b[0;31mNameError\u001b[0m: name 'YouTube' is not defined"
     ]
    }
   ],
   "source": [
    "yt = YouTube(\"https://www.youtube.com/watch?v=xviPQ07WfXI&t=534s\")\n",
    "print(yt.length)\n",
    "resolutions = [\"144p\", \"240p\", \"360p\", \"480p\", \"720p\", \"1080p\", \"1440p\", \"2160p\", \"4320p\"]\n",
    "resolutions.reverse()\n",
    "# for r in iter(resolutions):\n",
    "#     print(r, yt.streams.filter(res=r, subtype=\"mp4\"))\n",
    "#     print(\"-\"*20)\n",
    "# for i, stream in enumerate(yt.streams.filter().desc()):\n",
    "#     print(i, stream)\n",
    "#     # stream.download(output_path=\".\", filename=f\"{i}-{stream.title}.mp4\")\n",
    "# print(yt.streams.filter(subtype=\"mp4\").order_by('resolution').desc())\n",
    "# print(\"-\"*20)\n",
    "streams = yt.streams.filter(subtype=\"mp4\", only_audio=True).order_by('abr').desc() # Get best bitrate stream\n",
    "streams[0].download()"
   ]
  },
  {
   "cell_type": "code",
   "execution_count": 8,
   "metadata": {},
   "outputs": [
    {
     "data": {
      "text/plain": [
       "'/Users/warrenkrettek/Documents/projects/youmirror/sunny_audio.mp4'"
      ]
     },
     "execution_count": 8,
     "metadata": {},
     "output_type": "execute_result"
    }
   ],
   "source": [
    "# things = [yt.author, yt.caption_tracks, yt.captions, yt.channel_id, yt.channel_url, yt.description, yt.fmt_streams, yt.keywords, yt.length, yt.metadata, yt.publish_date, yt.rating, yt.title, yt.views, yt.video_id, yt.js_url]\n",
    "\n",
    "# too_big = [yt.vid_info, yt.js, yt.initial_data, yt.streaming_data]\n",
    "\n",
    "# for t in things:\n",
    "#     print(t)\n",
    "#     print(\"-\"*20)\n",
    "# open(\"metadata.txt\", \"w\").write(str(metadata))\n",
    "v_stream = yt.streams.filter(res=\"2160p\").first()\n",
    "a_stream = yt.streams.filter(only_audio=True).first()\n",
    "v_stream.download(filename=\"sunny_video.mp4\")\n",
    "a_stream.download(filename=\"sunny_audio.mp4\")\n",
    "# print(yt.streams)"
   ]
  },
  {
   "cell_type": "code",
   "execution_count": 24,
   "metadata": {},
   "outputs": [],
   "source": [
    "# yt = YouTube(\"https://www.youtube.com/watch?v=xviPQ07WfXI&t=534s\")\n",
    "streams = yt.streams"
   ]
  },
  {
   "cell_type": "code",
   "execution_count": 26,
   "metadata": {},
   "outputs": [
    {
     "name": "stdout",
     "output_type": "stream",
     "text": [
      "[<Stream: itag=\"17\" mime_type=\"video/3gpp\" res=\"144p\" fps=\"12fps\" vcodec=\"mp4v.20.3\" acodec=\"mp4a.40.2\" progressive=\"True\" type=\"video\">, <Stream: itag=\"18\" mime_type=\"video/mp4\" res=\"360p\" fps=\"24fps\" vcodec=\"avc1.42001E\" acodec=\"mp4a.40.2\" progressive=\"True\" type=\"video\">, <Stream: itag=\"22\" mime_type=\"video/mp4\" res=\"720p\" fps=\"24fps\" vcodec=\"avc1.64001F\" acodec=\"mp4a.40.2\" progressive=\"True\" type=\"video\">, <Stream: itag=\"137\" mime_type=\"video/mp4\" res=\"1080p\" fps=\"24fps\" vcodec=\"avc1.640028\" progressive=\"False\" type=\"video\">, <Stream: itag=\"248\" mime_type=\"video/webm\" res=\"1080p\" fps=\"24fps\" vcodec=\"vp9\" progressive=\"False\" type=\"video\">, <Stream: itag=\"399\" mime_type=\"video/mp4\" res=\"1080p\" fps=\"24fps\" vcodec=\"av01.0.08M.08\" progressive=\"False\" type=\"video\">, <Stream: itag=\"136\" mime_type=\"video/mp4\" res=\"720p\" fps=\"24fps\" vcodec=\"avc1.4d401f\" progressive=\"False\" type=\"video\">, <Stream: itag=\"247\" mime_type=\"video/webm\" res=\"720p\" fps=\"24fps\" vcodec=\"vp9\" progressive=\"False\" type=\"video\">, <Stream: itag=\"398\" mime_type=\"video/mp4\" res=\"720p\" fps=\"24fps\" vcodec=\"av01.0.05M.08\" progressive=\"False\" type=\"video\">, <Stream: itag=\"135\" mime_type=\"video/mp4\" res=\"480p\" fps=\"24fps\" vcodec=\"avc1.4d401e\" progressive=\"False\" type=\"video\">, <Stream: itag=\"244\" mime_type=\"video/webm\" res=\"480p\" fps=\"24fps\" vcodec=\"vp9\" progressive=\"False\" type=\"video\">, <Stream: itag=\"397\" mime_type=\"video/mp4\" res=\"480p\" fps=\"24fps\" vcodec=\"av01.0.04M.08\" progressive=\"False\" type=\"video\">, <Stream: itag=\"134\" mime_type=\"video/mp4\" res=\"360p\" fps=\"24fps\" vcodec=\"avc1.4d401e\" progressive=\"False\" type=\"video\">, <Stream: itag=\"243\" mime_type=\"video/webm\" res=\"360p\" fps=\"24fps\" vcodec=\"vp9\" progressive=\"False\" type=\"video\">, <Stream: itag=\"396\" mime_type=\"video/mp4\" res=\"360p\" fps=\"24fps\" vcodec=\"av01.0.01M.08\" progressive=\"False\" type=\"video\">, <Stream: itag=\"133\" mime_type=\"video/mp4\" res=\"240p\" fps=\"24fps\" vcodec=\"avc1.4d4015\" progressive=\"False\" type=\"video\">, <Stream: itag=\"242\" mime_type=\"video/webm\" res=\"240p\" fps=\"24fps\" vcodec=\"vp9\" progressive=\"False\" type=\"video\">, <Stream: itag=\"395\" mime_type=\"video/mp4\" res=\"240p\" fps=\"24fps\" vcodec=\"av01.0.00M.08\" progressive=\"False\" type=\"video\">, <Stream: itag=\"160\" mime_type=\"video/mp4\" res=\"144p\" fps=\"24fps\" vcodec=\"avc1.4d400c\" progressive=\"False\" type=\"video\">, <Stream: itag=\"278\" mime_type=\"video/webm\" res=\"144p\" fps=\"24fps\" vcodec=\"vp9\" progressive=\"False\" type=\"video\">, <Stream: itag=\"394\" mime_type=\"video/mp4\" res=\"144p\" fps=\"24fps\" vcodec=\"av01.0.00M.08\" progressive=\"False\" type=\"video\">, <Stream: itag=\"139\" mime_type=\"audio/mp4\" abr=\"48kbps\" acodec=\"mp4a.40.5\" progressive=\"False\" type=\"audio\">, <Stream: itag=\"140\" mime_type=\"audio/mp4\" abr=\"128kbps\" acodec=\"mp4a.40.2\" progressive=\"False\" type=\"audio\">, <Stream: itag=\"249\" mime_type=\"audio/webm\" abr=\"50kbps\" acodec=\"opus\" progressive=\"False\" type=\"audio\">, <Stream: itag=\"250\" mime_type=\"audio/webm\" abr=\"70kbps\" acodec=\"opus\" progressive=\"False\" type=\"audio\">, <Stream: itag=\"251\" mime_type=\"audio/webm\" abr=\"160kbps\" acodec=\"opus\" progressive=\"False\" type=\"audio\">]\n"
     ]
    }
   ],
   "source": [
    "print(streams)"
   ]
  }
 ],
 "metadata": {
  "interpreter": {
   "hash": "7812ea015bdcee6f23a998adcdd2ef97c151c0c241b7b7070987d9313e41299d"
  },
  "kernelspec": {
   "display_name": "Python 3.9.2 64-bit",
   "language": "python",
   "name": "python3"
  },
  "language_info": {
   "codemirror_mode": {
    "name": "ipython",
    "version": 3
   },
   "file_extension": ".py",
   "mimetype": "text/x-python",
   "name": "python",
   "nbconvert_exporter": "python",
   "pygments_lexer": "ipython3",
   "version": "3.9.12"
  },
  "orig_nbformat": 4
 },
 "nbformat": 4,
 "nbformat_minor": 2
}
