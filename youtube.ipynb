{
 "cells": [
  {
   "cell_type": "code",
   "execution_count": 1,
   "metadata": {},
   "outputs": [],
   "source": [
    "from pytube import YouTube, Playlist, Stream, Channel"
   ]
  },
  {
   "cell_type": "markdown",
   "metadata": {},
   "source": [
    "## Videos"
   ]
  },
  {
   "cell_type": "code",
   "execution_count": null,
   "metadata": {},
   "outputs": [],
   "source": [
    "yt = YouTube('https://www.youtube.com/watch?v=pn4XSDnaiPY&list=PLbpi6ZahtOH52gc6K5nH46dbD55DxH3a1')\n",
    "print(yt.title)\n",
    "print(yt.watch_url)\n",
    "print(yt.thumbnail_url)\n",
    "print(yt.channel_id)\n",
    "print(yt.channel_url)\n",
    "print(yt.author)\n",
    "print(yt.video_id)"
   ]
  },
  {
   "cell_type": "markdown",
   "metadata": {},
   "source": [
    "## Playlists"
   ]
  },
  {
   "cell_type": "code",
   "execution_count": null,
   "metadata": {},
   "outputs": [],
   "source": [
    "playlist = Playlist(\"https://www.youtube.com/watch?v=pn4XSDnaiPY&list=PLbpi6ZahtOH52gc6K5nH46dbD55DxH3a1\")\n",
    "playlist.url_generator()\n",
    "print(playlist.title)\n",
    "print(playlist.owner)\n",
    "print(playlist.owner_id)\n",
    "print(playlist.description)\n",
    "print(\"Playlist id\", playlist.playlist_id)\n",
    "print(\"Playlist url\", playlist.playlist_url)\n",
    "for url in playlist.url_generator():\n",
    "    print(url)"
   ]
  },
  {
   "cell_type": "markdown",
   "metadata": {},
   "source": [
    "## Channels"
   ]
  },
  {
   "cell_type": "code",
   "execution_count": null,
   "metadata": {},
   "outputs": [],
   "source": [
    "# Need to do some weird stuff to track channels because \n",
    "# https://www.youtube.com/channel/UC-9-kyTW8ZkZNDHQJ6FgpwQ\n",
    "# is different from \n",
    "# https://www.youtube.com/c/UC-9-kyTW8ZkZNDHQJ6FgpwQ\n",
    "# But they have the same id!!!\n",
    "# ---- Going to use the uri ----\n",
    "\n",
    "# Maybe track the prefix?\n",
    "channel = Channel(\"https://www.youtube.com/user/videogamedunkey\")\n",
    "print(channel.channel_name)\n",
    "print(channel.channel_id)\n",
    "print(channel.vanity_url)\n",
    "print(channel.channel_uri)  # Okay the key is using the uri, not the vanity url\n",
    "print(len(channel.video_urls))"
   ]
  },
  {
   "cell_type": "code",
   "execution_count": 59,
   "metadata": {},
   "outputs": [
    {
     "name": "stdout",
     "output_type": "stream",
     "text": [
      "2466\n"
     ]
    },
    {
     "ename": "TypeError",
     "evalue": "list.reverse() takes no arguments (1 given)",
     "output_type": "error",
     "traceback": [
      "\u001b[0;31m---------------------------------------------------------------------------\u001b[0m",
      "\u001b[0;31mTypeError\u001b[0m                                 Traceback (most recent call last)",
      "\u001b[1;32m/Users/warrenkrettek/Documents/projects/youmirror/youtube.ipynb Cell 8'\u001b[0m in \u001b[0;36m<cell line: 4>\u001b[0;34m()\u001b[0m\n\u001b[1;32m      <a href='vscode-notebook-cell:/Users/warrenkrettek/Documents/projects/youmirror/youtube.ipynb#ch0000007?line=1'>2</a>\u001b[0m \u001b[39mprint\u001b[39m(yt\u001b[39m.\u001b[39mlength)\n\u001b[1;32m      <a href='vscode-notebook-cell:/Users/warrenkrettek/Documents/projects/youmirror/youtube.ipynb#ch0000007?line=2'>3</a>\u001b[0m resolutions \u001b[39m=\u001b[39m [\u001b[39m\"\u001b[39m\u001b[39m144p\u001b[39m\u001b[39m\"\u001b[39m, \u001b[39m\"\u001b[39m\u001b[39m240p\u001b[39m\u001b[39m\"\u001b[39m, \u001b[39m\"\u001b[39m\u001b[39m360p\u001b[39m\u001b[39m\"\u001b[39m, \u001b[39m\"\u001b[39m\u001b[39m480p\u001b[39m\u001b[39m\"\u001b[39m, \u001b[39m\"\u001b[39m\u001b[39m720p\u001b[39m\u001b[39m\"\u001b[39m, \u001b[39m\"\u001b[39m\u001b[39m1080p\u001b[39m\u001b[39m\"\u001b[39m, \u001b[39m\"\u001b[39m\u001b[39m1440p\u001b[39m\u001b[39m\"\u001b[39m, \u001b[39m\"\u001b[39m\u001b[39m2160p\u001b[39m\u001b[39m\"\u001b[39m, \u001b[39m\"\u001b[39m\u001b[39m4320p\u001b[39m\u001b[39m\"\u001b[39m]\n\u001b[0;32m----> <a href='vscode-notebook-cell:/Users/warrenkrettek/Documents/projects/youmirror/youtube.ipynb#ch0000007?line=3'>4</a>\u001b[0m resolutions \u001b[39m=\u001b[39m resolutions\u001b[39m.\u001b[39;49mreverse(resolutions)\n\u001b[1;32m      <a href='vscode-notebook-cell:/Users/warrenkrettek/Documents/projects/youmirror/youtube.ipynb#ch0000007?line=4'>5</a>\u001b[0m \u001b[39mfor\u001b[39;00m r \u001b[39min\u001b[39;00m \u001b[39miter\u001b[39m(resolutions):\n\u001b[1;32m      <a href='vscode-notebook-cell:/Users/warrenkrettek/Documents/projects/youmirror/youtube.ipynb#ch0000007?line=5'>6</a>\u001b[0m     \u001b[39mprint\u001b[39m(r, yt\u001b[39m.\u001b[39mstreams\u001b[39m.\u001b[39mfilter(res\u001b[39m=\u001b[39mr, subtype\u001b[39m=\u001b[39m\u001b[39m\"\u001b[39m\u001b[39mmp4\u001b[39m\u001b[39m\"\u001b[39m))\n",
      "\u001b[0;31mTypeError\u001b[0m: list.reverse() takes no arguments (1 given)"
     ]
    }
   ],
   "source": [
    "yt = YouTube(\"https://www.youtube.com/watch?v=xviPQ07WfXI&t=534s\")\n",
    "print(yt.length)\n",
    "resolutions = [\"144p\", \"240p\", \"360p\", \"480p\", \"720p\", \"1080p\", \"1440p\", \"2160p\", \"4320p\"]\n",
    "resolutions.reverse()\n",
    "for r in iter(resolutions):\n",
    "    print(r, yt.streams.filter(res=r, subtype=\"mp4\"))\n",
    "    print(\"-\"*20)\n",
    "# for i, stream in enumerate(yt.streams.filter().desc()):\n",
    "#     print(i, stream)\n",
    "#     # stream.download(output_path=\".\", filename=f\"{i}-{stream.title}.mp4\")\n",
    "# print(yt.streams.filter(subtype=\"mp4\").order_by('resolution').desc())\n",
    "# print(\"-\"*20)\n",
    "# print(yt.streams.filter(subtype=\"mp4\", only_audio=True).order_by('abr').desc()) # Get best bitrate stream"
   ]
  },
  {
   "cell_type": "code",
   "execution_count": 8,
   "metadata": {},
   "outputs": [
    {
     "data": {
      "text/plain": [
       "'/Users/warrenkrettek/Documents/projects/youmirror/sunny_audio.mp4'"
      ]
     },
     "execution_count": 8,
     "metadata": {},
     "output_type": "execute_result"
    }
   ],
   "source": [
    "# things = [yt.author, yt.caption_tracks, yt.captions, yt.channel_id, yt.channel_url, yt.description, yt.fmt_streams, yt.keywords, yt.length, yt.metadata, yt.publish_date, yt.rating, yt.title, yt.views, yt.video_id, yt.js_url]\n",
    "\n",
    "# too_big = [yt.vid_info, yt.js, yt.initial_data, yt.streaming_data]\n",
    "\n",
    "# for t in things:\n",
    "#     print(t)\n",
    "#     print(\"-\"*20)\n",
    "# open(\"metadata.txt\", \"w\").write(str(metadata))\n",
    "v_stream = yt.streams.filter(res=\"2160p\").first()\n",
    "a_stream = yt.streams.filter(only_audio=True).first()\n",
    "v_stream.download(filename=\"sunny_video.mp4\")\n",
    "a_stream.download(filename=\"sunny_audio.mp4\")\n",
    "# print(yt.streams)"
   ]
  }
 ],
 "metadata": {
  "interpreter": {
   "hash": "7812ea015bdcee6f23a998adcdd2ef97c151c0c241b7b7070987d9313e41299d"
  },
  "kernelspec": {
   "display_name": "Python 3.9.2 64-bit",
   "language": "python",
   "name": "python3"
  },
  "language_info": {
   "codemirror_mode": {
    "name": "ipython",
    "version": 3
   },
   "file_extension": ".py",
   "mimetype": "text/x-python",
   "name": "python",
   "nbconvert_exporter": "python",
   "pygments_lexer": "ipython3",
   "version": "3.9.12"
  },
  "orig_nbformat": 4
 },
 "nbformat": 4,
 "nbformat_minor": 2
}
