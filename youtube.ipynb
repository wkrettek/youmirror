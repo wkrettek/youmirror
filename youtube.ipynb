{
 "cells": [
  {
   "cell_type": "code",
   "execution_count": 1,
   "metadata": {},
   "outputs": [],
   "source": [
    "from pytube import YouTube, Playlist, Stream, Channel"
   ]
  },
  {
   "cell_type": "markdown",
   "metadata": {},
   "source": [
    "## Videos"
   ]
  },
  {
   "cell_type": "code",
   "execution_count": 2,
   "metadata": {},
   "outputs": [
    {
     "name": "stdout",
     "output_type": "stream",
     "text": [
      "Non-Fungible Planet | YouTube\n",
      "https://youtube.com/watch?v=pn4XSDnaiPY\n",
      "https://i.ytimg.com/vi/pn4XSDnaiPY/sddefault.jpg\n",
      "UCBR8-60-B28hp2BmDPdntcQ\n",
      "https://www.youtube.com/channel/UCBR8-60-B28hp2BmDPdntcQ\n",
      "YouTube\n",
      "pn4XSDnaiPY\n"
     ]
    }
   ],
   "source": [
    "yt = YouTube('https://www.youtube.com/watch?v=pn4XSDnaiPY&list=PLbpi6ZahtOH52gc6K5nH46dbD55DxH3a1')\n",
    "print(yt.title)\n",
    "print(yt.watch_url)\n",
    "print(yt.thumbnail_url)\n",
    "print(yt.channel_id)\n",
    "print(yt.channel_url)\n",
    "print(yt.author)\n",
    "print(yt.video_id)"
   ]
  },
  {
   "cell_type": "markdown",
   "metadata": {},
   "source": [
    "## Playlists"
   ]
  },
  {
   "cell_type": "code",
   "execution_count": 32,
   "metadata": {},
   "outputs": [
    {
     "name": "stdout",
     "output_type": "stream",
     "text": [
      "Non-Fungible Planet from YouTube\n",
      "YouTube\n",
      "UCBR8-60-B28hp2BmDPdntcQ\n",
      "Celebrate Earth Day with YouTube and your favorite Creators as we explore this Non-Fungible Planet we call home. \n",
      "After all, there’s nothing more valuable in the world than the world itself.\n",
      "Playlist id PLbpi6ZahtOH52gc6K5nH46dbD55DxH3a1\n",
      "Playlist url https://www.youtube.com/playlist?list=PLbpi6ZahtOH52gc6K5nH46dbD55DxH3a1\n",
      "https://www.youtube.com/watch?v=pn4XSDnaiPY\n",
      "https://www.youtube.com/watch?v=fiYvkBkdlOQ\n",
      "https://www.youtube.com/watch?v=bIJAiJk97aw\n",
      "https://www.youtube.com/watch?v=UfUawgZKKoE\n",
      "https://www.youtube.com/watch?v=qqpgezEiup0\n"
     ]
    }
   ],
   "source": [
    "playlist = Playlist(\"https://www.youtube.com/watch?v=pn4XSDnaiPY&list=PLbpi6ZahtOH52gc6K5nH46dbD55DxH3a1\")\n",
    "playlist.url_generator()\n",
    "print(playlist.title)\n",
    "print(playlist.owner)\n",
    "print(playlist.owner_id)\n",
    "print(playlist.description)\n",
    "print(\"Playlist id\", playlist.playlist_id)\n",
    "print(\"Playlist url\", playlist.playlist_url)\n",
    "for url in playlist.url_generator():\n",
    "    print(url)"
   ]
  },
  {
   "cell_type": "markdown",
   "metadata": {},
   "source": [
    "## Channels"
   ]
  },
  {
   "cell_type": "code",
   "execution_count": 68,
   "metadata": {},
   "outputs": [
    {
     "name": "stdout",
     "output_type": "stream",
     "text": [
      "videogamedunkey\n",
      "UCsvn_Po0SmunchJYOWpOxMg\n",
      "http://www.youtube.com/user/videogamedunkey\n",
      "/user/videogamedunkey\n",
      "749\n"
     ]
    }
   ],
   "source": [
    "# Need to do some weird stuff to track channels because \n",
    "# https://www.youtube.com/channel/UC-9-kyTW8ZkZNDHQJ6FgpwQ\n",
    "# is different from \n",
    "# https://www.youtube.com/c/UC-9-kyTW8ZkZNDHQJ6FgpwQ\n",
    "# But they have the same id!!!\n",
    "# ---- Going to use the uri ----\n",
    "\n",
    "# Maybe track the prefix?\n",
    "channel = Channel(\"https://www.youtube.com/user/videogamedunkey\")\n",
    "print(channel.channel_name)\n",
    "print(channel.channel_id)\n",
    "print(channel.vanity_url)\n",
    "print(channel.channel_uri)  # Okay the key is using the uri, not the vanity url\n",
    "print(len(channel.video_urls))"
   ]
  },
  {
   "cell_type": "code",
   "execution_count": 36,
   "metadata": {},
   "outputs": [
    {
     "name": "stdout",
     "output_type": "stream",
     "text": [
      "<Stream: itag=\"313\" mime_type=\"video/webm\" res=\"2160p\" fps=\"24fps\" vcodec=\"vp9\" progressive=\"False\" type=\"video\">\n",
      "--------------------\n",
      "<Stream: itag=\"401\" mime_type=\"video/mp4\" res=\"2160p\" fps=\"24fps\" vcodec=\"av01.0.12M.08\" progressive=\"False\" type=\"video\">\n",
      "--------------------\n",
      "<Stream: itag=\"271\" mime_type=\"video/webm\" res=\"1440p\" fps=\"24fps\" vcodec=\"vp9\" progressive=\"False\" type=\"video\">\n",
      "--------------------\n",
      "<Stream: itag=\"400\" mime_type=\"video/mp4\" res=\"1440p\" fps=\"24fps\" vcodec=\"av01.0.12M.08\" progressive=\"False\" type=\"video\">\n",
      "--------------------\n",
      "<Stream: itag=\"137\" mime_type=\"video/mp4\" res=\"1080p\" fps=\"24fps\" vcodec=\"avc1.640028\" progressive=\"False\" type=\"video\">\n",
      "--------------------\n",
      "<Stream: itag=\"248\" mime_type=\"video/webm\" res=\"1080p\" fps=\"24fps\" vcodec=\"vp9\" progressive=\"False\" type=\"video\">\n",
      "--------------------\n",
      "<Stream: itag=\"399\" mime_type=\"video/mp4\" res=\"1080p\" fps=\"24fps\" vcodec=\"av01.0.08M.08\" progressive=\"False\" type=\"video\">\n",
      "--------------------\n",
      "<Stream: itag=\"136\" mime_type=\"video/mp4\" res=\"720p\" fps=\"24fps\" vcodec=\"avc1.4d401f\" progressive=\"False\" type=\"video\">\n",
      "--------------------\n",
      "<Stream: itag=\"247\" mime_type=\"video/webm\" res=\"720p\" fps=\"24fps\" vcodec=\"vp9\" progressive=\"False\" type=\"video\">\n",
      "--------------------\n",
      "<Stream: itag=\"398\" mime_type=\"video/mp4\" res=\"720p\" fps=\"24fps\" vcodec=\"av01.0.05M.08\" progressive=\"False\" type=\"video\">\n",
      "--------------------\n",
      "<Stream: itag=\"135\" mime_type=\"video/mp4\" res=\"480p\" fps=\"24fps\" vcodec=\"avc1.4d401e\" progressive=\"False\" type=\"video\">\n",
      "--------------------\n",
      "<Stream: itag=\"244\" mime_type=\"video/webm\" res=\"480p\" fps=\"24fps\" vcodec=\"vp9\" progressive=\"False\" type=\"video\">\n",
      "--------------------\n",
      "<Stream: itag=\"397\" mime_type=\"video/mp4\" res=\"480p\" fps=\"24fps\" vcodec=\"av01.0.04M.08\" progressive=\"False\" type=\"video\">\n",
      "--------------------\n",
      "<Stream: itag=\"134\" mime_type=\"video/mp4\" res=\"360p\" fps=\"24fps\" vcodec=\"avc1.4d401e\" progressive=\"False\" type=\"video\">\n",
      "--------------------\n",
      "<Stream: itag=\"243\" mime_type=\"video/webm\" res=\"360p\" fps=\"24fps\" vcodec=\"vp9\" progressive=\"False\" type=\"video\">\n",
      "--------------------\n",
      "<Stream: itag=\"396\" mime_type=\"video/mp4\" res=\"360p\" fps=\"24fps\" vcodec=\"av01.0.01M.08\" progressive=\"False\" type=\"video\">\n",
      "--------------------\n",
      "<Stream: itag=\"133\" mime_type=\"video/mp4\" res=\"240p\" fps=\"24fps\" vcodec=\"avc1.4d4015\" progressive=\"False\" type=\"video\">\n",
      "--------------------\n",
      "<Stream: itag=\"242\" mime_type=\"video/webm\" res=\"240p\" fps=\"24fps\" vcodec=\"vp9\" progressive=\"False\" type=\"video\">\n",
      "--------------------\n",
      "<Stream: itag=\"395\" mime_type=\"video/mp4\" res=\"240p\" fps=\"24fps\" vcodec=\"av01.0.00M.08\" progressive=\"False\" type=\"video\">\n",
      "--------------------\n",
      "<Stream: itag=\"160\" mime_type=\"video/mp4\" res=\"144p\" fps=\"24fps\" vcodec=\"avc1.4d400c\" progressive=\"False\" type=\"video\">\n",
      "--------------------\n",
      "<Stream: itag=\"278\" mime_type=\"video/webm\" res=\"144p\" fps=\"24fps\" vcodec=\"vp9\" progressive=\"False\" type=\"video\">\n",
      "--------------------\n",
      "<Stream: itag=\"394\" mime_type=\"video/mp4\" res=\"144p\" fps=\"24fps\" vcodec=\"av01.0.00M.08\" progressive=\"False\" type=\"video\">\n",
      "--------------------\n",
      "OKAY AUDIO ONLY NOW\n",
      "<Stream: itag=\"394\" mime_type=\"video/mp4\" res=\"144p\" fps=\"24fps\" vcodec=\"av01.0.00M.08\" progressive=\"False\" type=\"video\">\n",
      "--------------------\n",
      "<Stream: itag=\"394\" mime_type=\"video/mp4\" res=\"144p\" fps=\"24fps\" vcodec=\"av01.0.00M.08\" progressive=\"False\" type=\"video\">\n",
      "--------------------\n",
      "<Stream: itag=\"394\" mime_type=\"video/mp4\" res=\"144p\" fps=\"24fps\" vcodec=\"av01.0.00M.08\" progressive=\"False\" type=\"video\">\n",
      "--------------------\n",
      "<Stream: itag=\"394\" mime_type=\"video/mp4\" res=\"144p\" fps=\"24fps\" vcodec=\"av01.0.00M.08\" progressive=\"False\" type=\"video\">\n",
      "--------------------\n",
      "<Stream: itag=\"394\" mime_type=\"video/mp4\" res=\"144p\" fps=\"24fps\" vcodec=\"av01.0.00M.08\" progressive=\"False\" type=\"video\">\n",
      "--------------------\n"
     ]
    }
   ],
   "source": [
    "yt = YouTube(\"https://www.youtube.com/watch?v=xviPQ07WfXI&t=292s\")\n",
    "# v_streams = yt.streams.filter(only_video=True)\n",
    "# a_streams = yt.streams.filter(only_audio=True)\n",
    "# for v in v_streams:\n",
    "#     print(v)\n",
    "#     print(\"-\"*20)\n",
    "# print(\"OKAY AUDIO ONLY NOW\")\n",
    "# for a in a_streams:\n",
    "#     print(v)\n",
    "#     print(\"-\"*20)\n",
    "stream = yt.streams.get_highest_resolution()\n",
    "stream.download()"
   ]
  }
 ],
 "metadata": {
  "interpreter": {
   "hash": "7812ea015bdcee6f23a998adcdd2ef97c151c0c241b7b7070987d9313e41299d"
  },
  "kernelspec": {
   "display_name": "Python 3.9.2 64-bit",
   "language": "python",
   "name": "python3"
  },
  "language_info": {
   "codemirror_mode": {
    "name": "ipython",
    "version": 3
   },
   "file_extension": ".py",
   "mimetype": "text/x-python",
   "name": "python",
   "nbconvert_exporter": "python",
   "pygments_lexer": "ipython3",
   "version": "3.9.12"
  },
  "orig_nbformat": 4
 },
 "nbformat": 4,
 "nbformat_minor": 2
}
