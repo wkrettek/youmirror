{
 "cells": [
  {
   "cell_type": "code",
   "execution_count": 1,
   "metadata": {},
   "outputs": [],
   "source": [
    "import toml\n",
    "import ujson"
   ]
  },
  {
   "cell_type": "code",
   "execution_count": 3,
   "metadata": {},
   "outputs": [],
   "source": [
    "dictionary = ujson.load(open('youmirror.json'))\n"
   ]
  },
  {
   "cell_type": "code",
   "execution_count": 4,
   "metadata": {},
   "outputs": [
    {
     "name": "stdout",
     "output_type": "stream",
     "text": [
      "{'default_resolution': 'best', 'captions': ['en', 'a.en'], 'channels': [{'name': 'Videogamedunkey', 'url': 'https://www.youtube.com/user/videogamedunkey', 'default_resolution': '480p'}], 'playlists': [{'name': 'Pepe Prawn', 'url': 'https://www.youtube.com/playlist?list=PLBZw8Bdva63UAhbdAlbbYotegKhUMeSzN'}], 'singles': [{'name': 'Prawns From Space', 'url': 'https://www.youtube.com/watch?v=Pa_HT9vQiLw', 'locked': 'true'}, {'url': 'https://www.youtube.com/watch?v=x2AQp_B-keY'}, {'url': 'https://www.youtube.com/watch?v=RZd_seybEPs'}, {'name': 'Shake it bake it booty quake it', 'url': 'https://www.youtube.com/watch?v=1AYRsx-l5W4'}, {'url': 'https://www.youtube.com/watch?v=ZmCp8rvXbdU'}]}\n"
     ]
    }
   ],
   "source": [
    "print(dictionary)"
   ]
  },
  {
   "cell_type": "code",
   "execution_count": 9,
   "metadata": {},
   "outputs": [
    {
     "data": {
      "text/plain": [
       "701"
      ]
     },
     "execution_count": 9,
     "metadata": {},
     "output_type": "execute_result"
    }
   ],
   "source": [
    "toml_string = toml.dumps(dictionary)\n",
    "open('youmirror.toml', \"w+\").write(toml_string)"
   ]
  }
 ],
 "metadata": {
  "interpreter": {
   "hash": "7d1fb857c91084ff2f5c4554f4552112f847df0461cff6be6b8b14c3a23eca4b"
  },
  "kernelspec": {
   "display_name": "Python 3.9.6 ('personate-gaLREsct-py3.9')",
   "language": "python",
   "name": "python3"
  },
  "language_info": {
   "codemirror_mode": {
    "name": "ipython",
    "version": 3
   },
   "file_extension": ".py",
   "mimetype": "text/x-python",
   "name": "python",
   "nbconvert_exporter": "python",
   "pygments_lexer": "ipython3",
   "version": "3.9.6"
  },
  "orig_nbformat": 4
 },
 "nbformat": 4,
 "nbformat_minor": 2
}
