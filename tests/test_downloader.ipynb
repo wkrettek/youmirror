{
 "cells": [
  {
   "cell_type": "markdown",
   "metadata": {},
   "source": [
    "### Testing the downloader"
   ]
  },
  {
   "cell_type": "code",
   "execution_count": 1,
   "metadata": {},
   "outputs": [],
   "source": [
    "from youmirror.downloader import *\n",
    "from pytube import YouTube, Caption\n",
    "import ffmpeg\n",
    "yt = YouTube(\"https://www.youtube.com/watch?v=efiLdiBk1f8\")"
   ]
  },
  {
   "cell_type": "code",
   "execution_count": 2,
   "metadata": {},
   "outputs": [
    {
     "name": "stdout",
     "output_type": "stream",
     "text": [
      "Downloading dicky/doodoo.mp4\n",
      "Downloading dicky/doodoo_audio.mp3\n",
      "Downloading dicky/doodoo.srt\n",
      "Downloading dicky/doodoo.jpg\n"
     ]
    }
   ],
   "source": [
    "files = [\"dicky/doodoo.mp4\", \"dicky/doodoo_audio.mp3\", \"dicky/doodoo.srt\", \"dicky/doodoo.jpg\"]\n",
    "for file in files:\n",
    "    download_single(yt, file, dict())"
   ]
  },
  {
   "cell_type": "code",
   "execution_count": null,
   "metadata": {},
   "outputs": [],
   "source": [
    "yt = YouTube(\"https://www.youtube.com/watch?v=tSZZFayo64I\")\n",
    "length = yt.length\n",
    "video_stream = get_video_stream(yt, {\"resolution\": \"1080p\"})\n",
    "video_stream.download(filename=\"video_stream.mp4\")\n",
    "audio_stream = get_audio_stream(yt, dict())\n",
    "audio_stream.download(filename=\"audio_stream.mp4\")\n",
    "print(video_stream, audio_stream)"
   ]
  },
  {
   "cell_type": "code",
   "execution_count": 17,
   "metadata": {},
   "outputs": [
    {
     "name": "stderr",
     "output_type": "stream",
     "text": [
      "ffmpeg version 5.0.1 Copyright (c) 2000-2022 the FFmpeg developers\n",
      "  built with Apple clang version 13.1.6 (clang-1316.0.21.2)\n",
      "  configuration: --prefix=/opt/homebrew/Cellar/ffmpeg/5.0.1 --enable-shared --enable-pthreads --enable-version3 --cc=clang --host-cflags= --host-ldflags= --enable-ffplay --enable-gnutls --enable-gpl --enable-libaom --enable-libbluray --enable-libdav1d --enable-libmp3lame --enable-libopus --enable-librav1e --enable-librist --enable-librubberband --enable-libsnappy --enable-libsrt --enable-libtesseract --enable-libtheora --enable-libvidstab --enable-libvmaf --enable-libvorbis --enable-libvpx --enable-libwebp --enable-libx264 --enable-libx265 --enable-libxml2 --enable-libxvid --enable-lzma --enable-libfontconfig --enable-libfreetype --enable-frei0r --enable-libass --enable-libopencore-amrnb --enable-libopencore-amrwb --enable-libopenjpeg --enable-libspeex --enable-libsoxr --enable-libzmq --enable-libzimg --disable-libjack --disable-indev=jack --enable-videotoolbox --enable-neon\n",
      "  libavutil      57. 17.100 / 57. 17.100\n",
      "  libavcodec     59. 18.100 / 59. 18.100\n",
      "  libavformat    59. 16.100 / 59. 16.100\n",
      "  libavdevice    59.  4.100 / 59.  4.100\n",
      "  libavfilter     8. 24.100 /  8. 24.100\n",
      "  libswscale      6.  4.100 /  6.  4.100\n",
      "  libswresample   4.  3.100 /  4.  3.100\n",
      "  libpostproc    56.  3.100 / 56.  3.100\n",
      "Input #0, mov,mp4,m4a,3gp,3g2,mj2, from 'audio_stream.mp4':\n",
      "  Metadata:\n",
      "    major_brand     : dash\n",
      "    minor_version   : 0\n",
      "    compatible_brands: iso6mp41\n",
      "    creation_time   : 2022-04-17T21:41:11.000000Z\n",
      "  Duration: 00:02:20.83, start: 0.000000, bitrate: 129 kb/s\n",
      "  Stream #0:0[0x1](eng): Audio: aac (LC) (mp4a / 0x6134706D), 44100 Hz, stereo, fltp, 9 kb/s (default)\n",
      "    Metadata:\n",
      "      creation_time   : 2022-04-17T21:41:11.000000Z\n",
      "      handler_name    : ISO Media file produced by Google Inc.\n",
      "      vendor_id       : [0][0][0][0]\n",
      "Stream specifier '' in filtergraph description [0]trim=end=141:start=0[s0];[s0]setpts=PTS-STARTPTS[s1] matches no streams.\n"
     ]
    },
    {
     "ename": "Error",
     "evalue": "ffmpeg error (see stderr output for detail)",
     "output_type": "error",
     "traceback": [
      "\u001b[0;31m---------------------------------------------------------------------------\u001b[0m",
      "\u001b[0;31mError\u001b[0m                                     Traceback (most recent call last)",
      "\u001b[1;32m/Users/warrenkrettek/Documents/projects/youmirror/tests/test_downloader.ipynb Cell 5'\u001b[0m in \u001b[0;36m<cell line: 3>\u001b[0;34m()\u001b[0m\n\u001b[1;32m      <a href='vscode-notebook-cell:/Users/warrenkrettek/Documents/projects/youmirror/tests/test_downloader.ipynb#ch0000005?line=0'>1</a>\u001b[0m longer_audio \u001b[39m=\u001b[39m ffmpeg\u001b[39m.\u001b[39minput(\u001b[39m\"\u001b[39m\u001b[39maudio_stream.mp4\u001b[39m\u001b[39m\"\u001b[39m)\n\u001b[1;32m      <a href='vscode-notebook-cell:/Users/warrenkrettek/Documents/projects/youmirror/tests/test_downloader.ipynb#ch0000005?line=1'>2</a>\u001b[0m length \u001b[39m=\u001b[39m yt\u001b[39m.\u001b[39mlength\n\u001b[0;32m----> <a href='vscode-notebook-cell:/Users/warrenkrettek/Documents/projects/youmirror/tests/test_downloader.ipynb#ch0000005?line=2'>3</a>\u001b[0m longer_audio\u001b[39m.\u001b[39;49mtrim(start\u001b[39m=\u001b[39;49m\u001b[39m0\u001b[39;49m, end\u001b[39m=\u001b[39;49mlength)\u001b[39m.\u001b[39;49msetpts(\u001b[39m'\u001b[39;49m\u001b[39mPTS-STARTPTS\u001b[39;49m\u001b[39m'\u001b[39;49m)\u001b[39m.\u001b[39;49moutput(\u001b[39m\"\u001b[39;49m\u001b[39mlonger_audio.mp4\u001b[39;49m\u001b[39m\"\u001b[39;49m)\u001b[39m.\u001b[39;49mrun()\n",
      "File \u001b[0;32m~/Library/Caches/pypoetry/virtualenvs/youmirror-DiMKVoJk-py3.9/lib/python3.9/site-packages/ffmpeg/_run.py:325\u001b[0m, in \u001b[0;36mrun\u001b[0;34m(stream_spec, cmd, capture_stdout, capture_stderr, input, quiet, overwrite_output)\u001b[0m\n\u001b[1;32m    <a href='file:///Users/warrenkrettek/Library/Caches/pypoetry/virtualenvs/youmirror-DiMKVoJk-py3.9/lib/python3.9/site-packages/ffmpeg/_run.py?line=322'>323</a>\u001b[0m retcode \u001b[39m=\u001b[39m process\u001b[39m.\u001b[39mpoll()\n\u001b[1;32m    <a href='file:///Users/warrenkrettek/Library/Caches/pypoetry/virtualenvs/youmirror-DiMKVoJk-py3.9/lib/python3.9/site-packages/ffmpeg/_run.py?line=323'>324</a>\u001b[0m \u001b[39mif\u001b[39;00m retcode:\n\u001b[0;32m--> <a href='file:///Users/warrenkrettek/Library/Caches/pypoetry/virtualenvs/youmirror-DiMKVoJk-py3.9/lib/python3.9/site-packages/ffmpeg/_run.py?line=324'>325</a>\u001b[0m     \u001b[39mraise\u001b[39;00m Error(\u001b[39m'\u001b[39m\u001b[39mffmpeg\u001b[39m\u001b[39m'\u001b[39m, out, err)\n\u001b[1;32m    <a href='file:///Users/warrenkrettek/Library/Caches/pypoetry/virtualenvs/youmirror-DiMKVoJk-py3.9/lib/python3.9/site-packages/ffmpeg/_run.py?line=325'>326</a>\u001b[0m \u001b[39mreturn\u001b[39;00m out, err\n",
      "\u001b[0;31mError\u001b[0m: ffmpeg error (see stderr output for detail)"
     ]
    }
   ],
   "source": [
    "longer_audio = ffmpeg.input(\"audio_stream.mp4\")\n",
    "length = yt.length\n",
    "longer_audio.trim(start=0, end=length).output(\"longer_audio.mp4\").run()"
   ]
  },
  {
   "cell_type": "code",
   "execution_count": 8,
   "metadata": {},
   "outputs": [
    {
     "name": "stderr",
     "output_type": "stream",
     "text": [
      "ffmpeg version 5.0.1 Copyright (c) 2000-2022 the FFmpeg developers\n",
      "  built with Apple clang version 13.1.6 (clang-1316.0.21.2)\n",
      "  configuration: --prefix=/opt/homebrew/Cellar/ffmpeg/5.0.1 --enable-shared --enable-pthreads --enable-version3 --cc=clang --host-cflags= --host-ldflags= --enable-ffplay --enable-gnutls --enable-gpl --enable-libaom --enable-libbluray --enable-libdav1d --enable-libmp3lame --enable-libopus --enable-librav1e --enable-librist --enable-librubberband --enable-libsnappy --enable-libsrt --enable-libtesseract --enable-libtheora --enable-libvidstab --enable-libvmaf --enable-libvorbis --enable-libvpx --enable-libwebp --enable-libx264 --enable-libx265 --enable-libxml2 --enable-libxvid --enable-lzma --enable-libfontconfig --enable-libfreetype --enable-frei0r --enable-libass --enable-libopencore-amrnb --enable-libopencore-amrwb --enable-libopenjpeg --enable-libspeex --enable-libsoxr --enable-libzmq --enable-libzimg --disable-libjack --disable-indev=jack --enable-videotoolbox --enable-neon\n",
      "  libavutil      57. 17.100 / 57. 17.100\n",
      "  libavcodec     59. 18.100 / 59. 18.100\n",
      "  libavformat    59. 16.100 / 59. 16.100\n",
      "  libavdevice    59.  4.100 / 59.  4.100\n",
      "  libavfilter     8. 24.100 /  8. 24.100\n",
      "  libswscale      6.  4.100 /  6.  4.100\n",
      "  libswresample   4.  3.100 /  4.  3.100\n",
      "  libpostproc    56.  3.100 / 56.  3.100\n",
      "Input #0, mov,mp4,m4a,3gp,3g2,mj2, from 'video_stream.mp4':\n",
      "  Metadata:\n",
      "    major_brand     : dash\n",
      "    minor_version   : 0\n",
      "    compatible_brands: iso6avc1mp41\n",
      "    creation_time   : 2022-04-17T22:09:22.000000Z\n",
      "  Duration: 00:02:20.67, start: 0.000000, bitrate: 2131 kb/s\n",
      "  Stream #0:0[0x1](und): Video: h264 (High) (avc1 / 0x31637661), yuv420p(tv, bt709, progressive), 1920x1080 [SAR 1:1 DAR 16:9], 74 kb/s, 30 fps, 30 tbr, 15360 tbn (default)\n",
      "    Metadata:\n",
      "      creation_time   : 2022-04-17T22:09:22.000000Z\n",
      "      handler_name    : ISO Media file produced by Google Inc.\n",
      "      vendor_id       : [0][0][0][0]\n",
      "Input #1, mov,mp4,m4a,3gp,3g2,mj2, from 'audio_stream.mp4':\n",
      "  Metadata:\n",
      "    major_brand     : dash\n",
      "    minor_version   : 0\n",
      "    compatible_brands: iso6mp41\n",
      "    creation_time   : 2022-04-17T21:41:11.000000Z\n",
      "  Duration: 00:02:20.83, start: 0.000000, bitrate: 129 kb/s\n",
      "  Stream #1:0[0x1](eng): Audio: aac (LC) (mp4a / 0x6134706D), 44100 Hz, stereo, fltp, 9 kb/s (default)\n",
      "    Metadata:\n",
      "      creation_time   : 2022-04-17T21:41:11.000000Z\n",
      "      handler_name    : ISO Media file produced by Google Inc.\n",
      "      vendor_id       : [0][0][0][0]\n",
      "Stream mapping:\n",
      "  Stream #0:0 (h264) -> concat\n",
      "  Stream #1:0 (aac) -> concat\n",
      "  concat -> Stream #0:0 (aac)\n",
      "  concat -> Stream #0:1 (libx264)\n",
      "Press [q] to stop, [?] for help\n",
      "[libx264 @ 0x132707320] using SAR=1/1\n",
      "[libx264 @ 0x132707320] using cpu capabilities: ARMv8 NEON\n",
      "[libx264 @ 0x132707320] profile High, level 4.0, 4:2:0, 8-bit\n",
      "[libx264 @ 0x132707320] 264 - core 163 r3060 5db6aa6 - H.264/MPEG-4 AVC codec - Copyleft 2003-2021 - http://www.videolan.org/x264.html - options: cabac=1 ref=3 deblock=1:0:0 analyse=0x3:0x113 me=hex subme=7 psy=1 psy_rd=1.00:0.00 mixed_ref=1 me_range=16 chroma_me=1 trellis=1 8x8dct=1 cqm=0 deadzone=21,11 fast_pskip=1 chroma_qp_offset=-2 threads=12 lookahead_threads=2 sliced_threads=0 nr=0 decimate=1 interlaced=0 bluray_compat=0 constrained_intra=0 bframes=3 b_pyramid=2 b_adapt=1 b_bias=0 direct=1 weightb=1 open_gop=0 weightp=2 keyint=250 keyint_min=25 scenecut=40 intra_refresh=0 rc_lookahead=40 rc=crf mbtree=1 crf=23.0 qcomp=0.60 qpmin=0 qpmax=69 qpstep=4 ip_ratio=1.40 aq=1:1.00\n",
      "Output #0, mp4, to 'output.mp4':\n",
      "  Metadata:\n",
      "    major_brand     : dash\n",
      "    minor_version   : 0\n",
      "    compatible_brands: iso6avc1mp41\n",
      "    encoder         : Lavf59.16.100\n",
      "  Stream #0:0: Audio: aac (LC) (mp4a / 0x6134706D), 44100 Hz, stereo, fltp, 128 kb/s\n",
      "    Metadata:\n",
      "      encoder         : Lavc59.18.100 aac\n",
      "  Stream #0:1: Video: h264 (avc1 / 0x31637661), yuv420p(tv, bt709, progressive), 1920x1080 [SAR 1:1 DAR 16:9], q=2-31, 30 fps, 15360 tbn\n",
      "    Metadata:\n",
      "      encoder         : Lavc59.18.100 libx264\n",
      "    Side data:\n",
      "      cpb: bitrate max/min/avg: 0/0/0 buffer size: 0 vbv_delay: N/A\n",
      "frame= 4220 fps= 79 q=-1.0 Lsize=   50688kB time=00:02:20.82 bitrate=2948.5kbits/s speed=2.62x    \n",
      "video:48457kB audio:2083kB subtitle:0kB other streams:0kB global headers:0kB muxing overhead: 0.293547%\n",
      "[aac @ 0x132705c70] Qavg: 4706.057\n",
      "[libx264 @ 0x132707320] frame I:49    Avg QP:18.17  size: 75141\n",
      "[libx264 @ 0x132707320] frame P:1288  Avg QP:23.17  size: 23377\n",
      "[libx264 @ 0x132707320] frame B:2883  Avg QP:27.12  size:  5490\n",
      "[libx264 @ 0x132707320] consecutive B-frames:  3.6% 10.3% 17.3% 68.8%\n",
      "[libx264 @ 0x132707320] mb I  I16..4: 13.4% 73.2% 13.5%\n",
      "[libx264 @ 0x132707320] mb P  I16..4:  1.4%  8.3%  3.1%  P16..4: 28.3%  6.9%  3.0%  0.0%  0.0%    skip:49.1%\n",
      "[libx264 @ 0x132707320] mb B  I16..4:  0.3%  0.5%  0.3%  B16..8: 26.4%  2.1%  0.3%  direct: 0.5%  skip:69.4%  L0:52.2% L1:46.4% BI: 1.4%\n",
      "[libx264 @ 0x132707320] 8x8 transform intra:63.8% inter:71.1%\n",
      "[libx264 @ 0x132707320] coded y,uvDC,uvAC intra: 41.4% 45.4% 21.5% inter: 3.6% 3.6% 0.3%\n",
      "[libx264 @ 0x132707320] i16 v,h,dc,p: 53% 27% 10% 11%\n",
      "[libx264 @ 0x132707320] i8 v,h,dc,ddl,ddr,vr,hd,vl,hu: 24% 20% 33%  4%  4%  4%  5%  3%  5%\n",
      "[libx264 @ 0x132707320] i4 v,h,dc,ddl,ddr,vr,hd,vl,hu: 26% 20% 20%  5%  8%  7%  7%  5%  4%\n",
      "[libx264 @ 0x132707320] i8c dc,h,v,p: 55% 22% 18%  6%\n",
      "[libx264 @ 0x132707320] Weighted P-Frames: Y:3.4% UV:3.0%\n",
      "[libx264 @ 0x132707320] ref P L0: 65.0% 10.0% 17.8%  7.3%  0.0%\n",
      "[libx264 @ 0x132707320] ref B L0: 90.5%  6.9%  2.6%\n",
      "[libx264 @ 0x132707320] ref B L1: 98.6%  1.4%\n",
      "[libx264 @ 0x132707320] kb/s:2821.94\n"
     ]
    },
    {
     "data": {
      "text/plain": [
       "(None, None)"
      ]
     },
     "execution_count": 8,
     "metadata": {},
     "output_type": "execute_result"
    }
   ],
   "source": [
    "video = ffmpeg.input('video_stream.mp4')\n",
    "audio = ffmpeg.input('audio_stream.mp4')\n",
    "ffmpeg.concat(video, audio, v=1, a=1).output('output.mp4').run()\n"
   ]
  }
 ],
 "metadata": {
  "interpreter": {
   "hash": "7f9ff59c3162761adf13ed323d56ee47dd50a44e9106b8fbfbd1d7db36ca348c"
  },
  "kernelspec": {
   "display_name": "Python 3.9.6 ('youmirror-1iwEkUPf-py3.9')",
   "language": "python",
   "name": "python3"
  },
  "language_info": {
   "codemirror_mode": {
    "name": "ipython",
    "version": 3
   },
   "file_extension": ".py",
   "mimetype": "text/x-python",
   "name": "python",
   "nbconvert_exporter": "python",
   "pygments_lexer": "ipython3",
   "version": "3.9.12"
  },
  "orig_nbformat": 4
 },
 "nbformat": 4,
 "nbformat_minor": 2
}
