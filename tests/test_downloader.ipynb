{
 "cells": [
  {
   "cell_type": "markdown",
   "metadata": {},
   "source": [
    "### Testing the downloader"
   ]
  },
  {
   "cell_type": "code",
   "execution_count": 1,
   "metadata": {},
   "outputs": [],
   "source": [
    "from youmirror.downloader import *\n",
    "from pytube import YouTube, Caption\n",
    "yt = YouTube(\"https://www.youtube.com/watch?v=efiLdiBk1f8\")"
   ]
  },
  {
   "cell_type": "code",
   "execution_count": 2,
   "metadata": {},
   "outputs": [
    {
     "name": "stdout",
     "output_type": "stream",
     "text": [
      "Downloading dicky/doodoo.mp4\n",
      "Downloading dicky/doodoo.mp3\n",
      "Downloading dicky/doodoo.srt\n",
      "Downloading dicky/doodoo.jpg\n"
     ]
    }
   ],
   "source": [
    "files = [\"dicky/doodoo.mp4\", \"dicky/doodoo_audio.mp3\", \"dicky/doodoo.srt\", \"dicky/doodoo.jpg\"]\n",
    "for file in files:\n",
    "    download_single(yt, file, dict())"
   ]
  }
 ],
 "metadata": {
  "interpreter": {
   "hash": "7f9ff59c3162761adf13ed323d56ee47dd50a44e9106b8fbfbd1d7db36ca348c"
  },
  "kernelspec": {
   "display_name": "Python 3.9.6 ('youmirror-1iwEkUPf-py3.9')",
   "language": "python",
   "name": "python3"
  },
  "language_info": {
   "codemirror_mode": {
    "name": "ipython",
    "version": 3
   },
   "file_extension": ".py",
   "mimetype": "text/x-python",
   "name": "python",
   "nbconvert_exporter": "python",
   "pygments_lexer": "ipython3",
   "version": "3.9.12"
  },
  "orig_nbformat": 4
 },
 "nbformat": 4,
 "nbformat_minor": 2
}
