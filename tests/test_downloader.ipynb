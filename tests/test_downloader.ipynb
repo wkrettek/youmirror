{
 "cells": [
  {
   "cell_type": "markdown",
   "metadata": {},
   "source": [
    "### Testing the downloader"
   ]
  },
  {
   "cell_type": "code",
   "execution_count": 1,
   "metadata": {},
   "outputs": [],
   "source": [
    "from youmirror.downloader import *\n",
    "from pytube import YouTube, Caption\n",
    "yt = YouTube(\"https://www.youtube.com/watch?v=EkDOuRAwrYE\")"
   ]
  },
  {
   "cell_type": "code",
   "execution_count": 2,
   "metadata": {},
   "outputs": [
    {
     "name": "stdout",
     "output_type": "stream",
     "text": [
      "Downloading files/doodoo.mp4\n",
      "Downloading files/doodoo_audio.mp4\n",
      "Downloading files/doodoo.srt\n",
      "zh-CN\n",
      "a.en\n",
      "en-GB\n",
      "iw\n",
      "pl\n",
      "pt\n",
      "ru\n",
      "es-419\n",
      "Could not find caption for language: CN\n",
      "Downloading files/doodoo.jpg\n"
     ]
    },
    {
     "data": {
      "text/plain": [
       "'doodoo.jpg'"
      ]
     },
     "execution_count": 2,
     "metadata": {},
     "output_type": "execute_result"
    }
   ],
   "source": [
    "download_single(yt, \"video\", \"files/doodoo.mp4\", {\"has_ffmpeg\": True, \"resolution\": \"1080p\"})\n",
    "download_single(yt, \"audio\", \"files/doodoo_audio.mp4\", {\"has_ffmpeg\": False})\n",
    "download_single(yt, \"caption\", \"files/doodoo.srt\", {\"caption_type\": \"a.en\"})\n",
    "download_single(yt, \"thumbnail\", \"files/doodoo.jpg\", {\"has_ffmpeg\": False})"
   ]
  },
  {
   "cell_type": "code",
   "execution_count": null,
   "metadata": {},
   "outputs": [],
   "source": [
    "yt = YouTube(\"https://www.youtube.com/watch?v=nTZipTVFHmo\")\n",
    "# stream = get_video_stream(yt, {\"resolution\": \"1080p\"})\n",
    "# print(stream.includes_audio_track)\n",
    "download_video(yt, \"./\", \"doodoo.mp4\", {\"resolution\": \"1080p\"})"
   ]
  },
  {
   "cell_type": "code",
   "execution_count": null,
   "metadata": {},
   "outputs": [],
   "source": [
    "import subprocess\n",
    "yt = YouTube(\"https://www.youtube.com/watch?v=kUKinGYoeDA\")\n",
    "length = yt.length\n",
    "video_stream = get_video_stream(yt, {\"resolution\": \"1080p\"})\n",
    "video_stream.download(filename=\"video_stream.mp4\")\n",
    "audio_stream = get_audio_stream(yt, dict())\n",
    "audio_stream.download(filename=\"audio_stream.mp4\")\n",
    "subprocess.run([\"ffmpeg\", \"-i\", \"video_stream.mp4\", \"-i\", \"audio_stream.mp4\", \"-c:v\", \"copy\", \"-c:a\", \"copy\", \"video_audio.mp4\"])"
   ]
  },
  {
   "cell_type": "code",
   "execution_count": null,
   "metadata": {},
   "outputs": [],
   "source": [
    "Path(\"temp\").touch()\n",
    "Path(\"doodoo.mp4\").rename(\"temp\")"
   ]
  }
 ],
 "metadata": {
  "interpreter": {
   "hash": "7f9ff59c3162761adf13ed323d56ee47dd50a44e9106b8fbfbd1d7db36ca348c"
  },
  "kernelspec": {
   "display_name": "Python 3.9.6 ('youmirror-1iwEkUPf-py3.9')",
   "language": "python",
   "name": "python3"
  },
  "language_info": {
   "codemirror_mode": {
    "name": "ipython",
    "version": 3
   },
   "file_extension": ".py",
   "mimetype": "text/x-python",
   "name": "python",
   "nbconvert_exporter": "python",
   "pygments_lexer": "ipython3",
   "version": "3.9.12"
  },
  "orig_nbformat": 4
 },
 "nbformat": 4,
 "nbformat_minor": 2
}
