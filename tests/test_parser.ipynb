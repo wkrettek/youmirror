{
 "cells": [
  {
   "cell_type": "code",
   "execution_count": 1,
   "metadata": {},
   "outputs": [],
   "source": [
    "from youmirror.parser import *\n",
    "pl = Playlist(\"https://www.youtube.com/playlist?list=PLD0D54219E5F2544D\")\n",
    "ch = Channel(\"https://www.youtube.com/c/JacobSorber\")\n",
    "si = YouTube(\"https://www.youtube.com/watch?v=rj7DOPPTkQA\")\n",
    "all_types = [pl, ch, si]"
   ]
  },
  {
   "cell_type": "code",
   "execution_count": 2,
   "metadata": {},
   "outputs": [
    {
     "name": "stdout",
     "output_type": "stream",
     "text": [
      "{'name': 'C++ GUI with Qt Playlist', 'children': {'6GyrKryOVJY', '-A5S9ka5H9A', 'pQHFqp0NK4E', 'HgyocPuO1Hk', 'ufnA4UOKAFE', 'HiOOWDb4YjE', 'kg98E06wm1I', 'aMUh9DmFLto', '7ZuSs27tQPA', 'mn4t2tqncoA', 'swZNOKKkQiw', 'HnuY7NhzLGM', 'DUeMzXc2V_Q', 'CRVwBNkn63s'}, 'available': True, 'paths': {'captions/playlists/C++ GUI with Qt Playlist', 'videos/playlists/C++ GUI with Qt Playlist', 'audio/playlists/C++ GUI with Qt Playlist', 'thumbnails/playlists/C++ GUI with Qt Playlist'}}\n",
      "{'name': 'Jacob Sorber', 'children': {'FcIubL92gaI', 'UbhlOk7vjVY', '0H1QXspkStA', 'FMNnusHqjpw', 'LLqDNjr0kPo', 'bdIiTxtMaKA', 'dh1mil1ehvE', 'FT2A2HQbTkU', '7MhJmLV6tdM', 'LRLlEzkCL4I', 'oyX30WVuEos', 'eSowTJuM04I', 'XV5sRaSVtXQ', 'mm0b_H0KIRw', 'I55kWLXqhDI', 'w3iXBUbq4NY', 'vRCnIyeaV8M', 'P0k1C3F61xY', 'OLH_k6IhTyM', 'tRtVR-WL8w4', '7mKfWrNQcj0', '79KFwjNZupU', 'KQBBWvY-s0o', 'XjhL6WCvH-w', 'U161zVjv1rs', 'G5dNorAoeCM', '3GhCOeTJJzQ', 'iX1uGr6Si0E', 'modeJNBDtcM', 'kvqUtn0dXRI', 'kYvVHlMMF_A', 'KZq2wHZoAaE', 't_vM_8TLjFE', '5HuM_eVjFJo', '86LQtc3lewI', 'HeCT7VHIUm8', 'dhFkwGRSVGk', 'wJGd7tKF2zY', '9KfSKkeIyOs', '8bmEhtMVrhk', 'ySY_FlA7EvA', 'CM6QPHsPI2I', 'SKa6d9bUlO0', 'a8l8PwCzw20', '9axu8CUvOKY', 'oxWg0_9DSrI', 'IZiUT-ipnj0', 'ZIhy4uy5uJM', 'Q6RJFJvw3B8', 'WgVSq-sgHOc', 'dcBcgPGIMpo', '2AmP7Pse4U0', 'axngwDJ79GY', 'rn8LygL-BMM', 'eQcRcgOnl9o', 'phYM4L1BBjI', 'PVIzokTJdVM', '4p564Su-F9M', 'aMAM5vL7wTs', 'xJ8KenZw2ag', 'i6qgTWUMNXc', 'PQxM9EXauLo', 'PfMV_wa0KY4', 'zx7euEEZ0H4', 'BM9cnSEY23s', 'OoHich9BPxg', 'BQJBe4IbsvQ', 'yZ0lJu5AKLk', 'm4agpY_w2y8', 'NDfAYZCHstI', 'XKeQ9KS5pHI', 'yM9zteeTCiI', 'Jkmy2YLUbUY', 'tKst2_96vB8', 'Sddn1UjzSAo', 'lMk5AGz88g4', 'x24fOAPclL4', 'L69eIm472nY', 'JYSYHTfOFgU', 'AQ7hhD0Q4rk', '6_oBi3Qw_mc', 'rPV6b8BUwxM', 'pKYvhURF3Z4', 'hfwwaNNJ-0A', 't6Jfrmdg5rk', 'aypNWcRlwYw', 'zkV-MoTosPE', 'bWMIpHVRFUo', 'K8dCh3ZMLN8', 'j3SwYvuR8oc', 'JbHmin2Wtmc', 'Kq8m980JEeg', '9NQ7czFEUhg', 'A4sRhuGkRb0', 'ayfCxgVStdQ', '9zU92H_CLVI', '83M5-NPDeWs', '9Zyp4sdSUNM', 'KNPL11YJoAQ', 'ufMDgJY2I8I', 'eLRWDZ7uQQU', 'RoVD6zlftF0', '8AXEHrQTf3I', '1Jh9BUxIw0U', 'uLZVDSZc_ZU', 'liWdn92SAvs', 'gNEZHW5-Wso', 'IGW8-yeYRgI', 'ss1-REMJ9GA', 'lEWFr98UqY0', 'Aw0YAUdQp1c', 'gYMvCSCfr38', 'JarMkGWTF8Y', '1jv428xKsRg', 'Pqf6H1WSbeY', 'vMFa6oKSmao', 'GV10eIuPs9k', 'ps4MI41Bg58', 'n-b04Kx_mi0', '2Ti5yvumFTU', 'S-4j2Byi8KM', 'KFbm6lkMhgw', '5TzFNouc0PE', 'NqUTiJPgBn8', 'jVzSBkbfdiw', 'uT-YLEHwVS4', 'tjndNX2h5Zc', 'A_pV61xFty8', 'iF2F0YIgxy4', 'MruzHlXqspU', 'A0A19LQKOjM', 'nvRkFi8rbOM', 'u58HG5n49Xk', '2YfM-HxQd_8', 'l5KqE0DMG-Q', 'EPTv5IH5dvg', 'S-ak715zIIE', 'cCdn7Cy6TfE', 'KjPvEcds0QA', '_kIa4D7kQ8I', 'IepIFbK3Ee8', 'm7E9piHcfr4', 'HGWS4nCnycA', 'tq3zPnrQIpU', 'NqEbV5FBKmg', 'JPPxV3Hdz_A', 'It0OFCbbTJE', 'gDGgMhmoTJI', 'Fq9chEBQMFE', 'NeOTr0u7ALk', 'CRlqU9XzVr4', 'P6Z5K8zmEmc', 'TsUOhPsZk6k', 'esXw4bdaZkc', '6yOWFJ9wu-s', '3-L_91DFBm4', '34rufNo7dE4', 'hGBHGficAiM', 'iYRl50gtprA', 'mfmXcbiRs0E', 'M6RCUiZzl8Y', '3E-r4GfvWOI', 'MjHMeufOxp8', 'eC71xRY4yAM', 'ukM_zzrIeXs', '1vGfkBwIOXw', 'kDxjcyHu_Qs', 'p63O8g4beBo', 'Os5cK0H8EOA', 'Jeg_162ze0o', '5x4p5KSoYOQ', '6tIWFEzzx9I', 'b9_0bqrm2G8', 'ADh_OFBfdEE', 'LfIPVIsH4ZU', 'dpjt_D8xcPU', 'daA-KBKfJ_o', '-Q64Ae4EHqU', 'ck_RfVOYgjQ', 'FPVTr4thm2M', 'LBQWwo2d-I8', 'll4XT0MYKN0', 'a8mPKBxQ9No', 'bXsKnUGndEU', 'rBtfqH4kdlc', 'PP03QAsIij8', '1KQqpiXxvWQ', 'k6ESk9zafHM', '1rIRztTHFaE', 'DzyxGrDT2yk', '6Dk8s0F2gow', 'grk4QUDveFw', 'wg1wZgCdJPA', 'Pg_4Jz8ZIH4', 'RY71m2UKO5Q', 'bC2dfBJwtMY', 'ewqX1IuYzC8', 'wcpH2PkC-94', 'Scs3oBY7dEo', 'uA8X5zNOGw8', 'P6oqhAxV0dA', 'vEICc0zygWQ', 'oZ1gbIpmB8Q', 'dPxCGlW9lfM', 'p8RC_i9t0MU', 'rww_OHQOmbs', 'lbq2lntAJIE', 'aC37UE7edP0', 'Z4r4qJx9yds', '3CbFFVHQrk4', '5td9upDbkaU', 'KGFOLJiIo1g', 'zyQXhPUM4hc', 'Ew2QnDeTCCE', 'VOpjAHCee7c', 'vbVuVQXJEks', 'k2K2HVg4Arc', 'MCVa1ZhQaqI', 'L__eClqEyLg', '-eDY7yh-CyA', 'cSC7W2MwKqw', 'IDE--6n-Qeo', 'SC8uWXmDJs4', '8nZfjmVHBz8', 'Y6pFtgRdUts', 'PtTVe0zfg_M', 'PLnmboUvqq8', 'kjHDnUjaai4', 'mib3ahMbq_0'}, 'available': True, 'paths': {'thumbnails/channels/Jacob Sorber', 'audio/channels/Jacob Sorber', 'captions/channels/Jacob Sorber', 'videos/channels/Jacob Sorber'}}\n",
      "{'name': 'ASMR Programming - Spinning Donut - No Talking', 'available': True, 'parent_name': '', 'files': {'thumbnails/singles/ASMR Programming - Spinning Donut - No Talking..jpg', 'videos/singles/ASMR Programming - Spinning Donut - No Talking..mp4', 'captions/singles/ASMR Programming - Spinning Donut - No Talking..srt', 'audio/singles/ASMR Programming - Spinning Donut - No Talking..mp3'}}\n"
     ]
    }
   ],
   "source": [
    "to_dl = {\"dl_video\": True, \"dl_audio\": False, \"dl_captions\": True, \"dl_thumbnail\": True}\n",
    "for yt in all_types:\n",
    "    yt_type = yt_to_type_string(yt)\n",
    "    keys = get_keys(yt, {}, to_dl, {})\n",
    "    print(keys)"
   ]
  }
 ],
 "metadata": {
  "interpreter": {
   "hash": "7f9ff59c3162761adf13ed323d56ee47dd50a44e9106b8fbfbd1d7db36ca348c"
  },
  "kernelspec": {
   "display_name": "Python 3.9.6 ('youmirror-1iwEkUPf-py3.9')",
   "language": "python",
   "name": "python3"
  },
  "language_info": {
   "codemirror_mode": {
    "name": "ipython",
    "version": 3
   },
   "file_extension": ".py",
   "mimetype": "text/x-python",
   "name": "python",
   "nbconvert_exporter": "python",
   "pygments_lexer": "ipython3",
   "version": "3.9.12"
  },
  "orig_nbformat": 4
 },
 "nbformat": 4,
 "nbformat_minor": 2
}
