{
 "cells": [
  {
   "cell_type": "code",
   "execution_count": 2,
   "metadata": {},
   "outputs": [],
   "source": [
    "from youmirror.parser import *\n",
    "all_links = [\"https://www.youtube.com/playlist?list=PLBZw8Bdva63UAhbdAlbbYotegKhUMeSzN\", \"https://www.youtube.com/channel/UCBw0bL8MtOIl1UX7db2MT3A\", \"https://www.youtube.com/watch?v=rj7DOPPTkQA\" ]\n",
    "pl = Playlist(\"https://www.youtube.com/playlist?list=PLD0D54219E5F2544D\")\n",
    "ch = Channel(\"https://www.youtube.com/c/JacobSorber\")\n",
    "si = YouTube(\"https://www.youtube.com/watch?v=rj7DOPPTkQA\")\n",
    "all_types = [pl, ch, si]"
   ]
  },
  {
   "cell_type": "code",
   "execution_count": 3,
   "metadata": {},
   "outputs": [
    {
     "name": "stdout",
     "output_type": "stream",
     "text": [
      "link: https://www.youtube.com/playlist?list=PLBZw8Bdva63UAhbdAlbbYotegKhUMeSzN\n",
      "link type playlist\n",
      "link id PLBZw8Bdva63UAhbdAlbbYotegKhUMeSzN\n",
      "metadata {'name': 'Pepe Prawn', 'children': {'CLke7vuillA', 'we5jmhiRtTk', 'MHonxVT0RI8', 'x2AQp_B-keY', '7dV9ez8GjBY', 'ElbUFWwPXB0', 'Mz3lzeJ5KmM', 'gDFunZmVMho', '3TsDKtWILE4', '-zjcOUEHLQ0', 'MnwO_RzgR3Q', 'ZmCp8rvXbdU', 'lncfbQJIG_w', '00V2ED3YLwY', 'd19BawjJPhY', 'Pa_HT9vQiLw', 'LgE9Y5BaIls', '6gTnqVhGiGo', '8VPu841BmOs', 'o6EA7HHADc4'}, 'available': True}\n",
      "link: https://www.youtube.com/channel/UCBw0bL8MtOIl1UX7db2MT3A\n",
      "link type channel\n",
      "link id /channel/UCBw0bL8MtOIl1UX7db2MT3A\n",
      "metadata {'name': 'The Always Sunny Podcast', 'children': {'rKurm9SqXAw', 'IL9QLCe2xxo', 'fjCHw_ttEXY', 'jppA5NDk364', '-dO1yFFZu8w', '4f2lVSYgzjo', 'se5scESKZqE', 'OK9L6xSN24Y', 'uye6OptPmps', 'wlPrSuBvwQo', 'FtA5iRT4pQk', 'ErF-Um18G0M', 'nlsvIiGOQT0', 'g43FW-1CEQo', '69cjUN4x3wA', 'w-0GrZZS8TY', 'jTBO_K_zeR0', 'gmLD0gYDI50', 'HCIQ_zocZnU', 'W4NVPRKqrN4', 'qFH8ONJQu5I', '9C-pfRJSUek', '0C-n4c8B6_o', 'Mmqjueb9bGw', 'aE6Ns_odqec', 'yPM0zueqXK0', 'E6UQEuk7wEA', 'rJd98ahZPmE', 'px2ch3R7Xtc', 'JRbATxvD_mo', 'sztaSIwdvWc', 'h97oKaQSX-M', '9Nh4hRaLgec', 'V3o4ijDFjA8', 'x2ALxWntGw4', 'oDGtZtZsAdY', 'bsNInoJpOVA', 'mJntfYZUlWg', 'km1Hxg-v9ws', 'NxOJSgQ-ANA', 'VIORhtcxlqM', 'xviPQ07WfXI', 'iWxaqTRKi2s', 'ZSrQfCz0NnQ', '2LnURQ9NaOA', 'm1o-iY70QZQ', '0CALWTJ1gIs', 'acNg26XkfFo', 'HtbtEEOHmNY', 'Gyy2vXixdKw', 'kL9gJmtanfs', 'VpvSiTKMTrE', 'w297cLhK_Zo', 'UaddC6h5yPk', 'C7ON-LSl54g'}, 'available': True}\n",
      "link: https://www.youtube.com/watch?v=rj7DOPPTkQA\n",
      "link type single\n",
      "link id rj7DOPPTkQA\n",
      "metadata {'name': 'ASMR Programming - Spinning Donut - No Talking', 'available': True}\n"
     ]
    }
   ],
   "source": [
    "# for link in all_links:\n",
    "#     print(\"link:\", link)\n",
    "#     print(\"link type\", link_type(link))\n",
    "#     print(\"link id\", link_id(link))\n",
    "#     yt = get_pytube(link)\n",
    "#     yt_string = yt_to_type_string(yt)\n",
    "#     print(\"metadata\", get_metadata(yt))\n",
    "for link in all_links:\n",
    "    print(\"keys\", get_keys(get_pytube(link), {}, {}, {}))"
   ]
  }
 ],
 "metadata": {
  "interpreter": {
   "hash": "7f9ff59c3162761adf13ed323d56ee47dd50a44e9106b8fbfbd1d7db36ca348c"
  },
  "kernelspec": {
   "display_name": "Python 3.9.6 ('youmirror-1iwEkUPf-py3.9')",
   "language": "python",
   "name": "python3"
  },
  "language_info": {
   "codemirror_mode": {
    "name": "ipython",
    "version": 3
   },
   "file_extension": ".py",
   "mimetype": "text/x-python",
   "name": "python",
   "nbconvert_exporter": "python",
   "pygments_lexer": "ipython3",
   "version": "3.9.12"
  },
  "orig_nbformat": 4
 },
 "nbformat": 4,
 "nbformat_minor": 2
}
