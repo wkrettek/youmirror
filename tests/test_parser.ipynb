{
 "cells": [
  {
   "cell_type": "code",
   "execution_count": 1,
   "metadata": {},
   "outputs": [],
   "source": [
    "from youmirror.parser import *\n",
    "all_links = [\"https://www.youtube.com/playlist?list=PLBZw8Bdva63UAhbdAlbbYotegKhUMeSzN\", \"https://www.youtube.com/channel/UCBw0bL8MtOIl1UX7db2MT3A\", \"https://www.youtube.com/watch?v=rj7DOPPTkQA\" ]\n",
    "pl = Playlist(\"https://www.youtube.com/playlist?list=PLD0D54219E5F2544D\")\n",
    "ch = Channel(\"https://www.youtube.com/c/JacobSorber\")\n",
    "si = YouTube(\"https://www.youtube.com/watch?v=rj7DOPPTkQA\")\n",
    "all_types = [pl, ch, si]\n",
    "options = {    \n",
    "    \"dl_video\": True,       # Whether to download video\n",
    "    \"dl_captions\": True,   # Whether to download captions\n",
    "    \"dl_audio\": True,      # Whether to download audio\n",
    "    \"dl_thumbnail\": True, \n",
    "    \"captions\": [\"en\", \"a.en\", \"fr\"]}"
   ]
  },
  {
   "cell_type": "code",
   "execution_count": 8,
   "metadata": {},
   "outputs": [
    {
     "name": "stdout",
     "output_type": "stream",
     "text": [
      "{'video': [], 'audio': ['singles/thing/thing_audio.mp4'], 'caption': ['singles/thing/thing_en.srt', 'singles/thing/thing_aen.srt', 'singles/thing/thing_fr.srt'], 'thumbnail': ['singles/thing/thing.jpg']}\n"
     ]
    }
   ],
   "source": [
    "files = get_files(\"singles/thing\", \"thing\", \"none\", options)\n",
    "print(files)"
   ]
  },
  {
   "cell_type": "code",
   "execution_count": 3,
   "metadata": {},
   "outputs": [
    {
     "name": "stdout",
     "output_type": "stream",
     "text": [
      "{'name': 'ASMR Programming - Spinning Donut - No Talking', 'available': True, 'parent_name': '', 'parent_type': 'single', 'path': 'singles/ASMR_Programming_-_Spinning_Donut_-_No_Talking', 'files': {'video': ['singles/ASMR_Programming_-_Spinning_Donut_-_No_Talking/ASMR_Programming_-_Spinning_Donut_-_No_Talking.mp4'], 'audio': ['singles/ASMR_Programming_-_Spinning_Donut_-_No_Talking/ASMR_Programming_-_Spinning_Donut_-_No_Talking_audio.mp4'], 'caption': ['singles/ASMR_Programming_-_Spinning_Donut_-_No_Talking/ASMR_Programming_-_Spinning_Donut_-_No_Talking_en.srt', 'singles/ASMR_Programming_-_Spinning_Donut_-_No_Talking/ASMR_Programming_-_Spinning_Donut_-_No_Talking_aen.srt', 'singles/ASMR_Programming_-_Spinning_Donut_-_No_Talking/ASMR_Programming_-_Spinning_Donut_-_No_Talking_fr.srt'], 'thumbnail': ['singles/ASMR_Programming_-_Spinning_Donut_-_No_Talking/ASMR_Programming_-_Spinning_Donut_-_No_Talking.jpg']}}\n"
     ]
    }
   ],
   "source": [
    "print(get_keys(si, {}, options, {\"singles/ASMR_Programming_-_Spinning_Donut_-_No_Talking\":{}}))"
   ]
  },
  {
   "cell_type": "code",
   "execution_count": 2,
   "metadata": {},
   "outputs": [
    {
     "name": "stdout",
     "output_type": "stream",
     "text": [
      "keys {'name': 'Pepe Prawn', 'children': {'lncfbQJIG_w', 'CLke7vuillA', 'MnwO_RzgR3Q', '6gTnqVhGiGo', '8VPu841BmOs', '3TsDKtWILE4', 'we5jmhiRtTk', '00V2ED3YLwY', 'x2AQp_B-keY', 'o6EA7HHADc4', 'Mz3lzeJ5KmM', '7dV9ez8GjBY', 'ElbUFWwPXB0', '-zjcOUEHLQ0', 'd19BawjJPhY', 'LgE9Y5BaIls', 'Pa_HT9vQiLw', 'gDFunZmVMho', 'ZmCp8rvXbdU', 'MHonxVT0RI8'}, 'available': True, 'paths': {'playlists/Pepe_Prawn'}}\n",
      "keys {'name': 'The Always Sunny Podcast', 'children': {'2LnURQ9NaOA', '0CALWTJ1gIs', 'ErF-Um18G0M', 'aE6Ns_odqec', 'acNg26XkfFo', 'HCIQ_zocZnU', '4f2lVSYgzjo', '0C-n4c8B6_o', 'rJd98ahZPmE', 'VIORhtcxlqM', 'se5scESKZqE', 'h97oKaQSX-M', 'JRbATxvD_mo', 'HtbtEEOHmNY', 'mJntfYZUlWg', 'FtA5iRT4pQk', 'bsNInoJpOVA', 'xviPQ07WfXI', 'uye6OptPmps', 'E6UQEuk7wEA', 'V3o4ijDFjA8', 'fjCHw_ttEXY', 'm1o-iY70QZQ', 'UaddC6h5yPk', '9Nh4hRaLgec', 'OK9L6xSN24Y', 'w-0GrZZS8TY', 'ZSrQfCz0NnQ', 'oDGtZtZsAdY', 'C7ON-LSl54g', '-dO1yFFZu8w', 'iWxaqTRKi2s', 'NxOJSgQ-ANA', 'sztaSIwdvWc', 'w297cLhK_Zo', 'yPM0zueqXK0', 'nlsvIiGOQT0', 'jTBO_K_zeR0', 'g43FW-1CEQo', 'gmLD0gYDI50', 'qFH8ONJQu5I', 'jppA5NDk364', 'IL9QLCe2xxo', 'x2ALxWntGw4', 'px2ch3R7Xtc', 'kL9gJmtanfs', 'VpvSiTKMTrE', '9C-pfRJSUek', 'Gyy2vXixdKw', 'W4NVPRKqrN4', 'km1Hxg-v9ws', 'wlPrSuBvwQo', 'rKurm9SqXAw', '69cjUN4x3wA', 'Mmqjueb9bGw'}, 'available': True, 'paths': {'channels/The_Always_Sunny_Podcast'}}\n",
      "keys {'name': 'ASMR Programming - Spinning Donut - No Talking', 'available': True, 'parent_name': '', 'parent_type': 'single', 'files': {'singles/ASMR_Programming_-_Spinning_Donut_-_No_Talking/ASMR_Programming_-_Spinning_Donut_-_No_Talking.srt', 'singles/ASMR_Programming_-_Spinning_Donut_-_No_Talking/ASMR_Programming_-_Spinning_Donut_-_No_Talking.mp4', 'singles/ASMR_Programming_-_Spinning_Donut_-_No_Talking/ASMR_Programming_-_Spinning_Donut_-_No_Talking.jpg', 'singles/ASMR_Programming_-_Spinning_Donut_-_No_Talking/ASMR_Programming_-_Spinning_Donut_-_No_Talking_audio.mp4'}}\n"
     ]
    }
   ],
   "source": [
    "# for link in all_links:\n",
    "#     print(\"link:\", link)\n",
    "#     print(\"link type\", link_type(link))\n",
    "#     print(\"link id\", link_id(link))\n",
    "#     yt = get_pytube(link)\n",
    "#     yt_string = yt_to_type_string(yt)\n",
    "#     print(\"metadata\", get_metadata(yt))\n",
    "for link in all_links:\n",
    "    print(\"keys\", get_keys(get_pytube(link), {}, {\"dl_audio\":True, \"dl_video\": True, \"dl_captions\": True, \"dl_thumbnail\":True}, {}))"
   ]
  }
 ],
 "metadata": {
  "interpreter": {
   "hash": "7f9ff59c3162761adf13ed323d56ee47dd50a44e9106b8fbfbd1d7db36ca348c"
  },
  "kernelspec": {
   "display_name": "Python 3.9.6 ('youmirror-1iwEkUPf-py3.9')",
   "language": "python",
   "name": "python3"
  },
  "language_info": {
   "codemirror_mode": {
    "name": "ipython",
    "version": 3
   },
   "file_extension": ".py",
   "mimetype": "text/x-python",
   "name": "python",
   "nbconvert_exporter": "python",
   "pygments_lexer": "ipython3",
   "version": "3.9.12"
  },
  "orig_nbformat": 4
 },
 "nbformat": 4,
 "nbformat_minor": 2
}
