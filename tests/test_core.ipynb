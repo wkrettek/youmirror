{
 "cells": [
  {
   "cell_type": "markdown",
   "metadata": {},
   "source": [
    "### Testing the core"
   ]
  },
  {
   "cell_type": "code",
   "execution_count": 1,
   "metadata": {},
   "outputs": [],
   "source": [
    "# Import and create\n",
    "import logging\n",
    "import time\n",
    "from pytube import Channel, Playlist, YouTube\n",
    "from youmirror.core import YouMirror\n",
    "ym = YouMirror()\n",
    "all_links = {\"playlist\":\"https://www.youtube.com/playlist?list=PLD0D54219E5F2544D\", \"channel\":\"https://www.youtube.com/c/TheAlwaysSunnyPodcast\", \"single\":\"https://www.youtube.com/watch?v=rj7DOPPTkQA\"}\n",
    "\n",
    "pl = Playlist(\"https://www.youtube.com/playlist?list=PLD0D54219E5F2544D\")\n",
    "ch = Channel(\"https://www.youtube.com/c/TheAlwaysSunnyPodcast\")\n",
    "si = YouTube(\"https://www.youtube.com/watch?v=rj7DOPPTkQA\")\n",
    "all_types = [pl, ch, si]"
   ]
  },
  {
   "cell_type": "markdown",
   "metadata": {},
   "source": [
    "new()"
   ]
  },
  {
   "cell_type": "code",
   "execution_count": 2,
   "metadata": {},
   "outputs": [],
   "source": [
    "ym.new(\"testmirror\")"
   ]
  },
  {
   "cell_type": "markdown",
   "metadata": {},
   "source": [
    "add()"
   ]
  },
  {
   "cell_type": "code",
   "execution_count": 3,
   "metadata": {},
   "outputs": [
    {
     "name": "stderr",
     "output_type": "stream",
     "text": [
      "ERROR:root:'playlist' is not a valid url\n",
      "ERROR:root:'playlist' is not a valid url\n",
      "ERROR:root:Failed to parse Youtube link due to None\n",
      "Traceback (most recent call last):\n",
      "  File \"/home/user/Desktop/playground/youmirror/tests/youmirror/parser.py\", line 78, in get_pytube\n",
      "    object = wrap_url(url, objects[url_type])   # Wrap the url in the proper pytube object\n",
      "KeyError: None\n",
      "ERROR:root:Failed to get id for None\n",
      "ERROR:root:Failed to get name for None\n",
      "ERROR:root:Failed to get url for None\n",
      "ERROR:root:Object <class 'NoneType'> is not a valid yt_type\n",
      "ERROR:root:Invalid youtube type None\n",
      "INFO:root:Adding None to the mirror\n"
     ]
    },
    {
     "name": "stdout",
     "output_type": "stream",
     "text": [
      "Active options: {'filetree': 'wide', 'resolution': 'best', 'dry_run': False, 'dl_video': True, 'dl_captions': False, 'dl_audio': False, 'dl_thumbnail': False, 'captions': ['en', 'a.en'], 'name': 'testmirror', 'default_resolution': 'best', 'created_at': '2022-04-15'}\n"
     ]
    },
    {
     "ename": "KeyError",
     "evalue": "None",
     "output_type": "error",
     "traceback": [
      "\u001b[0;31m---------------------------------------------------------------------------\u001b[0m",
      "\u001b[0;31mKeyError\u001b[0m                                  Traceback (most recent call last)",
      "Input \u001b[0;32mIn [3]\u001b[0m, in \u001b[0;36m<cell line: 1>\u001b[0;34m()\u001b[0m\n\u001b[1;32m      1\u001b[0m \u001b[39mfor\u001b[39;00m link \u001b[39min\u001b[39;00m all_links:\n\u001b[0;32m----> 2\u001b[0m     ym\u001b[39m.\u001b[39;49madd(link, root\u001b[39m=\u001b[39;49m\u001b[39m\"\u001b[39;49m\u001b[39mtestmirror\u001b[39;49m\u001b[39m\"\u001b[39;49m)\n",
      "File \u001b[0;32m~/Desktop/playground/youmirror/tests/youmirror/core.py:104\u001b[0m, in \u001b[0;36mYouMirror.add\u001b[0;34m(self, url, root, **kwargs)\u001b[0m\n\u001b[1;32m    <a href='file:///home/user/Desktop/playground/youmirror/tests/youmirror/core.py?line=101'>102</a>\u001b[0m \u001b[39melse\u001b[39;00m:\n\u001b[1;32m    <a href='file:///home/user/Desktop/playground/youmirror/tests/youmirror/core.py?line=102'>103</a>\u001b[0m     logging\u001b[39m.\u001b[39minfo(\u001b[39mf\u001b[39m\u001b[39m\"\u001b[39m\u001b[39mAdding \u001b[39m\u001b[39m{\u001b[39;00murl\u001b[39m}\u001b[39;00m\u001b[39m to the mirror\u001b[39m\u001b[39m\"\u001b[39m)\n\u001b[0;32m--> <a href='file:///home/user/Desktop/playground/youmirror/tests/youmirror/core.py?line=103'>104</a>\u001b[0m     \u001b[39mself\u001b[39;49m\u001b[39m.\u001b[39;49mconfig[yt_string][\u001b[39mid\u001b[39m] \u001b[39m=\u001b[39m specs                  \u001b[39m# For testing we do this\u001b[39;00m\n\u001b[1;32m    <a href='file:///home/user/Desktop/playground/youmirror/tests/youmirror/core.py?line=104'>105</a>\u001b[0m     \u001b[39m# configurer.add_yt(yt_string, id, self.config, specs)       # Add the url to the config\u001b[39;00m\n\u001b[1;32m    <a href='file:///home/user/Desktop/playground/youmirror/tests/youmirror/core.py?line=105'>106</a>\u001b[0m     to_add\u001b[39m.\u001b[39mappend(yt)                                            \u001b[39m# Mark it for adding\u001b[39;00m\n",
      "\u001b[0;31mKeyError\u001b[0m: None"
     ]
    }
   ],
   "source": [
    "\n",
    "for link in all_links.values():\n",
    "    ym.add(link, root=\"testmirror\")"
   ]
  },
  {
   "cell_type": "code",
   "execution_count": null,
   "metadata": {},
   "outputs": [],
   "source": [
    "# %rm -rf testmirror"
   ]
  },
  {
   "cell_type": "code",
   "execution_count": null,
   "metadata": {},
   "outputs": [],
   "source": []
  }
 ],
 "metadata": {
  "interpreter": {
   "hash": "e004316eaf75f6b78db9dc7631215e8c72c4833232d7b160ec6af4e63c863a93"
  },
  "kernelspec": {
   "display_name": "Python ('memery')",
   "language": "python",
   "name": "python3"
  },
  "language_info": {
   "codemirror_mode": {
    "name": "ipython",
    "version": 3
   },
   "file_extension": ".py",
   "mimetype": "text/x-python",
   "name": "python",
   "nbconvert_exporter": "python",
   "pygments_lexer": "ipython3",
   "version": "3.9.6"
  },
  "orig_nbformat": 4
 },
 "nbformat": 4,
 "nbformat_minor": 2
}
