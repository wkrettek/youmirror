{
 "cells": [
  {
   "cell_type": "markdown",
   "metadata": {},
   "source": [
    "### Testing the core"
   ]
  },
  {
   "cell_type": "code",
   "execution_count": 1,
   "metadata": {},
   "outputs": [],
   "source": [
    "# Import and create\n",
    "import logging\n",
    "import time\n",
    "from pytube import Channel, Playlist, YouTube\n",
    "from youmirror.core import YouMirror\n",
    "ym = YouMirror()"
   ]
  },
  {
   "cell_type": "markdown",
   "metadata": {},
   "source": [
    "new()"
   ]
  },
  {
   "cell_type": "code",
   "execution_count": 2,
   "metadata": {},
   "outputs": [
    {
     "name": "stderr",
     "output_type": "stream",
     "text": [
      "INFO:root:Creating database 'testmirror/youmirror.db'\n"
     ]
    }
   ],
   "source": [
    "ym.new(\"testmirror\")"
   ]
  },
  {
   "cell_type": "markdown",
   "metadata": {},
   "source": [
    "add()"
   ]
  },
  {
   "cell_type": "code",
   "execution_count": 3,
   "metadata": {},
   "outputs": [
    {
     "name": "stderr",
     "output_type": "stream",
     "text": [
      "ERROR:root:Invalid youtube type /channel/UC-9-kyTW8ZkZNDHQJ6FgpwQ\n",
      "INFO:root:Adding http://www.youtube.com/channel/UC-9-kyTW8ZkZNDHQJ6FgpwQ to the mirror\n"
     ]
    },
    {
     "ename": "AttributeError",
     "evalue": "module 'youmirror.configurer' has no attribute 'add_item'",
     "output_type": "error",
     "traceback": [
      "\u001b[0;31m---------------------------------------------------------------------------\u001b[0m",
      "\u001b[0;31mAttributeError\u001b[0m                            Traceback (most recent call last)",
      "\u001b[1;32m/Users/warrenkrettek/Documents/projects/youmirror/tests/test_core.ipynb Cell 6'\u001b[0m in \u001b[0;36m<cell line: 1>\u001b[0;34m()\u001b[0m\n\u001b[0;32m----> <a href='vscode-notebook-cell:/Users/warrenkrettek/Documents/projects/youmirror/tests/test_core.ipynb#ch0000004?line=0'>1</a>\u001b[0m ym\u001b[39m.\u001b[39;49madd(\u001b[39m\"\u001b[39;49m\u001b[39mhttps://www.youtube.com/channel/UC-9-kyTW8ZkZNDHQJ6FgpwQ\u001b[39;49m\u001b[39m\"\u001b[39;49m, root\u001b[39m=\u001b[39;49m\u001b[39m\"\u001b[39;49m\u001b[39mtestmirror\u001b[39;49m\u001b[39m\"\u001b[39;49m)\n",
      "File \u001b[0;32m~/Documents/projects/youmirror/tests/youmirror/core.py:134\u001b[0m, in \u001b[0;36mYouMirror.add\u001b[0;34m(self, url, root, **kwargs)\u001b[0m\n\u001b[1;32m    <a href='file:///Users/warrenkrettek/Documents/projects/youmirror/tests/youmirror/core.py?line=131'>132</a>\u001b[0m \u001b[39melse\u001b[39;00m:\n\u001b[1;32m    <a href='file:///Users/warrenkrettek/Documents/projects/youmirror/tests/youmirror/core.py?line=132'>133</a>\u001b[0m     logging\u001b[39m.\u001b[39minfo(\u001b[39mf\u001b[39m\u001b[39m\"\u001b[39m\u001b[39mAdding \u001b[39m\u001b[39m{\u001b[39;00murl\u001b[39m}\u001b[39;00m\u001b[39m to the mirror\u001b[39m\u001b[39m\"\u001b[39m)\n\u001b[0;32m--> <a href='file:///Users/warrenkrettek/Documents/projects/youmirror/tests/youmirror/core.py?line=133'>134</a>\u001b[0m     configurer\u001b[39m.\u001b[39;49madd_item(\u001b[39mid\u001b[39m, specs, \u001b[39mself\u001b[39m\u001b[39m.\u001b[39mconfig)            \u001b[39m# Add the url to the config\u001b[39;00m\n\u001b[1;32m    <a href='file:///Users/warrenkrettek/Documents/projects/youmirror/tests/youmirror/core.py?line=134'>135</a>\u001b[0m     to_add\u001b[39m.\u001b[39mappend(yt)                                      \u001b[39m# Mark it for adding\u001b[39;00m\n\u001b[1;32m    <a href='file:///Users/warrenkrettek/Documents/projects/youmirror/tests/youmirror/core.py?line=136'>137</a>\u001b[0m \u001b[39m# Open the database tables\u001b[39;00m\n",
      "\u001b[0;31mAttributeError\u001b[0m: module 'youmirror.configurer' has no attribute 'add_item'"
     ]
    }
   ],
   "source": [
    "ym.add(\"https://www.youtube.com/channel/UC-9-kyTW8ZkZNDHQJ6FgpwQ\", root=\"testmirror\")"
   ]
  }
 ],
 "metadata": {
  "interpreter": {
   "hash": "e004316eaf75f6b78db9dc7631215e8c72c4833232d7b160ec6af4e63c863a93"
  },
  "kernelspec": {
   "display_name": "Python ('memery')",
   "language": "python",
   "name": "python3"
  },
  "language_info": {
   "codemirror_mode": {
    "name": "ipython",
    "version": 3
   },
   "file_extension": ".py",
   "mimetype": "text/x-python",
   "name": "python",
   "nbconvert_exporter": "python",
   "pygments_lexer": "ipython3",
   "version": "3.9.12"
  },
  "orig_nbformat": 4
 },
 "nbformat": 4,
 "nbformat_minor": 2
}
