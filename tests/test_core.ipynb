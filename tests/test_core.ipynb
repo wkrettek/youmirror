{
 "cells": [
  {
   "cell_type": "markdown",
   "metadata": {},
   "source": [
    "### Testing the core"
   ]
  },
  {
   "cell_type": "code",
   "execution_count": 1,
   "metadata": {},
   "outputs": [],
   "source": [
    "# Import and create\n",
    "import logging\n",
    "import time\n",
    "from pytube import Channel, Playlist, YouTube\n",
    "from youmirror.core import YouMirror\n",
    "ym = YouMirror()"
   ]
  },
  {
   "cell_type": "markdown",
   "metadata": {},
   "source": [
    "new()"
   ]
  },
  {
   "cell_type": "code",
   "execution_count": 2,
   "metadata": {},
   "outputs": [
    {
     "name": "stderr",
     "output_type": "stream",
     "text": [
      "INFO:root:Creating new mirror directory 'testmirror'\n",
      "INFO:root:Creating config file 'testmirror/youmirror.toml'\n",
      "INFO:root:Creating database 'testmirror/youmirror.db'\n"
     ]
    },
    {
     "name": "stdout",
     "output_type": "stream",
     "text": [
      "New config: \n",
      "[youmirror]\n",
      "name = \"testmirror\"\n",
      "default_resolution = \"best\"\n",
      "created_at = \"2022-04-14\"\n",
      "\n",
      "[channels]\n",
      "\n",
      "[playlists]\n",
      "\n",
      "[singles]\n",
      "\n"
     ]
    }
   ],
   "source": [
    "ym.new(\"testmirror\")"
   ]
  },
  {
   "cell_type": "markdown",
   "metadata": {},
   "source": [
    "add()"
   ]
  },
  {
   "cell_type": "code",
   "execution_count": 5,
   "metadata": {},
   "outputs": [
    {
     "ename": "AttributeError",
     "evalue": "module 'youmirror.helper' has no attribute 'verify_config'",
     "output_type": "error",
     "traceback": [
      "\u001b[0;31m---------------------------------------------------------------------------\u001b[0m",
      "\u001b[0;31mAttributeError\u001b[0m                            Traceback (most recent call last)",
      "\u001b[1;32m/home/user/Desktop/playground/youmirror/tests/test_core.ipynb Cell 6'\u001b[0m in \u001b[0;36m<cell line: 1>\u001b[0;34m()\u001b[0m\n\u001b[0;32m----> <a href='vscode-notebook-cell:/home/user/Desktop/playground/youmirror/tests/test_core.ipynb#ch0000005?line=0'>1</a>\u001b[0m ym\u001b[39m.\u001b[39;49madd(\u001b[39m\"\u001b[39;49m\u001b[39mhttps://www.youtube.com/channel/UC-9-kyTW8ZkZNDHQJ6FgpwQ\u001b[39;49m\u001b[39m\"\u001b[39;49m, root\u001b[39m=\u001b[39;49m\u001b[39m\"\u001b[39;49m\u001b[39mtestmirror\u001b[39;49m\u001b[39m\"\u001b[39;49m)\n",
      "File \u001b[0;32m~/Desktop/playground/youmirror/tests/youmirror/core.py:100\u001b[0m, in \u001b[0;36mYouMirror.add\u001b[0;34m(self, url, root, **kwargs)\u001b[0m\n\u001b[1;32m     <a href='file:///home/user/Desktop/playground/youmirror/tests/youmirror/core.py?line=97'>98</a>\u001b[0m config_path \u001b[39m=\u001b[39m helper\u001b[39m.\u001b[39mget_path(root, \u001b[39mself\u001b[39m\u001b[39m.\u001b[39mconfig_file)   \u001b[39m# Get the config file & ensure it exists\u001b[39;00m\n\u001b[1;32m     <a href='file:///home/user/Desktop/playground/youmirror/tests/youmirror/core.py?line=98'>99</a>\u001b[0m db_path \u001b[39m=\u001b[39m helper\u001b[39m.\u001b[39mget_path(root, \u001b[39mself\u001b[39m\u001b[39m.\u001b[39mdb)                \u001b[39m# Get the db file & ensure it exists\u001b[39;00m\n\u001b[0;32m--> <a href='file:///home/user/Desktop/playground/youmirror/tests/youmirror/core.py?line=99'>100</a>\u001b[0m \u001b[39mif\u001b[39;00m \u001b[39mnot\u001b[39;00m helper\u001b[39m.\u001b[39;49mverify_config(config_path):               \u001b[39m# Verify the config file   \u001b[39;00m\n\u001b[1;32m    <a href='file:///home/user/Desktop/playground/youmirror/tests/youmirror/core.py?line=100'>101</a>\u001b[0m     logging\u001b[39m.\u001b[39merror(\u001b[39mf\u001b[39m\u001b[39m'\u001b[39m\u001b[39mCould not find config file in root directory \u001b[39m\u001b[39m\\'\u001b[39;00m\u001b[39m{\u001b[39;00mpath\u001b[39m}\u001b[39;00m\u001b[39m\\'\u001b[39;00m\u001b[39m'\u001b[39m)\n\u001b[1;32m    <a href='file:///home/user/Desktop/playground/youmirror/tests/youmirror/core.py?line=101'>102</a>\u001b[0m     \u001b[39mreturn\u001b[39;00m\n",
      "\u001b[0;31mAttributeError\u001b[0m: module 'youmirror.helper' has no attribute 'verify_config'"
     ]
    }
   ],
   "source": [
    "ym.add(\"https://www.youtube.com/channel/UC-9-kyTW8ZkZNDHQJ6FgpwQ\", root=\"testmirror\")"
   ]
  }
 ],
 "metadata": {
  "interpreter": {
   "hash": "e004316eaf75f6b78db9dc7631215e8c72c4833232d7b160ec6af4e63c863a93"
  },
  "kernelspec": {
   "display_name": "Python ('memery')",
   "language": "python",
   "name": "python3"
  },
  "language_info": {
   "codemirror_mode": {
    "name": "ipython",
    "version": 3
   },
   "file_extension": ".py",
   "mimetype": "text/x-python",
   "name": "python",
   "nbconvert_exporter": "python",
   "pygments_lexer": "ipython3",
   "version": "3.9.6"
  },
  "orig_nbformat": 4
 },
 "nbformat": 4,
 "nbformat_minor": 2
}
