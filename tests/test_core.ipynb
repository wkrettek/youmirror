{
 "cells": [
  {
   "cell_type": "markdown",
   "metadata": {},
   "source": [
    "### Testing the core"
   ]
  },
  {
   "cell_type": "code",
   "execution_count": null,
   "metadata": {},
   "outputs": [],
   "source": [
    "# Import and create\n",
    "import logging\n",
    "import time\n",
    "from pytube import Channel, Playlist, YouTube\n",
    "from youmirror.core import YouMirror\n",
    "ym = YouMirror()\n",
    "all_links = {\"playlist\":\"https://www.youtube.com/playlist?list=PLD0D54219E5F2544D\", \"channel\":\"https://www.youtube.com/c/TheAlwaysSunnyPodcast\", \"single\":\"https://www.youtube.com/watch?v=rj7DOPPTkQA\"}\n",
    "\n",
    "pl = Playlist(\"https://www.youtube.com/playlist?list=PLD0D54219E5F2544D\")\n",
    "ch = Channel(\"https://www.youtube.com/c/TheAlwaysSunnyPodcast\")\n",
    "si = YouTube(\"https://www.youtube.com/watch?v=rj7DOPPTkQA\")\n",
    "all_types = [pl, ch, si]"
   ]
  },
  {
   "cell_type": "markdown",
   "metadata": {},
   "source": [
    "new()"
   ]
  },
  {
   "cell_type": "code",
   "execution_count": null,
   "metadata": {},
   "outputs": [],
   "source": [
    "ym.new(\"testmirror\")"
   ]
  },
  {
   "cell_type": "markdown",
   "metadata": {},
   "source": [
    "add()"
   ]
  },
  {
   "cell_type": "code",
   "execution_count": null,
   "metadata": {},
   "outputs": [],
   "source": [
    "\n",
    "for link in all_links.values():\n",
    "    ym.add(link, root=\"testmirror\")"
   ]
  },
  {
   "cell_type": "code",
   "execution_count": null,
   "metadata": {},
   "outputs": [],
   "source": [
    "# %rm -rf testmirror"
   ]
  },
  {
   "cell_type": "code",
   "execution_count": null,
   "metadata": {},
   "outputs": [],
   "source": []
  }
 ],
 "metadata": {
  "interpreter": {
   "hash": "e004316eaf75f6b78db9dc7631215e8c72c4833232d7b160ec6af4e63c863a93"
  },
  "kernelspec": {
   "display_name": "Python ('memery')",
   "language": "python",
   "name": "python3"
  },
  "language_info": {
   "codemirror_mode": {
    "name": "ipython",
    "version": 3
   },
   "file_extension": ".py",
   "mimetype": "text/x-python",
   "name": "python",
   "nbconvert_exporter": "python",
   "pygments_lexer": "ipython3"
  }
 },
 "nbformat": 4,
 "nbformat_minor": 2
}
