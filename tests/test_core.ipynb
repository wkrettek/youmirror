{
 "cells": [
  {
   "cell_type": "markdown",
   "metadata": {},
   "source": [
    "### Testing the core"
   ]
  },
  {
   "cell_type": "code",
   "execution_count": 1,
   "metadata": {},
   "outputs": [],
   "source": [
    "# Import and create\n",
    "import logging\n",
    "import time\n",
    "from pytube import Channel, Playlist, YouTube\n",
    "from youmirror.core import YouMirror\n",
    "ym = YouMirror()\n",
    "\n",
    "pl = Playlist(\"https://www.youtube.com/playlist?list=PLD0D54219E5F2544D\")\n",
    "ch = Channel(\"https://www.youtube.com/c/JacobSorber\")\n",
    "si = YouTube(\"https://www.youtube.com/watch?v=rj7DOPPTkQA\")\n",
    "all_types = [pl, ch, si]"
   ]
  },
  {
   "cell_type": "markdown",
   "metadata": {},
   "source": [
    "new()"
   ]
  },
  {
   "cell_type": "code",
   "execution_count": 2,
   "metadata": {},
   "outputs": [],
   "source": [
    "ym.new(\"testmirror\")"
   ]
  },
  {
   "cell_type": "markdown",
   "metadata": {},
   "source": [
    "add()"
   ]
  },
  {
   "cell_type": "code",
   "execution_count": 3,
   "metadata": {},
   "outputs": [
    {
     "name": "stdout",
     "output_type": "stream",
     "text": [
      "Active options: {'filetree': 'wide', 'resolution': 'best', 'dry_run': False, 'dl_video': True, 'dl_captions': False, 'dl_audio': False, 'dl_thumbnail': False, 'captions': ['en', 'a.en'], 'name': 'testmirror', 'default_resolution': 'best', 'created_at': '2022-04-14'}\n"
     ]
    },
    {
     "name": "stderr",
     "output_type": "stream",
     "text": [
      "INFO:root:Adding https://www.youtube.com/playlist?list=PLD0D54219E5F2544D to the mirror\n",
      "INFO:sqlitedict:opening Sqlite table 'channels' in PosixPath('testmirror/youmirror.db')\n",
      "INFO:sqlitedict:opening Sqlite table 'playlists' in PosixPath('testmirror/youmirror.db')\n",
      "INFO:sqlitedict:opening Sqlite table 'singles' in PosixPath('testmirror/youmirror.db')\n",
      "INFO:sqlitedict:opening Sqlite table 'filetree' in PosixPath('testmirror/youmirror.db')\n",
      "INFO:root:Adding https://www.youtube.com/playlist?list=PLD0D54219E5F2544D to the database\n"
     ]
    },
    {
     "name": "stdout",
     "output_type": "stream",
     "text": [
      "Keys: {'name': 'C++ GUI with Qt Playlist', 'children': {'aMUh9DmFLto', 'kg98E06wm1I', 'HgyocPuO1Hk', 'mn4t2tqncoA', '7ZuSs27tQPA', 'HiOOWDb4YjE', 'ufnA4UOKAFE', 'DUeMzXc2V_Q', 'pQHFqp0NK4E', '-A5S9ka5H9A', 'HnuY7NhzLGM', 'CRVwBNkn63s', '6GyrKryOVJY', 'swZNOKKkQiw'}, 'available': True, 'paths': {'videos/playlists/C++ GUI with Qt Playlist'}}\n"
     ]
    },
    {
     "ename": "TypeError",
     "evalue": "'set' object is not subscriptable",
     "output_type": "error",
     "traceback": [
      "\u001b[0;31m---------------------------------------------------------------------------\u001b[0m",
      "\u001b[0;31mTypeError\u001b[0m                                 Traceback (most recent call last)",
      "\u001b[1;32m/Users/warrenkrettek/Documents/projects/youmirror/tests/test_core.ipynb Cell 6'\u001b[0m in \u001b[0;36m<cell line: 2>\u001b[0;34m()\u001b[0m\n\u001b[1;32m      <a href='vscode-notebook-cell:/Users/warrenkrettek/Documents/projects/youmirror/tests/test_core.ipynb#ch0000005?line=0'>1</a>\u001b[0m all_links \u001b[39m=\u001b[39m [\u001b[39m\"\u001b[39m\u001b[39mhttps://www.youtube.com/playlist?list=PLD0D54219E5F2544D\u001b[39m\u001b[39m\"\u001b[39m, \u001b[39m\"\u001b[39m\u001b[39mhttps://www.youtube.com/c/JacobSorber\u001b[39m\u001b[39m\"\u001b[39m, \u001b[39m\"\u001b[39m\u001b[39mhttps://www.youtube.com/watch?v=rj7DOPPTkQA\u001b[39m\u001b[39m\"\u001b[39m]\n\u001b[1;32m      <a href='vscode-notebook-cell:/Users/warrenkrettek/Documents/projects/youmirror/tests/test_core.ipynb#ch0000005?line=1'>2</a>\u001b[0m \u001b[39mfor\u001b[39;00m link \u001b[39min\u001b[39;00m all_links:\n\u001b[0;32m----> <a href='vscode-notebook-cell:/Users/warrenkrettek/Documents/projects/youmirror/tests/test_core.ipynb#ch0000005?line=2'>3</a>\u001b[0m     ym\u001b[39m.\u001b[39;49madd(link, root\u001b[39m=\u001b[39;49m\u001b[39m\"\u001b[39;49m\u001b[39mtestmirror\u001b[39;49m\u001b[39m\"\u001b[39;49m)\n",
      "File \u001b[0;32m~/Documents/projects/youmirror/tests/youmirror/core.py:132\u001b[0m, in \u001b[0;36mYouMirror.add\u001b[0;34m(self, url, root, **kwargs)\u001b[0m\n\u001b[1;32m    <a href='file:///Users/warrenkrettek/Documents/projects/youmirror/tests/youmirror/core.py?line=128'>129</a>\u001b[0m         logging\u001b[39m.\u001b[39minfo(\u001b[39mf\u001b[39m\u001b[39m\"\u001b[39m\u001b[39mAdding \u001b[39m\u001b[39m{\u001b[39;00mfile\u001b[39m}\u001b[39;00m\u001b[39m to the database\u001b[39m\u001b[39m\"\u001b[39m)\n\u001b[1;32m    <a href='file:///Users/warrenkrettek/Documents/projects/youmirror/tests/youmirror/core.py?line=130'>131</a>\u001b[0m \u001b[39mif\u001b[39;00m \u001b[39m\"\u001b[39m\u001b[39mchildren\u001b[39m\u001b[39m\"\u001b[39m \u001b[39min\u001b[39;00m keys:                              \u001b[39m# If any children appeared when we got keys\u001b[39;00m\n\u001b[0;32m--> <a href='file:///Users/warrenkrettek/Documents/projects/youmirror/tests/youmirror/core.py?line=131'>132</a>\u001b[0m     item_path \u001b[39m=\u001b[39m keys[\u001b[39m\"\u001b[39;49m\u001b[39mpaths\u001b[39;49m\u001b[39m\"\u001b[39;49m][\u001b[39m0\u001b[39;49m]                 \u001b[39m# Get the calculated path from the keys\u001b[39;00m\n\u001b[1;32m    <a href='file:///Users/warrenkrettek/Documents/projects/youmirror/tests/youmirror/core.py?line=132'>133</a>\u001b[0m     item_path \u001b[39m=\u001b[39m item_path\u001b[39m.\u001b[39msplit(\u001b[39m\"\u001b[39m\u001b[39m/\u001b[39m\u001b[39m\"\u001b[39m)[\u001b[39m1\u001b[39m:]            \u001b[39m# Split the first bit off\u001b[39;00m\n\u001b[1;32m    <a href='file:///Users/warrenkrettek/Documents/projects/youmirror/tests/youmirror/core.py?line=133'>134</a>\u001b[0m     filetree_table[item_path] \u001b[39m=\u001b[39m {\u001b[39m\"\u001b[39m\u001b[39mtype\u001b[39m\u001b[39m\"\u001b[39m: \u001b[39m\"\u001b[39m\u001b[39mpath\u001b[39m\u001b[39m\"\u001b[39m}    \u001b[39m# Record the path in the filetree table\u001b[39;00m\n",
      "\u001b[0;31mTypeError\u001b[0m: 'set' object is not subscriptable"
     ]
    }
   ],
   "source": [
    "all_links = [\"https://www.youtube.com/playlist?list=PLD0D54219E5F2544D\", \"https://www.youtube.com/c/JacobSorber\", \"https://www.youtube.com/watch?v=rj7DOPPTkQA\"]\n",
    "for link in all_links:\n",
    "    ym.add(link, root=\"testmirror\")"
   ]
  },
  {
   "cell_type": "code",
   "execution_count": null,
   "metadata": {},
   "outputs": [],
   "source": [
    "%rm -rf testmirror"
   ]
  },
  {
   "cell_type": "code",
   "execution_count": null,
   "metadata": {},
   "outputs": [],
   "source": []
  }
 ],
 "metadata": {
  "interpreter": {
   "hash": "e004316eaf75f6b78db9dc7631215e8c72c4833232d7b160ec6af4e63c863a93"
  },
  "kernelspec": {
   "display_name": "Python ('memery')",
   "language": "python",
   "name": "python3"
  },
  "language_info": {
   "codemirror_mode": {
    "name": "ipython",
    "version": 3
   },
   "file_extension": ".py",
   "mimetype": "text/x-python",
   "name": "python",
   "nbconvert_exporter": "python",
   "pygments_lexer": "ipython3",
   "version": "3.9.6"
  },
  "orig_nbformat": 4
 },
 "nbformat": 4,
 "nbformat_minor": 2
}
