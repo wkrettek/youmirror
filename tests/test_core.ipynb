{
 "cells": [
  {
   "cell_type": "markdown",
   "metadata": {},
   "source": [
    "### Testing the core"
   ]
  },
  {
   "cell_type": "code",
   "execution_count": 1,
   "metadata": {},
   "outputs": [],
   "source": [
    "# Import and create\n",
    "import logging\n",
    "import time\n",
    "from pytube import Channel, Playlist, YouTube\n",
    "from youmirror.core import YouMirror\n",
    "ym = YouMirror()\n",
    "\n",
    "pl = Playlist(\"https://www.youtube.com/playlist?list=PLD0D54219E5F2544D\")\n",
    "ch = Channel(\"https://www.youtube.com/c/JacobSorber\")\n",
    "si = YouTube(\"https://www.youtube.com/watch?v=rj7DOPPTkQA\")\n",
    "all_types = [pl, ch, si]"
   ]
  },
  {
   "cell_type": "markdown",
   "metadata": {},
   "source": [
    "new()"
   ]
  },
  {
   "cell_type": "code",
   "execution_count": 2,
   "metadata": {},
   "outputs": [],
   "source": [
    "ym.new(\"testmirror\")"
   ]
  },
  {
   "cell_type": "markdown",
   "metadata": {},
   "source": [
    "add()"
   ]
  },
  {
   "cell_type": "code",
   "execution_count": 3,
   "metadata": {},
   "outputs": [
    {
     "name": "stdout",
     "output_type": "stream",
     "text": [
      "Active options: {'filetree': 'wide', 'resolution': 'best', 'dry_run': False, 'dl_video': True, 'dl_captions': False, 'dl_audio': False, 'dl_thumbnail': False, 'captions': ['en', 'a.en'], 'name': 'testmirror', 'default_resolution': 'best', 'created_at': '2022-04-14'}\n"
     ]
    },
    {
     "name": "stderr",
     "output_type": "stream",
     "text": [
      "INFO:root:Adding https://www.youtube.com/playlist?list=PLD0D54219E5F2544D to the mirror\n",
      "INFO:sqlitedict:opening Sqlite table 'channels' in PosixPath('testmirror/youmirror.db')\n",
      "INFO:sqlitedict:opening Sqlite table 'playlists' in PosixPath('testmirror/youmirror.db')\n",
      "INFO:sqlitedict:opening Sqlite table 'singles' in PosixPath('testmirror/youmirror.db')\n",
      "INFO:sqlitedict:opening Sqlite table 'filetree' in PosixPath('testmirror/youmirror.db')\n",
      "INFO:root:Adding https://www.youtube.com/playlist?list=PLD0D54219E5F2544D to the database\n"
     ]
    },
    {
     "name": "stdout",
     "output_type": "stream",
     "text": [
      "Keys: {'name': 'C++ GUI with Qt Playlist', 'children': {'CRVwBNkn63s', 'aMUh9DmFLto', 'pQHFqp0NK4E', '6GyrKryOVJY', '-A5S9ka5H9A', 'HnuY7NhzLGM', 'DUeMzXc2V_Q', 'swZNOKKkQiw', 'kg98E06wm1I', '7ZuSs27tQPA', 'ufnA4UOKAFE', 'HiOOWDb4YjE', 'mn4t2tqncoA', 'HgyocPuO1Hk'}, 'available': True, 'paths': {'videos/playlists/C++ GUI with Qt Playlist'}}\n"
     ]
    },
    {
     "name": "stderr",
     "output_type": "stream",
     "text": [
      "INFO:root:Adding https://www.youtube.com/playlist?list=PLD0D54219E5F2544D to the database\n",
      "INFO:root:Adding videos/singles/C++ GUI with Qt Playlist/C++ GUI with Qt Tutorial - 1 - Downloading the Qt SDK.mp4 to the database\n"
     ]
    },
    {
     "name": "stdout",
     "output_type": "stream",
     "text": [
      "Child keys: {'parent_id': 'PLD0D54219E5F2544D', 'parent_name': 'C++ GUI with Qt Playlist', 'path': ['playlists', 'C++ GUI with Qt Playlist'], 'name': 'C++ GUI with Qt Tutorial - 1 - Downloading the Qt SDK', 'available': True, 'files': {'videos/singles/C++ GUI with Qt Playlist/C++ GUI with Qt Tutorial - 1 - Downloading the Qt SDK.mp4'}}\n",
      "Adding child aMUh9DmFLto and {'parent_id': 'PLD0D54219E5F2544D', 'parent_name': 'C++ GUI with Qt Playlist', 'path': ['playlists', 'C++ GUI with Qt Playlist'], 'name': 'C++ GUI with Qt Tutorial - 1 - Downloading the Qt SDK', 'available': True, 'files': {'videos/singles/C++ GUI with Qt Playlist/C++ GUI with Qt Tutorial - 1 - Downloading the Qt SDK.mp4'}} to singles table\n"
     ]
    },
    {
     "name": "stderr",
     "output_type": "stream",
     "text": [
      "INFO:root:Adding https://www.youtube.com/playlist?list=PLD0D54219E5F2544D to the database\n",
      "INFO:root:Adding videos/singles/C++ GUI with Qt Playlist/C++ GUI with Qt Tutorial - 2 - Creating a Simple Project.mp4 to the database\n"
     ]
    },
    {
     "name": "stdout",
     "output_type": "stream",
     "text": [
      "Child keys: {'parent_id': 'PLD0D54219E5F2544D', 'parent_name': 'C++ GUI with Qt Playlist', 'path': ['playlists', 'C++ GUI with Qt Playlist'], 'name': 'C++ GUI with Qt Tutorial - 2 - Creating a Simple Project', 'available': True, 'files': {'videos/singles/C++ GUI with Qt Playlist/C++ GUI with Qt Tutorial - 2 - Creating a Simple Project.mp4'}}\n",
      "Adding child HiOOWDb4YjE and {'parent_id': 'PLD0D54219E5F2544D', 'parent_name': 'C++ GUI with Qt Playlist', 'path': ['playlists', 'C++ GUI with Qt Playlist'], 'name': 'C++ GUI with Qt Tutorial - 2 - Creating a Simple Project', 'available': True, 'files': {'videos/singles/C++ GUI with Qt Playlist/C++ GUI with Qt Tutorial - 2 - Creating a Simple Project.mp4'}} to singles table\n"
     ]
    },
    {
     "name": "stderr",
     "output_type": "stream",
     "text": [
      "INFO:root:Adding https://www.youtube.com/playlist?list=PLD0D54219E5F2544D to the database\n",
      "INFO:root:Adding videos/singles/C++ GUI with Qt Playlist/C++ GUI with Qt Tutorial - 3 - Qt Creator Modes.mp4 to the database\n"
     ]
    },
    {
     "name": "stdout",
     "output_type": "stream",
     "text": [
      "Child keys: {'parent_id': 'PLD0D54219E5F2544D', 'parent_name': 'C++ GUI with Qt Playlist', 'path': ['playlists', 'C++ GUI with Qt Playlist'], 'name': 'C++ GUI with Qt Tutorial - 3 - Qt Creator Modes', 'available': True, 'files': {'videos/singles/C++ GUI with Qt Playlist/C++ GUI with Qt Tutorial - 3 - Qt Creator Modes.mp4'}}\n",
      "Adding child CRVwBNkn63s and {'parent_id': 'PLD0D54219E5F2544D', 'parent_name': 'C++ GUI with Qt Playlist', 'path': ['playlists', 'C++ GUI with Qt Playlist'], 'name': 'C++ GUI with Qt Tutorial - 3 - Qt Creator Modes', 'available': True, 'files': {'videos/singles/C++ GUI with Qt Playlist/C++ GUI with Qt Tutorial - 3 - Qt Creator Modes.mp4'}} to singles table\n"
     ]
    },
    {
     "name": "stderr",
     "output_type": "stream",
     "text": [
      "INFO:root:Adding https://www.youtube.com/playlist?list=PLD0D54219E5F2544D to the database\n",
      "INFO:root:Adding videos/singles/C++ GUI with Qt Playlist/C++ GUI with Qt Tutorial - 4 - Understanding a Basic Qt Application.mp4 to the database\n"
     ]
    },
    {
     "name": "stdout",
     "output_type": "stream",
     "text": [
      "Child keys: {'parent_id': 'PLD0D54219E5F2544D', 'parent_name': 'C++ GUI with Qt Playlist', 'path': ['playlists', 'C++ GUI with Qt Playlist'], 'name': 'C++ GUI with Qt Tutorial - 4 - Understanding a Basic Qt Application', 'available': True, 'files': {'videos/singles/C++ GUI with Qt Playlist/C++ GUI with Qt Tutorial - 4 - Understanding a Basic Qt Application.mp4'}}\n",
      "Adding child HnuY7NhzLGM and {'parent_id': 'PLD0D54219E5F2544D', 'parent_name': 'C++ GUI with Qt Playlist', 'path': ['playlists', 'C++ GUI with Qt Playlist'], 'name': 'C++ GUI with Qt Tutorial - 4 - Understanding a Basic Qt Application', 'available': True, 'files': {'videos/singles/C++ GUI with Qt Playlist/C++ GUI with Qt Tutorial - 4 - Understanding a Basic Qt Application.mp4'}} to singles table\n"
     ]
    },
    {
     "name": "stderr",
     "output_type": "stream",
     "text": [
      "INFO:root:Adding https://www.youtube.com/playlist?list=PLD0D54219E5F2544D to the database\n",
      "INFO:root:Adding videos/singles/C++ GUI with Qt Playlist/C++ GUI with Qt Tutorial - 5 - Differences in Operators.mp4 to the database\n"
     ]
    },
    {
     "name": "stdout",
     "output_type": "stream",
     "text": [
      "Child keys: {'parent_id': 'PLD0D54219E5F2544D', 'parent_name': 'C++ GUI with Qt Playlist', 'path': ['playlists', 'C++ GUI with Qt Playlist'], 'name': 'C++ GUI with Qt Tutorial - 5 - Differences in Operators', 'available': True, 'files': {'videos/singles/C++ GUI with Qt Playlist/C++ GUI with Qt Tutorial - 5 - Differences in Operators.mp4'}}\n",
      "Adding child ufnA4UOKAFE and {'parent_id': 'PLD0D54219E5F2544D', 'parent_name': 'C++ GUI with Qt Playlist', 'path': ['playlists', 'C++ GUI with Qt Playlist'], 'name': 'C++ GUI with Qt Tutorial - 5 - Differences in Operators', 'available': True, 'files': {'videos/singles/C++ GUI with Qt Playlist/C++ GUI with Qt Tutorial - 5 - Differences in Operators.mp4'}} to singles table\n"
     ]
    },
    {
     "name": "stderr",
     "output_type": "stream",
     "text": [
      "INFO:root:Adding https://www.youtube.com/playlist?list=PLD0D54219E5F2544D to the database\n",
      "INFO:root:Adding videos/singles/C++ GUI with Qt Playlist/C++ GUI with Qt Tutorial - 6 - Signals and Slots.mp4 to the database\n"
     ]
    },
    {
     "name": "stdout",
     "output_type": "stream",
     "text": [
      "Child keys: {'parent_id': 'PLD0D54219E5F2544D', 'parent_name': 'C++ GUI with Qt Playlist', 'path': ['playlists', 'C++ GUI with Qt Playlist'], 'name': 'C++ GUI with Qt Tutorial - 6 - Signals and Slots', 'available': True, 'files': {'videos/singles/C++ GUI with Qt Playlist/C++ GUI with Qt Tutorial - 6 - Signals and Slots.mp4'}}\n",
      "Adding child swZNOKKkQiw and {'parent_id': 'PLD0D54219E5F2544D', 'parent_name': 'C++ GUI with Qt Playlist', 'path': ['playlists', 'C++ GUI with Qt Playlist'], 'name': 'C++ GUI with Qt Tutorial - 6 - Signals and Slots', 'available': True, 'files': {'videos/singles/C++ GUI with Qt Playlist/C++ GUI with Qt Tutorial - 6 - Signals and Slots.mp4'}} to singles table\n"
     ]
    },
    {
     "name": "stderr",
     "output_type": "stream",
     "text": [
      "INFO:root:Adding https://www.youtube.com/playlist?list=PLD0D54219E5F2544D to the database\n",
      "INFO:root:Adding videos/singles/C++ GUI with Qt Playlist/C++ GUI with Qt Tutorial - 7 - Spinners and Sliders.mp4 to the database\n"
     ]
    },
    {
     "name": "stdout",
     "output_type": "stream",
     "text": [
      "Child keys: {'parent_id': 'PLD0D54219E5F2544D', 'parent_name': 'C++ GUI with Qt Playlist', 'path': ['playlists', 'C++ GUI with Qt Playlist'], 'name': 'C++ GUI with Qt Tutorial - 7 - Spinners and Sliders', 'available': True, 'files': {'videos/singles/C++ GUI with Qt Playlist/C++ GUI with Qt Tutorial - 7 - Spinners and Sliders.mp4'}}\n",
      "Adding child kg98E06wm1I and {'parent_id': 'PLD0D54219E5F2544D', 'parent_name': 'C++ GUI with Qt Playlist', 'path': ['playlists', 'C++ GUI with Qt Playlist'], 'name': 'C++ GUI with Qt Tutorial - 7 - Spinners and Sliders', 'available': True, 'files': {'videos/singles/C++ GUI with Qt Playlist/C++ GUI with Qt Tutorial - 7 - Spinners and Sliders.mp4'}} to singles table\n"
     ]
    },
    {
     "name": "stderr",
     "output_type": "stream",
     "text": [
      "INFO:root:Adding https://www.youtube.com/playlist?list=PLD0D54219E5F2544D to the database\n",
      "INFO:root:Adding videos/singles/C++ GUI with Qt Playlist/C++ GUI with Qt Tutorial - 8 - Syncing Widgets and Layouts.mp4 to the database\n"
     ]
    },
    {
     "name": "stdout",
     "output_type": "stream",
     "text": [
      "Child keys: {'parent_id': 'PLD0D54219E5F2544D', 'parent_name': 'C++ GUI with Qt Playlist', 'path': ['playlists', 'C++ GUI with Qt Playlist'], 'name': 'C++ GUI with Qt Tutorial - 8 - Syncing Widgets and Layouts', 'available': True, 'files': {'videos/singles/C++ GUI with Qt Playlist/C++ GUI with Qt Tutorial - 8 - Syncing Widgets and Layouts.mp4'}}\n",
      "Adding child 7ZuSs27tQPA and {'parent_id': 'PLD0D54219E5F2544D', 'parent_name': 'C++ GUI with Qt Playlist', 'path': ['playlists', 'C++ GUI with Qt Playlist'], 'name': 'C++ GUI with Qt Tutorial - 8 - Syncing Widgets and Layouts', 'available': True, 'files': {'videos/singles/C++ GUI with Qt Playlist/C++ GUI with Qt Tutorial - 8 - Syncing Widgets and Layouts.mp4'}} to singles table\n"
     ]
    },
    {
     "name": "stderr",
     "output_type": "stream",
     "text": [
      "INFO:root:Adding https://www.youtube.com/playlist?list=PLD0D54219E5F2544D to the database\n",
      "INFO:root:Adding videos/singles/C++ GUI with Qt Playlist/C++ GUI with Qt Tutorial - 9 - Creating a Useful Program.mp4 to the database\n"
     ]
    },
    {
     "name": "stdout",
     "output_type": "stream",
     "text": [
      "Child keys: {'parent_id': 'PLD0D54219E5F2544D', 'parent_name': 'C++ GUI with Qt Playlist', 'path': ['playlists', 'C++ GUI with Qt Playlist'], 'name': 'C++ GUI with Qt Tutorial - 9 - Creating a Useful Program', 'available': True, 'files': {'videos/singles/C++ GUI with Qt Playlist/C++ GUI with Qt Tutorial - 9 - Creating a Useful Program.mp4'}}\n",
      "Adding child HgyocPuO1Hk and {'parent_id': 'PLD0D54219E5F2544D', 'parent_name': 'C++ GUI with Qt Playlist', 'path': ['playlists', 'C++ GUI with Qt Playlist'], 'name': 'C++ GUI with Qt Tutorial - 9 - Creating a Useful Program', 'available': True, 'files': {'videos/singles/C++ GUI with Qt Playlist/C++ GUI with Qt Tutorial - 9 - Creating a Useful Program.mp4'}} to singles table\n"
     ]
    },
    {
     "name": "stderr",
     "output_type": "stream",
     "text": [
      "INFO:root:Adding https://www.youtube.com/playlist?list=PLD0D54219E5F2544D to the database\n",
      "INFO:root:Adding videos/singles/C++ GUI with Qt Playlist/C++ GUI with Qt Tutorial - 10 - Designing the User Interface.mp4 to the database\n"
     ]
    },
    {
     "name": "stdout",
     "output_type": "stream",
     "text": [
      "Child keys: {'parent_id': 'PLD0D54219E5F2544D', 'parent_name': 'C++ GUI with Qt Playlist', 'path': ['playlists', 'C++ GUI with Qt Playlist'], 'name': 'C++ GUI with Qt Tutorial - 10 - Designing the User Interface', 'available': True, 'files': {'videos/singles/C++ GUI with Qt Playlist/C++ GUI with Qt Tutorial - 10 - Designing the User Interface.mp4'}}\n",
      "Adding child DUeMzXc2V_Q and {'parent_id': 'PLD0D54219E5F2544D', 'parent_name': 'C++ GUI with Qt Playlist', 'path': ['playlists', 'C++ GUI with Qt Playlist'], 'name': 'C++ GUI with Qt Tutorial - 10 - Designing the User Interface', 'available': True, 'files': {'videos/singles/C++ GUI with Qt Playlist/C++ GUI with Qt Tutorial - 10 - Designing the User Interface.mp4'}} to singles table\n"
     ]
    },
    {
     "name": "stderr",
     "output_type": "stream",
     "text": [
      "INFO:root:Adding https://www.youtube.com/playlist?list=PLD0D54219E5F2544D to the database\n",
      "INFO:root:Adding videos/singles/C++ GUI with Qt Playlist/C++ GUI with Qt Tutorial - 11 - Coding the FindCrap Program.mp4 to the database\n"
     ]
    },
    {
     "name": "stdout",
     "output_type": "stream",
     "text": [
      "Child keys: {'parent_id': 'PLD0D54219E5F2544D', 'parent_name': 'C++ GUI with Qt Playlist', 'path': ['playlists', 'C++ GUI with Qt Playlist'], 'name': 'C++ GUI with Qt Tutorial - 11 - Coding the FindCrap Program', 'available': True, 'files': {'videos/singles/C++ GUI with Qt Playlist/C++ GUI with Qt Tutorial - 11 - Coding the FindCrap Program.mp4'}}\n",
      "Adding child pQHFqp0NK4E and {'parent_id': 'PLD0D54219E5F2544D', 'parent_name': 'C++ GUI with Qt Playlist', 'path': ['playlists', 'C++ GUI with Qt Playlist'], 'name': 'C++ GUI with Qt Tutorial - 11 - Coding the FindCrap Program', 'available': True, 'files': {'videos/singles/C++ GUI with Qt Playlist/C++ GUI with Qt Tutorial - 11 - Coding the FindCrap Program.mp4'}} to singles table\n"
     ]
    },
    {
     "name": "stderr",
     "output_type": "stream",
     "text": [
      "INFO:root:Adding https://www.youtube.com/playlist?list=PLD0D54219E5F2544D to the database\n",
      "INFO:root:Adding videos/singles/C++ GUI with Qt Playlist/C++ GUI with Qt Tutorial - 12 - Finishing the getTextFile Function.mp4 to the database\n"
     ]
    },
    {
     "name": "stdout",
     "output_type": "stream",
     "text": [
      "Child keys: {'parent_id': 'PLD0D54219E5F2544D', 'parent_name': 'C++ GUI with Qt Playlist', 'path': ['playlists', 'C++ GUI with Qt Playlist'], 'name': 'C++ GUI with Qt Tutorial - 12 - Finishing the getTextFile Function', 'available': True, 'files': {'videos/singles/C++ GUI with Qt Playlist/C++ GUI with Qt Tutorial - 12 - Finishing the getTextFile Function.mp4'}}\n",
      "Adding child 6GyrKryOVJY and {'parent_id': 'PLD0D54219E5F2544D', 'parent_name': 'C++ GUI with Qt Playlist', 'path': ['playlists', 'C++ GUI with Qt Playlist'], 'name': 'C++ GUI with Qt Tutorial - 12 - Finishing the getTextFile Function', 'available': True, 'files': {'videos/singles/C++ GUI with Qt Playlist/C++ GUI with Qt Tutorial - 12 - Finishing the getTextFile Function.mp4'}} to singles table\n"
     ]
    },
    {
     "name": "stderr",
     "output_type": "stream",
     "text": [
      "INFO:root:Adding https://www.youtube.com/playlist?list=PLD0D54219E5F2544D to the database\n",
      "INFO:root:Adding videos/singles/C++ GUI with Qt Playlist/C++ GUI with Qt Tutorial - 13 - Finishing up All the Code.mp4 to the database\n"
     ]
    },
    {
     "name": "stdout",
     "output_type": "stream",
     "text": [
      "Child keys: {'parent_id': 'PLD0D54219E5F2544D', 'parent_name': 'C++ GUI with Qt Playlist', 'path': ['playlists', 'C++ GUI with Qt Playlist'], 'name': 'C++ GUI with Qt Tutorial - 13 - Finishing up All the Code', 'available': True, 'files': {'videos/singles/C++ GUI with Qt Playlist/C++ GUI with Qt Tutorial - 13 - Finishing up All the Code.mp4'}}\n",
      "Adding child mn4t2tqncoA and {'parent_id': 'PLD0D54219E5F2544D', 'parent_name': 'C++ GUI with Qt Playlist', 'path': ['playlists', 'C++ GUI with Qt Playlist'], 'name': 'C++ GUI with Qt Tutorial - 13 - Finishing up All the Code', 'available': True, 'files': {'videos/singles/C++ GUI with Qt Playlist/C++ GUI with Qt Tutorial - 13 - Finishing up All the Code.mp4'}} to singles table\n"
     ]
    },
    {
     "name": "stderr",
     "output_type": "stream",
     "text": [
      "INFO:root:Adding https://www.youtube.com/playlist?list=PLD0D54219E5F2544D to the database\n",
      "INFO:root:Adding videos/singles/C++ GUI with Qt Playlist/C++ GUI with Qt Tutorial - 14 - Running Our Awesome FindCrap Program!.mp4 to the database\n"
     ]
    },
    {
     "name": "stdout",
     "output_type": "stream",
     "text": [
      "Child keys: {'parent_id': 'PLD0D54219E5F2544D', 'parent_name': 'C++ GUI with Qt Playlist', 'path': ['playlists', 'C++ GUI with Qt Playlist'], 'name': 'C++ GUI with Qt Tutorial - 14 - Running Our Awesome FindCrap Program!', 'available': True, 'files': {'videos/singles/C++ GUI with Qt Playlist/C++ GUI with Qt Tutorial - 14 - Running Our Awesome FindCrap Program!.mp4'}}\n",
      "Adding child -A5S9ka5H9A and {'parent_id': 'PLD0D54219E5F2544D', 'parent_name': 'C++ GUI with Qt Playlist', 'path': ['playlists', 'C++ GUI with Qt Playlist'], 'name': 'C++ GUI with Qt Tutorial - 14 - Running Our Awesome FindCrap Program!', 'available': True, 'files': {'videos/singles/C++ GUI with Qt Playlist/C++ GUI with Qt Tutorial - 14 - Running Our Awesome FindCrap Program!.mp4'}} to singles table\n",
      "Current config: \n",
      "[youmirror]\n",
      "name = \"testmirror\"\n",
      "default_resolution = \"best\"\n",
      "created_at = \"2022-04-14\"\n",
      "\n",
      "[channel]\n",
      "\n",
      "[single]\n",
      "\n",
      "[playlist.PLD0D54219E5F2544D]\n",
      "name = \"C++ GUI with Qt Playlist\"\n",
      "url = \"https://www.youtube.com/playlist?list=PLD0D54219E5F2544D\"\n",
      "type = \"playlist\"\n",
      "\n",
      "Active options: {'filetree': 'wide', 'resolution': 'best', 'dry_run': False, 'dl_video': True, 'dl_captions': False, 'dl_audio': False, 'dl_thumbnail': False, 'captions': ['en', 'a.en'], 'name': 'testmirror', 'default_resolution': 'best', 'created_at': '2022-04-14'}\n"
     ]
    },
    {
     "name": "stderr",
     "output_type": "stream",
     "text": [
      "INFO:root:Adding http://www.youtube.com/c/JacobSorber to the mirror\n",
      "INFO:sqlitedict:opening Sqlite table 'channels' in PosixPath('testmirror/youmirror.db')\n",
      "INFO:sqlitedict:opening Sqlite table 'playlists' in PosixPath('testmirror/youmirror.db')\n",
      "INFO:sqlitedict:opening Sqlite table 'singles' in PosixPath('testmirror/youmirror.db')\n",
      "INFO:sqlitedict:opening Sqlite table 'filetree' in PosixPath('testmirror/youmirror.db')\n",
      "INFO:root:Adding http://www.youtube.com/c/JacobSorber to the database\n"
     ]
    },
    {
     "name": "stdout",
     "output_type": "stream",
     "text": [
      "Keys: {'name': 'Jacob Sorber', 'children': {'8bmEhtMVrhk', 'JarMkGWTF8Y', 'EPTv5IH5dvg', 'KZq2wHZoAaE', 'zx7euEEZ0H4', 'TsUOhPsZk6k', 'b9_0bqrm2G8', 'Z4r4qJx9yds', 'JYSYHTfOFgU', '6_oBi3Qw_mc', 'P6Z5K8zmEmc', 'cSC7W2MwKqw', 'ewqX1IuYzC8', '2YfM-HxQd_8', 'l5KqE0DMG-Q', 'G5dNorAoeCM', 'pKYvhURF3Z4', 'cCdn7Cy6TfE', 'PQxM9EXauLo', 'kDxjcyHu_Qs', 'HGWS4nCnycA', 'eC71xRY4yAM', 'NDfAYZCHstI', 'MCVa1ZhQaqI', '3E-r4GfvWOI', 'ZIhy4uy5uJM', 'eSowTJuM04I', 'Jeg_162ze0o', 'yM9zteeTCiI', 'iX1uGr6Si0E', 'Os5cK0H8EOA', 'L__eClqEyLg', 'uLZVDSZc_ZU', 'gNEZHW5-Wso', 'Pg_4Jz8ZIH4', 'P6oqhAxV0dA', 'oyX30WVuEos', 'tKst2_96vB8', 'M6RCUiZzl8Y', 'rPV6b8BUwxM', 'FT2A2HQbTkU', 'eLRWDZ7uQQU', 'oxWg0_9DSrI', '7MhJmLV6tdM', 'bWMIpHVRFUo', 'IGW8-yeYRgI', 'm4agpY_w2y8', '8AXEHrQTf3I', 'axngwDJ79GY', 'DzyxGrDT2yk', 'ayfCxgVStdQ', 'hGBHGficAiM', 'BQJBe4IbsvQ', '86LQtc3lewI', 't6Jfrmdg5rk', 'kvqUtn0dXRI', 'iF2F0YIgxy4', 'uT-YLEHwVS4', '1KQqpiXxvWQ', 'dPxCGlW9lfM', 'XjhL6WCvH-w', '3GhCOeTJJzQ', 'Scs3oBY7dEo', '9NQ7czFEUhg', 'PP03QAsIij8', 'a8l8PwCzw20', '79KFwjNZupU', 'p63O8g4beBo', '5TzFNouc0PE', 'll4XT0MYKN0', 'j3SwYvuR8oc', 'AQ7hhD0Q4rk', 'zkV-MoTosPE', 'nvRkFi8rbOM', 'LBQWwo2d-I8', 'ySY_FlA7EvA', 'Jkmy2YLUbUY', 'rn8LygL-BMM', 'L69eIm472nY', 'Pqf6H1WSbeY', 'PVIzokTJdVM', '4p564Su-F9M', 'k2K2HVg4Arc', 'gDGgMhmoTJI', 'eQcRcgOnl9o', 'CM6QPHsPI2I', 'uA8X5zNOGw8', 'PtTVe0zfg_M', 'OoHich9BPxg', 'liWdn92SAvs', 'FcIubL92gaI', 'A4sRhuGkRb0', 'tjndNX2h5Zc', '3CbFFVHQrk4', 'modeJNBDtcM', 'dhFkwGRSVGk', '2AmP7Pse4U0', '-eDY7yh-CyA', 'LLqDNjr0kPo', 'PLnmboUvqq8', '83M5-NPDeWs', 'Kq8m980JEeg', 'dh1mil1ehvE', '5HuM_eVjFJo', 'vbVuVQXJEks', 'RY71m2UKO5Q', 'MruzHlXqspU', '_kIa4D7kQ8I', 'I55kWLXqhDI', 'KjPvEcds0QA', 'rBtfqH4kdlc', 'K8dCh3ZMLN8', 'phYM4L1BBjI', 'XKeQ9KS5pHI', 'WgVSq-sgHOc', 'JbHmin2Wtmc', 'IDE--6n-Qeo', '3-L_91DFBm4', 'aMAM5vL7wTs', 'bC2dfBJwtMY', 'A0A19LQKOjM', 'It0OFCbbTJE', 'dpjt_D8xcPU', 'RoVD6zlftF0', 'w3iXBUbq4NY', 'rww_OHQOmbs', 'mib3ahMbq_0', 'zyQXhPUM4hc', 'vEICc0zygWQ', 'MjHMeufOxp8', 'HeCT7VHIUm8', 'jVzSBkbfdiw', 'Fq9chEBQMFE', 'U161zVjv1rs', 'wJGd7tKF2zY', 'ps4MI41Bg58', '6yOWFJ9wu-s', 'aC37UE7edP0', 'tRtVR-WL8w4', 'lEWFr98UqY0', 'ss1-REMJ9GA', 'lMk5AGz88g4', 'k6ESk9zafHM', '8nZfjmVHBz8', '1jv428xKsRg', 'BM9cnSEY23s', '9Zyp4sdSUNM', 'SC8uWXmDJs4', 'IepIFbK3Ee8', 'NqEbV5FBKmg', 'esXw4bdaZkc', 'KQBBWvY-s0o', 'Q6RJFJvw3B8', 'OLH_k6IhTyM', 'tq3zPnrQIpU', 'p8RC_i9t0MU', '5td9upDbkaU', 'ufMDgJY2I8I', 'oZ1gbIpmB8Q', 'kYvVHlMMF_A', 'NqUTiJPgBn8', 'x24fOAPclL4', 'wg1wZgCdJPA', 'LRLlEzkCL4I', 'mm0b_H0KIRw', 'S-4j2Byi8KM', '6tIWFEzzx9I', 'kjHDnUjaai4', 'mfmXcbiRs0E', 'IZiUT-ipnj0', 'VOpjAHCee7c', '-Q64Ae4EHqU', 'GV10eIuPs9k', '1rIRztTHFaE', 'ukM_zzrIeXs', 'LfIPVIsH4ZU', 'KGFOLJiIo1g', 'Sddn1UjzSAo', 'i6qgTWUMNXc', 'bdIiTxtMaKA', '34rufNo7dE4', 'gYMvCSCfr38', 'bXsKnUGndEU', 'lbq2lntAJIE', 'vRCnIyeaV8M', 'XV5sRaSVtXQ', '0H1QXspkStA', 'FPVTr4thm2M', 'yZ0lJu5AKLk', 'm7E9piHcfr4', 'UbhlOk7vjVY', 'A_pV61xFty8', 'hfwwaNNJ-0A', 't_vM_8TLjFE', 'Y6pFtgRdUts', '1vGfkBwIOXw', '9zU92H_CLVI', 'P0k1C3F61xY', 'Aw0YAUdQp1c', 'aypNWcRlwYw', '6Dk8s0F2gow', 'KNPL11YJoAQ', 'vMFa6oKSmao', '9KfSKkeIyOs', '2Ti5yvumFTU', 'PfMV_wa0KY4', 'JPPxV3Hdz_A', 'dcBcgPGIMpo', 'grk4QUDveFw', 'CRlqU9XzVr4', 'a8mPKBxQ9No', 'n-b04Kx_mi0', 'NeOTr0u7ALk', 'Ew2QnDeTCCE', 'ck_RfVOYgjQ', 'u58HG5n49Xk', 'SKa6d9bUlO0', 'xJ8KenZw2ag', '7mKfWrNQcj0', 'S-ak715zIIE', 'ADh_OFBfdEE', 'wcpH2PkC-94', 'iYRl50gtprA', 'KFbm6lkMhgw', 'FMNnusHqjpw', '1Jh9BUxIw0U', 'daA-KBKfJ_o', '9axu8CUvOKY', '5x4p5KSoYOQ'}, 'available': True, 'paths': {'videos/channels/Jacob Sorber'}}\n"
     ]
    },
    {
     "name": "stderr",
     "output_type": "stream",
     "text": [
      "INFO:root:Adding http://www.youtube.com/c/JacobSorber to the database\n",
      "INFO:root:Adding videos/singles/Jacob Sorber/Generating Unique Identifiers in Your Programs (GUIDs/UUIDs).mp4 to the database\n"
     ]
    },
    {
     "name": "stdout",
     "output_type": "stream",
     "text": [
      "Child keys: {'parent_id': '/c/JacobSorber', 'parent_name': 'Jacob Sorber', 'path': ['channels', 'Jacob Sorber'], 'name': 'Generating Unique Identifiers in Your Programs (GUIDs/UUIDs)', 'available': True, 'files': {'videos/singles/Jacob Sorber/Generating Unique Identifiers in Your Programs (GUIDs/UUIDs).mp4'}}\n",
      "Adding child hGBHGficAiM and {'parent_id': '/c/JacobSorber', 'parent_name': 'Jacob Sorber', 'path': ['channels', 'Jacob Sorber'], 'name': 'Generating Unique Identifiers in Your Programs (GUIDs/UUIDs)', 'available': True, 'files': {'videos/singles/Jacob Sorber/Generating Unique Identifiers in Your Programs (GUIDs/UUIDs).mp4'}} to singles table\n"
     ]
    },
    {
     "name": "stderr",
     "output_type": "stream",
     "text": [
      "INFO:root:Adding http://www.youtube.com/c/JacobSorber to the database\n",
      "INFO:root:Adding videos/singles/Jacob Sorber/You've probably never accessed a file like this before. (Async IO example).mp4 to the database\n"
     ]
    },
    {
     "name": "stdout",
     "output_type": "stream",
     "text": [
      "Child keys: {'parent_id': '/c/JacobSorber', 'parent_name': 'Jacob Sorber', 'path': ['channels', 'Jacob Sorber'], 'name': \"You've probably never accessed a file like this before. (Async IO example)\", 'available': True, 'files': {\"videos/singles/Jacob Sorber/You've probably never accessed a file like this before. (Async IO example).mp4\"}}\n",
      "Adding child wJGd7tKF2zY and {'parent_id': '/c/JacobSorber', 'parent_name': 'Jacob Sorber', 'path': ['channels', 'Jacob Sorber'], 'name': \"You've probably never accessed a file like this before. (Async IO example)\", 'available': True, 'files': {\"videos/singles/Jacob Sorber/You've probably never accessed a file like this before. (Async IO example).mp4\"}} to singles table\n"
     ]
    },
    {
     "name": "stderr",
     "output_type": "stream",
     "text": [
      "INFO:root:Adding http://www.youtube.com/c/JacobSorber to the database\n",
      "INFO:root:Adding videos/singles/Jacob Sorber/Embedded Crypto: AES Example on a Microcontroller (in C).mp4 to the database\n"
     ]
    },
    {
     "name": "stdout",
     "output_type": "stream",
     "text": [
      "Child keys: {'parent_id': '/c/JacobSorber', 'parent_name': 'Jacob Sorber', 'path': ['channels', 'Jacob Sorber'], 'name': 'Embedded Crypto: AES Example on a Microcontroller (in C)', 'available': True, 'files': {'videos/singles/Jacob Sorber/Embedded Crypto: AES Example on a Microcontroller (in C).mp4'}}\n",
      "Adding child 5x4p5KSoYOQ and {'parent_id': '/c/JacobSorber', 'parent_name': 'Jacob Sorber', 'path': ['channels', 'Jacob Sorber'], 'name': 'Embedded Crypto: AES Example on a Microcontroller (in C)', 'available': True, 'files': {'videos/singles/Jacob Sorber/Embedded Crypto: AES Example on a Microcontroller (in C).mp4'}} to singles table\n"
     ]
    },
    {
     "name": "stderr",
     "output_type": "stream",
     "text": [
      "INFO:root:Adding http://www.youtube.com/c/JacobSorber to the database\n",
      "INFO:root:Adding videos/singles/Jacob Sorber/How to Safely and Simply Create Temporary Files (in C or C++).mp4 to the database\n"
     ]
    },
    {
     "name": "stdout",
     "output_type": "stream",
     "text": [
      "Child keys: {'parent_id': '/c/JacobSorber', 'parent_name': 'Jacob Sorber', 'path': ['channels', 'Jacob Sorber'], 'name': 'How to Safely and Simply Create Temporary Files (in C or C++)', 'available': True, 'files': {'videos/singles/Jacob Sorber/How to Safely and Simply Create Temporary Files (in C or C++).mp4'}}\n",
      "Adding child Jeg_162ze0o and {'parent_id': '/c/JacobSorber', 'parent_name': 'Jacob Sorber', 'path': ['channels', 'Jacob Sorber'], 'name': 'How to Safely and Simply Create Temporary Files (in C or C++)', 'available': True, 'files': {'videos/singles/Jacob Sorber/How to Safely and Simply Create Temporary Files (in C or C++).mp4'}} to singles table\n"
     ]
    },
    {
     "name": "stderr",
     "output_type": "stream",
     "text": [
      "INFO:root:Adding http://www.youtube.com/c/JacobSorber to the database\n",
      "INFO:root:Adding videos/singles/Jacob Sorber/Let's hangout on an upcoming live stream..mp4 to the database\n"
     ]
    },
    {
     "name": "stdout",
     "output_type": "stream",
     "text": [
      "Child keys: {'parent_id': '/c/JacobSorber', 'parent_name': 'Jacob Sorber', 'path': ['channels', 'Jacob Sorber'], 'name': \"Let's hangout on an upcoming live stream.\", 'available': True, 'files': {\"videos/singles/Jacob Sorber/Let's hangout on an upcoming live stream..mp4\"}}\n",
      "Adding child 3GhCOeTJJzQ and {'parent_id': '/c/JacobSorber', 'parent_name': 'Jacob Sorber', 'path': ['channels', 'Jacob Sorber'], 'name': \"Let's hangout on an upcoming live stream.\", 'available': True, 'files': {\"videos/singles/Jacob Sorber/Let's hangout on an upcoming live stream..mp4\"}} to singles table\n"
     ]
    },
    {
     "name": "stderr",
     "output_type": "stream",
     "text": [
      "INFO:root:Adding http://www.youtube.com/c/JacobSorber to the database\n",
      "INFO:root:Adding videos/singles/Jacob Sorber/Revisiting print debugging. Is it that bad?.mp4 to the database\n"
     ]
    },
    {
     "name": "stdout",
     "output_type": "stream",
     "text": [
      "Child keys: {'parent_id': '/c/JacobSorber', 'parent_name': 'Jacob Sorber', 'path': ['channels', 'Jacob Sorber'], 'name': 'Revisiting print debugging. Is it that bad?', 'available': True, 'files': {'videos/singles/Jacob Sorber/Revisiting print debugging. Is it that bad?.mp4'}}\n",
      "Adding child eC71xRY4yAM and {'parent_id': '/c/JacobSorber', 'parent_name': 'Jacob Sorber', 'path': ['channels', 'Jacob Sorber'], 'name': 'Revisiting print debugging. Is it that bad?', 'available': True, 'files': {'videos/singles/Jacob Sorber/Revisiting print debugging. Is it that bad?.mp4'}} to singles table\n"
     ]
    },
    {
     "name": "stderr",
     "output_type": "stream",
     "text": [
      "INFO:root:Adding http://www.youtube.com/c/JacobSorber to the database\n",
      "INFO:root:Adding videos/singles/Jacob Sorber/How not to debug your programs..mp4 to the database\n"
     ]
    },
    {
     "name": "stdout",
     "output_type": "stream",
     "text": [
      "Child keys: {'parent_id': '/c/JacobSorber', 'parent_name': 'Jacob Sorber', 'path': ['channels', 'Jacob Sorber'], 'name': 'How not to debug your programs.', 'available': True, 'files': {'videos/singles/Jacob Sorber/How not to debug your programs..mp4'}}\n",
      "Adding child IepIFbK3Ee8 and {'parent_id': '/c/JacobSorber', 'parent_name': 'Jacob Sorber', 'path': ['channels', 'Jacob Sorber'], 'name': 'How not to debug your programs.', 'available': True, 'files': {'videos/singles/Jacob Sorber/How not to debug your programs..mp4'}} to singles table\n"
     ]
    },
    {
     "name": "stderr",
     "output_type": "stream",
     "text": [
      "INFO:root:Adding http://www.youtube.com/c/JacobSorber to the database\n",
      "INFO:root:Adding videos/singles/Jacob Sorber/How to Contribute to Open Source Projects on Github (pull requests).mp4 to the database\n"
     ]
    },
    {
     "name": "stdout",
     "output_type": "stream",
     "text": [
      "Child keys: {'parent_id': '/c/JacobSorber', 'parent_name': 'Jacob Sorber', 'path': ['channels', 'Jacob Sorber'], 'name': 'How to Contribute to Open Source Projects on Github (pull requests)', 'available': True, 'files': {'videos/singles/Jacob Sorber/How to Contribute to Open Source Projects on Github (pull requests).mp4'}}\n",
      "Adding child x24fOAPclL4 and {'parent_id': '/c/JacobSorber', 'parent_name': 'Jacob Sorber', 'path': ['channels', 'Jacob Sorber'], 'name': 'How to Contribute to Open Source Projects on Github (pull requests)', 'available': True, 'files': {'videos/singles/Jacob Sorber/How to Contribute to Open Source Projects on Github (pull requests).mp4'}} to singles table\n"
     ]
    },
    {
     "name": "stderr",
     "output_type": "stream",
     "text": [
      "INFO:root:Adding http://www.youtube.com/c/JacobSorber to the database\n",
      "INFO:root:Adding videos/singles/Jacob Sorber/Stop Studying for Code Interviews.mp4 to the database\n"
     ]
    },
    {
     "name": "stdout",
     "output_type": "stream",
     "text": [
      "Child keys: {'parent_id': '/c/JacobSorber', 'parent_name': 'Jacob Sorber', 'path': ['channels', 'Jacob Sorber'], 'name': 'Stop Studying for Code Interviews', 'available': True, 'files': {'videos/singles/Jacob Sorber/Stop Studying for Code Interviews.mp4'}}\n",
      "Adding child XKeQ9KS5pHI and {'parent_id': '/c/JacobSorber', 'parent_name': 'Jacob Sorber', 'path': ['channels', 'Jacob Sorber'], 'name': 'Stop Studying for Code Interviews', 'available': True, 'files': {'videos/singles/Jacob Sorber/Stop Studying for Code Interviews.mp4'}} to singles table\n"
     ]
    },
    {
     "name": "stderr",
     "output_type": "stream",
     "text": [
      "INFO:root:Adding http://www.youtube.com/c/JacobSorber to the database\n",
      "INFO:root:Adding videos/singles/Jacob Sorber/Testing matters. Watch those corner cases..mp4 to the database\n"
     ]
    },
    {
     "name": "stdout",
     "output_type": "stream",
     "text": [
      "Child keys: {'parent_id': '/c/JacobSorber', 'parent_name': 'Jacob Sorber', 'path': ['channels', 'Jacob Sorber'], 'name': 'Testing matters. Watch those corner cases.', 'available': True, 'files': {'videos/singles/Jacob Sorber/Testing matters. Watch those corner cases..mp4'}}\n",
      "Adding child RY71m2UKO5Q and {'parent_id': '/c/JacobSorber', 'parent_name': 'Jacob Sorber', 'path': ['channels', 'Jacob Sorber'], 'name': 'Testing matters. Watch those corner cases.', 'available': True, 'files': {'videos/singles/Jacob Sorber/Testing matters. Watch those corner cases..mp4'}} to singles table\n"
     ]
    },
    {
     "name": "stderr",
     "output_type": "stream",
     "text": [
      "INFO:root:Adding http://www.youtube.com/c/JacobSorber to the database\n",
      "INFO:root:Adding videos/singles/Jacob Sorber/Do you see the bug?.mp4 to the database\n"
     ]
    },
    {
     "name": "stdout",
     "output_type": "stream",
     "text": [
      "Child keys: {'parent_id': '/c/JacobSorber', 'parent_name': 'Jacob Sorber', 'path': ['channels', 'Jacob Sorber'], 'name': 'Do you see the bug?', 'available': True, 'files': {'videos/singles/Jacob Sorber/Do you see the bug?.mp4'}}\n",
      "Adding child KjPvEcds0QA and {'parent_id': '/c/JacobSorber', 'parent_name': 'Jacob Sorber', 'path': ['channels', 'Jacob Sorber'], 'name': 'Do you see the bug?', 'available': True, 'files': {'videos/singles/Jacob Sorber/Do you see the bug?.mp4'}} to singles table\n"
     ]
    },
    {
     "name": "stderr",
     "output_type": "stream",
     "text": [
      "INFO:root:Adding http://www.youtube.com/c/JacobSorber to the database\n",
      "INFO:root:Adding videos/singles/Jacob Sorber/How Does LibC Detect Redirection? Interesting Bug Follow Up..mp4 to the database\n"
     ]
    },
    {
     "name": "stdout",
     "output_type": "stream",
     "text": [
      "Child keys: {'parent_id': '/c/JacobSorber', 'parent_name': 'Jacob Sorber', 'path': ['channels', 'Jacob Sorber'], 'name': 'How Does LibC Detect Redirection? Interesting Bug Follow Up.', 'available': True, 'files': {'videos/singles/Jacob Sorber/How Does LibC Detect Redirection? Interesting Bug Follow Up..mp4'}}\n",
      "Adding child 9NQ7czFEUhg and {'parent_id': '/c/JacobSorber', 'parent_name': 'Jacob Sorber', 'path': ['channels', 'Jacob Sorber'], 'name': 'How Does LibC Detect Redirection? Interesting Bug Follow Up.', 'available': True, 'files': {'videos/singles/Jacob Sorber/How Does LibC Detect Redirection? Interesting Bug Follow Up..mp4'}} to singles table\n"
     ]
    },
    {
     "name": "stderr",
     "output_type": "stream",
     "text": [
      "INFO:root:Adding http://www.youtube.com/c/JacobSorber to the database\n",
      "INFO:root:Adding videos/singles/Jacob Sorber/What are Language Standards? Do they matter?.mp4 to the database\n"
     ]
    },
    {
     "name": "stdout",
     "output_type": "stream",
     "text": [
      "Child keys: {'parent_id': '/c/JacobSorber', 'parent_name': 'Jacob Sorber', 'path': ['channels', 'Jacob Sorber'], 'name': 'What are Language Standards? Do they matter?', 'available': True, 'files': {'videos/singles/Jacob Sorber/What are Language Standards? Do they matter?.mp4'}}\n",
      "Adding child modeJNBDtcM and {'parent_id': '/c/JacobSorber', 'parent_name': 'Jacob Sorber', 'path': ['channels', 'Jacob Sorber'], 'name': 'What are Language Standards? Do they matter?', 'available': True, 'files': {'videos/singles/Jacob Sorber/What are Language Standards? Do they matter?.mp4'}} to singles table\n"
     ]
    },
    {
     "name": "stderr",
     "output_type": "stream",
     "text": [
      "INFO:root:Adding http://www.youtube.com/c/JacobSorber to the database\n",
      "INFO:root:Adding videos/singles/Jacob Sorber/An Interesting Redirection Bug. How Redirection Can Change Program Behavior..mp4 to the database\n"
     ]
    },
    {
     "name": "stdout",
     "output_type": "stream",
     "text": [
      "Child keys: {'parent_id': '/c/JacobSorber', 'parent_name': 'Jacob Sorber', 'path': ['channels', 'Jacob Sorber'], 'name': 'An Interesting Redirection Bug. How Redirection Can Change Program Behavior.', 'available': True, 'files': {'videos/singles/Jacob Sorber/An Interesting Redirection Bug. How Redirection Can Change Program Behavior..mp4'}}\n",
      "Adding child oxWg0_9DSrI and {'parent_id': '/c/JacobSorber', 'parent_name': 'Jacob Sorber', 'path': ['channels', 'Jacob Sorber'], 'name': 'An Interesting Redirection Bug. How Redirection Can Change Program Behavior.', 'available': True, 'files': {'videos/singles/Jacob Sorber/An Interesting Redirection Bug. How Redirection Can Change Program Behavior..mp4'}} to singles table\n"
     ]
    },
    {
     "name": "stderr",
     "output_type": "stream",
     "text": [
      "INFO:root:Adding http://www.youtube.com/c/JacobSorber to the database\n",
      "INFO:root:Adding videos/singles/Jacob Sorber/The Most Useless Keyword in C?.mp4 to the database\n"
     ]
    },
    {
     "name": "stdout",
     "output_type": "stream",
     "text": [
      "Child keys: {'parent_id': '/c/JacobSorber', 'parent_name': 'Jacob Sorber', 'path': ['channels', 'Jacob Sorber'], 'name': 'The Most Useless Keyword in C?', 'available': True, 'files': {'videos/singles/Jacob Sorber/The Most Useless Keyword in C?.mp4'}}\n",
      "Adding child lbq2lntAJIE and {'parent_id': '/c/JacobSorber', 'parent_name': 'Jacob Sorber', 'path': ['channels', 'Jacob Sorber'], 'name': 'The Most Useless Keyword in C?', 'available': True, 'files': {'videos/singles/Jacob Sorber/The Most Useless Keyword in C?.mp4'}} to singles table\n"
     ]
    },
    {
     "name": "stderr",
     "output_type": "stream",
     "text": [
      "INFO:root:Adding http://www.youtube.com/c/JacobSorber to the database\n",
      "INFO:root:Adding videos/singles/Jacob Sorber/This Channel is Biased!...and happy new year..mp4 to the database\n"
     ]
    },
    {
     "name": "stdout",
     "output_type": "stream",
     "text": [
      "Child keys: {'parent_id': '/c/JacobSorber', 'parent_name': 'Jacob Sorber', 'path': ['channels', 'Jacob Sorber'], 'name': 'This Channel is Biased!...and happy new year.', 'available': True, 'files': {'videos/singles/Jacob Sorber/This Channel is Biased!...and happy new year..mp4'}}\n",
      "Adding child Q6RJFJvw3B8 and {'parent_id': '/c/JacobSorber', 'parent_name': 'Jacob Sorber', 'path': ['channels', 'Jacob Sorber'], 'name': 'This Channel is Biased!...and happy new year.', 'available': True, 'files': {'videos/singles/Jacob Sorber/This Channel is Biased!...and happy new year..mp4'}} to singles table\n"
     ]
    },
    {
     "name": "stderr",
     "output_type": "stream",
     "text": [
      "INFO:root:Adding http://www.youtube.com/c/JacobSorber to the database\n",
      "INFO:root:Adding videos/singles/Jacob Sorber/Don't write clever code..mp4 to the database\n"
     ]
    },
    {
     "name": "stdout",
     "output_type": "stream",
     "text": [
      "Child keys: {'parent_id': '/c/JacobSorber', 'parent_name': 'Jacob Sorber', 'path': ['channels', 'Jacob Sorber'], 'name': \"Don't write clever code.\", 'available': True, 'files': {\"videos/singles/Jacob Sorber/Don't write clever code..mp4\"}}\n",
      "Adding child MjHMeufOxp8 and {'parent_id': '/c/JacobSorber', 'parent_name': 'Jacob Sorber', 'path': ['channels', 'Jacob Sorber'], 'name': \"Don't write clever code.\", 'available': True, 'files': {\"videos/singles/Jacob Sorber/Don't write clever code..mp4\"}} to singles table\n"
     ]
    },
    {
     "name": "stderr",
     "output_type": "stream",
     "text": [
      "INFO:root:Adding http://www.youtube.com/c/JacobSorber to the database\n",
      "INFO:root:Adding videos/singles/Jacob Sorber/Issues with the pre- and postincrement operator in C, C++, etc..mp4 to the database\n"
     ]
    },
    {
     "name": "stdout",
     "output_type": "stream",
     "text": [
      "Child keys: {'parent_id': '/c/JacobSorber', 'parent_name': 'Jacob Sorber', 'path': ['channels', 'Jacob Sorber'], 'name': 'Issues with the pre- and postincrement operator in C, C++, etc.', 'available': True, 'files': {'videos/singles/Jacob Sorber/Issues with the pre- and postincrement operator in C, C++, etc..mp4'}}\n",
      "Adding child Z4r4qJx9yds and {'parent_id': '/c/JacobSorber', 'parent_name': 'Jacob Sorber', 'path': ['channels', 'Jacob Sorber'], 'name': 'Issues with the pre- and postincrement operator in C, C++, etc.', 'available': True, 'files': {'videos/singles/Jacob Sorber/Issues with the pre- and postincrement operator in C, C++, etc..mp4'}} to singles table\n"
     ]
    },
    {
     "name": "stderr",
     "output_type": "stream",
     "text": [
      "INFO:root:Adding http://www.youtube.com/c/JacobSorber to the database\n",
      "INFO:root:Adding videos/singles/Jacob Sorber/Reinvent The Wheel (Programming Project Advice).mp4 to the database\n"
     ]
    },
    {
     "name": "stdout",
     "output_type": "stream",
     "text": [
      "Child keys: {'parent_id': '/c/JacobSorber', 'parent_name': 'Jacob Sorber', 'path': ['channels', 'Jacob Sorber'], 'name': 'Reinvent The Wheel (Programming Project Advice)', 'available': True, 'files': {'videos/singles/Jacob Sorber/Reinvent The Wheel (Programming Project Advice).mp4'}}\n",
      "Adding child IDE--6n-Qeo and {'parent_id': '/c/JacobSorber', 'parent_name': 'Jacob Sorber', 'path': ['channels', 'Jacob Sorber'], 'name': 'Reinvent The Wheel (Programming Project Advice)', 'available': True, 'files': {'videos/singles/Jacob Sorber/Reinvent The Wheel (Programming Project Advice).mp4'}} to singles table\n"
     ]
    },
    {
     "name": "stderr",
     "output_type": "stream",
     "text": [
      "INFO:root:Adding http://www.youtube.com/c/JacobSorber to the database\n",
      "INFO:root:Adding videos/singles/Jacob Sorber/One Answer for So Many Programming Questions.mp4 to the database\n"
     ]
    },
    {
     "name": "stdout",
     "output_type": "stream",
     "text": [
      "Child keys: {'parent_id': '/c/JacobSorber', 'parent_name': 'Jacob Sorber', 'path': ['channels', 'Jacob Sorber'], 'name': 'One Answer for So Many Programming Questions', 'available': True, 'files': {'videos/singles/Jacob Sorber/One Answer for So Many Programming Questions.mp4'}}\n",
      "Adding child 86LQtc3lewI and {'parent_id': '/c/JacobSorber', 'parent_name': 'Jacob Sorber', 'path': ['channels', 'Jacob Sorber'], 'name': 'One Answer for So Many Programming Questions', 'available': True, 'files': {'videos/singles/Jacob Sorber/One Answer for So Many Programming Questions.mp4'}} to singles table\n"
     ]
    },
    {
     "name": "stderr",
     "output_type": "stream",
     "text": [
      "INFO:root:Adding http://www.youtube.com/c/JacobSorber to the database\n",
      "INFO:root:Adding videos/singles/Jacob Sorber/One reason to Modify your Memory Allocator (C/C++).mp4 to the database\n"
     ]
    },
    {
     "name": "stdout",
     "output_type": "stream",
     "text": [
      "Child keys: {'parent_id': '/c/JacobSorber', 'parent_name': 'Jacob Sorber', 'path': ['channels', 'Jacob Sorber'], 'name': 'One reason to Modify your Memory Allocator (C/C++)', 'available': True, 'files': {'videos/singles/Jacob Sorber/One reason to Modify your Memory Allocator (C/C++).mp4'}}\n",
      "Adding child RoVD6zlftF0 and {'parent_id': '/c/JacobSorber', 'parent_name': 'Jacob Sorber', 'path': ['channels', 'Jacob Sorber'], 'name': 'One reason to Modify your Memory Allocator (C/C++)', 'available': True, 'files': {'videos/singles/Jacob Sorber/One reason to Modify your Memory Allocator (C/C++).mp4'}} to singles table\n"
     ]
    },
    {
     "name": "stderr",
     "output_type": "stream",
     "text": [
      "INFO:root:Adding http://www.youtube.com/c/JacobSorber to the database\n",
      "INFO:root:Adding videos/singles/Jacob Sorber/Memory Allocator Errors and XMalloc.mp4 to the database\n"
     ]
    },
    {
     "name": "stdout",
     "output_type": "stream",
     "text": [
      "Child keys: {'parent_id': '/c/JacobSorber', 'parent_name': 'Jacob Sorber', 'path': ['channels', 'Jacob Sorber'], 'name': 'Memory Allocator Errors and XMalloc', 'available': True, 'files': {'videos/singles/Jacob Sorber/Memory Allocator Errors and XMalloc.mp4'}}\n",
      "Adding child dpjt_D8xcPU and {'parent_id': '/c/JacobSorber', 'parent_name': 'Jacob Sorber', 'path': ['channels', 'Jacob Sorber'], 'name': 'Memory Allocator Errors and XMalloc', 'available': True, 'files': {'videos/singles/Jacob Sorber/Memory Allocator Errors and XMalloc.mp4'}} to singles table\n"
     ]
    },
    {
     "name": "stderr",
     "output_type": "stream",
     "text": [
      "INFO:root:Adding http://www.youtube.com/c/JacobSorber to the database\n",
      "INFO:root:Adding videos/singles/Jacob Sorber/The Multiple Paths through Embedded Systems.mp4 to the database\n"
     ]
    },
    {
     "name": "stdout",
     "output_type": "stream",
     "text": [
      "Child keys: {'parent_id': '/c/JacobSorber', 'parent_name': 'Jacob Sorber', 'path': ['channels', 'Jacob Sorber'], 'name': 'The Multiple Paths through Embedded Systems', 'available': True, 'files': {'videos/singles/Jacob Sorber/The Multiple Paths through Embedded Systems.mp4'}}\n",
      "Adding child L__eClqEyLg and {'parent_id': '/c/JacobSorber', 'parent_name': 'Jacob Sorber', 'path': ['channels', 'Jacob Sorber'], 'name': 'The Multiple Paths through Embedded Systems', 'available': True, 'files': {'videos/singles/Jacob Sorber/The Multiple Paths through Embedded Systems.mp4'}} to singles table\n"
     ]
    },
    {
     "name": "stderr",
     "output_type": "stream",
     "text": [
      "INFO:root:Adding http://www.youtube.com/c/JacobSorber to the database\n",
      "INFO:root:Adding videos/singles/Jacob Sorber/Your Computer is Lying To You (Virtual Memory).mp4 to the database\n"
     ]
    },
    {
     "name": "stdout",
     "output_type": "stream",
     "text": [
      "Child keys: {'parent_id': '/c/JacobSorber', 'parent_name': 'Jacob Sorber', 'path': ['channels', 'Jacob Sorber'], 'name': 'Your Computer is Lying To You (Virtual Memory)', 'available': True, 'files': {'videos/singles/Jacob Sorber/Your Computer is Lying To You (Virtual Memory).mp4'}}\n",
      "Adding child Aw0YAUdQp1c and {'parent_id': '/c/JacobSorber', 'parent_name': 'Jacob Sorber', 'path': ['channels', 'Jacob Sorber'], 'name': 'Your Computer is Lying To You (Virtual Memory)', 'available': True, 'files': {'videos/singles/Jacob Sorber/Your Computer is Lying To You (Virtual Memory).mp4'}} to singles table\n"
     ]
    },
    {
     "name": "stderr",
     "output_type": "stream",
     "text": [
      "INFO:root:Adding http://www.youtube.com/c/JacobSorber to the database\n",
      "INFO:root:Adding videos/singles/Jacob Sorber/Are Vectors Slower than Arrays?.mp4 to the database\n"
     ]
    },
    {
     "name": "stdout",
     "output_type": "stream",
     "text": [
      "Child keys: {'parent_id': '/c/JacobSorber', 'parent_name': 'Jacob Sorber', 'path': ['channels', 'Jacob Sorber'], 'name': 'Are Vectors Slower than Arrays?', 'available': True, 'files': {'videos/singles/Jacob Sorber/Are Vectors Slower than Arrays?.mp4'}}\n",
      "Adding child vMFa6oKSmao and {'parent_id': '/c/JacobSorber', 'parent_name': 'Jacob Sorber', 'path': ['channels', 'Jacob Sorber'], 'name': 'Are Vectors Slower than Arrays?', 'available': True, 'files': {'videos/singles/Jacob Sorber/Are Vectors Slower than Arrays?.mp4'}} to singles table\n"
     ]
    },
    {
     "name": "stderr",
     "output_type": "stream",
     "text": [
      "INFO:root:Adding http://www.youtube.com/c/JacobSorber to the database\n",
      "INFO:root:Adding videos/singles/Jacob Sorber/What should I automate? Advice for new programmers..mp4 to the database\n"
     ]
    },
    {
     "name": "stdout",
     "output_type": "stream",
     "text": [
      "Child keys: {'parent_id': '/c/JacobSorber', 'parent_name': 'Jacob Sorber', 'path': ['channels', 'Jacob Sorber'], 'name': 'What should I automate? Advice for new programmers.', 'available': True, 'files': {'videos/singles/Jacob Sorber/What should I automate? Advice for new programmers..mp4'}}\n",
      "Adding child DzyxGrDT2yk and {'parent_id': '/c/JacobSorber', 'parent_name': 'Jacob Sorber', 'path': ['channels', 'Jacob Sorber'], 'name': 'What should I automate? Advice for new programmers.', 'available': True, 'files': {'videos/singles/Jacob Sorber/What should I automate? Advice for new programmers..mp4'}} to singles table\n"
     ]
    },
    {
     "name": "stderr",
     "output_type": "stream",
     "text": [
      "INFO:root:Adding http://www.youtube.com/c/JacobSorber to the database\n",
      "INFO:root:Adding videos/singles/Jacob Sorber/When to use the Arrow Operator in C and C++.mp4 to the database\n"
     ]
    },
    {
     "name": "stdout",
     "output_type": "stream",
     "text": [
      "Child keys: {'parent_id': '/c/JacobSorber', 'parent_name': 'Jacob Sorber', 'path': ['channels', 'Jacob Sorber'], 'name': 'When to use the Arrow Operator in C and C++', 'available': True, 'files': {'videos/singles/Jacob Sorber/When to use the Arrow Operator in C and C++.mp4'}}\n",
      "Adding child CM6QPHsPI2I and {'parent_id': '/c/JacobSorber', 'parent_name': 'Jacob Sorber', 'path': ['channels', 'Jacob Sorber'], 'name': 'When to use the Arrow Operator in C and C++', 'available': True, 'files': {'videos/singles/Jacob Sorber/When to use the Arrow Operator in C and C++.mp4'}} to singles table\n"
     ]
    },
    {
     "name": "stderr",
     "output_type": "stream",
     "text": [
      "INFO:root:Adding http://www.youtube.com/c/JacobSorber to the database\n",
      "INFO:root:Adding videos/singles/Jacob Sorber/How Memory Usage Slows Down Your Programs.mp4 to the database\n"
     ]
    },
    {
     "name": "stdout",
     "output_type": "stream",
     "text": [
      "Child keys: {'parent_id': '/c/JacobSorber', 'parent_name': 'Jacob Sorber', 'path': ['channels', 'Jacob Sorber'], 'name': 'How Memory Usage Slows Down Your Programs', 'available': True, 'files': {'videos/singles/Jacob Sorber/How Memory Usage Slows Down Your Programs.mp4'}}\n",
      "Adding child LRLlEzkCL4I and {'parent_id': '/c/JacobSorber', 'parent_name': 'Jacob Sorber', 'path': ['channels', 'Jacob Sorber'], 'name': 'How Memory Usage Slows Down Your Programs', 'available': True, 'files': {'videos/singles/Jacob Sorber/How Memory Usage Slows Down Your Programs.mp4'}} to singles table\n"
     ]
    },
    {
     "name": "stderr",
     "output_type": "stream",
     "text": [
      "INFO:root:Adding http://www.youtube.com/c/JacobSorber to the database\n",
      "INFO:root:Adding videos/singles/Jacob Sorber/What's the Right Way to Get File Size in C and C++?.mp4 to the database\n"
     ]
    },
    {
     "name": "stdout",
     "output_type": "stream",
     "text": [
      "Child keys: {'parent_id': '/c/JacobSorber', 'parent_name': 'Jacob Sorber', 'path': ['channels', 'Jacob Sorber'], 'name': \"What's the Right Way to Get File Size in C and C++?\", 'available': True, 'files': {\"videos/singles/Jacob Sorber/What's the Right Way to Get File Size in C and C++?.mp4\"}}\n",
      "Adding child ufMDgJY2I8I and {'parent_id': '/c/JacobSorber', 'parent_name': 'Jacob Sorber', 'path': ['channels', 'Jacob Sorber'], 'name': \"What's the Right Way to Get File Size in C and C++?\", 'available': True, 'files': {\"videos/singles/Jacob Sorber/What's the Right Way to Get File Size in C and C++?.mp4\"}} to singles table\n"
     ]
    },
    {
     "name": "stderr",
     "output_type": "stream",
     "text": [
      "INFO:root:Adding http://www.youtube.com/c/JacobSorber to the database\n",
      "INFO:root:Adding videos/singles/Jacob Sorber/How To Implement a Graph in C. (adjacency matrix version).mp4 to the database\n"
     ]
    },
    {
     "name": "stdout",
     "output_type": "stream",
     "text": [
      "Child keys: {'parent_id': '/c/JacobSorber', 'parent_name': 'Jacob Sorber', 'path': ['channels', 'Jacob Sorber'], 'name': 'How To Implement a Graph in C. (adjacency matrix version)', 'available': True, 'files': {'videos/singles/Jacob Sorber/How To Implement a Graph in C. (adjacency matrix version).mp4'}}\n",
      "Adding child nvRkFi8rbOM and {'parent_id': '/c/JacobSorber', 'parent_name': 'Jacob Sorber', 'path': ['channels', 'Jacob Sorber'], 'name': 'How To Implement a Graph in C. (adjacency matrix version)', 'available': True, 'files': {'videos/singles/Jacob Sorber/How To Implement a Graph in C. (adjacency matrix version).mp4'}} to singles table\n"
     ]
    },
    {
     "name": "stderr",
     "output_type": "stream",
     "text": [
      "INFO:root:Adding http://www.youtube.com/c/JacobSorber to the database\n",
      "INFO:root:Adding videos/singles/Jacob Sorber/What is a Graph Data Structure? When to use it? How to easily visualize it?.mp4 to the database\n"
     ]
    },
    {
     "name": "stdout",
     "output_type": "stream",
     "text": [
      "Child keys: {'parent_id': '/c/JacobSorber', 'parent_name': 'Jacob Sorber', 'path': ['channels', 'Jacob Sorber'], 'name': 'What is a Graph Data Structure? When to use it? How to easily visualize it?', 'available': True, 'files': {'videos/singles/Jacob Sorber/What is a Graph Data Structure? When to use it? How to easily visualize it?.mp4'}}\n",
      "Adding child tq3zPnrQIpU and {'parent_id': '/c/JacobSorber', 'parent_name': 'Jacob Sorber', 'path': ['channels', 'Jacob Sorber'], 'name': 'What is a Graph Data Structure? When to use it? How to easily visualize it?', 'available': True, 'files': {'videos/singles/Jacob Sorber/What is a Graph Data Structure? When to use it? How to easily visualize it?.mp4'}} to singles table\n"
     ]
    },
    {
     "name": "stderr",
     "output_type": "stream",
     "text": [
      "INFO:root:Adding http://www.youtube.com/c/JacobSorber to the database\n",
      "INFO:root:Adding videos/singles/Jacob Sorber/This might be the worst thing about programming on a Mac..mp4 to the database\n"
     ]
    },
    {
     "name": "stdout",
     "output_type": "stream",
     "text": [
      "Child keys: {'parent_id': '/c/JacobSorber', 'parent_name': 'Jacob Sorber', 'path': ['channels', 'Jacob Sorber'], 'name': 'This might be the worst thing about programming on a Mac.', 'available': True, 'files': {'videos/singles/Jacob Sorber/This might be the worst thing about programming on a Mac..mp4'}}\n",
      "Adding child tRtVR-WL8w4 and {'parent_id': '/c/JacobSorber', 'parent_name': 'Jacob Sorber', 'path': ['channels', 'Jacob Sorber'], 'name': 'This might be the worst thing about programming on a Mac.', 'available': True, 'files': {'videos/singles/Jacob Sorber/This might be the worst thing about programming on a Mac..mp4'}} to singles table\n"
     ]
    },
    {
     "name": "stderr",
     "output_type": "stream",
     "text": [
      "INFO:root:Adding http://www.youtube.com/c/JacobSorber to the database\n",
      "INFO:root:Adding videos/singles/Jacob Sorber/Working with a Matrix/2D Array in Your C and C++ programs..mp4 to the database\n"
     ]
    },
    {
     "name": "stdout",
     "output_type": "stream",
     "text": [
      "Child keys: {'parent_id': '/c/JacobSorber', 'parent_name': 'Jacob Sorber', 'path': ['channels', 'Jacob Sorber'], 'name': 'Working with a Matrix/2D Array in Your C and C++ programs.', 'available': True, 'files': {'videos/singles/Jacob Sorber/Working with a Matrix/2D Array in Your C and C++ programs..mp4'}}\n",
      "Adding child NqEbV5FBKmg and {'parent_id': '/c/JacobSorber', 'parent_name': 'Jacob Sorber', 'path': ['channels', 'Jacob Sorber'], 'name': 'Working with a Matrix/2D Array in Your C and C++ programs.', 'available': True, 'files': {'videos/singles/Jacob Sorber/Working with a Matrix/2D Array in Your C and C++ programs..mp4'}} to singles table\n"
     ]
    },
    {
     "name": "stderr",
     "output_type": "stream",
     "text": [
      "INFO:root:Adding http://www.youtube.com/c/JacobSorber to the database\n",
      "INFO:root:Adding videos/singles/Jacob Sorber/How different are C and C++? Can I still say C/C++?.mp4 to the database\n"
     ]
    },
    {
     "name": "stdout",
     "output_type": "stream",
     "text": [
      "Child keys: {'parent_id': '/c/JacobSorber', 'parent_name': 'Jacob Sorber', 'path': ['channels', 'Jacob Sorber'], 'name': 'How different are C and C++? Can I still say C/C++?', 'available': True, 'files': {'videos/singles/Jacob Sorber/How different are C and C++? Can I still say C/C++?.mp4'}}\n",
      "Adding child Kq8m980JEeg and {'parent_id': '/c/JacobSorber', 'parent_name': 'Jacob Sorber', 'path': ['channels', 'Jacob Sorber'], 'name': 'How different are C and C++? Can I still say C/C++?', 'available': True, 'files': {'videos/singles/Jacob Sorber/How different are C and C++? Can I still say C/C++?.mp4'}} to singles table\n"
     ]
    },
    {
     "name": "stderr",
     "output_type": "stream",
     "text": [
      "INFO:root:Adding http://www.youtube.com/c/JacobSorber to the database\n",
      "INFO:root:Adding videos/singles/Jacob Sorber/How to Automatically Run a Function When My Program Exits. (atexit).mp4 to the database\n"
     ]
    },
    {
     "name": "stdout",
     "output_type": "stream",
     "text": [
      "Child keys: {'parent_id': '/c/JacobSorber', 'parent_name': 'Jacob Sorber', 'path': ['channels', 'Jacob Sorber'], 'name': 'How to Automatically Run a Function When My Program Exits. (atexit)', 'available': True, 'files': {'videos/singles/Jacob Sorber/How to Automatically Run a Function When My Program Exits. (atexit).mp4'}}\n",
      "Adding child PVIzokTJdVM and {'parent_id': '/c/JacobSorber', 'parent_name': 'Jacob Sorber', 'path': ['channels', 'Jacob Sorber'], 'name': 'How to Automatically Run a Function When My Program Exits. (atexit)', 'available': True, 'files': {'videos/singles/Jacob Sorber/How to Automatically Run a Function When My Program Exits. (atexit).mp4'}} to singles table\n"
     ]
    },
    {
     "name": "stderr",
     "output_type": "stream",
     "text": [
      "INFO:root:Adding http://www.youtube.com/c/JacobSorber to the database\n",
      "INFO:root:Adding videos/singles/Jacob Sorber/Debugging Embedded Systems With GDB?.mp4 to the database\n"
     ]
    },
    {
     "name": "stdout",
     "output_type": "stream",
     "text": [
      "Child keys: {'parent_id': '/c/JacobSorber', 'parent_name': 'Jacob Sorber', 'path': ['channels', 'Jacob Sorber'], 'name': 'Debugging Embedded Systems With GDB?', 'available': True, 'files': {'videos/singles/Jacob Sorber/Debugging Embedded Systems With GDB?.mp4'}}\n",
      "Adding child m4agpY_w2y8 and {'parent_id': '/c/JacobSorber', 'parent_name': 'Jacob Sorber', 'path': ['channels', 'Jacob Sorber'], 'name': 'Debugging Embedded Systems With GDB?', 'available': True, 'files': {'videos/singles/Jacob Sorber/Debugging Embedded Systems With GDB?.mp4'}} to singles table\n"
     ]
    },
    {
     "name": "stderr",
     "output_type": "stream",
     "text": [
      "INFO:root:Adding http://www.youtube.com/c/JacobSorber to the database\n",
      "INFO:root:Adding videos/singles/Jacob Sorber/How to Write Function-Like Preprocessor Macros (C example).mp4 to the database\n"
     ]
    },
    {
     "name": "stdout",
     "output_type": "stream",
     "text": [
      "Child keys: {'parent_id': '/c/JacobSorber', 'parent_name': 'Jacob Sorber', 'path': ['channels', 'Jacob Sorber'], 'name': 'How to Write Function-Like Preprocessor Macros (C example)', 'available': True, 'files': {'videos/singles/Jacob Sorber/How to Write Function-Like Preprocessor Macros (C example).mp4'}}\n",
      "Adding child w3iXBUbq4NY and {'parent_id': '/c/JacobSorber', 'parent_name': 'Jacob Sorber', 'path': ['channels', 'Jacob Sorber'], 'name': 'How to Write Function-Like Preprocessor Macros (C example)', 'available': True, 'files': {'videos/singles/Jacob Sorber/How to Write Function-Like Preprocessor Macros (C example).mp4'}} to singles table\n"
     ]
    },
    {
     "name": "stderr",
     "output_type": "stream",
     "text": [
      "INFO:root:Adding http://www.youtube.com/c/JacobSorber to the database\n",
      "INFO:root:Adding videos/singles/Jacob Sorber/What are the Most Important CS Courses?.mp4 to the database\n"
     ]
    },
    {
     "name": "stdout",
     "output_type": "stream",
     "text": [
      "Child keys: {'parent_id': '/c/JacobSorber', 'parent_name': 'Jacob Sorber', 'path': ['channels', 'Jacob Sorber'], 'name': 'What are the Most Important CS Courses?', 'available': True, 'files': {'videos/singles/Jacob Sorber/What are the Most Important CS Courses?.mp4'}}\n",
      "Adding child 4p564Su-F9M and {'parent_id': '/c/JacobSorber', 'parent_name': 'Jacob Sorber', 'path': ['channels', 'Jacob Sorber'], 'name': 'What are the Most Important CS Courses?', 'available': True, 'files': {'videos/singles/Jacob Sorber/What are the Most Important CS Courses?.mp4'}} to singles table\n"
     ]
    },
    {
     "name": "stderr",
     "output_type": "stream",
     "text": [
      "INFO:root:Adding http://www.youtube.com/c/JacobSorber to the database\n",
      "INFO:root:Adding videos/singles/Jacob Sorber/Highlighting a Student Programming Project (Code Review).mp4 to the database\n"
     ]
    },
    {
     "name": "stdout",
     "output_type": "stream",
     "text": [
      "Child keys: {'parent_id': '/c/JacobSorber', 'parent_name': 'Jacob Sorber', 'path': ['channels', 'Jacob Sorber'], 'name': 'Highlighting a Student Programming Project (Code Review)', 'available': True, 'files': {'videos/singles/Jacob Sorber/Highlighting a Student Programming Project (Code Review).mp4'}}\n",
      "Adding child iF2F0YIgxy4 and {'parent_id': '/c/JacobSorber', 'parent_name': 'Jacob Sorber', 'path': ['channels', 'Jacob Sorber'], 'name': 'Highlighting a Student Programming Project (Code Review)', 'available': True, 'files': {'videos/singles/Jacob Sorber/Highlighting a Student Programming Project (Code Review).mp4'}} to singles table\n"
     ]
    },
    {
     "name": "stderr",
     "output_type": "stream",
     "text": [
      "INFO:root:Adding http://www.youtube.com/c/JacobSorber to the database\n",
      "INFO:root:Adding videos/singles/Jacob Sorber/The Ternary Operator (examples in C and C++).mp4 to the database\n"
     ]
    },
    {
     "name": "stdout",
     "output_type": "stream",
     "text": [
      "Child keys: {'parent_id': '/c/JacobSorber', 'parent_name': 'Jacob Sorber', 'path': ['channels', 'Jacob Sorber'], 'name': 'The Ternary Operator (examples in C and C++)', 'available': True, 'files': {'videos/singles/Jacob Sorber/The Ternary Operator (examples in C and C++).mp4'}}\n",
      "Adding child PfMV_wa0KY4 and {'parent_id': '/c/JacobSorber', 'parent_name': 'Jacob Sorber', 'path': ['channels', 'Jacob Sorber'], 'name': 'The Ternary Operator (examples in C and C++)', 'available': True, 'files': {'videos/singles/Jacob Sorber/The Ternary Operator (examples in C and C++).mp4'}} to singles table\n"
     ]
    },
    {
     "name": "stderr",
     "output_type": "stream",
     "text": [
      "INFO:root:Adding http://www.youtube.com/c/JacobSorber to the database\n",
      "INFO:root:Adding videos/singles/Jacob Sorber/What Actually is Embedded C/C++? Is it different from C/C++?.mp4 to the database\n"
     ]
    },
    {
     "name": "stdout",
     "output_type": "stream",
     "text": [
      "Child keys: {'parent_id': '/c/JacobSorber', 'parent_name': 'Jacob Sorber', 'path': ['channels', 'Jacob Sorber'], 'name': 'What Actually is Embedded C/C++? Is it different from C/C++?', 'available': True, 'files': {'videos/singles/Jacob Sorber/What Actually is Embedded C/C++? Is it different from C/C++?.mp4'}}\n",
      "Adding child KQBBWvY-s0o and {'parent_id': '/c/JacobSorber', 'parent_name': 'Jacob Sorber', 'path': ['channels', 'Jacob Sorber'], 'name': 'What Actually is Embedded C/C++? Is it different from C/C++?', 'available': True, 'files': {'videos/singles/Jacob Sorber/What Actually is Embedded C/C++? Is it different from C/C++?.mp4'}} to singles table\n"
     ]
    },
    {
     "name": "stderr",
     "output_type": "stream",
     "text": [
      "INFO:root:Adding http://www.youtube.com/c/JacobSorber to the database\n",
      "INFO:root:Adding videos/singles/Jacob Sorber/How do I make multiple concurrent progress bars in the terminal? (tutorial in C).mp4 to the database\n"
     ]
    },
    {
     "name": "stdout",
     "output_type": "stream",
     "text": [
      "Child keys: {'parent_id': '/c/JacobSorber', 'parent_name': 'Jacob Sorber', 'path': ['channels', 'Jacob Sorber'], 'name': 'How do I make multiple concurrent progress bars in the terminal? (tutorial in C)', 'available': True, 'files': {'videos/singles/Jacob Sorber/How do I make multiple concurrent progress bars in the terminal? (tutorial in C).mp4'}}\n",
      "Adding child ayfCxgVStdQ and {'parent_id': '/c/JacobSorber', 'parent_name': 'Jacob Sorber', 'path': ['channels', 'Jacob Sorber'], 'name': 'How do I make multiple concurrent progress bars in the terminal? (tutorial in C)', 'available': True, 'files': {'videos/singles/Jacob Sorber/How do I make multiple concurrent progress bars in the terminal? (tutorial in C).mp4'}} to singles table\n"
     ]
    },
    {
     "name": "stderr",
     "output_type": "stream",
     "text": [
      "INFO:root:Adding http://www.youtube.com/c/JacobSorber to the database\n",
      "INFO:root:Adding videos/singles/Jacob Sorber/When do I use a union in C or C++, instead of a struct?.mp4 to the database\n"
     ]
    },
    {
     "name": "stdout",
     "output_type": "stream",
     "text": [
      "Child keys: {'parent_id': '/c/JacobSorber', 'parent_name': 'Jacob Sorber', 'path': ['channels', 'Jacob Sorber'], 'name': 'When do I use a union in C or C++, instead of a struct?', 'available': True, 'files': {'videos/singles/Jacob Sorber/When do I use a union in C or C++, instead of a struct?.mp4'}}\n",
      "Adding child b9_0bqrm2G8 and {'parent_id': '/c/JacobSorber', 'parent_name': 'Jacob Sorber', 'path': ['channels', 'Jacob Sorber'], 'name': 'When do I use a union in C or C++, instead of a struct?', 'available': True, 'files': {'videos/singles/Jacob Sorber/When do I use a union in C or C++, instead of a struct?.mp4'}} to singles table\n"
     ]
    },
    {
     "name": "stderr",
     "output_type": "stream",
     "text": [
      "INFO:root:Adding http://www.youtube.com/c/JacobSorber to the database\n",
      "INFO:root:Adding videos/singles/Jacob Sorber/What's the best programming font? Code font recommendations for 2021..mp4 to the database\n"
     ]
    },
    {
     "name": "stdout",
     "output_type": "stream",
     "text": [
      "Child keys: {'parent_id': '/c/JacobSorber', 'parent_name': 'Jacob Sorber', 'path': ['channels', 'Jacob Sorber'], 'name': \"What's the best programming font? Code font recommendations for 2021.\", 'available': True, 'files': {\"videos/singles/Jacob Sorber/What's the best programming font? Code font recommendations for 2021..mp4\"}}\n",
      "Adding child 5td9upDbkaU and {'parent_id': '/c/JacobSorber', 'parent_name': 'Jacob Sorber', 'path': ['channels', 'Jacob Sorber'], 'name': \"What's the best programming font? Code font recommendations for 2021.\", 'available': True, 'files': {\"videos/singles/Jacob Sorber/What's the best programming font? Code font recommendations for 2021..mp4\"}} to singles table\n"
     ]
    },
    {
     "name": "stderr",
     "output_type": "stream",
     "text": [
      "INFO:root:Adding http://www.youtube.com/c/JacobSorber to the database\n",
      "INFO:root:Adding videos/singles/Jacob Sorber/Finding Parts for your Embedded Systems.mp4 to the database\n"
     ]
    },
    {
     "name": "stdout",
     "output_type": "stream",
     "text": [
      "Child keys: {'parent_id': '/c/JacobSorber', 'parent_name': 'Jacob Sorber', 'path': ['channels', 'Jacob Sorber'], 'name': 'Finding Parts for your Embedded Systems', 'available': True, 'files': {'videos/singles/Jacob Sorber/Finding Parts for your Embedded Systems.mp4'}}\n",
      "Adding child 3-L_91DFBm4 and {'parent_id': '/c/JacobSorber', 'parent_name': 'Jacob Sorber', 'path': ['channels', 'Jacob Sorber'], 'name': 'Finding Parts for your Embedded Systems', 'available': True, 'files': {'videos/singles/Jacob Sorber/Finding Parts for your Embedded Systems.mp4'}} to singles table\n"
     ]
    },
    {
     "name": "stderr",
     "output_type": "stream",
     "text": [
      "INFO:root:Adding http://www.youtube.com/c/JacobSorber to the database\n",
      "INFO:root:Adding videos/singles/Jacob Sorber/Make your own 50k YouTube Play Button (C / curses tutorial).mp4 to the database\n"
     ]
    },
    {
     "name": "stdout",
     "output_type": "stream",
     "text": [
      "Child keys: {'parent_id': '/c/JacobSorber', 'parent_name': 'Jacob Sorber', 'path': ['channels', 'Jacob Sorber'], 'name': 'Make your own 50k YouTube Play Button (C / curses tutorial)', 'available': True, 'files': {'videos/singles/Jacob Sorber/Make your own 50k YouTube Play Button (C / curses tutorial).mp4'}}\n",
      "Adding child kYvVHlMMF_A and {'parent_id': '/c/JacobSorber', 'parent_name': 'Jacob Sorber', 'path': ['channels', 'Jacob Sorber'], 'name': 'Make your own 50k YouTube Play Button (C / curses tutorial)', 'available': True, 'files': {'videos/singles/Jacob Sorber/Make your own 50k YouTube Play Button (C / curses tutorial).mp4'}} to singles table\n"
     ]
    },
    {
     "name": "stderr",
     "output_type": "stream",
     "text": [
      "INFO:root:Adding http://www.youtube.com/c/JacobSorber to the database\n",
      "INFO:root:Adding videos/singles/Jacob Sorber/How to Develop Code on Another Machine.mp4 to the database\n"
     ]
    },
    {
     "name": "stdout",
     "output_type": "stream",
     "text": [
      "Child keys: {'parent_id': '/c/JacobSorber', 'parent_name': 'Jacob Sorber', 'path': ['channels', 'Jacob Sorber'], 'name': 'How to Develop Code on Another Machine', 'available': True, 'files': {'videos/singles/Jacob Sorber/How to Develop Code on Another Machine.mp4'}}\n",
      "Adding child 6_oBi3Qw_mc and {'parent_id': '/c/JacobSorber', 'parent_name': 'Jacob Sorber', 'path': ['channels', 'Jacob Sorber'], 'name': 'How to Develop Code on Another Machine', 'available': True, 'files': {'videos/singles/Jacob Sorber/How to Develop Code on Another Machine.mp4'}} to singles table\n"
     ]
    },
    {
     "name": "stderr",
     "output_type": "stream",
     "text": [
      "INFO:root:Adding http://www.youtube.com/c/JacobSorber to the database\n",
      "INFO:root:Adding videos/singles/Jacob Sorber/Why are Progress Bars Always Wrong? Progress Bar Example in C..mp4 to the database\n"
     ]
    },
    {
     "name": "stdout",
     "output_type": "stream",
     "text": [
      "Child keys: {'parent_id': '/c/JacobSorber', 'parent_name': 'Jacob Sorber', 'path': ['channels', 'Jacob Sorber'], 'name': 'Why are Progress Bars Always Wrong? Progress Bar Example in C.', 'available': True, 'files': {'videos/singles/Jacob Sorber/Why are Progress Bars Always Wrong? Progress Bar Example in C..mp4'}}\n",
      "Adding child t_vM_8TLjFE and {'parent_id': '/c/JacobSorber', 'parent_name': 'Jacob Sorber', 'path': ['channels', 'Jacob Sorber'], 'name': 'Why are Progress Bars Always Wrong? Progress Bar Example in C.', 'available': True, 'files': {'videos/singles/Jacob Sorber/Why are Progress Bars Always Wrong? Progress Bar Example in C..mp4'}} to singles table\n"
     ]
    },
    {
     "name": "stderr",
     "output_type": "stream",
     "text": [
      "INFO:root:Adding http://www.youtube.com/c/JacobSorber to the database\n",
      "INFO:root:Adding videos/singles/Jacob Sorber/The Trie Data Structure, Part 2 (search, delete).mp4 to the database\n"
     ]
    },
    {
     "name": "stdout",
     "output_type": "stream",
     "text": [
      "Child keys: {'parent_id': '/c/JacobSorber', 'parent_name': 'Jacob Sorber', 'path': ['channels', 'Jacob Sorber'], 'name': 'The Trie Data Structure, Part 2 (search, delete)', 'available': True, 'files': {'videos/singles/Jacob Sorber/The Trie Data Structure, Part 2 (search, delete).mp4'}}\n",
      "Adding child NDfAYZCHstI and {'parent_id': '/c/JacobSorber', 'parent_name': 'Jacob Sorber', 'path': ['channels', 'Jacob Sorber'], 'name': 'The Trie Data Structure, Part 2 (search, delete)', 'available': True, 'files': {'videos/singles/Jacob Sorber/The Trie Data Structure, Part 2 (search, delete).mp4'}} to singles table\n"
     ]
    },
    {
     "name": "stderr",
     "output_type": "stream",
     "text": [
      "INFO:root:Adding http://www.youtube.com/c/JacobSorber to the database\n",
      "INFO:root:Adding videos/singles/Jacob Sorber/The Trie Data Structure (Prefix Tree).mp4 to the database\n"
     ]
    },
    {
     "name": "stdout",
     "output_type": "stream",
     "text": [
      "Child keys: {'parent_id': '/c/JacobSorber', 'parent_name': 'Jacob Sorber', 'path': ['channels', 'Jacob Sorber'], 'name': 'The Trie Data Structure (Prefix Tree)', 'available': True, 'files': {'videos/singles/Jacob Sorber/The Trie Data Structure (Prefix Tree).mp4'}}\n",
      "Adding child 3CbFFVHQrk4 and {'parent_id': '/c/JacobSorber', 'parent_name': 'Jacob Sorber', 'path': ['channels', 'Jacob Sorber'], 'name': 'The Trie Data Structure (Prefix Tree)', 'available': True, 'files': {'videos/singles/Jacob Sorber/The Trie Data Structure (Prefix Tree).mp4'}} to singles table\n"
     ]
    },
    {
     "name": "stderr",
     "output_type": "stream",
     "text": [
      "INFO:root:Adding http://www.youtube.com/c/JacobSorber to the database\n",
      "INFO:root:Adding videos/singles/Jacob Sorber/The Rise Over The Run of Slopewalker.mp4 to the database\n"
     ]
    },
    {
     "name": "stdout",
     "output_type": "stream",
     "text": [
      "Child keys: {'parent_id': '/c/JacobSorber', 'parent_name': 'Jacob Sorber', 'path': ['channels', 'Jacob Sorber'], 'name': 'The Rise Over The Run of Slopewalker', 'available': True, 'files': {'videos/singles/Jacob Sorber/The Rise Over The Run of Slopewalker.mp4'}}\n",
      "Adding child 9KfSKkeIyOs and {'parent_id': '/c/JacobSorber', 'parent_name': 'Jacob Sorber', 'path': ['channels', 'Jacob Sorber'], 'name': 'The Rise Over The Run of Slopewalker', 'available': True, 'files': {'videos/singles/Jacob Sorber/The Rise Over The Run of Slopewalker.mp4'}} to singles table\n"
     ]
    },
    {
     "name": "stderr",
     "output_type": "stream",
     "text": [
      "INFO:root:Adding http://www.youtube.com/c/JacobSorber to the database\n",
      "INFO:root:Adding videos/singles/Jacob Sorber/How Look Up Tables (LUTs) make your code Smaller, Faster, and Better (example in C).mp4 to the database\n"
     ]
    },
    {
     "name": "stdout",
     "output_type": "stream",
     "text": [
      "Child keys: {'parent_id': '/c/JacobSorber', 'parent_name': 'Jacob Sorber', 'path': ['channels', 'Jacob Sorber'], 'name': 'How Look Up Tables (LUTs) make your code Smaller, Faster, and Better (example in C)', 'available': True, 'files': {'videos/singles/Jacob Sorber/How Look Up Tables (LUTs) make your code Smaller, Faster, and Better (example in C).mp4'}}\n",
      "Adding child JPPxV3Hdz_A and {'parent_id': '/c/JacobSorber', 'parent_name': 'Jacob Sorber', 'path': ['channels', 'Jacob Sorber'], 'name': 'How Look Up Tables (LUTs) make your code Smaller, Faster, and Better (example in C)', 'available': True, 'files': {'videos/singles/Jacob Sorber/How Look Up Tables (LUTs) make your code Smaller, Faster, and Better (example in C).mp4'}} to singles table\n"
     ]
    },
    {
     "name": "stderr",
     "output_type": "stream",
     "text": [
      "INFO:root:Adding http://www.youtube.com/c/JacobSorber to the database\n",
      "INFO:root:Adding videos/singles/Jacob Sorber/Defining Constants. Should I use CONST or #DEFINE?.mp4 to the database\n"
     ]
    },
    {
     "name": "stdout",
     "output_type": "stream",
     "text": [
      "Child keys: {'parent_id': '/c/JacobSorber', 'parent_name': 'Jacob Sorber', 'path': ['channels', 'Jacob Sorber'], 'name': 'Defining Constants. Should I use CONST or #DEFINE?', 'available': True, 'files': {'videos/singles/Jacob Sorber/Defining Constants. Should I use CONST or #DEFINE?.mp4'}}\n",
      "Adding child ZIhy4uy5uJM and {'parent_id': '/c/JacobSorber', 'parent_name': 'Jacob Sorber', 'path': ['channels', 'Jacob Sorber'], 'name': 'Defining Constants. Should I use CONST or #DEFINE?', 'available': True, 'files': {'videos/singles/Jacob Sorber/Defining Constants. Should I use CONST or #DEFINE?.mp4'}} to singles table\n"
     ]
    },
    {
     "name": "stderr",
     "output_type": "stream",
     "text": [
      "INFO:root:Adding http://www.youtube.com/c/JacobSorber to the database\n",
      "INFO:root:Adding videos/singles/Jacob Sorber/A Few Embedded Systems Tips for Beginners.mp4 to the database\n"
     ]
    },
    {
     "name": "stdout",
     "output_type": "stream",
     "text": [
      "Child keys: {'parent_id': '/c/JacobSorber', 'parent_name': 'Jacob Sorber', 'path': ['channels', 'Jacob Sorber'], 'name': 'A Few Embedded Systems Tips for Beginners', 'available': True, 'files': {'videos/singles/Jacob Sorber/A Few Embedded Systems Tips for Beginners.mp4'}}\n",
      "Adding child j3SwYvuR8oc and {'parent_id': '/c/JacobSorber', 'parent_name': 'Jacob Sorber', 'path': ['channels', 'Jacob Sorber'], 'name': 'A Few Embedded Systems Tips for Beginners', 'available': True, 'files': {'videos/singles/Jacob Sorber/A Few Embedded Systems Tips for Beginners.mp4'}} to singles table\n"
     ]
    },
    {
     "name": "stderr",
     "output_type": "stream",
     "text": [
      "INFO:root:Adding http://www.youtube.com/c/JacobSorber to the database\n",
      "INFO:root:Adding videos/singles/Jacob Sorber/How to get and unget input from streams in C (getstring, fgetc, ungetc)..mp4 to the database\n"
     ]
    },
    {
     "name": "stdout",
     "output_type": "stream",
     "text": [
      "Child keys: {'parent_id': '/c/JacobSorber', 'parent_name': 'Jacob Sorber', 'path': ['channels', 'Jacob Sorber'], 'name': 'How to get and unget input from streams in C (getstring, fgetc, ungetc).', 'available': True, 'files': {'videos/singles/Jacob Sorber/How to get and unget input from streams in C (getstring, fgetc, ungetc)..mp4'}}\n",
      "Adding child tjndNX2h5Zc and {'parent_id': '/c/JacobSorber', 'parent_name': 'Jacob Sorber', 'path': ['channels', 'Jacob Sorber'], 'name': 'How to get and unget input from streams in C (getstring, fgetc, ungetc).', 'available': True, 'files': {'videos/singles/Jacob Sorber/How to get and unget input from streams in C (getstring, fgetc, ungetc)..mp4'}} to singles table\n"
     ]
    },
    {
     "name": "stderr",
     "output_type": "stream",
     "text": [
      "INFO:root:Adding http://www.youtube.com/c/JacobSorber to the database\n",
      "INFO:root:Adding videos/singles/Jacob Sorber/Project Setup: Automated Testing with Make (using queue example).mp4 to the database\n"
     ]
    },
    {
     "name": "stdout",
     "output_type": "stream",
     "text": [
      "Child keys: {'parent_id': '/c/JacobSorber', 'parent_name': 'Jacob Sorber', 'path': ['channels', 'Jacob Sorber'], 'name': 'Project Setup: Automated Testing with Make (using queue example)', 'available': True, 'files': {'videos/singles/Jacob Sorber/Project Setup: Automated Testing with Make (using queue example).mp4'}}\n",
      "Adding child JarMkGWTF8Y and {'parent_id': '/c/JacobSorber', 'parent_name': 'Jacob Sorber', 'path': ['channels', 'Jacob Sorber'], 'name': 'Project Setup: Automated Testing with Make (using queue example)', 'available': True, 'files': {'videos/singles/Jacob Sorber/Project Setup: Automated Testing with Make (using queue example).mp4'}} to singles table\n"
     ]
    },
    {
     "name": "stderr",
     "output_type": "stream",
     "text": [
      "INFO:root:Adding http://www.youtube.com/c/JacobSorber to the database\n",
      "INFO:root:Adding videos/singles/Jacob Sorber/Make your Data Type more Abstract with Opaque Types in C.mp4 to the database\n"
     ]
    },
    {
     "name": "stdout",
     "output_type": "stream",
     "text": [
      "Child keys: {'parent_id': '/c/JacobSorber', 'parent_name': 'Jacob Sorber', 'path': ['channels', 'Jacob Sorber'], 'name': 'Make your Data Type more Abstract with Opaque Types in C', 'available': True, 'files': {'videos/singles/Jacob Sorber/Make your Data Type more Abstract with Opaque Types in C.mp4'}}\n",
      "Adding child TsUOhPsZk6k and {'parent_id': '/c/JacobSorber', 'parent_name': 'Jacob Sorber', 'path': ['channels', 'Jacob Sorber'], 'name': 'Make your Data Type more Abstract with Opaque Types in C', 'available': True, 'files': {'videos/singles/Jacob Sorber/Make your Data Type more Abstract with Opaque Types in C.mp4'}} to singles table\n"
     ]
    },
    {
     "name": "stderr",
     "output_type": "stream",
     "text": [
      "INFO:root:Adding http://www.youtube.com/c/JacobSorber to the database\n",
      "INFO:root:Adding videos/singles/Jacob Sorber/More Tips for Setting up a Programming Project: Subdirectories and Structure.mp4 to the database\n"
     ]
    },
    {
     "name": "stdout",
     "output_type": "stream",
     "text": [
      "Child keys: {'parent_id': '/c/JacobSorber', 'parent_name': 'Jacob Sorber', 'path': ['channels', 'Jacob Sorber'], 'name': 'More Tips for Setting up a Programming Project: Subdirectories and Structure', 'available': True, 'files': {'videos/singles/Jacob Sorber/More Tips for Setting up a Programming Project: Subdirectories and Structure.mp4'}}\n",
      "Adding child CRlqU9XzVr4 and {'parent_id': '/c/JacobSorber', 'parent_name': 'Jacob Sorber', 'path': ['channels', 'Jacob Sorber'], 'name': 'More Tips for Setting up a Programming Project: Subdirectories and Structure', 'available': True, 'files': {'videos/singles/Jacob Sorber/More Tips for Setting up a Programming Project: Subdirectories and Structure.mp4'}} to singles table\n"
     ]
    },
    {
     "name": "stderr",
     "output_type": "stream",
     "text": [
      "INFO:root:Adding http://www.youtube.com/c/JacobSorber to the database\n",
      "INFO:root:Adding videos/singles/Jacob Sorber/Implementing a Circular Queue in C.mp4 to the database\n"
     ]
    },
    {
     "name": "stdout",
     "output_type": "stream",
     "text": [
      "Child keys: {'parent_id': '/c/JacobSorber', 'parent_name': 'Jacob Sorber', 'path': ['channels', 'Jacob Sorber'], 'name': 'Implementing a Circular Queue in C', 'available': True, 'files': {'videos/singles/Jacob Sorber/Implementing a Circular Queue in C.mp4'}}\n",
      "Adding child oyX30WVuEos and {'parent_id': '/c/JacobSorber', 'parent_name': 'Jacob Sorber', 'path': ['channels', 'Jacob Sorber'], 'name': 'Implementing a Circular Queue in C', 'available': True, 'files': {'videos/singles/Jacob Sorber/Implementing a Circular Queue in C.mp4'}} to singles table\n"
     ]
    },
    {
     "name": "stderr",
     "output_type": "stream",
     "text": [
      "INFO:root:Adding http://www.youtube.com/c/JacobSorber to the database\n",
      "INFO:root:Adding videos/singles/Jacob Sorber/How to Program Matrix Style Dripping Text (terminal, C, curses example).mp4 to the database\n"
     ]
    },
    {
     "name": "stdout",
     "output_type": "stream",
     "text": [
      "Child keys: {'parent_id': '/c/JacobSorber', 'parent_name': 'Jacob Sorber', 'path': ['channels', 'Jacob Sorber'], 'name': 'How to Program Matrix Style Dripping Text (terminal, C, curses example)', 'available': True, 'files': {'videos/singles/Jacob Sorber/How to Program Matrix Style Dripping Text (terminal, C, curses example).mp4'}}\n",
      "Adding child K8dCh3ZMLN8 and {'parent_id': '/c/JacobSorber', 'parent_name': 'Jacob Sorber', 'path': ['channels', 'Jacob Sorber'], 'name': 'How to Program Matrix Style Dripping Text (terminal, C, curses example)', 'available': True, 'files': {'videos/singles/Jacob Sorber/How to Program Matrix Style Dripping Text (terminal, C, curses example).mp4'}} to singles table\n"
     ]
    },
    {
     "name": "stderr",
     "output_type": "stream",
     "text": [
      "INFO:root:Adding http://www.youtube.com/c/JacobSorber to the database\n",
      "INFO:root:Adding videos/singles/Jacob Sorber/Can I Handle Exceptions with Try Catch in C? (setjmp, longjmp).mp4 to the database\n"
     ]
    },
    {
     "name": "stdout",
     "output_type": "stream",
     "text": [
      "Child keys: {'parent_id': '/c/JacobSorber', 'parent_name': 'Jacob Sorber', 'path': ['channels', 'Jacob Sorber'], 'name': 'Can I Handle Exceptions with Try Catch in C? (setjmp, longjmp)', 'available': True, 'files': {'videos/singles/Jacob Sorber/Can I Handle Exceptions with Try Catch in C? (setjmp, longjmp).mp4'}}\n",
      "Adding child eQcRcgOnl9o and {'parent_id': '/c/JacobSorber', 'parent_name': 'Jacob Sorber', 'path': ['channels', 'Jacob Sorber'], 'name': 'Can I Handle Exceptions with Try Catch in C? (setjmp, longjmp)', 'available': True, 'files': {'videos/singles/Jacob Sorber/Can I Handle Exceptions with Try Catch in C? (setjmp, longjmp).mp4'}} to singles table\n"
     ]
    },
    {
     "name": "stderr",
     "output_type": "stream",
     "text": [
      "INFO:root:Adding http://www.youtube.com/c/JacobSorber to the database\n",
      "INFO:root:Adding videos/singles/Jacob Sorber/Understanding the Pipe System Call (popen3 example in C).mp4 to the database\n"
     ]
    },
    {
     "name": "stdout",
     "output_type": "stream",
     "text": [
      "Child keys: {'parent_id': '/c/JacobSorber', 'parent_name': 'Jacob Sorber', 'path': ['channels', 'Jacob Sorber'], 'name': 'Understanding the Pipe System Call (popen3 example in C)', 'available': True, 'files': {'videos/singles/Jacob Sorber/Understanding the Pipe System Call (popen3 example in C).mp4'}}\n",
      "Adding child 8AXEHrQTf3I and {'parent_id': '/c/JacobSorber', 'parent_name': 'Jacob Sorber', 'path': ['channels', 'Jacob Sorber'], 'name': 'Understanding the Pipe System Call (popen3 example in C)', 'available': True, 'files': {'videos/singles/Jacob Sorber/Understanding the Pipe System Call (popen3 example in C).mp4'}} to singles table\n"
     ]
    },
    {
     "name": "stderr",
     "output_type": "stream",
     "text": [
      "INFO:root:Adding http://www.youtube.com/c/JacobSorber to the database\n",
      "INFO:root:Adding videos/singles/Jacob Sorber/How to Return Two Things from a C or C++ Function.mp4 to the database\n"
     ]
    },
    {
     "name": "stdout",
     "output_type": "stream",
     "text": [
      "Child keys: {'parent_id': '/c/JacobSorber', 'parent_name': 'Jacob Sorber', 'path': ['channels', 'Jacob Sorber'], 'name': 'How to Return Two Things from a C or C++ Function', 'available': True, 'files': {'videos/singles/Jacob Sorber/How to Return Two Things from a C or C++ Function.mp4'}}\n",
      "Adding child uLZVDSZc_ZU and {'parent_id': '/c/JacobSorber', 'parent_name': 'Jacob Sorber', 'path': ['channels', 'Jacob Sorber'], 'name': 'How to Return Two Things from a C or C++ Function', 'available': True, 'files': {'videos/singles/Jacob Sorber/How to Return Two Things from a C or C++ Function.mp4'}} to singles table\n"
     ]
    },
    {
     "name": "stderr",
     "output_type": "stream",
     "text": [
      "INFO:root:Adding http://www.youtube.com/c/JacobSorber to the database\n",
      "INFO:root:Adding videos/singles/Jacob Sorber/Setup Tips for Your Next Programming Project.mp4 to the database\n"
     ]
    },
    {
     "name": "stdout",
     "output_type": "stream",
     "text": [
      "Child keys: {'parent_id': '/c/JacobSorber', 'parent_name': 'Jacob Sorber', 'path': ['channels', 'Jacob Sorber'], 'name': 'Setup Tips for Your Next Programming Project', 'available': True, 'files': {'videos/singles/Jacob Sorber/Setup Tips for Your Next Programming Project.mp4'}}\n",
      "Adding child LfIPVIsH4ZU and {'parent_id': '/c/JacobSorber', 'parent_name': 'Jacob Sorber', 'path': ['channels', 'Jacob Sorber'], 'name': 'Setup Tips for Your Next Programming Project', 'available': True, 'files': {'videos/singles/Jacob Sorber/Setup Tips for Your Next Programming Project.mp4'}} to singles table\n"
     ]
    },
    {
     "name": "stderr",
     "output_type": "stream",
     "text": [
      "INFO:root:Adding http://www.youtube.com/c/JacobSorber to the database\n",
      "INFO:root:Adding videos/singles/Jacob Sorber/Understand and Implement a Binary Search Tree in C.mp4 to the database\n"
     ]
    },
    {
     "name": "stdout",
     "output_type": "stream",
     "text": [
      "Child keys: {'parent_id': '/c/JacobSorber', 'parent_name': 'Jacob Sorber', 'path': ['channels', 'Jacob Sorber'], 'name': 'Understand and Implement a Binary Search Tree in C', 'available': True, 'files': {'videos/singles/Jacob Sorber/Understand and Implement a Binary Search Tree in C.mp4'}}\n",
      "Adding child hfwwaNNJ-0A and {'parent_id': '/c/JacobSorber', 'parent_name': 'Jacob Sorber', 'path': ['channels', 'Jacob Sorber'], 'name': 'Understand and Implement a Binary Search Tree in C', 'available': True, 'files': {'videos/singles/Jacob Sorber/Understand and Implement a Binary Search Tree in C.mp4'}} to singles table\n"
     ]
    },
    {
     "name": "stderr",
     "output_type": "stream",
     "text": [
      "INFO:root:Adding http://www.youtube.com/c/JacobSorber to the database\n",
      "INFO:root:Adding videos/singles/Jacob Sorber/Why I don't recommend C++ for beginners..mp4 to the database\n"
     ]
    },
    {
     "name": "stdout",
     "output_type": "stream",
     "text": [
      "Child keys: {'parent_id': '/c/JacobSorber', 'parent_name': 'Jacob Sorber', 'path': ['channels', 'Jacob Sorber'], 'name': \"Why I don't recommend C++ for beginners.\", 'available': True, 'files': {\"videos/singles/Jacob Sorber/Why I don't recommend C++ for beginners..mp4\"}}\n",
      "Adding child KGFOLJiIo1g and {'parent_id': '/c/JacobSorber', 'parent_name': 'Jacob Sorber', 'path': ['channels', 'Jacob Sorber'], 'name': \"Why I don't recommend C++ for beginners.\", 'available': True, 'files': {\"videos/singles/Jacob Sorber/Why I don't recommend C++ for beginners..mp4\"}} to singles table\n"
     ]
    },
    {
     "name": "stderr",
     "output_type": "stream",
     "text": [
      "INFO:root:Adding http://www.youtube.com/c/JacobSorber to the database\n",
      "INFO:root:Adding videos/singles/Jacob Sorber/Creating your own custom hardware (printed circuit boards).mp4 to the database\n"
     ]
    },
    {
     "name": "stdout",
     "output_type": "stream",
     "text": [
      "Child keys: {'parent_id': '/c/JacobSorber', 'parent_name': 'Jacob Sorber', 'path': ['channels', 'Jacob Sorber'], 'name': 'Creating your own custom hardware (printed circuit boards)', 'available': True, 'files': {'videos/singles/Jacob Sorber/Creating your own custom hardware (printed circuit boards).mp4'}}\n",
      "Adding child 9zU92H_CLVI and {'parent_id': '/c/JacobSorber', 'parent_name': 'Jacob Sorber', 'path': ['channels', 'Jacob Sorber'], 'name': 'Creating your own custom hardware (printed circuit boards)', 'available': True, 'files': {'videos/singles/Jacob Sorber/Creating your own custom hardware (printed circuit boards).mp4'}} to singles table\n"
     ]
    },
    {
     "name": "stderr",
     "output_type": "stream",
     "text": [
      "INFO:root:Adding http://www.youtube.com/c/JacobSorber to the database\n",
      "INFO:root:Adding videos/singles/Jacob Sorber/How to Implement a Tree in C.mp4 to the database\n"
     ]
    },
    {
     "name": "stdout",
     "output_type": "stream",
     "text": [
      "Child keys: {'parent_id': '/c/JacobSorber', 'parent_name': 'Jacob Sorber', 'path': ['channels', 'Jacob Sorber'], 'name': 'How to Implement a Tree in C', 'available': True, 'files': {'videos/singles/Jacob Sorber/How to Implement a Tree in C.mp4'}}\n",
      "Adding child UbhlOk7vjVY and {'parent_id': '/c/JacobSorber', 'parent_name': 'Jacob Sorber', 'path': ['channels', 'Jacob Sorber'], 'name': 'How to Implement a Tree in C', 'available': True, 'files': {'videos/singles/Jacob Sorber/How to Implement a Tree in C.mp4'}} to singles table\n"
     ]
    },
    {
     "name": "stderr",
     "output_type": "stream",
     "text": [
      "INFO:root:Adding http://www.youtube.com/c/JacobSorber to the database\n",
      "INFO:root:Adding videos/singles/Jacob Sorber/Debug faster with gdb layouts (TUI).mp4 to the database\n"
     ]
    },
    {
     "name": "stdout",
     "output_type": "stream",
     "text": [
      "Child keys: {'parent_id': '/c/JacobSorber', 'parent_name': 'Jacob Sorber', 'path': ['channels', 'Jacob Sorber'], 'name': 'Debug faster with gdb layouts (TUI)', 'available': True, 'files': {'videos/singles/Jacob Sorber/Debug faster with gdb layouts (TUI).mp4'}}\n",
      "Adding child mm0b_H0KIRw and {'parent_id': '/c/JacobSorber', 'parent_name': 'Jacob Sorber', 'path': ['channels', 'Jacob Sorber'], 'name': 'Debug faster with gdb layouts (TUI)', 'available': True, 'files': {'videos/singles/Jacob Sorber/Debug faster with gdb layouts (TUI).mp4'}} to singles table\n"
     ]
    },
    {
     "name": "stderr",
     "output_type": "stream",
     "text": [
      "INFO:root:Adding http://www.youtube.com/c/JacobSorber to the database\n",
      "INFO:root:Adding videos/singles/Jacob Sorber/The Call Stack and Stack Overflows (example in C).mp4 to the database\n"
     ]
    },
    {
     "name": "stdout",
     "output_type": "stream",
     "text": [
      "Child keys: {'parent_id': '/c/JacobSorber', 'parent_name': 'Jacob Sorber', 'path': ['channels', 'Jacob Sorber'], 'name': 'The Call Stack and Stack Overflows (example in C)', 'available': True, 'files': {'videos/singles/Jacob Sorber/The Call Stack and Stack Overflows (example in C).mp4'}}\n",
      "Adding child jVzSBkbfdiw and {'parent_id': '/c/JacobSorber', 'parent_name': 'Jacob Sorber', 'path': ['channels', 'Jacob Sorber'], 'name': 'The Call Stack and Stack Overflows (example in C)', 'available': True, 'files': {'videos/singles/Jacob Sorber/The Call Stack and Stack Overflows (example in C).mp4'}} to singles table\n"
     ]
    },
    {
     "name": "stderr",
     "output_type": "stream",
     "text": [
      "INFO:root:Adding http://www.youtube.com/c/JacobSorber to the database\n",
      "INFO:root:Adding videos/singles/Jacob Sorber/Answering Your Questions (clang vs gcc, operators, and is web programming a waste of time?).mp4 to the database\n"
     ]
    },
    {
     "name": "stdout",
     "output_type": "stream",
     "text": [
      "Child keys: {'parent_id': '/c/JacobSorber', 'parent_name': 'Jacob Sorber', 'path': ['channels', 'Jacob Sorber'], 'name': 'Answering Your Questions (clang vs gcc, operators, and is web programming a waste of time?)', 'available': True, 'files': {'videos/singles/Jacob Sorber/Answering Your Questions (clang vs gcc, operators, and is web programming a waste of time?).mp4'}}\n",
      "Adding child FPVTr4thm2M and {'parent_id': '/c/JacobSorber', 'parent_name': 'Jacob Sorber', 'path': ['channels', 'Jacob Sorber'], 'name': 'Answering Your Questions (clang vs gcc, operators, and is web programming a waste of time?)', 'available': True, 'files': {'videos/singles/Jacob Sorber/Answering Your Questions (clang vs gcc, operators, and is web programming a waste of time?).mp4'}} to singles table\n"
     ]
    },
    {
     "name": "stderr",
     "output_type": "stream",
     "text": [
      "INFO:root:Adding http://www.youtube.com/c/JacobSorber to the database\n",
      "INFO:root:Adding videos/singles/Jacob Sorber/Fixed and Variable Length Arrays in C and C++.mp4 to the database\n"
     ]
    },
    {
     "name": "stdout",
     "output_type": "stream",
     "text": [
      "Child keys: {'parent_id': '/c/JacobSorber', 'parent_name': 'Jacob Sorber', 'path': ['channels', 'Jacob Sorber'], 'name': 'Fixed and Variable Length Arrays in C and C++', 'available': True, 'files': {'videos/singles/Jacob Sorber/Fixed and Variable Length Arrays in C and C++.mp4'}}\n",
      "Adding child rww_OHQOmbs and {'parent_id': '/c/JacobSorber', 'parent_name': 'Jacob Sorber', 'path': ['channels', 'Jacob Sorber'], 'name': 'Fixed and Variable Length Arrays in C and C++', 'available': True, 'files': {'videos/singles/Jacob Sorber/Fixed and Variable Length Arrays in C and C++.mp4'}} to singles table\n"
     ]
    },
    {
     "name": "stderr",
     "output_type": "stream",
     "text": [
      "INFO:root:Adding http://www.youtube.com/c/JacobSorber to the database\n",
      "INFO:root:Adding videos/singles/Jacob Sorber/Easy Networking in C (libcurl).mp4 to the database\n"
     ]
    },
    {
     "name": "stdout",
     "output_type": "stream",
     "text": [
      "Child keys: {'parent_id': '/c/JacobSorber', 'parent_name': 'Jacob Sorber', 'path': ['channels', 'Jacob Sorber'], 'name': 'Easy Networking in C (libcurl)', 'available': True, 'files': {'videos/singles/Jacob Sorber/Easy Networking in C (libcurl).mp4'}}\n",
      "Adding child daA-KBKfJ_o and {'parent_id': '/c/JacobSorber', 'parent_name': 'Jacob Sorber', 'path': ['channels', 'Jacob Sorber'], 'name': 'Easy Networking in C (libcurl)', 'available': True, 'files': {'videos/singles/Jacob Sorber/Easy Networking in C (libcurl).mp4'}} to singles table\n"
     ]
    },
    {
     "name": "stderr",
     "output_type": "stream",
     "text": [
      "INFO:root:Adding http://www.youtube.com/c/JacobSorber to the database\n",
      "INFO:root:Adding videos/singles/Jacob Sorber/How to Check Your Pointers at Runtime.mp4 to the database\n"
     ]
    },
    {
     "name": "stdout",
     "output_type": "stream",
     "text": [
      "Child keys: {'parent_id': '/c/JacobSorber', 'parent_name': 'Jacob Sorber', 'path': ['channels', 'Jacob Sorber'], 'name': 'How to Check Your Pointers at Runtime', 'available': True, 'files': {'videos/singles/Jacob Sorber/How to Check Your Pointers at Runtime.mp4'}}\n",
      "Adding child yM9zteeTCiI and {'parent_id': '/c/JacobSorber', 'parent_name': 'Jacob Sorber', 'path': ['channels', 'Jacob Sorber'], 'name': 'How to Check Your Pointers at Runtime', 'available': True, 'files': {'videos/singles/Jacob Sorber/How to Check Your Pointers at Runtime.mp4'}} to singles table\n"
     ]
    },
    {
     "name": "stderr",
     "output_type": "stream",
     "text": [
      "INFO:root:Adding http://www.youtube.com/c/JacobSorber to the database\n",
      "INFO:root:Adding videos/singles/Jacob Sorber/Does it matter how I write my infinite loops? (for vs. while?).mp4 to the database\n"
     ]
    },
    {
     "name": "stdout",
     "output_type": "stream",
     "text": [
      "Child keys: {'parent_id': '/c/JacobSorber', 'parent_name': 'Jacob Sorber', 'path': ['channels', 'Jacob Sorber'], 'name': 'Does it matter how I write my infinite loops? (for vs. while?)', 'available': True, 'files': {'videos/singles/Jacob Sorber/Does it matter how I write my infinite loops? (for vs. while?).mp4'}}\n",
      "Adding child bC2dfBJwtMY and {'parent_id': '/c/JacobSorber', 'parent_name': 'Jacob Sorber', 'path': ['channels', 'Jacob Sorber'], 'name': 'Does it matter how I write my infinite loops? (for vs. while?)', 'available': True, 'files': {'videos/singles/Jacob Sorber/Does it matter how I write my infinite loops? (for vs. while?).mp4'}} to singles table\n"
     ]
    },
    {
     "name": "stderr",
     "output_type": "stream",
     "text": [
      "INFO:root:Adding http://www.youtube.com/c/JacobSorber to the database\n",
      "INFO:root:Adding videos/singles/Jacob Sorber/How to use an ADC (embedded example in C).mp4 to the database\n"
     ]
    },
    {
     "name": "stdout",
     "output_type": "stream",
     "text": [
      "Child keys: {'parent_id': '/c/JacobSorber', 'parent_name': 'Jacob Sorber', 'path': ['channels', 'Jacob Sorber'], 'name': 'How to use an ADC (embedded example in C)', 'available': True, 'files': {'videos/singles/Jacob Sorber/How to use an ADC (embedded example in C).mp4'}}\n",
      "Adding child u58HG5n49Xk and {'parent_id': '/c/JacobSorber', 'parent_name': 'Jacob Sorber', 'path': ['channels', 'Jacob Sorber'], 'name': 'How to use an ADC (embedded example in C)', 'available': True, 'files': {'videos/singles/Jacob Sorber/How to use an ADC (embedded example in C).mp4'}} to singles table\n"
     ]
    },
    {
     "name": "stderr",
     "output_type": "stream",
     "text": [
      "INFO:root:Adding http://www.youtube.com/c/JacobSorber to the database\n",
      "INFO:root:Adding videos/singles/Jacob Sorber/How to Automatically Remove Dead Code?.mp4 to the database\n"
     ]
    },
    {
     "name": "stdout",
     "output_type": "stream",
     "text": [
      "Child keys: {'parent_id': '/c/JacobSorber', 'parent_name': 'Jacob Sorber', 'path': ['channels', 'Jacob Sorber'], 'name': 'How to Automatically Remove Dead Code?', 'available': True, 'files': {'videos/singles/Jacob Sorber/How to Automatically Remove Dead Code?.mp4'}}\n",
      "Adding child eLRWDZ7uQQU and {'parent_id': '/c/JacobSorber', 'parent_name': 'Jacob Sorber', 'path': ['channels', 'Jacob Sorber'], 'name': 'How to Automatically Remove Dead Code?', 'available': True, 'files': {'videos/singles/Jacob Sorber/How to Automatically Remove Dead Code?.mp4'}} to singles table\n"
     ]
    },
    {
     "name": "stderr",
     "output_type": "stream",
     "text": [
      "INFO:root:Adding http://www.youtube.com/c/JacobSorber to the database\n",
      "INFO:root:Adding videos/singles/Jacob Sorber/ASCII Art, Curses, and my New 25K Play Button.mp4 to the database\n"
     ]
    },
    {
     "name": "stdout",
     "output_type": "stream",
     "text": [
      "Child keys: {'parent_id': '/c/JacobSorber', 'parent_name': 'Jacob Sorber', 'path': ['channels', 'Jacob Sorber'], 'name': 'ASCII Art, Curses, and my New 25K Play Button', 'available': True, 'files': {'videos/singles/Jacob Sorber/ASCII Art, Curses, and my New 25K Play Button.mp4'}}\n",
      "Adding child p63O8g4beBo and {'parent_id': '/c/JacobSorber', 'parent_name': 'Jacob Sorber', 'path': ['channels', 'Jacob Sorber'], 'name': 'ASCII Art, Curses, and my New 25K Play Button', 'available': True, 'files': {'videos/singles/Jacob Sorber/ASCII Art, Curses, and my New 25K Play Button.mp4'}} to singles table\n"
     ]
    },
    {
     "name": "stderr",
     "output_type": "stream",
     "text": [
      "INFO:root:Adding http://www.youtube.com/c/JacobSorber to the database\n",
      "INFO:root:Adding videos/singles/Jacob Sorber/What is a semaphore? How do they work? (Example in C).mp4 to the database\n"
     ]
    },
    {
     "name": "stdout",
     "output_type": "stream",
     "text": [
      "Child keys: {'parent_id': '/c/JacobSorber', 'parent_name': 'Jacob Sorber', 'path': ['channels', 'Jacob Sorber'], 'name': 'What is a semaphore? How do they work? (Example in C)', 'available': True, 'files': {'videos/singles/Jacob Sorber/What is a semaphore? How do they work? (Example in C).mp4'}}\n",
      "Adding child ukM_zzrIeXs and {'parent_id': '/c/JacobSorber', 'parent_name': 'Jacob Sorber', 'path': ['channels', 'Jacob Sorber'], 'name': 'What is a semaphore? How do they work? (Example in C)', 'available': True, 'files': {'videos/singles/Jacob Sorber/What is a semaphore? How do they work? (Example in C).mp4'}} to singles table\n"
     ]
    },
    {
     "name": "stderr",
     "output_type": "stream",
     "text": [
      "INFO:root:Adding http://www.youtube.com/c/JacobSorber to the database\n",
      "INFO:root:Adding videos/singles/Jacob Sorber/The Inline Keyword in C..mp4 to the database\n"
     ]
    },
    {
     "name": "stdout",
     "output_type": "stream",
     "text": [
      "Child keys: {'parent_id': '/c/JacobSorber', 'parent_name': 'Jacob Sorber', 'path': ['channels', 'Jacob Sorber'], 'name': 'The Inline Keyword in C.', 'available': True, 'files': {'videos/singles/Jacob Sorber/The Inline Keyword in C..mp4'}}\n",
      "Adding child t6Jfrmdg5rk and {'parent_id': '/c/JacobSorber', 'parent_name': 'Jacob Sorber', 'path': ['channels', 'Jacob Sorber'], 'name': 'The Inline Keyword in C.', 'available': True, 'files': {'videos/singles/Jacob Sorber/The Inline Keyword in C..mp4'}} to singles table\n"
     ]
    },
    {
     "name": "stderr",
     "output_type": "stream",
     "text": [
      "INFO:root:Adding http://www.youtube.com/c/JacobSorber to the database\n",
      "INFO:root:Adding videos/singles/Jacob Sorber/Using the Smallest C Program to Better Understand Your System (with pmap, vmmap, and strace)..mp4 to the database\n"
     ]
    },
    {
     "name": "stdout",
     "output_type": "stream",
     "text": [
      "Child keys: {'parent_id': '/c/JacobSorber', 'parent_name': 'Jacob Sorber', 'path': ['channels', 'Jacob Sorber'], 'name': 'Using the Smallest C Program to Better Understand Your System (with pmap, vmmap, and strace).', 'available': True, 'files': {'videos/singles/Jacob Sorber/Using the Smallest C Program to Better Understand Your System (with pmap, vmmap, and strace)..mp4'}}\n",
      "Adding child cSC7W2MwKqw and {'parent_id': '/c/JacobSorber', 'parent_name': 'Jacob Sorber', 'path': ['channels', 'Jacob Sorber'], 'name': 'Using the Smallest C Program to Better Understand Your System (with pmap, vmmap, and strace).', 'available': True, 'files': {'videos/singles/Jacob Sorber/Using the Smallest C Program to Better Understand Your System (with pmap, vmmap, and strace)..mp4'}} to singles table\n"
     ]
    },
    {
     "name": "stderr",
     "output_type": "stream",
     "text": [
      "INFO:root:Adding http://www.youtube.com/c/JacobSorber to the database\n",
      "INFO:root:Adding videos/singles/Jacob Sorber/Why should I learn assembly language in 2020? (complete waste of time?).mp4 to the database\n"
     ]
    },
    {
     "name": "stdout",
     "output_type": "stream",
     "text": [
      "Child keys: {'parent_id': '/c/JacobSorber', 'parent_name': 'Jacob Sorber', 'path': ['channels', 'Jacob Sorber'], 'name': 'Why should I learn assembly language in 2020? (complete waste of time?)', 'available': True, 'files': {'videos/singles/Jacob Sorber/Why should I learn assembly language in 2020? (complete waste of time?).mp4'}}\n",
      "Adding child iYRl50gtprA and {'parent_id': '/c/JacobSorber', 'parent_name': 'Jacob Sorber', 'path': ['channels', 'Jacob Sorber'], 'name': 'Why should I learn assembly language in 2020? (complete waste of time?)', 'available': True, 'files': {'videos/singles/Jacob Sorber/Why should I learn assembly language in 2020? (complete waste of time?).mp4'}} to singles table\n"
     ]
    },
    {
     "name": "stderr",
     "output_type": "stream",
     "text": [
      "INFO:root:Adding http://www.youtube.com/c/JacobSorber to the database\n",
      "INFO:root:Adding videos/singles/Jacob Sorber/Real Programming vs Tutorials.mp4 to the database\n"
     ]
    },
    {
     "name": "stdout",
     "output_type": "stream",
     "text": [
      "Child keys: {'parent_id': '/c/JacobSorber', 'parent_name': 'Jacob Sorber', 'path': ['channels', 'Jacob Sorber'], 'name': 'Real Programming vs Tutorials', 'available': True, 'files': {'videos/singles/Jacob Sorber/Real Programming vs Tutorials.mp4'}}\n",
      "Adding child liWdn92SAvs and {'parent_id': '/c/JacobSorber', 'parent_name': 'Jacob Sorber', 'path': ['channels', 'Jacob Sorber'], 'name': 'Real Programming vs Tutorials', 'available': True, 'files': {'videos/singles/Jacob Sorber/Real Programming vs Tutorials.mp4'}} to singles table\n"
     ]
    },
    {
     "name": "stderr",
     "output_type": "stream",
     "text": [
      "INFO:root:Adding http://www.youtube.com/c/JacobSorber to the database\n",
      "INFO:root:Adding videos/singles/Jacob Sorber/Why that \"Perfect\" Makefile Doesn't Work..mp4 to the database\n"
     ]
    },
    {
     "name": "stdout",
     "output_type": "stream",
     "text": [
      "Child keys: {'parent_id': '/c/JacobSorber', 'parent_name': 'Jacob Sorber', 'path': ['channels', 'Jacob Sorber'], 'name': 'Why that \"Perfect\" Makefile Doesn\\'t Work.', 'available': True, 'files': {'videos/singles/Jacob Sorber/Why that \"Perfect\" Makefile Doesn\\'t Work..mp4'}}\n",
      "Adding child l5KqE0DMG-Q and {'parent_id': '/c/JacobSorber', 'parent_name': 'Jacob Sorber', 'path': ['channels', 'Jacob Sorber'], 'name': 'Why that \"Perfect\" Makefile Doesn\\'t Work.', 'available': True, 'files': {'videos/singles/Jacob Sorber/Why that \"Perfect\" Makefile Doesn\\'t Work..mp4'}} to singles table\n"
     ]
    },
    {
     "name": "stderr",
     "output_type": "stream",
     "text": [
      "INFO:root:Adding http://www.youtube.com/c/JacobSorber to the database\n",
      "INFO:root:Adding videos/singles/Jacob Sorber/How to Set up Shared Memory in Your Linux and MacOS Programs. (shmget, shmat, shmdt, shmctl, ftok).mp4 to the database\n"
     ]
    },
    {
     "name": "stdout",
     "output_type": "stream",
     "text": [
      "Child keys: {'parent_id': '/c/JacobSorber', 'parent_name': 'Jacob Sorber', 'path': ['channels', 'Jacob Sorber'], 'name': 'How to Set up Shared Memory in Your Linux and MacOS Programs. (shmget, shmat, shmdt, shmctl, ftok)', 'available': True, 'files': {'videos/singles/Jacob Sorber/How to Set up Shared Memory in Your Linux and MacOS Programs. (shmget, shmat, shmdt, shmctl, ftok).mp4'}}\n",
      "Adding child WgVSq-sgHOc and {'parent_id': '/c/JacobSorber', 'parent_name': 'Jacob Sorber', 'path': ['channels', 'Jacob Sorber'], 'name': 'How to Set up Shared Memory in Your Linux and MacOS Programs. (shmget, shmat, shmdt, shmctl, ftok)', 'available': True, 'files': {'videos/singles/Jacob Sorber/How to Set up Shared Memory in Your Linux and MacOS Programs. (shmget, shmat, shmdt, shmctl, ftok).mp4'}} to singles table\n"
     ]
    },
    {
     "name": "stderr",
     "output_type": "stream",
     "text": [
      "INFO:root:Adding http://www.youtube.com/c/JacobSorber to the database\n",
      "INFO:root:Adding videos/singles/Jacob Sorber/Be more productive with better command-line tools (exa, bat, rg)..mp4 to the database\n"
     ]
    },
    {
     "name": "stdout",
     "output_type": "stream",
     "text": [
      "Child keys: {'parent_id': '/c/JacobSorber', 'parent_name': 'Jacob Sorber', 'path': ['channels', 'Jacob Sorber'], 'name': 'Be more productive with better command-line tools (exa, bat, rg).', 'available': True, 'files': {'videos/singles/Jacob Sorber/Be more productive with better command-line tools (exa, bat, rg)..mp4'}}\n",
      "Adding child 7MhJmLV6tdM and {'parent_id': '/c/JacobSorber', 'parent_name': 'Jacob Sorber', 'path': ['channels', 'Jacob Sorber'], 'name': 'Be more productive with better command-line tools (exa, bat, rg).', 'available': True, 'files': {'videos/singles/Jacob Sorber/Be more productive with better command-line tools (exa, bat, rg)..mp4'}} to singles table\n"
     ]
    },
    {
     "name": "stderr",
     "output_type": "stream",
     "text": [
      "INFO:root:Adding http://www.youtube.com/c/JacobSorber to the database\n",
      "INFO:root:Adding videos/singles/Jacob Sorber/How to Implement a Queue in C.mp4 to the database\n"
     ]
    },
    {
     "name": "stdout",
     "output_type": "stream",
     "text": [
      "Child keys: {'parent_id': '/c/JacobSorber', 'parent_name': 'Jacob Sorber', 'path': ['channels', 'Jacob Sorber'], 'name': 'How to Implement a Queue in C', 'available': True, 'files': {'videos/singles/Jacob Sorber/How to Implement a Queue in C.mp4'}}\n",
      "Adding child FcIubL92gaI and {'parent_id': '/c/JacobSorber', 'parent_name': 'Jacob Sorber', 'path': ['channels', 'Jacob Sorber'], 'name': 'How to Implement a Queue in C', 'available': True, 'files': {'videos/singles/Jacob Sorber/How to Implement a Queue in C.mp4'}} to singles table\n"
     ]
    },
    {
     "name": "stderr",
     "output_type": "stream",
     "text": [
      "INFO:root:Adding http://www.youtube.com/c/JacobSorber to the database\n",
      "INFO:root:Adding videos/singles/Jacob Sorber/What should I code next? Ideas for expanding your skills..mp4 to the database\n"
     ]
    },
    {
     "name": "stdout",
     "output_type": "stream",
     "text": [
      "Child keys: {'parent_id': '/c/JacobSorber', 'parent_name': 'Jacob Sorber', 'path': ['channels', 'Jacob Sorber'], 'name': 'What should I code next? Ideas for expanding your skills.', 'available': True, 'files': {'videos/singles/Jacob Sorber/What should I code next? Ideas for expanding your skills..mp4'}}\n",
      "Adding child rBtfqH4kdlc and {'parent_id': '/c/JacobSorber', 'parent_name': 'Jacob Sorber', 'path': ['channels', 'Jacob Sorber'], 'name': 'What should I code next? Ideas for expanding your skills.', 'available': True, 'files': {'videos/singles/Jacob Sorber/What should I code next? Ideas for expanding your skills..mp4'}} to singles table\n"
     ]
    },
    {
     "name": "stderr",
     "output_type": "stream",
     "text": [
      "INFO:root:Adding http://www.youtube.com/c/JacobSorber to the database\n",
      "INFO:root:Adding videos/singles/Jacob Sorber/This matters more than my next programming tutorial..mp4 to the database\n"
     ]
    },
    {
     "name": "stdout",
     "output_type": "stream",
     "text": [
      "Child keys: {'parent_id': '/c/JacobSorber', 'parent_name': 'Jacob Sorber', 'path': ['channels', 'Jacob Sorber'], 'name': 'This matters more than my next programming tutorial.', 'available': True, 'files': {'videos/singles/Jacob Sorber/This matters more than my next programming tutorial..mp4'}}\n",
      "Adding child LBQWwo2d-I8 and {'parent_id': '/c/JacobSorber', 'parent_name': 'Jacob Sorber', 'path': ['channels', 'Jacob Sorber'], 'name': 'This matters more than my next programming tutorial.', 'available': True, 'files': {'videos/singles/Jacob Sorber/This matters more than my next programming tutorial..mp4'}} to singles table\n"
     ]
    },
    {
     "name": "stderr",
     "output_type": "stream",
     "text": [
      "INFO:root:Adding http://www.youtube.com/c/JacobSorber to the database\n",
      "INFO:root:Adding videos/singles/Jacob Sorber/How to Implement a Stack in C (+ encapsulation).mp4 to the database\n"
     ]
    },
    {
     "name": "stdout",
     "output_type": "stream",
     "text": [
      "Child keys: {'parent_id': '/c/JacobSorber', 'parent_name': 'Jacob Sorber', 'path': ['channels', 'Jacob Sorber'], 'name': 'How to Implement a Stack in C (+ encapsulation)', 'available': True, 'files': {'videos/singles/Jacob Sorber/How to Implement a Stack in C (+ encapsulation).mp4'}}\n",
      "Adding child A4sRhuGkRb0 and {'parent_id': '/c/JacobSorber', 'parent_name': 'Jacob Sorber', 'path': ['channels', 'Jacob Sorber'], 'name': 'How to Implement a Stack in C (+ encapsulation)', 'available': True, 'files': {'videos/singles/Jacob Sorber/How to Implement a Stack in C (+ encapsulation).mp4'}} to singles table\n"
     ]
    },
    {
     "name": "stderr",
     "output_type": "stream",
     "text": [
      "INFO:root:Adding http://www.youtube.com/c/JacobSorber to the database\n",
      "INFO:root:Adding videos/singles/Jacob Sorber/How to profile your own function calls in C? (instrument your code!).mp4 to the database\n"
     ]
    },
    {
     "name": "stdout",
     "output_type": "stream",
     "text": [
      "Child keys: {'parent_id': '/c/JacobSorber', 'parent_name': 'Jacob Sorber', 'path': ['channels', 'Jacob Sorber'], 'name': 'How to profile your own function calls in C? (instrument your code!)', 'available': True, 'files': {'videos/singles/Jacob Sorber/How to profile your own function calls in C? (instrument your code!).mp4'}}\n",
      "Adding child M6RCUiZzl8Y and {'parent_id': '/c/JacobSorber', 'parent_name': 'Jacob Sorber', 'path': ['channels', 'Jacob Sorber'], 'name': 'How to profile your own function calls in C? (instrument your code!)', 'available': True, 'files': {'videos/singles/Jacob Sorber/How to profile your own function calls in C? (instrument your code!).mp4'}} to singles table\n"
     ]
    },
    {
     "name": "stderr",
     "output_type": "stream",
     "text": [
      "INFO:root:Adding http://www.youtube.com/c/JacobSorber to the database\n",
      "INFO:root:Adding videos/singles/Jacob Sorber/Why do programmers use hexadecimal numbers?.mp4 to the database\n"
     ]
    },
    {
     "name": "stdout",
     "output_type": "stream",
     "text": [
      "Child keys: {'parent_id': '/c/JacobSorber', 'parent_name': 'Jacob Sorber', 'path': ['channels', 'Jacob Sorber'], 'name': 'Why do programmers use hexadecimal numbers?', 'available': True, 'files': {'videos/singles/Jacob Sorber/Why do programmers use hexadecimal numbers?.mp4'}}\n",
      "Adding child dPxCGlW9lfM and {'parent_id': '/c/JacobSorber', 'parent_name': 'Jacob Sorber', 'path': ['channels', 'Jacob Sorber'], 'name': 'Why do programmers use hexadecimal numbers?', 'available': True, 'files': {'videos/singles/Jacob Sorber/Why do programmers use hexadecimal numbers?.mp4'}} to singles table\n"
     ]
    },
    {
     "name": "stderr",
     "output_type": "stream",
     "text": [
      "INFO:root:Adding http://www.youtube.com/c/JacobSorber to the database\n",
      "INFO:root:Adding videos/singles/Jacob Sorber/Matthew McConaughey and the Terminal.mp4 to the database\n"
     ]
    },
    {
     "name": "stdout",
     "output_type": "stream",
     "text": [
      "Child keys: {'parent_id': '/c/JacobSorber', 'parent_name': 'Jacob Sorber', 'path': ['channels', 'Jacob Sorber'], 'name': 'Matthew McConaughey and the Terminal', 'available': True, 'files': {'videos/singles/Jacob Sorber/Matthew McConaughey and the Terminal.mp4'}}\n",
      "Adding child oZ1gbIpmB8Q and {'parent_id': '/c/JacobSorber', 'parent_name': 'Jacob Sorber', 'path': ['channels', 'Jacob Sorber'], 'name': 'Matthew McConaughey and the Terminal', 'available': True, 'files': {'videos/singles/Jacob Sorber/Matthew McConaughey and the Terminal.mp4'}} to singles table\n"
     ]
    },
    {
     "name": "stderr",
     "output_type": "stream",
     "text": [
      "INFO:root:Adding http://www.youtube.com/c/JacobSorber to the database\n",
      "INFO:root:Adding videos/singles/Jacob Sorber/How to wire-up and program a button. (digital inputs, microcontrollers).mp4 to the database\n"
     ]
    },
    {
     "name": "stdout",
     "output_type": "stream",
     "text": [
      "Child keys: {'parent_id': '/c/JacobSorber', 'parent_name': 'Jacob Sorber', 'path': ['channels', 'Jacob Sorber'], 'name': 'How to wire-up and program a button. (digital inputs, microcontrollers)', 'available': True, 'files': {'videos/singles/Jacob Sorber/How to wire-up and program a button. (digital inputs, microcontrollers).mp4'}}\n",
      "Adding child L69eIm472nY and {'parent_id': '/c/JacobSorber', 'parent_name': 'Jacob Sorber', 'path': ['channels', 'Jacob Sorber'], 'name': 'How to wire-up and program a button. (digital inputs, microcontrollers)', 'available': True, 'files': {'videos/singles/Jacob Sorber/How to wire-up and program a button. (digital inputs, microcontrollers).mp4'}} to singles table\n"
     ]
    },
    {
     "name": "stderr",
     "output_type": "stream",
     "text": [
      "INFO:root:Adding http://www.youtube.com/c/JacobSorber to the database\n",
      "INFO:root:Adding videos/singles/Jacob Sorber/Should you avoid linked lists? (linked list vs arrays).mp4 to the database\n"
     ]
    },
    {
     "name": "stdout",
     "output_type": "stream",
     "text": [
      "Child keys: {'parent_id': '/c/JacobSorber', 'parent_name': 'Jacob Sorber', 'path': ['channels', 'Jacob Sorber'], 'name': 'Should you avoid linked lists? (linked list vs arrays)', 'available': True, 'files': {'videos/singles/Jacob Sorber/Should you avoid linked lists? (linked list vs arrays).mp4'}}\n",
      "Adding child bXsKnUGndEU and {'parent_id': '/c/JacobSorber', 'parent_name': 'Jacob Sorber', 'path': ['channels', 'Jacob Sorber'], 'name': 'Should you avoid linked lists? (linked list vs arrays)', 'available': True, 'files': {'videos/singles/Jacob Sorber/Should you avoid linked lists? (linked list vs arrays).mp4'}} to singles table\n"
     ]
    },
    {
     "name": "stderr",
     "output_type": "stream",
     "text": [
      "INFO:root:Adding http://www.youtube.com/c/JacobSorber to the database\n",
      "INFO:root:Adding videos/singles/Jacob Sorber/How to measure memory usage inside my program? (getrusage).mp4 to the database\n"
     ]
    },
    {
     "name": "stdout",
     "output_type": "stream",
     "text": [
      "Child keys: {'parent_id': '/c/JacobSorber', 'parent_name': 'Jacob Sorber', 'path': ['channels', 'Jacob Sorber'], 'name': 'How to measure memory usage inside my program? (getrusage)', 'available': True, 'files': {'videos/singles/Jacob Sorber/How to measure memory usage inside my program? (getrusage).mp4'}}\n",
      "Adding child Os5cK0H8EOA and {'parent_id': '/c/JacobSorber', 'parent_name': 'Jacob Sorber', 'path': ['channels', 'Jacob Sorber'], 'name': 'How to measure memory usage inside my program? (getrusage)', 'available': True, 'files': {'videos/singles/Jacob Sorber/How to measure memory usage inside my program? (getrusage).mp4'}} to singles table\n"
     ]
    },
    {
     "name": "stderr",
     "output_type": "stream",
     "text": [
      "INFO:root:Adding http://www.youtube.com/c/JacobSorber to the database\n",
      "INFO:root:Adding videos/singles/Jacob Sorber/How to write your own COVID-19 simulator (C++)..mp4 to the database\n"
     ]
    },
    {
     "name": "stdout",
     "output_type": "stream",
     "text": [
      "Child keys: {'parent_id': '/c/JacobSorber', 'parent_name': 'Jacob Sorber', 'path': ['channels', 'Jacob Sorber'], 'name': 'How to write your own COVID-19 simulator (C++).', 'available': True, 'files': {'videos/singles/Jacob Sorber/How to write your own COVID-19 simulator (C++)..mp4'}}\n",
      "Adding child zyQXhPUM4hc and {'parent_id': '/c/JacobSorber', 'parent_name': 'Jacob Sorber', 'path': ['channels', 'Jacob Sorber'], 'name': 'How to write your own COVID-19 simulator (C++).', 'available': True, 'files': {'videos/singles/Jacob Sorber/How to write your own COVID-19 simulator (C++)..mp4'}} to singles table\n"
     ]
    },
    {
     "name": "stderr",
     "output_type": "stream",
     "text": [
      "INFO:root:Adding http://www.youtube.com/c/JacobSorber to the database\n",
      "INFO:root:Adding videos/singles/Jacob Sorber/What are Bit Masks, and how do I use them? (examples in C).mp4 to the database\n"
     ]
    },
    {
     "name": "stdout",
     "output_type": "stream",
     "text": [
      "Child keys: {'parent_id': '/c/JacobSorber', 'parent_name': 'Jacob Sorber', 'path': ['channels', 'Jacob Sorber'], 'name': 'What are Bit Masks, and how do I use them? (examples in C)', 'available': True, 'files': {'videos/singles/Jacob Sorber/What are Bit Masks, and how do I use them? (examples in C).mp4'}}\n",
      "Adding child Ew2QnDeTCCE and {'parent_id': '/c/JacobSorber', 'parent_name': 'Jacob Sorber', 'path': ['channels', 'Jacob Sorber'], 'name': 'What are Bit Masks, and how do I use them? (examples in C)', 'available': True, 'files': {'videos/singles/Jacob Sorber/What are Bit Masks, and how do I use them? (examples in C).mp4'}} to singles table\n"
     ]
    },
    {
     "name": "stderr",
     "output_type": "stream",
     "text": [
      "INFO:root:Adding http://www.youtube.com/c/JacobSorber to the database\n",
      "INFO:root:Adding videos/singles/Jacob Sorber/Bit Fields in C. What are they, and how do I use them?.mp4 to the database\n"
     ]
    },
    {
     "name": "stdout",
     "output_type": "stream",
     "text": [
      "Child keys: {'parent_id': '/c/JacobSorber', 'parent_name': 'Jacob Sorber', 'path': ['channels', 'Jacob Sorber'], 'name': 'Bit Fields in C. What are they, and how do I use them?', 'available': True, 'files': {'videos/singles/Jacob Sorber/Bit Fields in C. What are they, and how do I use them?.mp4'}}\n",
      "Adding child aMAM5vL7wTs and {'parent_id': '/c/JacobSorber', 'parent_name': 'Jacob Sorber', 'path': ['channels', 'Jacob Sorber'], 'name': 'Bit Fields in C. What are they, and how do I use them?', 'available': True, 'files': {'videos/singles/Jacob Sorber/Bit Fields in C. What are they, and how do I use them?.mp4'}} to singles table\n"
     ]
    },
    {
     "name": "stderr",
     "output_type": "stream",
     "text": [
      "INFO:root:Adding http://www.youtube.com/c/JacobSorber to the database\n",
      "INFO:root:Adding videos/singles/Jacob Sorber/Do you need a CS degree in 2020?.mp4 to the database\n"
     ]
    },
    {
     "name": "stdout",
     "output_type": "stream",
     "text": [
      "Child keys: {'parent_id': '/c/JacobSorber', 'parent_name': 'Jacob Sorber', 'path': ['channels', 'Jacob Sorber'], 'name': 'Do you need a CS degree in 2020?', 'available': True, 'files': {'videos/singles/Jacob Sorber/Do you need a CS degree in 2020?.mp4'}}\n",
      "Adding child gDGgMhmoTJI and {'parent_id': '/c/JacobSorber', 'parent_name': 'Jacob Sorber', 'path': ['channels', 'Jacob Sorber'], 'name': 'Do you need a CS degree in 2020?', 'available': True, 'files': {'videos/singles/Jacob Sorber/Do you need a CS degree in 2020?.mp4'}} to singles table\n"
     ]
    },
    {
     "name": "stderr",
     "output_type": "stream",
     "text": [
      "INFO:root:Adding http://www.youtube.com/c/JacobSorber to the database\n",
      "INFO:root:Adding videos/singles/Jacob Sorber/How one thread listens to many sockets with select in C..mp4 to the database\n"
     ]
    },
    {
     "name": "stdout",
     "output_type": "stream",
     "text": [
      "Child keys: {'parent_id': '/c/JacobSorber', 'parent_name': 'Jacob Sorber', 'path': ['channels', 'Jacob Sorber'], 'name': 'How one thread listens to many sockets with select in C.', 'available': True, 'files': {'videos/singles/Jacob Sorber/How one thread listens to many sockets with select in C..mp4'}}\n",
      "Adding child Y6pFtgRdUts and {'parent_id': '/c/JacobSorber', 'parent_name': 'Jacob Sorber', 'path': ['channels', 'Jacob Sorber'], 'name': 'How one thread listens to many sockets with select in C.', 'available': True, 'files': {'videos/singles/Jacob Sorber/How one thread listens to many sockets with select in C..mp4'}} to singles table\n"
     ]
    },
    {
     "name": "stderr",
     "output_type": "stream",
     "text": [
      "INFO:root:Adding http://www.youtube.com/c/JacobSorber to the database\n",
      "INFO:root:Adding videos/singles/Jacob Sorber/How to Blink LEDs with Timers and Interrupts in C (MSP430, Arduino).mp4 to the database\n"
     ]
    },
    {
     "name": "stdout",
     "output_type": "stream",
     "text": [
      "Child keys: {'parent_id': '/c/JacobSorber', 'parent_name': 'Jacob Sorber', 'path': ['channels', 'Jacob Sorber'], 'name': 'How to Blink LEDs with Timers and Interrupts in C (MSP430, Arduino)', 'available': True, 'files': {'videos/singles/Jacob Sorber/How to Blink LEDs with Timers and Interrupts in C (MSP430, Arduino).mp4'}}\n",
      "Adding child PtTVe0zfg_M and {'parent_id': '/c/JacobSorber', 'parent_name': 'Jacob Sorber', 'path': ['channels', 'Jacob Sorber'], 'name': 'How to Blink LEDs with Timers and Interrupts in C (MSP430, Arduino)', 'available': True, 'files': {'videos/singles/Jacob Sorber/How to Blink LEDs with Timers and Interrupts in C (MSP430, Arduino).mp4'}} to singles table\n"
     ]
    },
    {
     "name": "stderr",
     "output_type": "stream",
     "text": [
      "INFO:root:Adding http://www.youtube.com/c/JacobSorber to the database\n",
      "INFO:root:Adding videos/singles/Jacob Sorber/Understanding and implementing a Hash Table (in C).mp4 to the database\n"
     ]
    },
    {
     "name": "stdout",
     "output_type": "stream",
     "text": [
      "Child keys: {'parent_id': '/c/JacobSorber', 'parent_name': 'Jacob Sorber', 'path': ['channels', 'Jacob Sorber'], 'name': 'Understanding and implementing a Hash Table (in C)', 'available': True, 'files': {'videos/singles/Jacob Sorber/Understanding and implementing a Hash Table (in C).mp4'}}\n",
      "Adding child 2Ti5yvumFTU and {'parent_id': '/c/JacobSorber', 'parent_name': 'Jacob Sorber', 'path': ['channels', 'Jacob Sorber'], 'name': 'Understanding and implementing a Hash Table (in C)', 'available': True, 'files': {'videos/singles/Jacob Sorber/Understanding and implementing a Hash Table (in C).mp4'}} to singles table\n"
     ]
    },
    {
     "name": "stderr",
     "output_type": "stream",
     "text": [
      "INFO:root:Adding http://www.youtube.com/c/JacobSorber to the database\n",
      "INFO:root:Adding videos/singles/Jacob Sorber/Is the modulus operator (%) useful?.mp4 to the database\n"
     ]
    },
    {
     "name": "stdout",
     "output_type": "stream",
     "text": [
      "Child keys: {'parent_id': '/c/JacobSorber', 'parent_name': 'Jacob Sorber', 'path': ['channels', 'Jacob Sorber'], 'name': 'Is the modulus operator (%) useful?', 'available': True, 'files': {'videos/singles/Jacob Sorber/Is the modulus operator (%) useful?.mp4'}}\n",
      "Adding child gNEZHW5-Wso and {'parent_id': '/c/JacobSorber', 'parent_name': 'Jacob Sorber', 'path': ['channels', 'Jacob Sorber'], 'name': 'Is the modulus operator (%) useful?', 'available': True, 'files': {'videos/singles/Jacob Sorber/Is the modulus operator (%) useful?.mp4'}} to singles table\n"
     ]
    },
    {
     "name": "stderr",
     "output_type": "stream",
     "text": [
      "INFO:root:Adding http://www.youtube.com/c/JacobSorber to the database\n",
      "INFO:root:Adding videos/singles/Jacob Sorber/How my channel is changing in 2020..mp4 to the database\n"
     ]
    },
    {
     "name": "stdout",
     "output_type": "stream",
     "text": [
      "Child keys: {'parent_id': '/c/JacobSorber', 'parent_name': 'Jacob Sorber', 'path': ['channels', 'Jacob Sorber'], 'name': 'How my channel is changing in 2020.', 'available': True, 'files': {'videos/singles/Jacob Sorber/How my channel is changing in 2020..mp4'}}\n",
      "Adding child n-b04Kx_mi0 and {'parent_id': '/c/JacobSorber', 'parent_name': 'Jacob Sorber', 'path': ['channels', 'Jacob Sorber'], 'name': 'How my channel is changing in 2020.', 'available': True, 'files': {'videos/singles/Jacob Sorber/How my channel is changing in 2020..mp4'}} to singles table\n"
     ]
    },
    {
     "name": "stderr",
     "output_type": "stream",
     "text": [
      "INFO:root:Adding http://www.youtube.com/c/JacobSorber to the database\n",
      "INFO:root:Adding videos/singles/Jacob Sorber/How to Blink an LED in C (avr, msp430).mp4 to the database\n"
     ]
    },
    {
     "name": "stdout",
     "output_type": "stream",
     "text": [
      "Child keys: {'parent_id': '/c/JacobSorber', 'parent_name': 'Jacob Sorber', 'path': ['channels', 'Jacob Sorber'], 'name': 'How to Blink an LED in C (avr, msp430)', 'available': True, 'files': {'videos/singles/Jacob Sorber/How to Blink an LED in C (avr, msp430).mp4'}}\n",
      "Adding child 9Zyp4sdSUNM and {'parent_id': '/c/JacobSorber', 'parent_name': 'Jacob Sorber', 'path': ['channels', 'Jacob Sorber'], 'name': 'How to Blink an LED in C (avr, msp430)', 'available': True, 'files': {'videos/singles/Jacob Sorber/How to Blink an LED in C (avr, msp430).mp4'}} to singles table\n"
     ]
    },
    {
     "name": "stderr",
     "output_type": "stream",
     "text": [
      "INFO:root:Adding http://www.youtube.com/c/JacobSorber to the database\n",
      "INFO:root:Adding videos/singles/Jacob Sorber/Code Review #2: Generalizing and D.R.Y.ing things up..mp4 to the database\n"
     ]
    },
    {
     "name": "stdout",
     "output_type": "stream",
     "text": [
      "Child keys: {'parent_id': '/c/JacobSorber', 'parent_name': 'Jacob Sorber', 'path': ['channels', 'Jacob Sorber'], 'name': 'Code Review #2: Generalizing and D.R.Y.ing things up.', 'available': True, 'files': {'videos/singles/Jacob Sorber/Code Review #2: Generalizing and D.R.Y.ing things up..mp4'}}\n",
      "Adding child lMk5AGz88g4 and {'parent_id': '/c/JacobSorber', 'parent_name': 'Jacob Sorber', 'path': ['channels', 'Jacob Sorber'], 'name': 'Code Review #2: Generalizing and D.R.Y.ing things up.', 'available': True, 'files': {'videos/singles/Jacob Sorber/Code Review #2: Generalizing and D.R.Y.ing things up..mp4'}} to singles table\n"
     ]
    },
    {
     "name": "stderr",
     "output_type": "stream",
     "text": [
      "INFO:root:Adding http://www.youtube.com/c/JacobSorber to the database\n",
      "INFO:root:Adding videos/singles/Jacob Sorber/How to use the volatile keyword in C?.mp4 to the database\n"
     ]
    },
    {
     "name": "stdout",
     "output_type": "stream",
     "text": [
      "Child keys: {'parent_id': '/c/JacobSorber', 'parent_name': 'Jacob Sorber', 'path': ['channels', 'Jacob Sorber'], 'name': 'How to use the volatile keyword in C?', 'available': True, 'files': {'videos/singles/Jacob Sorber/How to use the volatile keyword in C?.mp4'}}\n",
      "Adding child 6tIWFEzzx9I and {'parent_id': '/c/JacobSorber', 'parent_name': 'Jacob Sorber', 'path': ['channels', 'Jacob Sorber'], 'name': 'How to use the volatile keyword in C?', 'available': True, 'files': {'videos/singles/Jacob Sorber/How to use the volatile keyword in C?.mp4'}} to singles table\n"
     ]
    },
    {
     "name": "stderr",
     "output_type": "stream",
     "text": [
      "INFO:root:Adding http://www.youtube.com/c/JacobSorber to the database\n",
      "INFO:root:Adding videos/singles/Jacob Sorber/Blink! The Hello World of Embedded Systems..mp4 to the database\n"
     ]
    },
    {
     "name": "stdout",
     "output_type": "stream",
     "text": [
      "Child keys: {'parent_id': '/c/JacobSorber', 'parent_name': 'Jacob Sorber', 'path': ['channels', 'Jacob Sorber'], 'name': 'Blink! The Hello World of Embedded Systems.', 'available': True, 'files': {'videos/singles/Jacob Sorber/Blink! The Hello World of Embedded Systems..mp4'}}\n",
      "Adding child Scs3oBY7dEo and {'parent_id': '/c/JacobSorber', 'parent_name': 'Jacob Sorber', 'path': ['channels', 'Jacob Sorber'], 'name': 'Blink! The Hello World of Embedded Systems.', 'available': True, 'files': {'videos/singles/Jacob Sorber/Blink! The Hello World of Embedded Systems..mp4'}} to singles table\n"
     ]
    },
    {
     "name": "stderr",
     "output_type": "stream",
     "text": [
      "INFO:root:Adding http://www.youtube.com/c/JacobSorber to the database\n",
      "INFO:root:Adding videos/singles/Jacob Sorber/How to Get Started Learning Embedded Systems.mp4 to the database\n"
     ]
    },
    {
     "name": "stdout",
     "output_type": "stream",
     "text": [
      "Child keys: {'parent_id': '/c/JacobSorber', 'parent_name': 'Jacob Sorber', 'path': ['channels', 'Jacob Sorber'], 'name': 'How to Get Started Learning Embedded Systems', 'available': True, 'files': {'videos/singles/Jacob Sorber/How to Get Started Learning Embedded Systems.mp4'}}\n",
      "Adding child aC37UE7edP0 and {'parent_id': '/c/JacobSorber', 'parent_name': 'Jacob Sorber', 'path': ['channels', 'Jacob Sorber'], 'name': 'How to Get Started Learning Embedded Systems', 'available': True, 'files': {'videos/singles/Jacob Sorber/How to Get Started Learning Embedded Systems.mp4'}} to singles table\n"
     ]
    },
    {
     "name": "stderr",
     "output_type": "stream",
     "text": [
      "INFO:root:Adding http://www.youtube.com/c/JacobSorber to the database\n",
      "INFO:root:Adding videos/singles/Jacob Sorber/The Debugger — a Short Film for Halloween 2019.mp4 to the database\n"
     ]
    },
    {
     "name": "stdout",
     "output_type": "stream",
     "text": [
      "Child keys: {'parent_id': '/c/JacobSorber', 'parent_name': 'Jacob Sorber', 'path': ['channels', 'Jacob Sorber'], 'name': 'The Debugger — a Short Film for Halloween 2019', 'available': True, 'files': {'videos/singles/Jacob Sorber/The Debugger — a Short Film for Halloween 2019.mp4'}}\n",
      "Adding child -Q64Ae4EHqU and {'parent_id': '/c/JacobSorber', 'parent_name': 'Jacob Sorber', 'path': ['channels', 'Jacob Sorber'], 'name': 'The Debugger — a Short Film for Halloween 2019', 'available': True, 'files': {'videos/singles/Jacob Sorber/The Debugger — a Short Film for Halloween 2019.mp4'}} to singles table\n"
     ]
    },
    {
     "name": "stderr",
     "output_type": "stream",
     "text": [
      "INFO:root:Adding http://www.youtube.com/c/JacobSorber to the database\n",
      "INFO:root:Adding videos/singles/Jacob Sorber/How to write a multithreaded webserver using condition variables (Part 3).mp4 to the database\n"
     ]
    },
    {
     "name": "stdout",
     "output_type": "stream",
     "text": [
      "Child keys: {'parent_id': '/c/JacobSorber', 'parent_name': 'Jacob Sorber', 'path': ['channels', 'Jacob Sorber'], 'name': 'How to write a multithreaded webserver using condition variables (Part 3)', 'available': True, 'files': {'videos/singles/Jacob Sorber/How to write a multithreaded webserver using condition variables (Part 3).mp4'}}\n",
      "Adding child P6Z5K8zmEmc and {'parent_id': '/c/JacobSorber', 'parent_name': 'Jacob Sorber', 'path': ['channels', 'Jacob Sorber'], 'name': 'How to write a multithreaded webserver using condition variables (Part 3)', 'available': True, 'files': {'videos/singles/Jacob Sorber/How to write a multithreaded webserver using condition variables (Part 3).mp4'}} to singles table\n"
     ]
    },
    {
     "name": "stderr",
     "output_type": "stream",
     "text": [
      "INFO:root:Adding http://www.youtube.com/c/JacobSorber to the database\n",
      "INFO:root:Adding videos/singles/Jacob Sorber/Multithreaded Server Part 2: Thread Pools.mp4 to the database\n"
     ]
    },
    {
     "name": "stdout",
     "output_type": "stream",
     "text": [
      "Child keys: {'parent_id': '/c/JacobSorber', 'parent_name': 'Jacob Sorber', 'path': ['channels', 'Jacob Sorber'], 'name': 'Multithreaded Server Part 2: Thread Pools', 'available': True, 'files': {'videos/singles/Jacob Sorber/Multithreaded Server Part 2: Thread Pools.mp4'}}\n",
      "Adding child FMNnusHqjpw and {'parent_id': '/c/JacobSorber', 'parent_name': 'Jacob Sorber', 'path': ['channels', 'Jacob Sorber'], 'name': 'Multithreaded Server Part 2: Thread Pools', 'available': True, 'files': {'videos/singles/Jacob Sorber/Multithreaded Server Part 2: Thread Pools.mp4'}} to singles table\n"
     ]
    },
    {
     "name": "stderr",
     "output_type": "stream",
     "text": [
      "INFO:root:Adding http://www.youtube.com/c/JacobSorber to the database\n",
      "INFO:root:Adding videos/singles/Jacob Sorber/How to write a multithreaded server in C (threads, sockets).mp4 to the database\n"
     ]
    },
    {
     "name": "stdout",
     "output_type": "stream",
     "text": [
      "Child keys: {'parent_id': '/c/JacobSorber', 'parent_name': 'Jacob Sorber', 'path': ['channels', 'Jacob Sorber'], 'name': 'How to write a multithreaded server in C (threads, sockets)', 'available': True, 'files': {'videos/singles/Jacob Sorber/How to write a multithreaded server in C (threads, sockets).mp4'}}\n",
      "Adding child Pg_4Jz8ZIH4 and {'parent_id': '/c/JacobSorber', 'parent_name': 'Jacob Sorber', 'path': ['channels', 'Jacob Sorber'], 'name': 'How to write a multithreaded server in C (threads, sockets)', 'available': True, 'files': {'videos/singles/Jacob Sorber/How to write a multithreaded server in C (threads, sockets).mp4'}} to singles table\n"
     ]
    },
    {
     "name": "stderr",
     "output_type": "stream",
     "text": [
      "INFO:root:Adding http://www.youtube.com/c/JacobSorber to the database\n",
      "INFO:root:Adding videos/singles/Jacob Sorber/Doubly Linked List (in C).mp4 to the database\n"
     ]
    },
    {
     "name": "stdout",
     "output_type": "stream",
     "text": [
      "Child keys: {'parent_id': '/c/JacobSorber', 'parent_name': 'Jacob Sorber', 'path': ['channels', 'Jacob Sorber'], 'name': 'Doubly Linked List (in C)', 'available': True, 'files': {'videos/singles/Jacob Sorber/Doubly Linked List (in C).mp4'}}\n",
      "Adding child KFbm6lkMhgw and {'parent_id': '/c/JacobSorber', 'parent_name': 'Jacob Sorber', 'path': ['channels', 'Jacob Sorber'], 'name': 'Doubly Linked List (in C)', 'available': True, 'files': {'videos/singles/Jacob Sorber/Doubly Linked List (in C).mp4'}} to singles table\n"
     ]
    },
    {
     "name": "stderr",
     "output_type": "stream",
     "text": [
      "INFO:root:Adding http://www.youtube.com/c/JacobSorber to the database\n",
      "INFO:root:Adding videos/singles/Jacob Sorber/How arguments are passed to functions in C (and most other languages)..mp4 to the database\n"
     ]
    },
    {
     "name": "stdout",
     "output_type": "stream",
     "text": [
      "Child keys: {'parent_id': '/c/JacobSorber', 'parent_name': 'Jacob Sorber', 'path': ['channels', 'Jacob Sorber'], 'name': 'How arguments are passed to functions in C (and most other languages).', 'available': True, 'files': {'videos/singles/Jacob Sorber/How arguments are passed to functions in C (and most other languages)..mp4'}}\n",
      "Adding child MCVa1ZhQaqI and {'parent_id': '/c/JacobSorber', 'parent_name': 'Jacob Sorber', 'path': ['channels', 'Jacob Sorber'], 'name': 'How arguments are passed to functions in C (and most other languages).', 'available': True, 'files': {'videos/singles/Jacob Sorber/How arguments are passed to functions in C (and most other languages)..mp4'}} to singles table\n"
     ]
    },
    {
     "name": "stderr",
     "output_type": "stream",
     "text": [
      "INFO:root:Adding http://www.youtube.com/c/JacobSorber to the database\n",
      "INFO:root:Adding videos/singles/Jacob Sorber/We moved to Africa! (and some thoughts about learning to program in C).mp4 to the database\n"
     ]
    },
    {
     "name": "stdout",
     "output_type": "stream",
     "text": [
      "Child keys: {'parent_id': '/c/JacobSorber', 'parent_name': 'Jacob Sorber', 'path': ['channels', 'Jacob Sorber'], 'name': 'We moved to Africa! (and some thoughts about learning to program in C)', 'available': True, 'files': {'videos/singles/Jacob Sorber/We moved to Africa! (and some thoughts about learning to program in C).mp4'}}\n",
      "Adding child EPTv5IH5dvg and {'parent_id': '/c/JacobSorber', 'parent_name': 'Jacob Sorber', 'path': ['channels', 'Jacob Sorber'], 'name': 'We moved to Africa! (and some thoughts about learning to program in C)', 'available': True, 'files': {'videos/singles/Jacob Sorber/We moved to Africa! (and some thoughts about learning to program in C).mp4'}} to singles table\n"
     ]
    },
    {
     "name": "stderr",
     "output_type": "stream",
     "text": [
      "INFO:root:Adding http://www.youtube.com/c/JacobSorber to the database\n",
      "INFO:root:Adding videos/singles/Jacob Sorber/Understanding and implementing a Linked List in C and Java.mp4 to the database\n"
     ]
    },
    {
     "name": "stdout",
     "output_type": "stream",
     "text": [
      "Child keys: {'parent_id': '/c/JacobSorber', 'parent_name': 'Jacob Sorber', 'path': ['channels', 'Jacob Sorber'], 'name': 'Understanding and implementing a Linked List in C and Java', 'available': True, 'files': {'videos/singles/Jacob Sorber/Understanding and implementing a Linked List in C and Java.mp4'}}\n",
      "Adding child VOpjAHCee7c and {'parent_id': '/c/JacobSorber', 'parent_name': 'Jacob Sorber', 'path': ['channels', 'Jacob Sorber'], 'name': 'Understanding and implementing a Linked List in C and Java', 'available': True, 'files': {'videos/singles/Jacob Sorber/Understanding and implementing a Linked List in C and Java.mp4'}} to singles table\n"
     ]
    },
    {
     "name": "stderr",
     "output_type": "stream",
     "text": [
      "INFO:root:Adding http://www.youtube.com/c/JacobSorber to the database\n",
      "INFO:root:Adding videos/singles/Jacob Sorber/Strings can get you hacked! (buffer overflows, strcpy, and gets).mp4 to the database\n"
     ]
    },
    {
     "name": "stdout",
     "output_type": "stream",
     "text": [
      "Child keys: {'parent_id': '/c/JacobSorber', 'parent_name': 'Jacob Sorber', 'path': ['channels', 'Jacob Sorber'], 'name': 'Strings can get you hacked! (buffer overflows, strcpy, and gets)', 'available': True, 'files': {'videos/singles/Jacob Sorber/Strings can get you hacked! (buffer overflows, strcpy, and gets).mp4'}}\n",
      "Adding child 7mKfWrNQcj0 and {'parent_id': '/c/JacobSorber', 'parent_name': 'Jacob Sorber', 'path': ['channels', 'Jacob Sorber'], 'name': 'Strings can get you hacked! (buffer overflows, strcpy, and gets)', 'available': True, 'files': {'videos/singles/Jacob Sorber/Strings can get you hacked! (buffer overflows, strcpy, and gets).mp4'}} to singles table\n"
     ]
    },
    {
     "name": "stderr",
     "output_type": "stream",
     "text": [
      "INFO:root:Adding http://www.youtube.com/c/JacobSorber to the database\n",
      "INFO:root:Adding videos/singles/Jacob Sorber/Getting Command-Line Arguments in C.mp4 to the database\n"
     ]
    },
    {
     "name": "stdout",
     "output_type": "stream",
     "text": [
      "Child keys: {'parent_id': '/c/JacobSorber', 'parent_name': 'Jacob Sorber', 'path': ['channels', 'Jacob Sorber'], 'name': 'Getting Command-Line Arguments in C', 'available': True, 'files': {'videos/singles/Jacob Sorber/Getting Command-Line Arguments in C.mp4'}}\n",
      "Adding child 6Dk8s0F2gow and {'parent_id': '/c/JacobSorber', 'parent_name': 'Jacob Sorber', 'path': ['channels', 'Jacob Sorber'], 'name': 'Getting Command-Line Arguments in C', 'available': True, 'files': {'videos/singles/Jacob Sorber/Getting Command-Line Arguments in C.mp4'}} to singles table\n"
     ]
    },
    {
     "name": "stderr",
     "output_type": "stream",
     "text": [
      "INFO:root:Adding http://www.youtube.com/c/JacobSorber to the database\n",
      "INFO:root:Adding videos/singles/Jacob Sorber/Reversing Strings (in C) and Divergent Thinking.mp4 to the database\n"
     ]
    },
    {
     "name": "stdout",
     "output_type": "stream",
     "text": [
      "Child keys: {'parent_id': '/c/JacobSorber', 'parent_name': 'Jacob Sorber', 'path': ['channels', 'Jacob Sorber'], 'name': 'Reversing Strings (in C) and Divergent Thinking', 'available': True, 'files': {'videos/singles/Jacob Sorber/Reversing Strings (in C) and Divergent Thinking.mp4'}}\n",
      "Adding child dcBcgPGIMpo and {'parent_id': '/c/JacobSorber', 'parent_name': 'Jacob Sorber', 'path': ['channels', 'Jacob Sorber'], 'name': 'Reversing Strings (in C) and Divergent Thinking', 'available': True, 'files': {'videos/singles/Jacob Sorber/Reversing Strings (in C) and Divergent Thinking.mp4'}} to singles table\n"
     ]
    },
    {
     "name": "stderr",
     "output_type": "stream",
     "text": [
      "INFO:root:Adding http://www.youtube.com/c/JacobSorber to the database\n",
      "INFO:root:Adding videos/singles/Jacob Sorber/Strings in C.mp4 to the database\n"
     ]
    },
    {
     "name": "stdout",
     "output_type": "stream",
     "text": [
      "Child keys: {'parent_id': '/c/JacobSorber', 'parent_name': 'Jacob Sorber', 'path': ['channels', 'Jacob Sorber'], 'name': 'Strings in C', 'available': True, 'files': {'videos/singles/Jacob Sorber/Strings in C.mp4'}}\n",
      "Adding child 5TzFNouc0PE and {'parent_id': '/c/JacobSorber', 'parent_name': 'Jacob Sorber', 'path': ['channels', 'Jacob Sorber'], 'name': 'Strings in C', 'available': True, 'files': {'videos/singles/Jacob Sorber/Strings in C.mp4'}} to singles table\n"
     ]
    },
    {
     "name": "stderr",
     "output_type": "stream",
     "text": [
      "INFO:root:Adding http://www.youtube.com/c/JacobSorber to the database\n",
      "INFO:root:Adding videos/singles/Jacob Sorber/This is never worth it. Thoughts about cheating in computer science classes..mp4 to the database\n"
     ]
    },
    {
     "name": "stdout",
     "output_type": "stream",
     "text": [
      "Child keys: {'parent_id': '/c/JacobSorber', 'parent_name': 'Jacob Sorber', 'path': ['channels', 'Jacob Sorber'], 'name': 'This is never worth it. Thoughts about cheating in computer science classes.', 'available': True, 'files': {'videos/singles/Jacob Sorber/This is never worth it. Thoughts about cheating in computer science classes..mp4'}}\n",
      "Adding child KZq2wHZoAaE and {'parent_id': '/c/JacobSorber', 'parent_name': 'Jacob Sorber', 'path': ['channels', 'Jacob Sorber'], 'name': 'This is never worth it. Thoughts about cheating in computer science classes.', 'available': True, 'files': {'videos/singles/Jacob Sorber/This is never worth it. Thoughts about cheating in computer science classes..mp4'}} to singles table\n"
     ]
    },
    {
     "name": "stderr",
     "output_type": "stream",
     "text": [
      "INFO:root:Adding http://www.youtube.com/c/JacobSorber to the database\n",
      "INFO:root:Adding videos/singles/Jacob Sorber/Debugging with Macros (-g3,-ggdb).mp4 to the database\n"
     ]
    },
    {
     "name": "stdout",
     "output_type": "stream",
     "text": [
      "Child keys: {'parent_id': '/c/JacobSorber', 'parent_name': 'Jacob Sorber', 'path': ['channels', 'Jacob Sorber'], 'name': 'Debugging with Macros (-g3,-ggdb)', 'available': True, 'files': {'videos/singles/Jacob Sorber/Debugging with Macros (-g3,-ggdb).mp4'}}\n",
      "Adding child dh1mil1ehvE and {'parent_id': '/c/JacobSorber', 'parent_name': 'Jacob Sorber', 'path': ['channels', 'Jacob Sorber'], 'name': 'Debugging with Macros (-g3,-ggdb)', 'available': True, 'files': {'videos/singles/Jacob Sorber/Debugging with Macros (-g3,-ggdb).mp4'}} to singles table\n"
     ]
    },
    {
     "name": "stderr",
     "output_type": "stream",
     "text": [
      "INFO:root:Adding http://www.youtube.com/c/JacobSorber to the database\n",
      "INFO:root:Adding videos/singles/Jacob Sorber/Can I Debug Release Code?.mp4 to the database\n"
     ]
    },
    {
     "name": "stdout",
     "output_type": "stream",
     "text": [
      "Child keys: {'parent_id': '/c/JacobSorber', 'parent_name': 'Jacob Sorber', 'path': ['channels', 'Jacob Sorber'], 'name': 'Can I Debug Release Code?', 'available': True, 'files': {'videos/singles/Jacob Sorber/Can I Debug Release Code?.mp4'}}\n",
      "Adding child OLH_k6IhTyM and {'parent_id': '/c/JacobSorber', 'parent_name': 'Jacob Sorber', 'path': ['channels', 'Jacob Sorber'], 'name': 'Can I Debug Release Code?', 'available': True, 'files': {'videos/singles/Jacob Sorber/Can I Debug Release Code?.mp4'}} to singles table\n"
     ]
    },
    {
     "name": "stderr",
     "output_type": "stream",
     "text": [
      "INFO:root:Adding http://www.youtube.com/c/JacobSorber to the database\n",
      "INFO:root:Adding videos/singles/Jacob Sorber/Debugging with Core Dumps.mp4 to the database\n"
     ]
    },
    {
     "name": "stdout",
     "output_type": "stream",
     "text": [
      "Child keys: {'parent_id': '/c/JacobSorber', 'parent_name': 'Jacob Sorber', 'path': ['channels', 'Jacob Sorber'], 'name': 'Debugging with Core Dumps', 'available': True, 'files': {'videos/singles/Jacob Sorber/Debugging with Core Dumps.mp4'}}\n",
      "Adding child GV10eIuPs9k and {'parent_id': '/c/JacobSorber', 'parent_name': 'Jacob Sorber', 'path': ['channels', 'Jacob Sorber'], 'name': 'Debugging with Core Dumps', 'available': True, 'files': {'videos/singles/Jacob Sorber/Debugging with Core Dumps.mp4'}} to singles table\n"
     ]
    },
    {
     "name": "stderr",
     "output_type": "stream",
     "text": [
      "INFO:root:Adding http://www.youtube.com/c/JacobSorber to the database\n",
      "INFO:root:Adding videos/singles/Jacob Sorber/Reviewing your Code: Refactoring.mp4 to the database\n"
     ]
    },
    {
     "name": "stdout",
     "output_type": "stream",
     "text": [
      "Child keys: {'parent_id': '/c/JacobSorber', 'parent_name': 'Jacob Sorber', 'path': ['channels', 'Jacob Sorber'], 'name': 'Reviewing your Code: Refactoring', 'available': True, 'files': {'videos/singles/Jacob Sorber/Reviewing your Code: Refactoring.mp4'}}\n",
      "Adding child BM9cnSEY23s and {'parent_id': '/c/JacobSorber', 'parent_name': 'Jacob Sorber', 'path': ['channels', 'Jacob Sorber'], 'name': 'Reviewing your Code: Refactoring', 'available': True, 'files': {'videos/singles/Jacob Sorber/Reviewing your Code: Refactoring.mp4'}} to singles table\n"
     ]
    },
    {
     "name": "stderr",
     "output_type": "stream",
     "text": [
      "INFO:root:Adding http://www.youtube.com/c/JacobSorber to the database\n",
      "INFO:root:Adding videos/singles/Jacob Sorber/Header Issues: Guards, Name Mangling, and extern \"C\".mp4 to the database\n"
     ]
    },
    {
     "name": "stdout",
     "output_type": "stream",
     "text": [
      "Child keys: {'parent_id': '/c/JacobSorber', 'parent_name': 'Jacob Sorber', 'path': ['channels', 'Jacob Sorber'], 'name': 'Header Issues: Guards, Name Mangling, and extern \"C\"', 'available': True, 'files': {'videos/singles/Jacob Sorber/Header Issues: Guards, Name Mangling, and extern \"C\".mp4'}}\n",
      "Adding child NeOTr0u7ALk and {'parent_id': '/c/JacobSorber', 'parent_name': 'Jacob Sorber', 'path': ['channels', 'Jacob Sorber'], 'name': 'Header Issues: Guards, Name Mangling, and extern \"C\"', 'available': True, 'files': {'videos/singles/Jacob Sorber/Header Issues: Guards, Name Mangling, and extern \"C\".mp4'}} to singles table\n"
     ]
    },
    {
     "name": "stderr",
     "output_type": "stream",
     "text": [
      "INFO:root:Adding http://www.youtube.com/c/JacobSorber to the database\n",
      "INFO:root:Adding videos/singles/Jacob Sorber/Checking your Return Values.mp4 to the database\n"
     ]
    },
    {
     "name": "stdout",
     "output_type": "stream",
     "text": [
      "Child keys: {'parent_id': '/c/JacobSorber', 'parent_name': 'Jacob Sorber', 'path': ['channels', 'Jacob Sorber'], 'name': 'Checking your Return Values', 'available': True, 'files': {'videos/singles/Jacob Sorber/Checking your Return Values.mp4'}}\n",
      "Adding child A0A19LQKOjM and {'parent_id': '/c/JacobSorber', 'parent_name': 'Jacob Sorber', 'path': ['channels', 'Jacob Sorber'], 'name': 'Checking your Return Values', 'available': True, 'files': {'videos/singles/Jacob Sorber/Checking your Return Values.mp4'}} to singles table\n"
     ]
    },
    {
     "name": "stderr",
     "output_type": "stream",
     "text": [
      "INFO:root:Adding http://www.youtube.com/c/JacobSorber to the database\n",
      "INFO:root:Adding videos/singles/Jacob Sorber/Finding your place in computing..mp4 to the database\n"
     ]
    },
    {
     "name": "stdout",
     "output_type": "stream",
     "text": [
      "Child keys: {'parent_id': '/c/JacobSorber', 'parent_name': 'Jacob Sorber', 'path': ['channels', 'Jacob Sorber'], 'name': 'Finding your place in computing.', 'available': True, 'files': {'videos/singles/Jacob Sorber/Finding your place in computing..mp4'}}\n",
      "Adding child vbVuVQXJEks and {'parent_id': '/c/JacobSorber', 'parent_name': 'Jacob Sorber', 'path': ['channels', 'Jacob Sorber'], 'name': 'Finding your place in computing.', 'available': True, 'files': {'videos/singles/Jacob Sorber/Finding your place in computing..mp4'}} to singles table\n"
     ]
    },
    {
     "name": "stderr",
     "output_type": "stream",
     "text": [
      "INFO:root:Adding http://www.youtube.com/c/JacobSorber to the database\n",
      "INFO:root:Adding videos/singles/Jacob Sorber/How to Debug Shims and Set Environment Variables in GDB.mp4 to the database\n"
     ]
    },
    {
     "name": "stdout",
     "output_type": "stream",
     "text": [
      "Child keys: {'parent_id': '/c/JacobSorber', 'parent_name': 'Jacob Sorber', 'path': ['channels', 'Jacob Sorber'], 'name': 'How to Debug Shims and Set Environment Variables in GDB', 'available': True, 'files': {'videos/singles/Jacob Sorber/How to Debug Shims and Set Environment Variables in GDB.mp4'}}\n",
      "Adding child tKst2_96vB8 and {'parent_id': '/c/JacobSorber', 'parent_name': 'Jacob Sorber', 'path': ['channels', 'Jacob Sorber'], 'name': 'How to Debug Shims and Set Environment Variables in GDB', 'available': True, 'files': {'videos/singles/Jacob Sorber/How to Debug Shims and Set Environment Variables in GDB.mp4'}} to singles table\n"
     ]
    },
    {
     "name": "stderr",
     "output_type": "stream",
     "text": [
      "INFO:root:Adding http://www.youtube.com/c/JacobSorber to the database\n",
      "INFO:root:Adding videos/singles/Jacob Sorber/How to Intercept and Modify Library Calls with Shims..mp4 to the database\n"
     ]
    },
    {
     "name": "stdout",
     "output_type": "stream",
     "text": [
      "Child keys: {'parent_id': '/c/JacobSorber', 'parent_name': 'Jacob Sorber', 'path': ['channels', 'Jacob Sorber'], 'name': 'How to Intercept and Modify Library Calls with Shims.', 'available': True, 'files': {'videos/singles/Jacob Sorber/How to Intercept and Modify Library Calls with Shims..mp4'}}\n",
      "Adding child 5HuM_eVjFJo and {'parent_id': '/c/JacobSorber', 'parent_name': 'Jacob Sorber', 'path': ['channels', 'Jacob Sorber'], 'name': 'How to Intercept and Modify Library Calls with Shims.', 'available': True, 'files': {'videos/singles/Jacob Sorber/How to Intercept and Modify Library Calls with Shims..mp4'}} to singles table\n"
     ]
    },
    {
     "name": "stderr",
     "output_type": "stream",
     "text": [
      "INFO:root:Adding http://www.youtube.com/c/JacobSorber to the database\n",
      "INFO:root:Adding videos/singles/Jacob Sorber/I want to review your code..mp4 to the database\n"
     ]
    },
    {
     "name": "stdout",
     "output_type": "stream",
     "text": [
      "Child keys: {'parent_id': '/c/JacobSorber', 'parent_name': 'Jacob Sorber', 'path': ['channels', 'Jacob Sorber'], 'name': 'I want to review your code.', 'available': True, 'files': {'videos/singles/Jacob Sorber/I want to review your code..mp4'}}\n",
      "Adding child k2K2HVg4Arc and {'parent_id': '/c/JacobSorber', 'parent_name': 'Jacob Sorber', 'path': ['channels', 'Jacob Sorber'], 'name': 'I want to review your code.', 'available': True, 'files': {'videos/singles/Jacob Sorber/I want to review your code..mp4'}} to singles table\n"
     ]
    },
    {
     "name": "stderr",
     "output_type": "stream",
     "text": [
      "INFO:root:Adding http://www.youtube.com/c/JacobSorber to the database\n",
      "INFO:root:Adding videos/singles/Jacob Sorber/What if I try to malloc WAY too much memory?.mp4 to the database\n"
     ]
    },
    {
     "name": "stdout",
     "output_type": "stream",
     "text": [
      "Child keys: {'parent_id': '/c/JacobSorber', 'parent_name': 'Jacob Sorber', 'path': ['channels', 'Jacob Sorber'], 'name': 'What if I try to malloc WAY too much memory?', 'available': True, 'files': {'videos/singles/Jacob Sorber/What if I try to malloc WAY too much memory?.mp4'}}\n",
      "Adding child Fq9chEBQMFE and {'parent_id': '/c/JacobSorber', 'parent_name': 'Jacob Sorber', 'path': ['channels', 'Jacob Sorber'], 'name': 'What if I try to malloc WAY too much memory?', 'available': True, 'files': {'videos/singles/Jacob Sorber/What if I try to malloc WAY too much memory?.mp4'}} to singles table\n"
     ]
    },
    {
     "name": "stderr",
     "output_type": "stream",
     "text": [
      "INFO:root:Adding http://www.youtube.com/c/JacobSorber to the database\n",
      "INFO:root:Adding videos/singles/Jacob Sorber/How to Load Libraries at Runtime.mp4 to the database\n"
     ]
    },
    {
     "name": "stdout",
     "output_type": "stream",
     "text": [
      "Child keys: {'parent_id': '/c/JacobSorber', 'parent_name': 'Jacob Sorber', 'path': ['channels', 'Jacob Sorber'], 'name': 'How to Load Libraries at Runtime', 'available': True, 'files': {'videos/singles/Jacob Sorber/How to Load Libraries at Runtime.mp4'}}\n",
      "Adding child _kIa4D7kQ8I and {'parent_id': '/c/JacobSorber', 'parent_name': 'Jacob Sorber', 'path': ['channels', 'Jacob Sorber'], 'name': 'How to Load Libraries at Runtime', 'available': True, 'files': {'videos/singles/Jacob Sorber/How to Load Libraries at Runtime.mp4'}} to singles table\n"
     ]
    },
    {
     "name": "stderr",
     "output_type": "stream",
     "text": [
      "INFO:root:Adding http://www.youtube.com/c/JacobSorber to the database\n",
      "INFO:root:Adding videos/singles/Jacob Sorber/What are Environment Variables, and how do I use them? (get,set).mp4 to the database\n"
     ]
    },
    {
     "name": "stdout",
     "output_type": "stream",
     "text": [
      "Child keys: {'parent_id': '/c/JacobSorber', 'parent_name': 'Jacob Sorber', 'path': ['channels', 'Jacob Sorber'], 'name': 'What are Environment Variables, and how do I use them? (get,set)', 'available': True, 'files': {'videos/singles/Jacob Sorber/What are Environment Variables, and how do I use them? (get,set).mp4'}}\n",
      "Adding child ADh_OFBfdEE and {'parent_id': '/c/JacobSorber', 'parent_name': 'Jacob Sorber', 'path': ['channels', 'Jacob Sorber'], 'name': 'What are Environment Variables, and how do I use them? (get,set)', 'available': True, 'files': {'videos/singles/Jacob Sorber/What are Environment Variables, and how do I use them? (get,set).mp4'}} to singles table\n"
     ]
    },
    {
     "name": "stderr",
     "output_type": "stream",
     "text": [
      "INFO:root:Adding http://www.youtube.com/c/JacobSorber to the database\n",
      "INFO:root:Adding videos/singles/Jacob Sorber/How to write your own code libraries in C..mp4 to the database\n"
     ]
    },
    {
     "name": "stdout",
     "output_type": "stream",
     "text": [
      "Child keys: {'parent_id': '/c/JacobSorber', 'parent_name': 'Jacob Sorber', 'path': ['channels', 'Jacob Sorber'], 'name': 'How to write your own code libraries in C.', 'available': True, 'files': {'videos/singles/Jacob Sorber/How to write your own code libraries in C..mp4'}}\n",
      "Adding child JbHmin2Wtmc and {'parent_id': '/c/JacobSorber', 'parent_name': 'Jacob Sorber', 'path': ['channels', 'Jacob Sorber'], 'name': 'How to write your own code libraries in C.', 'available': True, 'files': {'videos/singles/Jacob Sorber/How to write your own code libraries in C..mp4'}} to singles table\n"
     ]
    },
    {
     "name": "stderr",
     "output_type": "stream",
     "text": [
      "INFO:root:Adding http://www.youtube.com/c/JacobSorber to the database\n",
      "INFO:root:Adding videos/singles/Jacob Sorber/What if my open file gets deleted?.mp4 to the database\n"
     ]
    },
    {
     "name": "stdout",
     "output_type": "stream",
     "text": [
      "Child keys: {'parent_id': '/c/JacobSorber', 'parent_name': 'Jacob Sorber', 'path': ['channels', 'Jacob Sorber'], 'name': 'What if my open file gets deleted?', 'available': True, 'files': {'videos/singles/Jacob Sorber/What if my open file gets deleted?.mp4'}}\n",
      "Adding child MruzHlXqspU and {'parent_id': '/c/JacobSorber', 'parent_name': 'Jacob Sorber', 'path': ['channels', 'Jacob Sorber'], 'name': 'What if my open file gets deleted?', 'available': True, 'files': {'videos/singles/Jacob Sorber/What if my open file gets deleted?.mp4'}} to singles table\n"
     ]
    },
    {
     "name": "stderr",
     "output_type": "stream",
     "text": [
      "INFO:root:Adding http://www.youtube.com/c/JacobSorber to the database\n",
      "INFO:root:Adding videos/singles/Jacob Sorber/Dealing with Endianness Issues in your Programs.mp4 to the database\n"
     ]
    },
    {
     "name": "stdout",
     "output_type": "stream",
     "text": [
      "Child keys: {'parent_id': '/c/JacobSorber', 'parent_name': 'Jacob Sorber', 'path': ['channels', 'Jacob Sorber'], 'name': 'Dealing with Endianness Issues in your Programs', 'available': True, 'files': {'videos/singles/Jacob Sorber/Dealing with Endianness Issues in your Programs.mp4'}}\n",
      "Adding child OoHich9BPxg and {'parent_id': '/c/JacobSorber', 'parent_name': 'Jacob Sorber', 'path': ['channels', 'Jacob Sorber'], 'name': 'Dealing with Endianness Issues in your Programs', 'available': True, 'files': {'videos/singles/Jacob Sorber/Dealing with Endianness Issues in your Programs.mp4'}} to singles table\n"
     ]
    },
    {
     "name": "stderr",
     "output_type": "stream",
     "text": [
      "INFO:root:Adding http://www.youtube.com/c/JacobSorber to the database\n",
      "INFO:root:Adding videos/singles/Jacob Sorber/A Tour of C's Many Operators.mp4 to the database\n"
     ]
    },
    {
     "name": "stdout",
     "output_type": "stream",
     "text": [
      "Child keys: {'parent_id': '/c/JacobSorber', 'parent_name': 'Jacob Sorber', 'path': ['channels', 'Jacob Sorber'], 'name': \"A Tour of C's Many Operators\", 'available': True, 'files': {\"videos/singles/Jacob Sorber/A Tour of C's Many Operators.mp4\"}}\n",
      "Adding child PLnmboUvqq8 and {'parent_id': '/c/JacobSorber', 'parent_name': 'Jacob Sorber', 'path': ['channels', 'Jacob Sorber'], 'name': \"A Tour of C's Many Operators\", 'available': True, 'files': {\"videos/singles/Jacob Sorber/A Tour of C's Many Operators.mp4\"}} to singles table\n"
     ]
    },
    {
     "name": "stderr",
     "output_type": "stream",
     "text": [
      "INFO:root:Adding http://www.youtube.com/c/JacobSorber to the database\n",
      "INFO:root:Adding videos/singles/Jacob Sorber/Debugging with Multiple Threads (gdb, pthreads).mp4 to the database\n"
     ]
    },
    {
     "name": "stdout",
     "output_type": "stream",
     "text": [
      "Child keys: {'parent_id': '/c/JacobSorber', 'parent_name': 'Jacob Sorber', 'path': ['channels', 'Jacob Sorber'], 'name': 'Debugging with Multiple Threads (gdb, pthreads)', 'available': True, 'files': {'videos/singles/Jacob Sorber/Debugging with Multiple Threads (gdb, pthreads).mp4'}}\n",
      "Adding child aypNWcRlwYw and {'parent_id': '/c/JacobSorber', 'parent_name': 'Jacob Sorber', 'path': ['channels', 'Jacob Sorber'], 'name': 'Debugging with Multiple Threads (gdb, pthreads)', 'available': True, 'files': {'videos/singles/Jacob Sorber/Debugging with Multiple Threads (gdb, pthreads).mp4'}} to singles table\n"
     ]
    },
    {
     "name": "stderr",
     "output_type": "stream",
     "text": [
      "INFO:root:Adding http://www.youtube.com/c/JacobSorber to the database\n",
      "INFO:root:Adding videos/singles/Jacob Sorber/Safety and Speed Issues with Threads. (pthreads, mutex, locks).mp4 to the database\n"
     ]
    },
    {
     "name": "stdout",
     "output_type": "stream",
     "text": [
      "Child keys: {'parent_id': '/c/JacobSorber', 'parent_name': 'Jacob Sorber', 'path': ['channels', 'Jacob Sorber'], 'name': 'Safety and Speed Issues with Threads. (pthreads, mutex, locks)', 'available': True, 'files': {'videos/singles/Jacob Sorber/Safety and Speed Issues with Threads. (pthreads, mutex, locks).mp4'}}\n",
      "Adding child 9axu8CUvOKY and {'parent_id': '/c/JacobSorber', 'parent_name': 'Jacob Sorber', 'path': ['channels', 'Jacob Sorber'], 'name': 'Safety and Speed Issues with Threads. (pthreads, mutex, locks)', 'available': True, 'files': {'videos/singles/Jacob Sorber/Safety and Speed Issues with Threads. (pthreads, mutex, locks).mp4'}} to singles table\n"
     ]
    },
    {
     "name": "stderr",
     "output_type": "stream",
     "text": [
      "INFO:root:Adding http://www.youtube.com/c/JacobSorber to the database\n",
      "INFO:root:Adding videos/singles/Jacob Sorber/Learn CS like a new language (Happy New Year from Cambodia).mp4 to the database\n"
     ]
    },
    {
     "name": "stdout",
     "output_type": "stream",
     "text": [
      "Child keys: {'parent_id': '/c/JacobSorber', 'parent_name': 'Jacob Sorber', 'path': ['channels', 'Jacob Sorber'], 'name': 'Learn CS like a new language (Happy New Year from Cambodia)', 'available': True, 'files': {'videos/singles/Jacob Sorber/Learn CS like a new language (Happy New Year from Cambodia).mp4'}}\n",
      "Adding child JYSYHTfOFgU and {'parent_id': '/c/JacobSorber', 'parent_name': 'Jacob Sorber', 'path': ['channels', 'Jacob Sorber'], 'name': 'Learn CS like a new language (Happy New Year from Cambodia)', 'available': True, 'files': {'videos/singles/Jacob Sorber/Learn CS like a new language (Happy New Year from Cambodia).mp4'}} to singles table\n"
     ]
    },
    {
     "name": "stderr",
     "output_type": "stream",
     "text": [
      "INFO:root:Adding http://www.youtube.com/c/JacobSorber to the database\n",
      "INFO:root:Adding videos/singles/Jacob Sorber/How to pass arguments to and get results from threads. (pthread_create, pthread_join).mp4 to the database\n"
     ]
    },
    {
     "name": "stdout",
     "output_type": "stream",
     "text": [
      "Child keys: {'parent_id': '/c/JacobSorber', 'parent_name': 'Jacob Sorber', 'path': ['channels', 'Jacob Sorber'], 'name': 'How to pass arguments to and get results from threads. (pthread_create, pthread_join)', 'available': True, 'files': {'videos/singles/Jacob Sorber/How to pass arguments to and get results from threads. (pthread_create, pthread_join).mp4'}}\n",
      "Adding child It0OFCbbTJE and {'parent_id': '/c/JacobSorber', 'parent_name': 'Jacob Sorber', 'path': ['channels', 'Jacob Sorber'], 'name': 'How to pass arguments to and get results from threads. (pthread_create, pthread_join)', 'available': True, 'files': {'videos/singles/Jacob Sorber/How to pass arguments to and get results from threads. (pthread_create, pthread_join).mp4'}} to singles table\n"
     ]
    },
    {
     "name": "stderr",
     "output_type": "stream",
     "text": [
      "INFO:root:Adding http://www.youtube.com/c/JacobSorber to the database\n",
      "INFO:root:Adding videos/singles/Jacob Sorber/How to create and join threads in C (pthreads)..mp4 to the database\n"
     ]
    },
    {
     "name": "stdout",
     "output_type": "stream",
     "text": [
      "Child keys: {'parent_id': '/c/JacobSorber', 'parent_name': 'Jacob Sorber', 'path': ['channels', 'Jacob Sorber'], 'name': 'How to create and join threads in C (pthreads).', 'available': True, 'files': {'videos/singles/Jacob Sorber/How to create and join threads in C (pthreads)..mp4'}}\n",
      "Adding child uA8X5zNOGw8 and {'parent_id': '/c/JacobSorber', 'parent_name': 'Jacob Sorber', 'path': ['channels', 'Jacob Sorber'], 'name': 'How to create and join threads in C (pthreads).', 'available': True, 'files': {'videos/singles/Jacob Sorber/How to create and join threads in C (pthreads)..mp4'}} to singles table\n"
     ]
    },
    {
     "name": "stderr",
     "output_type": "stream",
     "text": [
      "INFO:root:Adding http://www.youtube.com/c/JacobSorber to the database\n",
      "INFO:root:Adding videos/singles/Jacob Sorber/Socket servers can get client addresses. (accept, inet_ntop).mp4 to the database\n"
     ]
    },
    {
     "name": "stdout",
     "output_type": "stream",
     "text": [
      "Child keys: {'parent_id': '/c/JacobSorber', 'parent_name': 'Jacob Sorber', 'path': ['channels', 'Jacob Sorber'], 'name': 'Socket servers can get client addresses. (accept, inet_ntop)', 'available': True, 'files': {'videos/singles/Jacob Sorber/Socket servers can get client addresses. (accept, inet_ntop).mp4'}}\n",
      "Adding child 1jv428xKsRg and {'parent_id': '/c/JacobSorber', 'parent_name': 'Jacob Sorber', 'path': ['channels', 'Jacob Sorber'], 'name': 'Socket servers can get client addresses. (accept, inet_ntop)', 'available': True, 'files': {'videos/singles/Jacob Sorber/Socket servers can get client addresses. (accept, inet_ntop).mp4'}} to singles table\n"
     ]
    },
    {
     "name": "stderr",
     "output_type": "stream",
     "text": [
      "INFO:root:Adding http://www.youtube.com/c/JacobSorber to the database\n",
      "INFO:root:Adding videos/singles/Jacob Sorber/Comments and Commenting in C.mp4 to the database\n"
     ]
    },
    {
     "name": "stdout",
     "output_type": "stream",
     "text": [
      "Child keys: {'parent_id': '/c/JacobSorber', 'parent_name': 'Jacob Sorber', 'path': ['channels', 'Jacob Sorber'], 'name': 'Comments and Commenting in C', 'available': True, 'files': {'videos/singles/Jacob Sorber/Comments and Commenting in C.mp4'}}\n",
      "Adding child PP03QAsIij8 and {'parent_id': '/c/JacobSorber', 'parent_name': 'Jacob Sorber', 'path': ['channels', 'Jacob Sorber'], 'name': 'Comments and Commenting in C', 'available': True, 'files': {'videos/singles/Jacob Sorber/Comments and Commenting in C.mp4'}} to singles table\n"
     ]
    },
    {
     "name": "stderr",
     "output_type": "stream",
     "text": [
      "INFO:root:Adding http://www.youtube.com/c/JacobSorber to the database\n",
      "INFO:root:Adding videos/singles/Jacob Sorber/Program your own web server in C. (sockets).mp4 to the database\n"
     ]
    },
    {
     "name": "stdout",
     "output_type": "stream",
     "text": [
      "Child keys: {'parent_id': '/c/JacobSorber', 'parent_name': 'Jacob Sorber', 'path': ['channels', 'Jacob Sorber'], 'name': 'Program your own web server in C. (sockets)', 'available': True, 'files': {'videos/singles/Jacob Sorber/Program your own web server in C. (sockets).mp4'}}\n",
      "Adding child esXw4bdaZkc and {'parent_id': '/c/JacobSorber', 'parent_name': 'Jacob Sorber', 'path': ['channels', 'Jacob Sorber'], 'name': 'Program your own web server in C. (sockets)', 'available': True, 'files': {'videos/singles/Jacob Sorber/Program your own web server in C. (sockets).mp4'}} to singles table\n"
     ]
    },
    {
     "name": "stderr",
     "output_type": "stream",
     "text": [
      "INFO:root:Adding http://www.youtube.com/c/JacobSorber to the database\n",
      "INFO:root:Adding videos/singles/Jacob Sorber/A Buggy Place (Halloween 2018).mp4 to the database\n"
     ]
    },
    {
     "name": "stdout",
     "output_type": "stream",
     "text": [
      "Child keys: {'parent_id': '/c/JacobSorber', 'parent_name': 'Jacob Sorber', 'path': ['channels', 'Jacob Sorber'], 'name': 'A Buggy Place (Halloween 2018)', 'available': True, 'files': {'videos/singles/Jacob Sorber/A Buggy Place (Halloween 2018).mp4'}}\n",
      "Adding child AQ7hhD0Q4rk and {'parent_id': '/c/JacobSorber', 'parent_name': 'Jacob Sorber', 'path': ['channels', 'Jacob Sorber'], 'name': 'A Buggy Place (Halloween 2018)', 'available': True, 'files': {'videos/singles/Jacob Sorber/A Buggy Place (Halloween 2018).mp4'}} to singles table\n"
     ]
    },
    {
     "name": "stderr",
     "output_type": "stream",
     "text": [
      "INFO:root:Adding http://www.youtube.com/c/JacobSorber to the database\n",
      "INFO:root:Adding videos/singles/Jacob Sorber/How to build a web client? (sockets).mp4 to the database\n"
     ]
    },
    {
     "name": "stdout",
     "output_type": "stream",
     "text": [
      "Child keys: {'parent_id': '/c/JacobSorber', 'parent_name': 'Jacob Sorber', 'path': ['channels', 'Jacob Sorber'], 'name': 'How to build a web client? (sockets)', 'available': True, 'files': {'videos/singles/Jacob Sorber/How to build a web client? (sockets).mp4'}}\n",
      "Adding child bdIiTxtMaKA and {'parent_id': '/c/JacobSorber', 'parent_name': 'Jacob Sorber', 'path': ['channels', 'Jacob Sorber'], 'name': 'How to build a web client? (sockets)', 'available': True, 'files': {'videos/singles/Jacob Sorber/How to build a web client? (sockets).mp4'}} to singles table\n"
     ]
    },
    {
     "name": "stderr",
     "output_type": "stream",
     "text": [
      "INFO:root:Adding http://www.youtube.com/c/JacobSorber to the database\n",
      "INFO:root:Adding videos/singles/Jacob Sorber/Loops in C (while, do-while, for).mp4 to the database\n"
     ]
    },
    {
     "name": "stdout",
     "output_type": "stream",
     "text": [
      "Child keys: {'parent_id': '/c/JacobSorber', 'parent_name': 'Jacob Sorber', 'path': ['channels', 'Jacob Sorber'], 'name': 'Loops in C (while, do-while, for)', 'available': True, 'files': {'videos/singles/Jacob Sorber/Loops in C (while, do-while, for).mp4'}}\n",
      "Adding child 1vGfkBwIOXw and {'parent_id': '/c/JacobSorber', 'parent_name': 'Jacob Sorber', 'path': ['channels', 'Jacob Sorber'], 'name': 'Loops in C (while, do-while, for)', 'available': True, 'files': {'videos/singles/Jacob Sorber/Loops in C (while, do-while, for).mp4'}} to singles table\n"
     ]
    },
    {
     "name": "stderr",
     "output_type": "stream",
     "text": [
      "INFO:root:Adding http://www.youtube.com/c/JacobSorber to the database\n",
      "INFO:root:Adding videos/singles/Jacob Sorber/Arrays, Pointers, and Why Arrays Start at Zero?.mp4 to the database\n"
     ]
    },
    {
     "name": "stdout",
     "output_type": "stream",
     "text": [
      "Child keys: {'parent_id': '/c/JacobSorber', 'parent_name': 'Jacob Sorber', 'path': ['channels', 'Jacob Sorber'], 'name': 'Arrays, Pointers, and Why Arrays Start at Zero?', 'available': True, 'files': {'videos/singles/Jacob Sorber/Arrays, Pointers, and Why Arrays Start at Zero?.mp4'}}\n",
      "Adding child uT-YLEHwVS4 and {'parent_id': '/c/JacobSorber', 'parent_name': 'Jacob Sorber', 'path': ['channels', 'Jacob Sorber'], 'name': 'Arrays, Pointers, and Why Arrays Start at Zero?', 'available': True, 'files': {'videos/singles/Jacob Sorber/Arrays, Pointers, and Why Arrays Start at Zero?.mp4'}} to singles table\n"
     ]
    },
    {
     "name": "stderr",
     "output_type": "stream",
     "text": [
      "INFO:root:Adding http://www.youtube.com/c/JacobSorber to the database\n",
      "INFO:root:Adding videos/singles/Jacob Sorber/Learning C: Basic Types (numbers, arrays, structs, pointers).mp4 to the database\n"
     ]
    },
    {
     "name": "stdout",
     "output_type": "stream",
     "text": [
      "Child keys: {'parent_id': '/c/JacobSorber', 'parent_name': 'Jacob Sorber', 'path': ['channels', 'Jacob Sorber'], 'name': 'Learning C: Basic Types (numbers, arrays, structs, pointers)', 'available': True, 'files': {'videos/singles/Jacob Sorber/Learning C: Basic Types (numbers, arrays, structs, pointers).mp4'}}\n",
      "Adding child mib3ahMbq_0 and {'parent_id': '/c/JacobSorber', 'parent_name': 'Jacob Sorber', 'path': ['channels', 'Jacob Sorber'], 'name': 'Learning C: Basic Types (numbers, arrays, structs, pointers)', 'available': True, 'files': {'videos/singles/Jacob Sorber/Learning C: Basic Types (numbers, arrays, structs, pointers).mp4'}} to singles table\n"
     ]
    },
    {
     "name": "stderr",
     "output_type": "stream",
     "text": [
      "INFO:root:Adding http://www.youtube.com/c/JacobSorber to the database\n",
      "INFO:root:Adding videos/singles/Jacob Sorber/Learn C in minutes (lesson 0).mp4 to the database\n"
     ]
    },
    {
     "name": "stdout",
     "output_type": "stream",
     "text": [
      "Child keys: {'parent_id': '/c/JacobSorber', 'parent_name': 'Jacob Sorber', 'path': ['channels', 'Jacob Sorber'], 'name': 'Learn C in minutes (lesson 0)', 'available': True, 'files': {'videos/singles/Jacob Sorber/Learn C in minutes (lesson 0).mp4'}}\n",
      "Adding child SC8uWXmDJs4 and {'parent_id': '/c/JacobSorber', 'parent_name': 'Jacob Sorber', 'path': ['channels', 'Jacob Sorber'], 'name': 'Learn C in minutes (lesson 0)', 'available': True, 'files': {'videos/singles/Jacob Sorber/Learn C in minutes (lesson 0).mp4'}} to singles table\n"
     ]
    },
    {
     "name": "stderr",
     "output_type": "stream",
     "text": [
      "INFO:root:Adding http://www.youtube.com/c/JacobSorber to the database\n",
      "INFO:root:Adding videos/singles/Jacob Sorber/Cautionary Tale: How an IDE messed me up this week..mp4 to the database\n"
     ]
    },
    {
     "name": "stdout",
     "output_type": "stream",
     "text": [
      "Child keys: {'parent_id': '/c/JacobSorber', 'parent_name': 'Jacob Sorber', 'path': ['channels', 'Jacob Sorber'], 'name': 'Cautionary Tale: How an IDE messed me up this week.', 'available': True, 'files': {'videos/singles/Jacob Sorber/Cautionary Tale: How an IDE messed me up this week..mp4'}}\n",
      "Adding child KNPL11YJoAQ and {'parent_id': '/c/JacobSorber', 'parent_name': 'Jacob Sorber', 'path': ['channels', 'Jacob Sorber'], 'name': 'Cautionary Tale: How an IDE messed me up this week.', 'available': True, 'files': {'videos/singles/Jacob Sorber/Cautionary Tale: How an IDE messed me up this week..mp4'}} to singles table\n"
     ]
    },
    {
     "name": "stderr",
     "output_type": "stream",
     "text": [
      "INFO:root:Adding http://www.youtube.com/c/JacobSorber to the database\n",
      "INFO:root:Adding videos/singles/Jacob Sorber/Handling Errors in C/Unix (perror, strerror, errno).mp4 to the database\n"
     ]
    },
    {
     "name": "stdout",
     "output_type": "stream",
     "text": [
      "Child keys: {'parent_id': '/c/JacobSorber', 'parent_name': 'Jacob Sorber', 'path': ['channels', 'Jacob Sorber'], 'name': 'Handling Errors in C/Unix (perror, strerror, errno)', 'available': True, 'files': {'videos/singles/Jacob Sorber/Handling Errors in C/Unix (perror, strerror, errno).mp4'}}\n",
      "Adding child IZiUT-ipnj0 and {'parent_id': '/c/JacobSorber', 'parent_name': 'Jacob Sorber', 'path': ['channels', 'Jacob Sorber'], 'name': 'Handling Errors in C/Unix (perror, strerror, errno)', 'available': True, 'files': {'videos/singles/Jacob Sorber/Handling Errors in C/Unix (perror, strerror, errno).mp4'}} to singles table\n"
     ]
    },
    {
     "name": "stderr",
     "output_type": "stream",
     "text": [
      "INFO:root:Adding http://www.youtube.com/c/JacobSorber to the database\n",
      "INFO:root:Adding videos/singles/Jacob Sorber/Simple Shared Memory in C (mmap).mp4 to the database\n"
     ]
    },
    {
     "name": "stdout",
     "output_type": "stream",
     "text": [
      "Child keys: {'parent_id': '/c/JacobSorber', 'parent_name': 'Jacob Sorber', 'path': ['channels', 'Jacob Sorber'], 'name': 'Simple Shared Memory in C (mmap)', 'available': True, 'files': {'videos/singles/Jacob Sorber/Simple Shared Memory in C (mmap).mp4'}}\n",
      "Adding child rPV6b8BUwxM and {'parent_id': '/c/JacobSorber', 'parent_name': 'Jacob Sorber', 'path': ['channels', 'Jacob Sorber'], 'name': 'Simple Shared Memory in C (mmap)', 'available': True, 'files': {'videos/singles/Jacob Sorber/Simple Shared Memory in C (mmap).mp4'}} to singles table\n"
     ]
    },
    {
     "name": "stderr",
     "output_type": "stream",
     "text": [
      "INFO:root:Adding http://www.youtube.com/c/JacobSorber to the database\n",
      "INFO:root:Adding videos/singles/Jacob Sorber/Using Pipes and Named Pipes to get your programs working together..mp4 to the database\n"
     ]
    },
    {
     "name": "stdout",
     "output_type": "stream",
     "text": [
      "Child keys: {'parent_id': '/c/JacobSorber', 'parent_name': 'Jacob Sorber', 'path': ['channels', 'Jacob Sorber'], 'name': 'Using Pipes and Named Pipes to get your programs working together.', 'available': True, 'files': {'videos/singles/Jacob Sorber/Using Pipes and Named Pipes to get your programs working together..mp4'}}\n",
      "Adding child dhFkwGRSVGk and {'parent_id': '/c/JacobSorber', 'parent_name': 'Jacob Sorber', 'path': ['channels', 'Jacob Sorber'], 'name': 'Using Pipes and Named Pipes to get your programs working together.', 'available': True, 'files': {'videos/singles/Jacob Sorber/Using Pipes and Named Pipes to get your programs working together..mp4'}} to singles table\n"
     ]
    },
    {
     "name": "stderr",
     "output_type": "stream",
     "text": [
      "INFO:root:Adding http://www.youtube.com/c/JacobSorber to the database\n",
      "INFO:root:Adding videos/singles/Jacob Sorber/How to Inspect Compiled Binaries (binutils, objdump).mp4 to the database\n"
     ]
    },
    {
     "name": "stdout",
     "output_type": "stream",
     "text": [
      "Child keys: {'parent_id': '/c/JacobSorber', 'parent_name': 'Jacob Sorber', 'path': ['channels', 'Jacob Sorber'], 'name': 'How to Inspect Compiled Binaries (binutils, objdump)', 'available': True, 'files': {'videos/singles/Jacob Sorber/How to Inspect Compiled Binaries (binutils, objdump).mp4'}}\n",
      "Adding child bWMIpHVRFUo and {'parent_id': '/c/JacobSorber', 'parent_name': 'Jacob Sorber', 'path': ['channels', 'Jacob Sorber'], 'name': 'How to Inspect Compiled Binaries (binutils, objdump)', 'available': True, 'files': {'videos/singles/Jacob Sorber/How to Inspect Compiled Binaries (binutils, objdump).mp4'}} to singles table\n"
     ]
    },
    {
     "name": "stderr",
     "output_type": "stream",
     "text": [
      "INFO:root:Adding http://www.youtube.com/c/JacobSorber to the database\n",
      "INFO:root:Adding videos/singles/Jacob Sorber/Struct packing: No, you're not going crazy..mp4 to the database\n"
     ]
    },
    {
     "name": "stdout",
     "output_type": "stream",
     "text": [
      "Child keys: {'parent_id': '/c/JacobSorber', 'parent_name': 'Jacob Sorber', 'path': ['channels', 'Jacob Sorber'], 'name': \"Struct packing: No, you're not going crazy.\", 'available': True, 'files': {\"videos/singles/Jacob Sorber/Struct packing: No, you're not going crazy..mp4\"}}\n",
      "Adding child grk4QUDveFw and {'parent_id': '/c/JacobSorber', 'parent_name': 'Jacob Sorber', 'path': ['channels', 'Jacob Sorber'], 'name': \"Struct packing: No, you're not going crazy.\", 'available': True, 'files': {\"videos/singles/Jacob Sorber/Struct packing: No, you're not going crazy..mp4\"}} to singles table\n"
     ]
    },
    {
     "name": "stderr",
     "output_type": "stream",
     "text": [
      "INFO:root:Adding http://www.youtube.com/c/JacobSorber to the database\n",
      "INFO:root:Adding videos/singles/Jacob Sorber/Should you ever use a goto?.mp4 to the database\n"
     ]
    },
    {
     "name": "stdout",
     "output_type": "stream",
     "text": [
      "Child keys: {'parent_id': '/c/JacobSorber', 'parent_name': 'Jacob Sorber', 'path': ['channels', 'Jacob Sorber'], 'name': 'Should you ever use a goto?', 'available': True, 'files': {'videos/singles/Jacob Sorber/Should you ever use a goto?.mp4'}}\n",
      "Adding child 8bmEhtMVrhk and {'parent_id': '/c/JacobSorber', 'parent_name': 'Jacob Sorber', 'path': ['channels', 'Jacob Sorber'], 'name': 'Should you ever use a goto?', 'available': True, 'files': {'videos/singles/Jacob Sorber/Should you ever use a goto?.mp4'}} to singles table\n"
     ]
    },
    {
     "name": "stderr",
     "output_type": "stream",
     "text": [
      "INFO:root:Adding http://www.youtube.com/c/JacobSorber to the database\n",
      "INFO:root:Adding videos/singles/Jacob Sorber/How to Time Your Code (time, clock, times, clock_gettime).mp4 to the database\n"
     ]
    },
    {
     "name": "stdout",
     "output_type": "stream",
     "text": [
      "Child keys: {'parent_id': '/c/JacobSorber', 'parent_name': 'Jacob Sorber', 'path': ['channels', 'Jacob Sorber'], 'name': 'How to Time Your Code (time, clock, times, clock_gettime)', 'available': True, 'files': {'videos/singles/Jacob Sorber/How to Time Your Code (time, clock, times, clock_gettime).mp4'}}\n",
      "Adding child 1KQqpiXxvWQ and {'parent_id': '/c/JacobSorber', 'parent_name': 'Jacob Sorber', 'path': ['channels', 'Jacob Sorber'], 'name': 'How to Time Your Code (time, clock, times, clock_gettime)', 'available': True, 'files': {'videos/singles/Jacob Sorber/How to Time Your Code (time, clock, times, clock_gettime).mp4'}} to singles table\n"
     ]
    },
    {
     "name": "stderr",
     "output_type": "stream",
     "text": [
      "INFO:root:Adding http://www.youtube.com/c/JacobSorber to the database\n",
      "INFO:root:Adding videos/singles/Jacob Sorber/How to Map Files into Memory in C (mmap, memory mapped file io).mp4 to the database\n"
     ]
    },
    {
     "name": "stdout",
     "output_type": "stream",
     "text": [
      "Child keys: {'parent_id': '/c/JacobSorber', 'parent_name': 'Jacob Sorber', 'path': ['channels', 'Jacob Sorber'], 'name': 'How to Map Files into Memory in C (mmap, memory mapped file io)', 'available': True, 'files': {'videos/singles/Jacob Sorber/How to Map Files into Memory in C (mmap, memory mapped file io).mp4'}}\n",
      "Adding child m7E9piHcfr4 and {'parent_id': '/c/JacobSorber', 'parent_name': 'Jacob Sorber', 'path': ['channels', 'Jacob Sorber'], 'name': 'How to Map Files into Memory in C (mmap, memory mapped file io)', 'available': True, 'files': {'videos/singles/Jacob Sorber/How to Map Files into Memory in C (mmap, memory mapped file io).mp4'}} to singles table\n"
     ]
    },
    {
     "name": "stderr",
     "output_type": "stream",
     "text": [
      "INFO:root:Adding http://www.youtube.com/c/JacobSorber to the database\n",
      "INFO:root:Adding videos/singles/Jacob Sorber/Simpler Paths in C with realpath()!.mp4 to the database\n"
     ]
    },
    {
     "name": "stdout",
     "output_type": "stream",
     "text": [
      "Child keys: {'parent_id': '/c/JacobSorber', 'parent_name': 'Jacob Sorber', 'path': ['channels', 'Jacob Sorber'], 'name': 'Simpler Paths in C with realpath()!', 'available': True, 'files': {'videos/singles/Jacob Sorber/Simpler Paths in C with realpath()!.mp4'}}\n",
      "Adding child ewqX1IuYzC8 and {'parent_id': '/c/JacobSorber', 'parent_name': 'Jacob Sorber', 'path': ['channels', 'Jacob Sorber'], 'name': 'Simpler Paths in C with realpath()!', 'available': True, 'files': {'videos/singles/Jacob Sorber/Simpler Paths in C with realpath()!.mp4'}} to singles table\n"
     ]
    },
    {
     "name": "stderr",
     "output_type": "stream",
     "text": [
      "INFO:root:Adding http://www.youtube.com/c/JacobSorber to the database\n",
      "INFO:root:Adding videos/singles/Jacob Sorber/How to get a file's size in C? (stat, fstat, fileno).mp4 to the database\n"
     ]
    },
    {
     "name": "stdout",
     "output_type": "stream",
     "text": [
      "Child keys: {'parent_id': '/c/JacobSorber', 'parent_name': 'Jacob Sorber', 'path': ['channels', 'Jacob Sorber'], 'name': \"How to get a file's size in C? (stat, fstat, fileno)\", 'available': True, 'files': {\"videos/singles/Jacob Sorber/How to get a file's size in C? (stat, fstat, fileno).mp4\"}}\n",
      "Adding child FT2A2HQbTkU and {'parent_id': '/c/JacobSorber', 'parent_name': 'Jacob Sorber', 'path': ['channels', 'Jacob Sorber'], 'name': \"How to get a file's size in C? (stat, fstat, fileno)\", 'available': True, 'files': {\"videos/singles/Jacob Sorber/How to get a file's size in C? (stat, fstat, fileno).mp4\"}} to singles table\n"
     ]
    },
    {
     "name": "stderr",
     "output_type": "stream",
     "text": [
      "INFO:root:Adding http://www.youtube.com/c/JacobSorber to the database\n",
      "INFO:root:Adding videos/singles/Jacob Sorber/Reading and Writing Files in C, two ways (fopen vs. open).mp4 to the database\n"
     ]
    },
    {
     "name": "stdout",
     "output_type": "stream",
     "text": [
      "Child keys: {'parent_id': '/c/JacobSorber', 'parent_name': 'Jacob Sorber', 'path': ['channels', 'Jacob Sorber'], 'name': 'Reading and Writing Files in C, two ways (fopen vs. open)', 'available': True, 'files': {'videos/singles/Jacob Sorber/Reading and Writing Files in C, two ways (fopen vs. open).mp4'}}\n",
      "Adding child BQJBe4IbsvQ and {'parent_id': '/c/JacobSorber', 'parent_name': 'Jacob Sorber', 'path': ['channels', 'Jacob Sorber'], 'name': 'Reading and Writing Files in C, two ways (fopen vs. open)', 'available': True, 'files': {'videos/singles/Jacob Sorber/Reading and Writing Files in C, two ways (fopen vs. open).mp4'}} to singles table\n"
     ]
    },
    {
     "name": "stderr",
     "output_type": "stream",
     "text": [
      "INFO:root:Adding http://www.youtube.com/c/JacobSorber to the database\n",
      "INFO:root:Adding videos/singles/Jacob Sorber/Does it matter what programming language you use?.mp4 to the database\n"
     ]
    },
    {
     "name": "stdout",
     "output_type": "stream",
     "text": [
      "Child keys: {'parent_id': '/c/JacobSorber', 'parent_name': 'Jacob Sorber', 'path': ['channels', 'Jacob Sorber'], 'name': 'Does it matter what programming language you use?', 'available': True, 'files': {'videos/singles/Jacob Sorber/Does it matter what programming language you use?.mp4'}}\n",
      "Adding child lEWFr98UqY0 and {'parent_id': '/c/JacobSorber', 'parent_name': 'Jacob Sorber', 'path': ['channels', 'Jacob Sorber'], 'name': 'Does it matter what programming language you use?', 'available': True, 'files': {'videos/singles/Jacob Sorber/Does it matter what programming language you use?.mp4'}} to singles table\n"
     ]
    },
    {
     "name": "stderr",
     "output_type": "stream",
     "text": [
      "INFO:root:Adding http://www.youtube.com/c/JacobSorber to the database\n",
      "INFO:root:Adding videos/singles/Jacob Sorber/Sending and Handling Signals in C (kill, signal, sigaction).mp4 to the database\n"
     ]
    },
    {
     "name": "stdout",
     "output_type": "stream",
     "text": [
      "Child keys: {'parent_id': '/c/JacobSorber', 'parent_name': 'Jacob Sorber', 'path': ['channels', 'Jacob Sorber'], 'name': 'Sending and Handling Signals in C (kill, signal, sigaction)', 'available': True, 'files': {'videos/singles/Jacob Sorber/Sending and Handling Signals in C (kill, signal, sigaction).mp4'}}\n",
      "Adding child 83M5-NPDeWs and {'parent_id': '/c/JacobSorber', 'parent_name': 'Jacob Sorber', 'path': ['channels', 'Jacob Sorber'], 'name': 'Sending and Handling Signals in C (kill, signal, sigaction)', 'available': True, 'files': {'videos/singles/Jacob Sorber/Sending and Handling Signals in C (kill, signal, sigaction).mp4'}} to singles table\n"
     ]
    },
    {
     "name": "stderr",
     "output_type": "stream",
     "text": [
      "INFO:root:Adding http://www.youtube.com/c/JacobSorber to the database\n",
      "INFO:root:Adding videos/singles/Jacob Sorber/How processes get more memory. (mmap, brk).mp4 to the database\n"
     ]
    },
    {
     "name": "stdout",
     "output_type": "stream",
     "text": [
      "Child keys: {'parent_id': '/c/JacobSorber', 'parent_name': 'Jacob Sorber', 'path': ['channels', 'Jacob Sorber'], 'name': 'How processes get more memory. (mmap, brk)', 'available': True, 'files': {'videos/singles/Jacob Sorber/How processes get more memory. (mmap, brk).mp4'}}\n",
      "Adding child XV5sRaSVtXQ and {'parent_id': '/c/JacobSorber', 'parent_name': 'Jacob Sorber', 'path': ['channels', 'Jacob Sorber'], 'name': 'How processes get more memory. (mmap, brk)', 'available': True, 'files': {'videos/singles/Jacob Sorber/How processes get more memory. (mmap, brk).mp4'}} to singles table\n"
     ]
    },
    {
     "name": "stderr",
     "output_type": "stream",
     "text": [
      "INFO:root:Adding http://www.youtube.com/c/JacobSorber to the database\n",
      "INFO:root:Adding videos/singles/Jacob Sorber/Spying on Running Programs (strace, ltrace, system calls vs function calls).mp4 to the database\n"
     ]
    },
    {
     "name": "stdout",
     "output_type": "stream",
     "text": [
      "Child keys: {'parent_id': '/c/JacobSorber', 'parent_name': 'Jacob Sorber', 'path': ['channels', 'Jacob Sorber'], 'name': 'Spying on Running Programs (strace, ltrace, system calls vs function calls)', 'available': True, 'files': {'videos/singles/Jacob Sorber/Spying on Running Programs (strace, ltrace, system calls vs function calls).mp4'}}\n",
      "Adding child 2AmP7Pse4U0 and {'parent_id': '/c/JacobSorber', 'parent_name': 'Jacob Sorber', 'path': ['channels', 'Jacob Sorber'], 'name': 'Spying on Running Programs (strace, ltrace, system calls vs function calls)', 'available': True, 'files': {'videos/singles/Jacob Sorber/Spying on Running Programs (strace, ltrace, system calls vs function calls).mp4'}} to singles table\n"
     ]
    },
    {
     "name": "stderr",
     "output_type": "stream",
     "text": [
      "INFO:root:Adding http://www.youtube.com/c/JacobSorber to the database\n",
      "INFO:root:Adding videos/singles/Jacob Sorber/Compiling C programs with Multiple Files.mp4 to the database\n"
     ]
    },
    {
     "name": "stdout",
     "output_type": "stream",
     "text": [
      "Child keys: {'parent_id': '/c/JacobSorber', 'parent_name': 'Jacob Sorber', 'path': ['channels', 'Jacob Sorber'], 'name': 'Compiling C programs with Multiple Files', 'available': True, 'files': {'videos/singles/Jacob Sorber/Compiling C programs with Multiple Files.mp4'}}\n",
      "Adding child 2YfM-HxQd_8 and {'parent_id': '/c/JacobSorber', 'parent_name': 'Jacob Sorber', 'path': ['channels', 'Jacob Sorber'], 'name': 'Compiling C programs with Multiple Files', 'available': True, 'files': {'videos/singles/Jacob Sorber/Compiling C programs with Multiple Files.mp4'}} to singles table\n"
     ]
    },
    {
     "name": "stderr",
     "output_type": "stream",
     "text": [
      "INFO:root:Adding http://www.youtube.com/c/JacobSorber to the database\n",
      "INFO:root:Adding videos/singles/Jacob Sorber/They're Just Bits! Types and Structuring Memory in C..mp4 to the database\n"
     ]
    },
    {
     "name": "stdout",
     "output_type": "stream",
     "text": [
      "Child keys: {'parent_id': '/c/JacobSorber', 'parent_name': 'Jacob Sorber', 'path': ['channels', 'Jacob Sorber'], 'name': \"They're Just Bits! Types and Structuring Memory in C.\", 'available': True, 'files': {\"videos/singles/Jacob Sorber/They're Just Bits! Types and Structuring Memory in C..mp4\"}}\n",
      "Adding child phYM4L1BBjI and {'parent_id': '/c/JacobSorber', 'parent_name': 'Jacob Sorber', 'path': ['channels', 'Jacob Sorber'], 'name': \"They're Just Bits! Types and Structuring Memory in C.\", 'available': True, 'files': {\"videos/singles/Jacob Sorber/They're Just Bits! Types and Structuring Memory in C..mp4\"}} to singles table\n"
     ]
    },
    {
     "name": "stderr",
     "output_type": "stream",
     "text": [
      "INFO:root:Adding http://www.youtube.com/c/JacobSorber to the database\n",
      "INFO:root:Adding videos/singles/Jacob Sorber/How to Start a Programming Project.mp4 to the database\n"
     ]
    },
    {
     "name": "stdout",
     "output_type": "stream",
     "text": [
      "Child keys: {'parent_id': '/c/JacobSorber', 'parent_name': 'Jacob Sorber', 'path': ['channels', 'Jacob Sorber'], 'name': 'How to Start a Programming Project', 'available': True, 'files': {'videos/singles/Jacob Sorber/How to Start a Programming Project.mp4'}}\n",
      "Adding child XjhL6WCvH-w and {'parent_id': '/c/JacobSorber', 'parent_name': 'Jacob Sorber', 'path': ['channels', 'Jacob Sorber'], 'name': 'How to Start a Programming Project', 'available': True, 'files': {'videos/singles/Jacob Sorber/How to Start a Programming Project.mp4'}} to singles table\n"
     ]
    },
    {
     "name": "stderr",
     "output_type": "stream",
     "text": [
      "INFO:root:Adding http://www.youtube.com/c/JacobSorber to the database\n",
      "INFO:root:Adding videos/singles/Jacob Sorber/More C string parsing with strtok_r, strsep (and strdup).mp4 to the database\n"
     ]
    },
    {
     "name": "stdout",
     "output_type": "stream",
     "text": [
      "Child keys: {'parent_id': '/c/JacobSorber', 'parent_name': 'Jacob Sorber', 'path': ['channels', 'Jacob Sorber'], 'name': 'More C string parsing with strtok_r, strsep (and strdup)', 'available': True, 'files': {'videos/singles/Jacob Sorber/More C string parsing with strtok_r, strsep (and strdup).mp4'}}\n",
      "Adding child cCdn7Cy6TfE and {'parent_id': '/c/JacobSorber', 'parent_name': 'Jacob Sorber', 'path': ['channels', 'Jacob Sorber'], 'name': 'More C string parsing with strtok_r, strsep (and strdup)', 'available': True, 'files': {'videos/singles/Jacob Sorber/More C string parsing with strtok_r, strsep (and strdup).mp4'}} to singles table\n"
     ]
    },
    {
     "name": "stderr",
     "output_type": "stream",
     "text": [
      "INFO:root:Adding http://www.youtube.com/c/JacobSorber to the database\n",
      "INFO:root:Adding videos/singles/Jacob Sorber/CPU Scheduling Basics.mp4 to the database\n"
     ]
    },
    {
     "name": "stdout",
     "output_type": "stream",
     "text": [
      "Child keys: {'parent_id': '/c/JacobSorber', 'parent_name': 'Jacob Sorber', 'path': ['channels', 'Jacob Sorber'], 'name': 'CPU Scheduling Basics', 'available': True, 'files': {'videos/singles/Jacob Sorber/CPU Scheduling Basics.mp4'}}\n",
      "Adding child Jkmy2YLUbUY and {'parent_id': '/c/JacobSorber', 'parent_name': 'Jacob Sorber', 'path': ['channels', 'Jacob Sorber'], 'name': 'CPU Scheduling Basics', 'available': True, 'files': {'videos/singles/Jacob Sorber/CPU Scheduling Basics.mp4'}} to singles table\n"
     ]
    },
    {
     "name": "stderr",
     "output_type": "stream",
     "text": [
      "INFO:root:Adding http://www.youtube.com/c/JacobSorber to the database\n",
      "INFO:root:Adding videos/singles/Jacob Sorber/School Rankings and Where to go for Grad School?.mp4 to the database\n"
     ]
    },
    {
     "name": "stdout",
     "output_type": "stream",
     "text": [
      "Child keys: {'parent_id': '/c/JacobSorber', 'parent_name': 'Jacob Sorber', 'path': ['channels', 'Jacob Sorber'], 'name': 'School Rankings and Where to go for Grad School?', 'available': True, 'files': {'videos/singles/Jacob Sorber/School Rankings and Where to go for Grad School?.mp4'}}\n",
      "Adding child HeCT7VHIUm8 and {'parent_id': '/c/JacobSorber', 'parent_name': 'Jacob Sorber', 'path': ['channels', 'Jacob Sorber'], 'name': 'School Rankings and Where to go for Grad School?', 'available': True, 'files': {'videos/singles/Jacob Sorber/School Rankings and Where to go for Grad School?.mp4'}} to singles table\n"
     ]
    },
    {
     "name": "stderr",
     "output_type": "stream",
     "text": [
      "INFO:root:Adding http://www.youtube.com/c/JacobSorber to the database\n",
      "INFO:root:Adding videos/singles/Jacob Sorber/GDB Debugging with fork() and exec().mp4 to the database\n"
     ]
    },
    {
     "name": "stdout",
     "output_type": "stream",
     "text": [
      "Child keys: {'parent_id': '/c/JacobSorber', 'parent_name': 'Jacob Sorber', 'path': ['channels', 'Jacob Sorber'], 'name': 'GDB Debugging with fork() and exec()', 'available': True, 'files': {'videos/singles/Jacob Sorber/GDB Debugging with fork() and exec().mp4'}}\n",
      "Adding child IGW8-yeYRgI and {'parent_id': '/c/JacobSorber', 'parent_name': 'Jacob Sorber', 'path': ['channels', 'Jacob Sorber'], 'name': 'GDB Debugging with fork() and exec()', 'available': True, 'files': {'videos/singles/Jacob Sorber/GDB Debugging with fork() and exec().mp4'}} to singles table\n"
     ]
    },
    {
     "name": "stderr",
     "output_type": "stream",
     "text": [
      "INFO:root:Adding http://www.youtube.com/c/JacobSorber to the database\n",
      "INFO:root:Adding videos/singles/Jacob Sorber/Understanding Zombie Processes!.mp4 to the database\n"
     ]
    },
    {
     "name": "stdout",
     "output_type": "stream",
     "text": [
      "Child keys: {'parent_id': '/c/JacobSorber', 'parent_name': 'Jacob Sorber', 'path': ['channels', 'Jacob Sorber'], 'name': 'Understanding Zombie Processes!', 'available': True, 'files': {'videos/singles/Jacob Sorber/Understanding Zombie Processes!.mp4'}}\n",
      "Adding child xJ8KenZw2ag and {'parent_id': '/c/JacobSorber', 'parent_name': 'Jacob Sorber', 'path': ['channels', 'Jacob Sorber'], 'name': 'Understanding Zombie Processes!', 'available': True, 'files': {'videos/singles/Jacob Sorber/Understanding Zombie Processes!.mp4'}} to singles table\n"
     ]
    },
    {
     "name": "stderr",
     "output_type": "stream",
     "text": [
      "INFO:root:Adding http://www.youtube.com/c/JacobSorber to the database\n",
      "INFO:root:Adding videos/singles/Jacob Sorber/Making forked clones more useful with exec()!.mp4 to the database\n"
     ]
    },
    {
     "name": "stdout",
     "output_type": "stream",
     "text": [
      "Child keys: {'parent_id': '/c/JacobSorber', 'parent_name': 'Jacob Sorber', 'path': ['channels', 'Jacob Sorber'], 'name': 'Making forked clones more useful with exec()!', 'available': True, 'files': {'videos/singles/Jacob Sorber/Making forked clones more useful with exec()!.mp4'}}\n",
      "Adding child kDxjcyHu_Qs and {'parent_id': '/c/JacobSorber', 'parent_name': 'Jacob Sorber', 'path': ['channels', 'Jacob Sorber'], 'name': 'Making forked clones more useful with exec()!', 'available': True, 'files': {'videos/singles/Jacob Sorber/Making forked clones more useful with exec()!.mp4'}} to singles table\n"
     ]
    },
    {
     "name": "stderr",
     "output_type": "stream",
     "text": [
      "INFO:root:Adding http://www.youtube.com/c/JacobSorber to the database\n",
      "INFO:root:Adding videos/singles/Jacob Sorber/Creating new processes with fork()!.mp4 to the database\n"
     ]
    },
    {
     "name": "stdout",
     "output_type": "stream",
     "text": [
      "Child keys: {'parent_id': '/c/JacobSorber', 'parent_name': 'Jacob Sorber', 'path': ['channels', 'Jacob Sorber'], 'name': 'Creating new processes with fork()!', 'available': True, 'files': {'videos/singles/Jacob Sorber/Creating new processes with fork()!.mp4'}}\n",
      "Adding child ss1-REMJ9GA and {'parent_id': '/c/JacobSorber', 'parent_name': 'Jacob Sorber', 'path': ['channels', 'Jacob Sorber'], 'name': 'Creating new processes with fork()!', 'available': True, 'files': {'videos/singles/Jacob Sorber/Creating new processes with fork()!.mp4'}} to singles table\n"
     ]
    },
    {
     "name": "stderr",
     "output_type": "stream",
     "text": [
      "INFO:root:Adding http://www.youtube.com/c/JacobSorber to the database\n",
      "INFO:root:Adding videos/singles/Jacob Sorber/Student Tips on Getting Programming Experience.mp4 to the database\n"
     ]
    },
    {
     "name": "stdout",
     "output_type": "stream",
     "text": [
      "Child keys: {'parent_id': '/c/JacobSorber', 'parent_name': 'Jacob Sorber', 'path': ['channels', 'Jacob Sorber'], 'name': 'Student Tips on Getting Programming Experience', 'available': True, 'files': {'videos/singles/Jacob Sorber/Student Tips on Getting Programming Experience.mp4'}}\n",
      "Adding child PQxM9EXauLo and {'parent_id': '/c/JacobSorber', 'parent_name': 'Jacob Sorber', 'path': ['channels', 'Jacob Sorber'], 'name': 'Student Tips on Getting Programming Experience', 'available': True, 'files': {'videos/singles/Jacob Sorber/Student Tips on Getting Programming Experience.mp4'}} to singles table\n"
     ]
    },
    {
     "name": "stderr",
     "output_type": "stream",
     "text": [
      "INFO:root:Adding http://www.youtube.com/c/JacobSorber to the database\n",
      "INFO:root:Adding videos/singles/Jacob Sorber/Debug Faster With Conditional Breakpoints (GDB).mp4 to the database\n"
     ]
    },
    {
     "name": "stdout",
     "output_type": "stream",
     "text": [
      "Child keys: {'parent_id': '/c/JacobSorber', 'parent_name': 'Jacob Sorber', 'path': ['channels', 'Jacob Sorber'], 'name': 'Debug Faster With Conditional Breakpoints (GDB)', 'available': True, 'files': {'videos/singles/Jacob Sorber/Debug Faster With Conditional Breakpoints (GDB).mp4'}}\n",
      "Adding child zkV-MoTosPE and {'parent_id': '/c/JacobSorber', 'parent_name': 'Jacob Sorber', 'path': ['channels', 'Jacob Sorber'], 'name': 'Debug Faster With Conditional Breakpoints (GDB)', 'available': True, 'files': {'videos/singles/Jacob Sorber/Debug Faster With Conditional Breakpoints (GDB).mp4'}} to singles table\n",
      "Unexpected exception formatting exception. Falling back to standard exception\n"
     ]
    },
    {
     "name": "stderr",
     "output_type": "stream",
     "text": [
      "Traceback (most recent call last):\n",
      "  File \"/Users/warrenkrettek/Library/Caches/pypoetry/virtualenvs/youmirror-QFwx0crY-py3.9/lib/python3.9/site-packages/IPython/core/interactiveshell.py\", line 3369, in run_code\n",
      "    exec(code_obj, self.user_global_ns, self.user_ns)\n",
      "  File \"/var/folders/h6/mnxpx9l91kncyf3_g0xrfx7h0000gn/T/ipykernel_17619/3344275423.py\", line 3, in <cell line: 2>\n",
      "    ym.add(link, root=\"testmirror\")\n",
      "  File \"/Users/warrenkrettek/Documents/projects/youmirror/tests/youmirror/core.py\", line 146, in add\n",
      "  File \"/Users/warrenkrettek/Documents/projects/youmirror/tests/youmirror/parser.py\", line 222, in get_keys\n",
      "    metadata = get_metadata(yt)\n",
      "  File \"/Users/warrenkrettek/Documents/projects/youmirror/tests/youmirror/parser.py\", line 60, in get_metadata\n",
      "    meta[\"name\"] = yt.title\n",
      "  File \"/Users/warrenkrettek/Library/Caches/pypoetry/virtualenvs/youmirror-QFwx0crY-py3.9/lib/python3.9/site-packages/pytube/__main__.py\", line 341, in title\n",
      "    self._title = self.vid_info['videoDetails']['title']\n",
      "  File \"/Users/warrenkrettek/Library/Caches/pypoetry/virtualenvs/youmirror-QFwx0crY-py3.9/lib/python3.9/site-packages/pytube/__main__.py\", line 246, in vid_info\n",
      "    innertube_response = innertube.player(self.video_id)\n",
      "  File \"/Users/warrenkrettek/Library/Caches/pypoetry/virtualenvs/youmirror-QFwx0crY-py3.9/lib/python3.9/site-packages/pytube/innertube.py\", line 300, in player\n",
      "    return self._call_api(endpoint, query, self.base_data)\n",
      "  File \"/Users/warrenkrettek/Library/Caches/pypoetry/virtualenvs/youmirror-QFwx0crY-py3.9/lib/python3.9/site-packages/pytube/innertube.py\", line 248, in _call_api\n",
      "    return json.loads(response.read())\n",
      "  File \"/opt/homebrew/Cellar/python@3.9/3.9.12/Frameworks/Python.framework/Versions/3.9/lib/python3.9/http/client.py\", line 470, in read\n",
      "    return self._readall_chunked()\n",
      "  File \"/opt/homebrew/Cellar/python@3.9/3.9.12/Frameworks/Python.framework/Versions/3.9/lib/python3.9/http/client.py\", line 580, in _readall_chunked\n",
      "    value.append(self._safe_read(chunk_left))\n",
      "  File \"/opt/homebrew/Cellar/python@3.9/3.9.12/Frameworks/Python.framework/Versions/3.9/lib/python3.9/http/client.py\", line 626, in _safe_read\n",
      "    chunk = self.fp.read(min(amt, MAXAMOUNT))\n",
      "  File \"/opt/homebrew/Cellar/python@3.9/3.9.12/Frameworks/Python.framework/Versions/3.9/lib/python3.9/socket.py\", line 704, in readinto\n",
      "    return self._sock.recv_into(b)\n",
      "  File \"/opt/homebrew/Cellar/python@3.9/3.9.12/Frameworks/Python.framework/Versions/3.9/lib/python3.9/ssl.py\", line 1241, in recv_into\n",
      "    return self.read(nbytes, buffer)\n",
      "  File \"/opt/homebrew/Cellar/python@3.9/3.9.12/Frameworks/Python.framework/Versions/3.9/lib/python3.9/ssl.py\", line 1099, in read\n",
      "    return self._sslobj.read(len, buffer)\n",
      "KeyboardInterrupt\n",
      "\n",
      "During handling of the above exception, another exception occurred:\n",
      "\n",
      "Traceback (most recent call last):\n",
      "  File \"/Users/warrenkrettek/Library/Caches/pypoetry/virtualenvs/youmirror-QFwx0crY-py3.9/lib/python3.9/site-packages/IPython/core/interactiveshell.py\", line 1982, in showtraceback\n",
      "    stb = self.InteractiveTB.structured_traceback(\n",
      "  File \"/Users/warrenkrettek/Library/Caches/pypoetry/virtualenvs/youmirror-QFwx0crY-py3.9/lib/python3.9/site-packages/IPython/core/ultratb.py\", line 1118, in structured_traceback\n",
      "    return FormattedTB.structured_traceback(\n",
      "  File \"/Users/warrenkrettek/Library/Caches/pypoetry/virtualenvs/youmirror-QFwx0crY-py3.9/lib/python3.9/site-packages/IPython/core/ultratb.py\", line 1012, in structured_traceback\n",
      "    return VerboseTB.structured_traceback(\n",
      "  File \"/Users/warrenkrettek/Library/Caches/pypoetry/virtualenvs/youmirror-QFwx0crY-py3.9/lib/python3.9/site-packages/IPython/core/ultratb.py\", line 865, in structured_traceback\n",
      "    formatted_exception = self.format_exception_as_a_whole(etype, evalue, etb, number_of_lines_of_context,\n",
      "  File \"/Users/warrenkrettek/Library/Caches/pypoetry/virtualenvs/youmirror-QFwx0crY-py3.9/lib/python3.9/site-packages/IPython/core/ultratb.py\", line 818, in format_exception_as_a_whole\n",
      "    frames.append(self.format_record(r))\n",
      "  File \"/Users/warrenkrettek/Library/Caches/pypoetry/virtualenvs/youmirror-QFwx0crY-py3.9/lib/python3.9/site-packages/IPython/core/ultratb.py\", line 736, in format_record\n",
      "    result += ''.join(_format_traceback_lines(frame_info.lines, Colors, self.has_colors, lvals))\n",
      "  File \"/Users/warrenkrettek/Library/Caches/pypoetry/virtualenvs/youmirror-QFwx0crY-py3.9/lib/python3.9/site-packages/stack_data/utils.py\", line 145, in cached_property_wrapper\n",
      "    value = obj.__dict__[self.func.__name__] = self.func(obj)\n",
      "  File \"/Users/warrenkrettek/Library/Caches/pypoetry/virtualenvs/youmirror-QFwx0crY-py3.9/lib/python3.9/site-packages/stack_data/core.py\", line 698, in lines\n",
      "    pieces = self.included_pieces\n",
      "  File \"/Users/warrenkrettek/Library/Caches/pypoetry/virtualenvs/youmirror-QFwx0crY-py3.9/lib/python3.9/site-packages/stack_data/utils.py\", line 145, in cached_property_wrapper\n",
      "    value = obj.__dict__[self.func.__name__] = self.func(obj)\n",
      "  File \"/Users/warrenkrettek/Library/Caches/pypoetry/virtualenvs/youmirror-QFwx0crY-py3.9/lib/python3.9/site-packages/stack_data/core.py\", line 649, in included_pieces\n",
      "    pos = scope_pieces.index(self.executing_piece)\n",
      "  File \"/Users/warrenkrettek/Library/Caches/pypoetry/virtualenvs/youmirror-QFwx0crY-py3.9/lib/python3.9/site-packages/stack_data/utils.py\", line 145, in cached_property_wrapper\n",
      "    value = obj.__dict__[self.func.__name__] = self.func(obj)\n",
      "  File \"/Users/warrenkrettek/Library/Caches/pypoetry/virtualenvs/youmirror-QFwx0crY-py3.9/lib/python3.9/site-packages/stack_data/core.py\", line 628, in executing_piece\n",
      "    return only(\n",
      "  File \"/Users/warrenkrettek/Library/Caches/pypoetry/virtualenvs/youmirror-QFwx0crY-py3.9/lib/python3.9/site-packages/executing/executing.py\", line 164, in only\n",
      "    raise NotOneValueFound('Expected one value, found 0')\n",
      "executing.executing.NotOneValueFound: Expected one value, found 0\n"
     ]
    }
   ],
   "source": [
    "all_links = [\"https://www.youtube.com/playlist?list=PLD0D54219E5F2544D\", \"https://www.youtube.com/c/TheAlwaysSunnyPodcast\", \"https://www.youtube.com/watch?v=rj7DOPPTkQA\"]\n",
    "for link in all_links:\n",
    "    ym.add(link, root=\"testmirror\")"
   ]
  },
  {
   "cell_type": "code",
   "execution_count": null,
   "metadata": {},
   "outputs": [],
   "source": [
    "%rm -rf testmirror"
   ]
  },
  {
   "cell_type": "code",
   "execution_count": null,
   "metadata": {},
   "outputs": [],
   "source": []
  }
 ],
 "metadata": {
  "interpreter": {
   "hash": "e004316eaf75f6b78db9dc7631215e8c72c4833232d7b160ec6af4e63c863a93"
  },
  "kernelspec": {
   "display_name": "Python ('memery')",
   "language": "python",
   "name": "python3"
  },
  "language_info": {
   "codemirror_mode": {
    "name": "ipython",
    "version": 3
   },
   "file_extension": ".py",
   "mimetype": "text/x-python",
   "name": "python",
   "nbconvert_exporter": "python",
   "pygments_lexer": "ipython3",
   "version": "3.9.6"
  },
  "orig_nbformat": 4
 },
 "nbformat": 4,
 "nbformat_minor": 2
}
