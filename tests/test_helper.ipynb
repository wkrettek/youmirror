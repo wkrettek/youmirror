{
 "cells": [
  {
   "cell_type": "markdown",
   "metadata": {},
   "source": [
    "### Testing the helper"
   ]
  },
  {
   "cell_type": "code",
   "execution_count": 1,
   "metadata": {},
   "outputs": [
    {
     "name": "stdout",
     "output_type": "stream",
     "text": [
      "/home/josh/youmirror/pic.jpg\n"
     ]
    }
   ],
   "source": [
    "from youmirror.helper import *\n",
    "from pathlib import Path"
   ]
  },
  {
   "cell_type": "code",
   "execution_count": 4,
   "metadata": {},
   "outputs": [
    {
     "name": "stdout",
     "output_type": "stream",
     "text": [
      "/home/user/videos/dick_this_is_a_the_id.jpg\n",
      "/home/user/videos_this_is_a_the_id\n"
     ]
    }
   ],
   "source": [
    "print(resolve_collision(\"/home/user/videos/dick.jpg\", {\"something\", \"another thin\", \"/home/user/videos/dick.jpg\", \"/home/user/videos/\"}, \"this_is_a_the_id\"))\n",
    "print(resolve_collision(\"/home/user/videos/\", {\"something\", \"another thin\", \"/home/user/videos/dick.jpg\", \"/home/user/videos/\"}, \"this_is_a_the_id\"))"
   ]
  }
 ],
 "metadata": {
  "interpreter": {
   "hash": "6888a618b45ed3d089a7024cb4c14c044c0a149f2922f727f8e9250c1b4216d0"
  },
  "kernelspec": {
   "display_name": "Python ('memery')",
   "language": "python",
   "name": "python3"
  },
  "language_info": {
   "codemirror_mode": {
    "name": "ipython",
    "version": 3
   },
   "file_extension": ".py",
   "mimetype": "text/x-python",
   "name": "python",
   "nbconvert_exporter": "python",
   "pygments_lexer": "ipython3",
   "version": "3.9.12"
  },
  "orig_nbformat": 4
 },
 "nbformat": 4,
 "nbformat_minor": 2
}
