{
 "cells": [
  {
   "cell_type": "markdown",
   "metadata": {},
   "source": [
    "### Testing the configurator module"
   ]
  },
  {
   "cell_type": "code",
   "execution_count": 11,
   "metadata": {},
   "outputs": [],
   "source": [
    "import youmirror.configurer as configurer\n",
    "from pathlib import Path\n",
    "path = Path(\"testmirror\")\n",
    "config_path = path/Path(configurer.config_file)"
   ]
  },
  {
   "cell_type": "code",
   "execution_count": 7,
   "metadata": {},
   "outputs": [
    {
     "name": "stdout",
     "output_type": "stream",
     "text": [
      "{'name': \"PosixPath('testmirror')\", 'created': '2022-04-13', 'youmirror': {'name': '', 'default_resolution': 'best'}, 'channels': {}, 'playlists': {}, 'singles': {}}\n"
     ]
    }
   ],
   "source": [
    "config_file = configurer.load_config(config_path)\n",
    "print(config_file)"
   ]
  },
  {
   "cell_type": "code",
   "execution_count": 15,
   "metadata": {},
   "outputs": [
    {
     "name": "stdout",
     "output_type": "stream",
     "text": [
      "New config: \n",
      "name = \"PosixPath('testmirror')\"\n",
      "created = \"2022-04-13\"\n",
      "\n",
      "[youmirror]\n",
      "name = \"\"\n",
      "default_resolution = \"best\"\n",
      "\n",
      "[channels]\n",
      "\n",
      "[playlists]\n",
      "\n",
      "[singles]\n",
      "\n",
      "None\n"
     ]
    }
   ],
   "source": [
    "new_config = configurer.new_config(config_path, str(path))\n",
    "print(new_config)"
   ]
  }
 ],
 "metadata": {
  "interpreter": {
   "hash": "e004316eaf75f6b78db9dc7631215e8c72c4833232d7b160ec6af4e63c863a93"
  },
  "kernelspec": {
   "display_name": "Python ('memery')",
   "language": "python",
   "name": "python3"
  },
  "language_info": {
   "codemirror_mode": {
    "name": "ipython",
    "version": 3
   },
   "file_extension": ".py",
   "mimetype": "text/x-python",
   "name": "python",
   "nbconvert_exporter": "python",
   "pygments_lexer": "ipython3",
   "version": "3.9.12"
  },
  "orig_nbformat": 4
 },
 "nbformat": 4,
 "nbformat_minor": 2
}
