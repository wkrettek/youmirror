{
 "cells": [
  {
   "cell_type": "markdown",
   "metadata": {},
   "source": [
    "### Testing the configurator module"
   ]
  },
  {
   "cell_type": "code",
   "execution_count": 1,
   "metadata": {},
   "outputs": [
    {
     "data": {
      "text/plain": [
       "'\\nTo test\\nset_options\\nget_options\\nset_yt\\nget_yt\\nyt_exists\\nadd_yt\\nremove_yt\\nload_config\\nsave_config\\nsave_config\\n'"
      ]
     },
     "execution_count": 1,
     "metadata": {},
     "output_type": "execute_result"
    }
   ],
   "source": [
    "from youmirror.configurer import *\n",
    "from pathlib import Path\n",
    "'''\n",
    "To test\n",
    "set_options\n",
    "get_options\n",
    "set_yt\n",
    "get_yt\n",
    "yt_exists\n",
    "add_yt\n",
    "remove_yt\n",
    "load_config\n",
    "save_config\n",
    "save_config\n",
    "'''"
   ]
  },
  {
   "cell_type": "code",
   "execution_count": 2,
   "metadata": {},
   "outputs": [
    {
     "name": "stdout",
     "output_type": "stream",
     "text": [
      "{'youmirror': {'name': 'testmirror', 'created_at': '2022-04-13'}, 'channels': {}, 'playlists': {}, 'singles': {}}\n"
     ]
    }
   ],
   "source": [
    "path = Path(\"testmirror\")\n",
    "config_path = path/Path(config_file)\n",
    "config = load_config(config_path)\n",
    "print(config)"
   ]
  },
  {
   "cell_type": "code",
   "execution_count": 5,
   "metadata": {},
   "outputs": [
    {
     "name": "stdout",
     "output_type": "stream",
     "text": [
      "None\n"
     ]
    }
   ],
   "source": [
    "new_config = new_config(config_path, str(path))\n",
    "print(new_config)"
   ]
  },
  {
   "cell_type": "code",
   "execution_count": 4,
   "metadata": {},
   "outputs": [
    {
     "name": "stdout",
     "output_type": "stream",
     "text": [
      "False\n"
     ]
    }
   ],
   "source": [
    "print(yt_exists(\"channels\", \"test\", config))"
   ]
  },
  {
   "cell_type": "code",
   "execution_count": 9,
   "metadata": {},
   "outputs": [
    {
     "name": "stdout",
     "output_type": "stream",
     "text": [
      "config =  {'youmirror': {'name': 'testmirror', 'created_at': '2022-04-13', 'test': 'test', 'hi': 'nottest'}, 'channels': {'test': {'test': 'test'}}, 'playlists': {}, 'singles': {}}\n",
      "{'test': 'test'}\n",
      "True\n"
     ]
    }
   ],
   "source": [
    "config = set_yt(\"channels\", \"test\", config, {\"test\": \"test\"})\n",
    "print(\"config = \", config)\n",
    "print(get_yt(\"channels\", \"test\", config))\n",
    "print(yt_exists(\"channels\", \"test\", config))"
   ]
  },
  {
   "cell_type": "code",
   "execution_count": 4,
   "metadata": {},
   "outputs": [
    {
     "data": {
      "text/plain": [
       "{'youmirror': {'name': 'testmirror',\n",
       "  'created_at': '2022-04-13',\n",
       "  'test': 'test',\n",
       "  'hi': 'nottest'},\n",
       " 'channels': {'test': {'test': 'test'}},\n",
       " 'playlists': {},\n",
       " 'singles': {}}"
      ]
     },
     "execution_count": 4,
     "metadata": {},
     "output_type": "execute_result"
    }
   ],
   "source": [
    "set_options(\"youmirror\", config, {\"test\": \"test\"})\n",
    "set_options(\"youmirror\", config, {\"hi\": \"nottest\"})"
   ]
  }
 ],
 "metadata": {
  "interpreter": {
   "hash": "e004316eaf75f6b78db9dc7631215e8c72c4833232d7b160ec6af4e63c863a93"
  },
  "kernelspec": {
   "display_name": "Python ('memery')",
   "language": "python",
   "name": "python3"
  },
  "language_info": {
   "codemirror_mode": {
    "name": "ipython",
    "version": 3
   },
   "file_extension": ".py",
   "mimetype": "text/x-python",
   "name": "python",
   "nbconvert_exporter": "python",
   "pygments_lexer": "ipython3",
   "version": "3.9.12"
  },
  "orig_nbformat": 4
 },
 "nbformat": 4,
 "nbformat_minor": 2
}
