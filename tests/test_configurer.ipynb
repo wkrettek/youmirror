{
 "cells": [
  {
   "cell_type": "code",
   "execution_count": 1,
   "metadata": {},
   "outputs": [],
   "source": [
    "import youmirror.configurer as configurer"
   ]
  }
 ],
 "metadata": {
  "interpreter": {
   "hash": "e004316eaf75f6b78db9dc7631215e8c72c4833232d7b160ec6af4e63c863a93"
  },
  "kernelspec": {
   "display_name": "Python ('memery')",
   "language": "python",
   "name": "python3"
  },
  "language_info": {
   "codemirror_mode": {
    "name": "ipython",
    "version": 3
   },
   "file_extension": ".py",
   "mimetype": "text/x-python",
   "name": "python",
   "nbconvert_exporter": "python",
   "pygments_lexer": "ipython3",
   "version": "3.9.12"
  },
  "orig_nbformat": 4
 },
 "nbformat": 4,
 "nbformat_minor": 2
}
