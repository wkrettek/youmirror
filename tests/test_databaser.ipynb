{
 "cells": [
  {
   "cell_type": "markdown",
   "metadata": {},
   "source": [
    "### Testing the databaser"
   ]
  },
  {
   "cell_type": "code",
   "execution_count": 1,
   "metadata": {},
   "outputs": [],
   "source": [
    "import logging\n",
    "# import youmirror.databaser as db\n",
    "# db.logging.basicConfig(level=logging.DEBUG)\n",
    "from youmirror.databaser import *\n",
    "import time\n",
    "logging.basicConfig(level=logging.DEBUG)\n",
    "dbpath = \"testmirror/youmirror.db\""
   ]
  },
  {
   "cell_type": "code",
   "execution_count": 2,
   "metadata": {},
   "outputs": [
    {
     "name": "stderr",
     "output_type": "stream",
     "text": [
      "INFO:sqlitedict:opening Sqlite table 'filetree' in 'testmirror/youmirror.db'\n"
     ]
    }
   ],
   "source": [
    "ft = get_table(dbpath, \"filetree\")"
   ]
  },
  {
   "cell_type": "code",
   "execution_count": 10,
   "metadata": {},
   "outputs": [
    {
     "name": "stdout",
     "output_type": "stream",
     "text": [
      "channels/Music\n",
      "playlists/C++ GUI with Qt Playlist\n",
      "videos/singles/C++ GUI with Qt Playlist/C++ GUI with Qt Tutorial - 1 - Downloading the Qt SDK.mp4\n",
      "videos/singles/C++ GUI with Qt Playlist/C++ GUI with Qt Tutorial - 2 - Creating a Simple Project.mp4\n",
      "videos/singles/C++ GUI with Qt Playlist/C++ GUI with Qt Tutorial - 3 - Qt Creator Modes.mp4\n",
      "videos/singles/C++ GUI with Qt Playlist/C++ GUI with Qt Tutorial - 4 - Understanding a Basic Qt Application.mp4\n",
      "videos/singles/C++ GUI with Qt Playlist/C++ GUI with Qt Tutorial - 5 - Differences in Operators.mp4\n",
      "videos/singles/C++ GUI with Qt Playlist/C++ GUI with Qt Tutorial - 6 - Signals and Slots.mp4\n",
      "videos/singles/C++ GUI with Qt Playlist/C++ GUI with Qt Tutorial - 7 - Spinners and Sliders.mp4\n",
      "videos/singles/C++ GUI with Qt Playlist/C++ GUI with Qt Tutorial - 8 - Syncing Widgets and Layouts.mp4\n",
      "videos/singles/C++ GUI with Qt Playlist/C++ GUI with Qt Tutorial - 9 - Creating a Useful Program.mp4\n",
      "videos/singles/C++ GUI with Qt Playlist/C++ GUI with Qt Tutorial - 10 - Designing the User Interface.mp4\n",
      "videos/singles/C++ GUI with Qt Playlist/C++ GUI with Qt Tutorial - 11 - Coding the FindCrap Program.mp4\n",
      "videos/singles/C++ GUI with Qt Playlist/C++ GUI with Qt Tutorial - 12 - Finishing the getTextFile Function.mp4\n",
      "videos/singles/C++ GUI with Qt Playlist/C++ GUI with Qt Tutorial - 13 - Finishing up All the Code.mp4\n",
      "videos/singles/C++ GUI with Qt Playlist/C++ GUI with Qt Tutorial - 14 - Running Our Awesome FindCrap Program!.mp4\n",
      "channels/The Always Sunny Podcast\n",
      "videos/singles/The Always Sunny Podcast/So Many Johns.mp4\n",
      "videos/singles/The Always Sunny Podcast/27. Who's Got Donkey Brains?.mp4\n",
      "videos/singles/The Always Sunny Podcast/You’ve Got Donkey Brains.mp4\n",
      "videos/singles/The Always Sunny Podcast/Glenn Kicks A Door Down.mp4\n",
      "videos/singles/The Always Sunny Podcast/26. The Gang Solves the North Korea Situation.mp4\n",
      "videos/singles/The Always Sunny Podcast/Glenn’s Bucket List.mp4\n",
      "videos/singles/The Always Sunny Podcast/25. The Aluminum Monster vs. Fatty Magoo.mp4\n",
      "videos/singles/The Always Sunny Podcast/The Great Gazoo.mp4\n",
      "videos/singles/The Always Sunny Podcast/Yippee Ki-Yay, Mr. Falcon.mp4\n",
      "videos/singles/The Always Sunny Podcast/24. The Gang Gets Held Hostage.mp4\n",
      "videos/singles/The Always Sunny Podcast/Charlie The Muskrat.mp4\n",
      "videos/singles/The Always Sunny Podcast/Happy St. Paddy’s Day.mp4\n",
      "videos/singles/The Always Sunny Podcast/Meg Toasts The Guys.mp4\n",
      "videos/singles/The Always Sunny Podcast/Red Nose Rob.mp4\n",
      "videos/singles/The Always Sunny Podcast/23. Everybody Browns Out.mp4\n",
      "videos/singles/The Always Sunny Podcast/The Guys Get Hammered.mp4\n",
      "videos/singles/The Always Sunny Podcast/Coffee Eggs For Your Trying Times.mp4\n",
      "videos/singles/The Always Sunny Podcast/A Very Sh*tty Audition.mp4\n",
      "videos/singles/The Always Sunny Podcast/The Penaissance.mp4\n",
      "videos/singles/The Always Sunny Podcast/22. Dennis and Dee's Mom Is Dead.mp4\n",
      "videos/singles/The Always Sunny Podcast/Is “The Rock” Bringing Baggy Back?.mp4\n",
      "videos/singles/The Always Sunny Podcast/Sweet Dee Is On The Line.mp4\n",
      "videos/singles/The Always Sunny Podcast/21. The Gang Gets Invincible.mp4\n",
      "videos/singles/The Always Sunny Podcast/Donny John McCrab.mp4\n",
      "videos/singles/The Always Sunny Podcast/Rob’s Childhood Beach Memories.mp4\n",
      "videos/singles/The Always Sunny Podcast/20. The Gang Finds A Dumpster Baby.mp4\n",
      "videos/singles/The Always Sunny Podcast/Glenn Took A Tumble.mp4\n",
      "videos/singles/The Always Sunny Podcast/Who’s Most Like Their Character?.mp4\n",
      "videos/singles/The Always Sunny Podcast/19. The Guys Take Some Calls.mp4\n",
      "videos/singles/The Always Sunny Podcast/Let's Go to the Phones!.mp4\n",
      "videos/singles/The Always Sunny Podcast/Glenn's Liquid Diet.mp4\n",
      "videos/singles/The Always Sunny Podcast/18. Dennis And Dee Get A New Dad.mp4\n",
      "videos/singles/The Always Sunny Podcast/Gunshots vs. Clicks.mp4\n",
      "videos/singles/The Always Sunny Podcast/The Story Behind \"Rock, Flag and Eagle\".mp4\n",
      "videos/singles/The Always Sunny Podcast/17. Charlie Goes America All Over Everybody's Ass.mp4\n",
      "videos/singles/The Always Sunny Podcast/If The Guys Were The Beatles, Who Would Be Who?.mp4\n",
      "videos/singles/The Always Sunny Podcast/George Bush Hands.mp4\n",
      "videos/singles/The Always Sunny Podcast/16. The Gang Runs For Office.mp4\n",
      "videos/singles/The Always Sunny Podcast/Glenn Insults the Audience.mp4\n",
      "videos/singles/The Always Sunny Podcast/15. The Gang Exploits A Miracle.mp4\n",
      "videos/singles/The Always Sunny Podcast/14. Rob Almost Fights Some Guy Outside A Hamburger Store.mp4\n",
      "videos/singles/The Always Sunny Podcast/13. The Gang Gives Back.mp4\n",
      "videos/singles/The Always Sunny Podcast/12. Hundred Dollar Baby.mp4\n",
      "videos/singles/The Always Sunny Podcast/11. Mac Bangs Dennis' Mom.mp4\n",
      "videos/singles/The Always Sunny Podcast/10. Dennis and Dee Go On Welfare.mp4\n",
      "videos/singles/The Always Sunny Podcast/9. The Gang Goes Jihad.mp4\n",
      "videos/singles/The Always Sunny Podcast/8. Charlie Gets Crippled.mp4\n",
      "videos/singles/The Always Sunny Podcast/7. Charlie Got Molested.mp4\n",
      "videos/singles/The Always Sunny Podcast/6. The Gang Finds A Dead Guy.mp4\n",
      "videos/singles/The Always Sunny Podcast/5. Gun Fever.mp4\n",
      "videos/singles/The Always Sunny Podcast/4. Charlie Has Cancer.mp4\n",
      "videos/singles/The Always Sunny Podcast/3. Underage Drinking: A National Concern.mp4\n",
      "videos/singles/The Always Sunny Podcast/2. Charlie Wants An Abortion.mp4\n",
      "videos/singles/The Always Sunny Podcast/1. The Gang Gets Racist.mp4\n",
      "videos/singles/The Always Sunny Podcast/Video Podcast Teaser.mp4\n",
      "videos/singles/ASMR Programming - Spinning Donut - No Talking.mp4\n"
     ]
    }
   ],
   "source": [
    "for v in ft.keys():\n",
    "    print(v)"
   ]
  }
 ],
 "metadata": {
  "interpreter": {
   "hash": "7f9ff59c3162761adf13ed323d56ee47dd50a44e9106b8fbfbd1d7db36ca348c"
  },
  "kernelspec": {
   "display_name": "Python 3.9.6 ('youmirror-1iwEkUPf-py3.9')",
   "language": "python",
   "name": "python3"
  },
  "language_info": {
   "codemirror_mode": {
    "name": "ipython",
    "version": 3
   },
   "file_extension": ".py",
   "mimetype": "text/x-python",
   "name": "python",
   "nbconvert_exporter": "python",
   "pygments_lexer": "ipython3",
   "version": "3.9.6"
  },
  "orig_nbformat": 4
 },
 "nbformat": 4,
 "nbformat_minor": 2
}
