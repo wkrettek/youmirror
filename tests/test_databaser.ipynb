{
 "cells": [
  {
   "cell_type": "markdown",
   "metadata": {},
   "source": [
    "### Testing the databaser"
   ]
  },
  {
   "cell_type": "code",
   "execution_count": 1,
   "metadata": {},
   "outputs": [],
   "source": [
    "import logging\n",
    "# import youmirror.databaser as db\n",
    "# db.logging.basicConfig(level=logging.DEBUG)\n",
    "from youmirror.databaser import *\n",
    "import time\n",
    "logging.basicConfig(level=logging.DEBUG)\n",
    "dbpath = \"testmirror/youmirror.db\""
   ]
  },
  {
   "cell_type": "code",
   "execution_count": 2,
   "metadata": {},
   "outputs": [
    {
     "name": "stderr",
     "output_type": "stream",
     "text": [
      "INFO:sqlitedict:opening Sqlite table 'files' in 'testmirror/youmirror.db'\n",
      "INFO:sqlitedict:opening Sqlite table 'channel' in 'testmirror/youmirror.db'\n",
      "INFO:sqlitedict:opening Sqlite table 'playlist' in 'testmirror/youmirror.db'\n",
      "INFO:sqlitedict:opening Sqlite table 'single' in 'testmirror/youmirror.db'\n",
      "INFO:sqlitedict:opening Sqlite table 'paths' in 'testmirror/youmirror.db'\n"
     ]
    },
    {
     "name": "stdout",
     "output_type": "stream",
     "text": [
      "Singles\n",
      "aMUh9DmFLto\n",
      "HiOOWDb4YjE\n",
      "CRVwBNkn63s\n",
      "HnuY7NhzLGM\n",
      "ufnA4UOKAFE\n",
      "swZNOKKkQiw\n",
      "kg98E06wm1I\n",
      "7ZuSs27tQPA\n",
      "HgyocPuO1Hk\n",
      "DUeMzXc2V_Q\n",
      "pQHFqp0NK4E\n",
      "6GyrKryOVJY\n",
      "mn4t2tqncoA\n",
      "-A5S9ka5H9A\n",
      "--------------------\n",
      "Paths\n",
      "--------------------\n",
      "Files\n",
      "playlists/C++_GUI_with_Qt_Playlist/C++ GUI with Qt Tutorial - 1 - Downloading the Qt SDK/C++_GUI_with_Qt_Tutorial_-_1_-_Downloading_the_Qt_SDK.mp4\n",
      "playlists/C++_GUI_with_Qt_Playlist/C++ GUI with Qt Tutorial - 2 - Creating a Simple Project/C++_GUI_with_Qt_Tutorial_-_2_-_Creating_a_Simple_Project.mp4\n",
      "playlists/C++_GUI_with_Qt_Playlist/C++ GUI with Qt Tutorial - 3 - Qt Creator Modes/C++_GUI_with_Qt_Tutorial_-_3_-_Qt_Creator_Modes.mp4\n",
      "playlists/C++_GUI_with_Qt_Playlist/C++ GUI with Qt Tutorial - 4 - Understanding a Basic Qt Application/C++_GUI_with_Qt_Tutorial_-_4_-_Understanding_a_Basic_Qt_Application.mp4\n",
      "playlists/C++_GUI_with_Qt_Playlist/C++ GUI with Qt Tutorial - 5 - Differences in Operators/C++_GUI_with_Qt_Tutorial_-_5_-_Differences_in_Operators.mp4\n",
      "playlists/C++_GUI_with_Qt_Playlist/C++ GUI with Qt Tutorial - 6 - Signals and Slots/C++_GUI_with_Qt_Tutorial_-_6_-_Signals_and_Slots.mp4\n",
      "playlists/C++_GUI_with_Qt_Playlist/C++ GUI with Qt Tutorial - 7 - Spinners and Sliders/C++_GUI_with_Qt_Tutorial_-_7_-_Spinners_and_Sliders.mp4\n",
      "playlists/C++_GUI_with_Qt_Playlist/C++ GUI with Qt Tutorial - 8 - Syncing Widgets and Layouts/C++_GUI_with_Qt_Tutorial_-_8_-_Syncing_Widgets_and_Layouts.mp4\n",
      "playlists/C++_GUI_with_Qt_Playlist/C++ GUI with Qt Tutorial - 9 - Creating a Useful Program/C++_GUI_with_Qt_Tutorial_-_9_-_Creating_a_Useful_Program.mp4\n",
      "playlists/C++_GUI_with_Qt_Playlist/C++ GUI with Qt Tutorial - 10 - Designing the User Interface/C++_GUI_with_Qt_Tutorial_-_10_-_Designing_the_User_Interface.mp4\n",
      "playlists/C++_GUI_with_Qt_Playlist/C++ GUI with Qt Tutorial - 11 - Coding the FindCrap Program/C++_GUI_with_Qt_Tutorial_-_11_-_Coding_the_FindCrap_Program.mp4\n",
      "playlists/C++_GUI_with_Qt_Playlist/C++ GUI with Qt Tutorial - 12 - Finishing the getTextFile Function/C++_GUI_with_Qt_Tutorial_-_12_-_Finishing_the_getTextFile_Function.mp4\n",
      "playlists/C++_GUI_with_Qt_Playlist/C++ GUI with Qt Tutorial - 13 - Finishing up All the Code/C++_GUI_with_Qt_Tutorial_-_13_-_Finishing_up_All_the_Code.mp4\n",
      "playlists/C++_GUI_with_Qt_Playlist/C++ GUI with Qt Tutorial - 14 - Running Our Awesome FindCrap Program!/C++_GUI_with_Qt_Tutorial_-_14_-_Running_Our_Awesome_FindCrap_Program!.mp4\n",
      "--------------------\n",
      "Channels\n",
      "--------------------\n",
      "Playlists\n",
      "PLD0D54219E5F2544D\n"
     ]
    }
   ],
   "source": [
    "files = get_table(\"testmirror/youmirror.db\", \"files\")\n",
    "channels = get_table(\"testmirror/youmirror.db\", \"channel\")\n",
    "playlists = get_table(\"testmirror/youmirror.db\", \"playlist\")\n",
    "singles = get_table(\"testmirror/youmirror.db\", \"single\")\n",
    "paths = get_table(\"testmirror/youmirror.db\", \"paths\")\n",
    "print(\"Singles\")\n",
    "for single in singles:\n",
    "    print(single)\n",
    "print(\"-\"*20)\n",
    "print(\"Paths\")\n",
    "for path in paths:\n",
    "    print(path)\n",
    "print(\"-\"*20)\n",
    "print(\"Files\")\n",
    "for file in files:\n",
    "    print(file)\n",
    "print(\"-\"*20)\n",
    "print(\"Channels\")\n",
    "for channel in channels:\n",
    "    print(channel)\n",
    "print(\"-\"*20)\n",
    "print(\"Playlists\")\n",
    "for playlist in playlists:\n",
    "    print(playlist)"
   ]
  },
  {
   "cell_type": "code",
   "execution_count": null,
   "metadata": {},
   "outputs": [],
   "source": [
    "print(len(paths))"
   ]
  },
  {
   "cell_type": "code",
   "execution_count": null,
   "metadata": {},
   "outputs": [],
   "source": [
    "for v in ft.keys():\n",
    "    print(v)"
   ]
  }
 ],
 "metadata": {
  "interpreter": {
   "hash": "7f9ff59c3162761adf13ed323d56ee47dd50a44e9106b8fbfbd1d7db36ca348c"
  },
  "kernelspec": {
   "display_name": "Python 3.9.6 ('youmirror-1iwEkUPf-py3.9')",
   "language": "python",
   "name": "python3"
  },
  "language_info": {
   "codemirror_mode": {
    "name": "ipython",
    "version": 3
   },
   "file_extension": ".py",
   "mimetype": "text/x-python",
   "name": "python",
   "nbconvert_exporter": "python",
   "pygments_lexer": "ipython3",
   "version": "3.9.12"
  },
  "orig_nbformat": 4
 },
 "nbformat": 4,
 "nbformat_minor": 2
}
