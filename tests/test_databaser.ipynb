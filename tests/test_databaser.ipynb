{
 "cells": [
  {
   "cell_type": "markdown",
   "metadata": {},
   "source": [
    "### Testing the databaser"
   ]
  },
  {
   "cell_type": "code",
   "execution_count": 1,
   "metadata": {},
   "outputs": [],
   "source": [
    "import logging\n",
    "# import youmirror.databaser as db\n",
    "# db.logging.basicConfig(level=logging.DEBUG)\n",
    "from youmirror.databaser import *\n",
    "import time\n",
    "logging.basicConfig(level=logging.DEBUG)\n",
    "dbpath = \"test.db\""
   ]
  },
  {
   "cell_type": "code",
   "execution_count": 2,
   "metadata": {},
   "outputs": [
    {
     "name": "stderr",
     "output_type": "stream",
     "text": [
      "INFO:sqlitedict:opening Sqlite table 'singles' in 'test.db'\n"
     ]
    },
    {
     "name": "stdout",
     "output_type": "stream",
     "text": [
      "{'hello'}\n"
     ]
    }
   ],
   "source": [
    "singles = get_table(dbpath, \"singles\")\n",
    "row = set_id(singles, \"key\", {\"hello\"})\n",
    "row = set_id(singles, \"key2\", {\"goodbye\"})\n",
    "row = get_id(singles, \"key\")\n",
    "print(row)"
   ]
  },
  {
   "cell_type": "code",
   "execution_count": 5,
   "metadata": {},
   "outputs": [
    {
     "name": "stderr",
     "output_type": "stream",
     "text": [
      "DEBUG:root:Could not find id 5 in table SqliteDict(test.db)\n",
      "ERROR:root:Could not set key parent to value none due to 'NoneType' object does not support item assignment\n",
      "Traceback (most recent call last):\n",
      "  File \"/home/user/Desktop/playground/youmirror/tests/youmirror/databaser.py\", line 74, in set_key\n",
      "    row[key] = value\n",
      "TypeError: 'NoneType' object does not support item assignment\n"
     ]
    },
    {
     "name": "stdout",
     "output_type": "stream",
     "text": [
      "None\n"
     ]
    }
   ],
   "source": [
    "print(set_key(singles, \"5\", \"parent\", \"none\"))"
   ]
  }
 ],
 "metadata": {
  "interpreter": {
   "hash": "7f9ff59c3162761adf13ed323d56ee47dd50a44e9106b8fbfbd1d7db36ca348c"
  },
  "kernelspec": {
   "display_name": "Python 3.9.6 ('youmirror-1iwEkUPf-py3.9')",
   "language": "python",
   "name": "python3"
  },
  "language_info": {
   "codemirror_mode": {
    "name": "ipython",
    "version": 3
   },
   "file_extension": ".py",
   "mimetype": "text/x-python",
   "name": "python",
   "nbconvert_exporter": "python",
   "pygments_lexer": "ipython3",
   "version": "3.9.6"
  },
  "orig_nbformat": 4
 },
 "nbformat": 4,
 "nbformat_minor": 2
}
