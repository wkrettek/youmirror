{
 "cells": [
  {
   "cell_type": "markdown",
   "metadata": {},
   "source": [
    "### Testing the databaser"
   ]
  },
  {
   "cell_type": "code",
   "execution_count": 1,
   "metadata": {},
   "outputs": [],
   "source": [
    "import logging\n",
    "# import youmirror.databaser as db\n",
    "# db.logging.basicConfig(level=logging.DEBUG)\n",
    "from youmirror.databaser import *\n",
    "import time\n",
    "logging.basicConfig(level=logging.DEBUG)\n",
    "dbpath = \"../mirror/youmirror.db\""
   ]
  },
  {
   "cell_type": "code",
   "execution_count": 2,
   "metadata": {},
   "outputs": [
    {
     "name": "stderr",
     "output_type": "stream",
     "text": [
      "INFO:sqlitedict:opening Sqlite table 'files' in '../mirror/youmirror.db'\n",
      "INFO:sqlitedict:opening Sqlite table 'channel' in '../mirror/youmirror.db'\n",
      "INFO:sqlitedict:opening Sqlite table 'playlist' in '../mirror/youmirror.db'\n",
      "INFO:sqlitedict:opening Sqlite table 'single' in '../mirror/youmirror.db'\n",
      "INFO:sqlitedict:opening Sqlite table 'paths' in '../mirror/youmirror.db'\n"
     ]
    },
    {
     "name": "stdout",
     "output_type": "stream",
     "text": [
      "Singles\n",
      "--------------------\n",
      "Paths\n",
      "--------------------\n",
      "Files\n",
      "singles/Can_you_mispronounce_Frome/Can_you_mispronounce_Frome.mp4\n",
      "--------------------\n",
      "Channels\n",
      "--------------------\n",
      "Playlists\n"
     ]
    }
   ],
   "source": [
    "files = get_table(dbpath, \"files\")\n",
    "channels = get_table(dbpath, \"channel\")\n",
    "playlists = get_table(dbpath, \"playlist\")\n",
    "singles = get_table(dbpath, \"single\")\n",
    "paths = get_table(dbpath, \"paths\")\n",
    "print(\"Singles\")\n",
    "for single in singles:\n",
    "    print(single)\n",
    "print(\"-\"*20)\n",
    "print(\"Paths\")\n",
    "for path in paths:\n",
    "    print(path)\n",
    "print(\"-\"*20)\n",
    "print(\"Files\")\n",
    "for file in files:\n",
    "    print(file)\n",
    "print(\"-\"*20)\n",
    "print(\"Channels\")\n",
    "for channel in channels:\n",
    "    print(channel)\n",
    "print(\"-\"*20)\n",
    "print(\"Playlists\")\n",
    "for playlist in playlists:\n",
    "    print(playlist)"
   ]
  },
  {
   "cell_type": "code",
   "execution_count": null,
   "metadata": {},
   "outputs": [],
   "source": [
    "print(len(paths))"
   ]
  },
  {
   "cell_type": "code",
   "execution_count": null,
   "metadata": {},
   "outputs": [],
   "source": [
    "for v in ft.keys():\n",
    "    print(v)"
   ]
  }
 ],
 "metadata": {
  "interpreter": {
   "hash": "7f9ff59c3162761adf13ed323d56ee47dd50a44e9106b8fbfbd1d7db36ca348c"
  },
  "kernelspec": {
   "display_name": "Python 3.9.6 ('youmirror-1iwEkUPf-py3.9')",
   "language": "python",
   "name": "python3"
  },
  "language_info": {
   "codemirror_mode": {
    "name": "ipython",
    "version": 3
   },
   "file_extension": ".py",
   "mimetype": "text/x-python",
   "name": "python",
   "nbconvert_exporter": "python",
   "pygments_lexer": "ipython3",
   "version": "3.9.12"
  },
  "orig_nbformat": 4
 },
 "nbformat": 4,
 "nbformat_minor": 2
}
