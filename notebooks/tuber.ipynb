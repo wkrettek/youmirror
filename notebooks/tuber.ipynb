{
 "cells": [
  {
   "cell_type": "code",
   "execution_count": null,
   "metadata": {},
   "outputs": [],
   "source": [
    "from pytube import YouTube, Channel, Playlist\n",
    "from youmirror.tuber import *\n",
    "dict()\n",
    "all_links = [\"https://www.youtube.com/playlist?list=PLBZw8Bdva63UAhbdAlbbYotegKhUMeSzN\", \"https://www.youtube.com/channel/UCBw0bL8MtOIl1UX7db2MT3A\", \"https://www.youtube.com/watch?v=rj7DOPPTkQA\" ]\n",
    "pl = Playlist(\"https://www.youtube.com/playlist?list=PLD0D54219E5F2544D\")\n",
    "ch = Channel(\"https://www.youtube.com/c/suckerpinch\")\n",
    "si = YouTube(\"https://www.youtube.com/watch?v=rj7DOPPTkQA\")\n",
    "all_types = [pl, ch, si]\n",
    "options = {    \n",
    "    \"dl_video\": True,       # Whether to download video\n",
    "    \"dl_captions\": True,   # Whether to download captions\n",
    "    \"dl_audio\": True,      # Whether to download audio\n",
    "    \"dl_thumbnail\": True, \n",
    "    \"languages\": [\"en\", \"a.en\", \"fr\"]}"
   ]
  },
  {
   "cell_type": "code",
   "execution_count": null,
   "metadata": {},
   "outputs": [],
   "source": [
    "for yt in all_types:\n",
    "    print(get_metadata(yt))"
   ]
  },
  {
   "cell_type": "code",
   "execution_count": null,
   "metadata": {},
   "outputs": [],
   "source": [
    "thing = {\"files\":{\"text\":{\"hi\"}, \"video\":{\"hello\"}, \"audio\":{\"goodbye\"}, \"thumbnail\":{\"sum\"}}}\n",
    "for t in thing:\n",
    "    print(thing[\"files\"])"
   ]
  },
  {
   "cell_type": "code",
   "execution_count": null,
   "metadata": {},
   "outputs": [],
   "source": [
    "files = get_files(\"singles/ASMR_Programming_-_Spinning_Donut_-_No_Talking\", \"video_name\", options)\n",
    "print(files)"
   ]
  },
  {
   "cell_type": "code",
   "execution_count": null,
   "metadata": {},
   "outputs": [],
   "source": [
    "print(get_keys(pl, {}, options, {\"playlists/C++_GUI_with_Qt_Playlist\":{}}))"
   ]
  },
  {
   "cell_type": "code",
   "execution_count": null,
   "metadata": {},
   "outputs": [],
   "source": [
    "# for link in all_links:\n",
    "#     print(\"link:\", link)\n",
    "#     print(\"link type\", link_type(link))\n",
    "#     print(\"link id\", link_id(link))\n",
    "#     yt = get_pytube(link)\n",
    "#     yt_string = yt_to_type_string(yt)\n",
    "#     print(\"metadata\", get_metadata(yt))\n",
    "for link in all_links:\n",
    "    print(\"keys\", get_keys(get_pytube(link), {}, {\"dl_audio\":True, \"dl_video\": True, \"dl_captions\": True, \"dl_thumbnail\":True}, {}))"
   ]
  }
 ],
 "metadata": {
  "interpreter": {
   "hash": "7f9ff59c3162761adf13ed323d56ee47dd50a44e9106b8fbfbd1d7db36ca348c"
  },
  "kernelspec": {
   "display_name": "Python 3.9.6 ('youmirror-1iwEkUPf-py3.9')",
   "language": "python",
   "name": "python3"
  },
  "language_info": {
   "codemirror_mode": {
    "name": "ipython",
    "version": 3
   },
   "file_extension": ".py",
   "mimetype": "text/x-python",
   "name": "python",
   "nbconvert_exporter": "python",
   "pygments_lexer": "ipython3",
   "version": "3.10.4"
  },
  "orig_nbformat": 4
 },
 "nbformat": 4,
 "nbformat_minor": 2
}
