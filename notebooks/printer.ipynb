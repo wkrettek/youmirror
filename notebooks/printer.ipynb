{
 "cells": [
  {
   "cell_type": "markdown",
   "metadata": {},
   "source": [
    "### Testing the printer"
   ]
  },
  {
   "cell_type": "code",
   "execution_count": 1,
   "metadata": {},
   "outputs": [],
   "source": [
    "import youmirror.printer as printer"
   ]
  },
  {
   "cell_type": "code",
   "execution_count": 7,
   "metadata": {},
   "outputs": [
    {
     "name": "stdout",
     "output_type": "stream",
     "text": [
      "\u001b[94mDone\n"
     ]
    }
   ],
   "source": [
    "colored = printer.color(\"Done\", \"OKBLUE\")\n",
    "print(colored)"
   ]
  }
 ],
 "metadata": {
  "interpreter": {
   "hash": "7f9ff59c3162761adf13ed323d56ee47dd50a44e9106b8fbfbd1d7db36ca348c"
  },
  "kernelspec": {
   "display_name": "Python 3.9.6 ('youmirror-1iwEkUPf-py3.9')",
   "language": "python",
   "name": "python3"
  },
  "language_info": {
   "codemirror_mode": {
    "name": "ipython",
    "version": 3
   },
   "file_extension": ".py",
   "mimetype": "text/x-python",
   "name": "python",
   "nbconvert_exporter": "python",
   "pygments_lexer": "ipython3",
   "version": "3.9.6"
  },
  "orig_nbformat": 4
 },
 "nbformat": 4,
 "nbformat_minor": 2
}
