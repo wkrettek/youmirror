{
 "cells": [
  {
   "cell_type": "markdown",
   "metadata": {},
   "source": [
    "### Testing the databaser"
   ]
  },
  {
   "cell_type": "code",
   "execution_count": 2,
   "metadata": {},
   "outputs": [],
   "source": [
    "import logging\n",
    "# import youmirror.databaser as db\n",
    "# db.logging.basicConfig(level=logging.DEBUG)\n",
    "from youmirror.databaser import *\n",
    "import time\n",
    "logging.basicConfig(level=logging.DEBUG)\n",
    "dbpath = \"../new_mirror/youmirror.db\""
   ]
  },
  {
   "cell_type": "code",
   "execution_count": 3,
   "metadata": {},
   "outputs": [
    {
     "name": "stderr",
     "output_type": "stream",
     "text": [
      "INFO:sqlitedict:opening Sqlite table 'files' in '../new_mirror/youmirror.db'\n",
      "INFO:sqlitedict:opening Sqlite table 'channel' in '../new_mirror/youmirror.db'\n",
      "INFO:sqlitedict:opening Sqlite table 'playlist' in '../new_mirror/youmirror.db'\n",
      "INFO:sqlitedict:opening Sqlite table 'single' in '../new_mirror/youmirror.db'\n",
      "INFO:sqlitedict:opening Sqlite table 'paths' in '../new_mirror/youmirror.db'\n"
     ]
    },
    {
     "name": "stdout",
     "output_type": "stream",
     "text": [
      "Singles\n",
      "https://www.youtube.com/watch?v=HKVoN-SjZ-Q\n",
      "https://www.youtube.com/watch?v=-Kljmrtp9L8\n",
      "https://www.youtube.com/watch?v=o048xeNQ3Wo\n",
      "https://www.youtube.com/watch?v=fn4ArRmzHhQ\n",
      "https://www.youtube.com/watch?v=WsqZ33ZMnC8\n",
      "https://www.youtube.com/watch?v=-6VGX8EfHxc\n",
      "https://www.youtube.com/watch?v=iZZm3wkGawY\n",
      "https://www.youtube.com/watch?v=grduDXQDTW4\n",
      "https://www.youtube.com/watch?v=C-BGuM83LnY\n",
      "https://www.youtube.com/watch?v=EfCrJIg8M3M\n",
      "https://www.youtube.com/watch?v=G_ZxD_1BdqA\n",
      "https://www.youtube.com/watch?v=cJcjO6Ni5oI\n",
      "https://www.youtube.com/watch?v=DszRQuM4_jQ\n",
      "https://www.youtube.com/watch?v=2Biz0KHadk4\n",
      "--------------------\n",
      "Paths\n",
      "playlists/Charlie_Day_as_Luigi/Abracadaniel_Turn_and_Push\n",
      "playlists/Memes\n",
      "playlists/Memes/I_cant_talk_right_now_Im_making_PISS!\n",
      "playlists/Memes/He’s_perfect\n",
      "playlists/Memes/You_didnt_need_to_post_that\n",
      "playlists/Memes/AI-Scripted_Batman_Comic\n",
      "playlists/Memes/Shiiiit\n",
      "playlists/Memes/Seinfeld_—_Youre_So_Good_Looking\n",
      "playlists/Memes/Thats_a_nice_argument\n",
      "playlists/Memes/Student_throws_binder_at_classmate\n",
      "playlists/Memes/noo\n",
      "playlists/Memes/Look_at_that_womans_breasts_Theyre_large\n",
      "playlists/Memes/За_что_Чёрт_ненавидел_кузнеца_Вакулу_—_хф«Вечера_на_хуторе_близ_Диканьки»\n",
      "playlists/Memes/Chortle_my_balls_silicon_valley\n",
      "playlists/Memes/Chortle\n",
      "playlists/Memes/Flirting_and_Wisdom_with_Ms_G_-_Reach_Truth_Podcast\n",
      "playlists/Charlie_Day_as_Luigi/(SFM)_So_Charlie_Day_is_Luigi\n",
      "--------------------\n",
      "Files\n",
      "playlists/Charlie_Day_as_Luigi/Abracadaniel_Turn_and_Push/Abracadaniel_Turn_and_Push.mp4\n",
      "playlists/Memes/I_cant_talk_right_now_Im_making_PISS!/I_cant_talk_right_now_Im_making_PISS!.mp4\n",
      "playlists/Memes/He’s_perfect/He’s_perfect.mp4\n",
      "playlists/Memes/You_didnt_need_to_post_that/You_didnt_need_to_post_that.mp4\n",
      "playlists/Memes/AI-Scripted_Batman_Comic/AI-Scripted_Batman_Comic.mp4\n",
      "playlists/Memes/Shiiiit/Shiiiit.mp4\n",
      "playlists/Memes/Seinfeld_—_Youre_So_Good_Looking/Seinfeld_—_Youre_So_Good_Looking.mp4\n",
      "playlists/Memes/Thats_a_nice_argument/Thats_a_nice_argument.mp4\n",
      "playlists/Memes/Student_throws_binder_at_classmate/Student_throws_binder_at_classmate.mp4\n",
      "playlists/Memes/noo/noo.mp4\n",
      "playlists/Memes/Look_at_that_womans_breasts_Theyre_large/Look_at_that_womans_breasts_Theyre_large.mp4\n",
      "playlists/Memes/За_что_Чёрт_ненавидел_кузнеца_Вакулу_—_хф«Вечера_на_хуторе_близ_Диканьки»/За_что_Чёрт_ненавидел_кузнеца_Вакулу_—_хф«Вечера_на_хуторе_близ_Диканьки».mp4\n",
      "playlists/Memes/Chortle_my_balls_silicon_valley/Chortle_my_balls_silicon_valley.mp4\n",
      "playlists/Memes/Chortle/Chortle.mp4\n",
      "playlists/Memes/Flirting_and_Wisdom_with_Ms_G_-_Reach_Truth_Podcast/Flirting_and_Wisdom_with_Ms_G_-_Reach_Truth_Podcast.mp4\n",
      "playlists/Charlie_Day_as_Luigi/(SFM)_So_Charlie_Day_is_Luigi/(SFM)_So_Charlie_Day_is_Luigi.mp4\n",
      "--------------------\n",
      "Channels\n",
      "--------------------\n",
      "Playlists\n",
      "https://www.youtube.com/playlist?list=PLBZw8Bdva63W1gz2BJRYVPBPLGSUbbPx9\n"
     ]
    }
   ],
   "source": [
    "files = open_table(dbpath, \"files\")\n",
    "channels = open_table(dbpath, \"channel\")\n",
    "playlists = open_table(dbpath, \"playlist\")\n",
    "singles = open_table(dbpath, \"single\")\n",
    "paths = open_table(dbpath, \"paths\")\n",
    "print(\"Singles\")\n",
    "for single in singles:\n",
    "    print(single)\n",
    "print(\"-\"*20)\n",
    "print(\"Paths\")\n",
    "for path in paths:\n",
    "    print(path)\n",
    "print(\"-\"*20)\n",
    "print(\"Files\")\n",
    "for file in files:\n",
    "    print(file)\n",
    "print(\"-\"*20)\n",
    "print(\"Channels\")\n",
    "for channel in channels:\n",
    "    print(channel)\n",
    "print(\"-\"*20)\n",
    "print(\"Playlists\")\n",
    "for playlist in playlists:\n",
    "    print(playlist)"
   ]
  },
  {
   "cell_type": "code",
   "execution_count": null,
   "metadata": {},
   "outputs": [],
   "source": [
    "for filename in files:\n",
    "    print(files[filename])"
   ]
  },
  {
   "cell_type": "code",
   "execution_count": null,
   "metadata": {},
   "outputs": [],
   "source": [
    "print(len(paths))"
   ]
  },
  {
   "cell_type": "code",
   "execution_count": null,
   "metadata": {},
   "outputs": [],
   "source": [
    "for v in ft.keys():\n",
    "    print(v)"
   ]
  }
 ],
 "metadata": {
  "interpreter": {
   "hash": "7f9ff59c3162761adf13ed323d56ee47dd50a44e9106b8fbfbd1d7db36ca348c"
  },
  "kernelspec": {
   "display_name": "Python 3.9.6 ('youmirror-1iwEkUPf-py3.9')",
   "language": "python",
   "name": "python3"
  },
  "language_info": {
   "codemirror_mode": {
    "name": "ipython",
    "version": 3
   },
   "file_extension": ".py",
   "mimetype": "text/x-python",
   "name": "python",
   "nbconvert_exporter": "python",
   "pygments_lexer": "ipython3",
   "version": "3.9.12"
  },
  "orig_nbformat": 4
 },
 "nbformat": 4,
 "nbformat_minor": 2
}
