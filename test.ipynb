{
 "cells": [
  {
   "cell_type": "markdown",
   "metadata": {},
   "source": [
    "### Testing the core"
   ]
  },
  {
   "cell_type": "code",
   "execution_count": null,
   "metadata": {},
   "outputs": [],
   "source": [
    "# Import and create\n",
    "import logging\n",
    "import time\n",
    "from sqlitedict import SqliteDict\n",
    "from pytube import Channel, Playlist, YouTube\n",
    "from youmirror.core import YouMirror\n",
    "ym = YouMirror()"
   ]
  },
  {
   "cell_type": "markdown",
   "metadata": {},
   "source": [
    "new()"
   ]
  },
  {
   "cell_type": "code",
   "execution_count": null,
   "metadata": {},
   "outputs": [],
   "source": [
    "ym.new(\"\")"
   ]
  },
  {
   "cell_type": "markdown",
   "metadata": {},
   "source": [
    "add()"
   ]
  },
  {
   "cell_type": "code",
   "execution_count": null,
   "metadata": {},
   "outputs": [],
   "source": [
    "start = time.time()\n",
    "ym.add(url=\"https://www.youtube.com/c/TheAlwaysSunnyPodcast\", root=\"mymirror\")\n",
    "ym.add(url=\"https://www.youtube.com/watch?v=cRLnR4Kot2M\", root=\"mymirror\")\n",
    "print(f'Added in {time.time() - start} seconds')"
   ]
  },
  {
   "cell_type": "code",
   "execution_count": null,
   "metadata": {},
   "outputs": [],
   "source": [
    "start = time.time()\n",
    "ym.remove(url=\"https://www.youtube.com/c/TheAlwaysSunnyPodcast\", root=\"mymirror\")\n",
    "print(f'Removed in {time.time() - start} seconds')"
   ]
  },
  {
   "cell_type": "markdown",
   "metadata": {},
   "source": [
    "### Testing the parser"
   ]
  },
  {
   "cell_type": "code",
   "execution_count": null,
   "metadata": {},
   "outputs": [],
   "source": [
    "import youmirror.parser as parser"
   ]
  },
  {
   "cell_type": "code",
   "execution_count": null,
   "metadata": {},
   "outputs": [],
   "source": [
    "ch = Channel(\"http://www.youtube.com/c/TheAlwaysSunnyPodcast\")\n",
    "pl = Playlist(\"https://www.youtube.com/playlist?list=PLS1QulWo1RIZiBcTr5urECberTITj7gjA\")\n",
    "si = YouTube(\"https://www.youtube.com/watch?v=GznmPACXBlY\")\n",
    "ch_urls = parser.get_children(ch)[0:10]\n",
    "pl_urls = parser.get_children(pl)[0:10]\n",
    "# print(ch_urls)\n",
    "# print(pl_urls)"
   ]
  },
  {
   "cell_type": "code",
   "execution_count": null,
   "metadata": {},
   "outputs": [],
   "source": [
    "print(parser.get_keys(ch))\n",
    "print(parser.get_keys(pl))\n",
    "print(parser.get_keys(si))"
   ]
  },
  {
   "cell_type": "markdown",
   "metadata": {},
   "source": [
    "### Testing the helper"
   ]
  },
  {
   "cell_type": "code",
   "execution_count": null,
   "metadata": {},
   "outputs": [],
   "source": [
    "import youmirror.helper as helper\n",
    "from pytube import Channel, Playlist, YouTube"
   ]
  },
  {
   "cell_type": "code",
   "execution_count": null,
   "metadata": {},
   "outputs": [],
   "source": [
    "ch = Channel(\"http://www.youtube.com/c/TheAlwaysSunnyPodcast\")\n",
    "pl = Playlist(\"https://www.youtube.com/playlist?list=PLS1QulWo1RIZiBcTr5urECberTITj7gjA\")\n",
    "si = YouTube(\"https://www.youtube.com/watch?v=GznmPACXBlY\")\n",
    "path = helper.calculate_path(ch)\n",
    "print(path)\n",
    "path = helper.calculate_path(pl)\n",
    "print(path)\n",
    "path = helper.calculate_path(si)\n",
    "print(path)"
   ]
  },
  {
   "cell_type": "code",
   "execution_count": null,
   "metadata": {},
   "outputs": [],
   "source": [
    "import datetime\n",
    "timestamp = 1339521878.04 \n",
    "value = datetime.datetime.now().strftime('%Y-%m-%d')\n",
    "print(value)"
   ]
  },
  {
   "cell_type": "markdown",
   "metadata": {},
   "source": [
    "### Testing the databasing"
   ]
  },
  {
   "cell_type": "code",
   "execution_count": null,
   "metadata": {},
   "outputs": [],
   "source": [
    "from sqlitedict import SqliteDict\n",
    "import youmirror.databaser as databaser"
   ]
  },
  {
   "cell_type": "code",
   "execution_count": null,
   "metadata": {},
   "outputs": [],
   "source": [
    "channels_table = databaser.get_table('mymirror/youmirror.db', 'channels')\n",
    "for c in channels_table.keys():\n",
    "    print(channels_table[c])\n",
    "# singles_table = databaser.get_table('mymirror/youmirror.db', 'singles')\n",
    "# for c in singles_table:\n",
    "#     print(singles_table[c])"
   ]
  },
  {
   "cell_type": "code",
   "execution_count": 14,
   "metadata": {},
   "outputs": [],
   "source": [
    "template: dict = {'hello': 'ding', 'goodbye': 'ding'}\n",
    "overwrite: dict = {'hello': 'dong', \"new\": \"dong\"}\n",
    "template.update(overwrite)\n",
    "print(template)"
   ]
  }
 ],
 "metadata": {
  "interpreter": {
   "hash": "7d1fb857c91084ff2f5c4554f4552112f847df0461cff6be6b8b14c3a23eca4b"
  },
  "kernelspec": {
   "display_name": "Python 3.9.6 ('personate-gaLREsct-py3.9')",
   "language": "python",
   "name": "python3"
  },
  "language_info": {
   "codemirror_mode": {
    "name": "ipython",
    "version": 3
   },
   "file_extension": ".py",
   "mimetype": "text/x-python",
   "name": "python",
   "nbconvert_exporter": "python",
   "pygments_lexer": "ipython3",
   "version": "3.9.12"
  },
  "orig_nbformat": 4
 },
 "nbformat": 4,
 "nbformat_minor": 2
}
