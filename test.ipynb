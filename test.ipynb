{
 "cells": [
  {
   "cell_type": "code",
   "execution_count": 11,
   "metadata": {},
   "outputs": [],
   "source": [
    "import logging\n",
    "logging.basicConfig(level=logging.INFO)"
   ]
  },
  {
   "cell_type": "markdown",
   "metadata": {},
   "source": [
    "### Testing the core"
   ]
  },
  {
   "cell_type": "code",
   "execution_count": 1,
   "metadata": {},
   "outputs": [],
   "source": [
    "# Import and create\n",
    "from youmirror.core import YouMirror\n",
    "ym = YouMirror()"
   ]
  },
  {
   "cell_type": "code",
   "execution_count": 2,
   "metadata": {},
   "outputs": [
    {
     "name": "stderr",
     "output_type": "stream",
     "text": [
      "INFO:root:Creating new mirror directory 'test'\n",
      "INFO:root:Creating config file 'test/youmirror.toml'\n",
      "INFO:root:Creating database 'test/youmirror.db'\n"
     ]
    }
   ],
   "source": [
    "ym.new(\"mymirror\")"
   ]
  },
  {
   "cell_type": "code",
   "execution_count": 15,
   "metadata": {},
   "outputs": [
    {
     "name": "stderr",
     "output_type": "stream",
     "text": [
      "INFO:root:Adding http://www.youtube.com/c/TheAlwaysSunnyPodcast to the mirror\n"
     ]
    },
    {
     "name": "stdout",
     "output_type": "stream",
     "text": [
      "New config: \n",
      "default_resolution = \"best\"\n",
      "captions = [ \"en\", \"a.en\",]\n",
      "\n",
      "[playlists]\n",
      "\n",
      "[singles]\n",
      "\n",
      "[channels.\"/c/TheAlwaysSunnyPodcast\"]\n",
      "name = \"The Always Sunny Podcast\"\n",
      "url = \"http://www.youtube.com/c/TheAlwaysSunnyPodcast\"\n",
      "type = \"channel\"\n",
      "\n"
     ]
    }
   ],
   "source": [
    "ym.add(url=\"https://www.youtube.com/c/TheAlwaysSunnyPodcast\", root=\"mymirror\")"
   ]
  },
  {
   "cell_type": "code",
   "execution_count": 12,
   "metadata": {},
   "outputs": [
    {
     "name": "stderr",
     "output_type": "stream",
     "text": [
      "INFO:root:https://www.youtube.com/watch?v=kUKinGYoeDA&t=6s not found in the mirror\n"
     ]
    },
    {
     "name": "stdout",
     "output_type": "stream",
     "text": [
      "New config: \n",
      "default_resolution = \"best\"\n",
      "captions = [ \"en\", \"a.en\",]\n",
      "\n",
      "[channels]\n",
      "\n",
      "[playlists]\n",
      "\n",
      "[singles]\n",
      "\n"
     ]
    }
   ],
   "source": [
    "ym.remove(url=\"https://www.youtube.com/watch?v=kUKinGYoeDA&t=6s\", root=\"mymirror\")"
   ]
  },
  {
   "cell_type": "markdown",
   "metadata": {},
   "source": [
    "### Testing the parser"
   ]
  },
  {
   "cell_type": "code",
   "execution_count": null,
   "metadata": {},
   "outputs": [],
   "source": [
    "from youmirror.parser import link_type, get_metadata, is_available"
   ]
  },
  {
   "cell_type": "code",
   "execution_count": 2,
   "metadata": {},
   "outputs": [
    {
     "name": "stdout",
     "output_type": "stream",
     "text": [
      "False\n"
     ]
    }
   ],
   "source": []
  },
  {
   "cell_type": "markdown",
   "metadata": {},
   "source": [
    "### Testing the helper"
   ]
  },
  {
   "cell_type": "code",
   "execution_count": 1,
   "metadata": {},
   "outputs": [],
   "source": [
    "from youmirror.helper import file_exists, get_config"
   ]
  },
  {
   "cell_type": "code",
   "execution_count": 6,
   "metadata": {},
   "outputs": [
    {
     "name": "stdout",
     "output_type": "stream",
     "text": [
      "youmirror.toml\n"
     ]
    }
   ],
   "source": [
    "print(get_config('.'))"
   ]
  },
  {
   "cell_type": "code",
   "execution_count": 17,
   "metadata": {},
   "outputs": [
    {
     "name": "stdout",
     "output_type": "stream",
     "text": [
      "2022-04-12\n"
     ]
    }
   ],
   "source": [
    "import datetime\n",
    "timestamp = 1339521878.04 \n",
    "value = datetime.datetime.now().strftime('%Y-%m-%d')\n",
    "print(value)"
   ]
  }
 ],
 "metadata": {
  "interpreter": {
   "hash": "7d1fb857c91084ff2f5c4554f4552112f847df0461cff6be6b8b14c3a23eca4b"
  },
  "kernelspec": {
   "display_name": "Python 3.9.6 ('personate-gaLREsct-py3.9')",
   "language": "python",
   "name": "python3"
  },
  "language_info": {
   "codemirror_mode": {
    "name": "ipython",
    "version": 3
   },
   "file_extension": ".py",
   "mimetype": "text/x-python",
   "name": "python",
   "nbconvert_exporter": "python",
   "pygments_lexer": "ipython3",
   "version": "3.9.12"
  },
  "orig_nbformat": 4
 },
 "nbformat": 4,
 "nbformat_minor": 2
}
