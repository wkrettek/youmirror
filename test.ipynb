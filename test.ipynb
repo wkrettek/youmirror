{
 "cells": [
  {
   "cell_type": "markdown",
   "metadata": {},
   "source": [
    "### Testing the core"
   ]
  },
  {
   "cell_type": "code",
   "execution_count": 1,
   "metadata": {},
   "outputs": [],
   "source": [
    "# Import and create\n",
    "import logging\n",
    "import time\n",
    "from youmirror.core import YouMirror\n",
    "ym = YouMirror()"
   ]
  },
  {
   "cell_type": "markdown",
   "metadata": {},
   "source": [
    "new()"
   ]
  },
  {
   "cell_type": "code",
   "execution_count": 2,
   "metadata": {},
   "outputs": [],
   "source": [
    "ym.new(\"mymirror\")"
   ]
  },
  {
   "cell_type": "markdown",
   "metadata": {},
   "source": [
    "add()"
   ]
  },
  {
   "cell_type": "code",
   "execution_count": 3,
   "metadata": {},
   "outputs": [
    {
     "name": "stderr",
     "output_type": "stream",
     "text": [
      "INFO:root:http://www.youtube.com/c/TheAlwaysSunnyPodcast already exists in the mirror\n",
      "INFO:sqlitedict:opening Sqlite table 'channels' in PosixPath('mymirror/youmirror.db')\n",
      "INFO:sqlitedict:opening Sqlite table 'playlists' in PosixPath('mymirror/youmirror.db')\n",
      "INFO:sqlitedict:opening Sqlite table 'singles' in PosixPath('mymirror/youmirror.db')\n"
     ]
    },
    {
     "name": "stdout",
     "output_type": "stream",
     "text": [
      "New config: \n",
      "name = \"mymirror\"\n",
      "last_updated = \"2022-04-13\"\n",
      "default_resolution = \"best\"\n",
      "\n",
      "[playlists]\n",
      "\n",
      "[singles]\n",
      "\n",
      "[channels.\"/c/TheAlwaysSunnyPodcast\"]\n",
      "name = \"The Always Sunny Podcast\"\n",
      "url = \"http://www.youtube.com/c/TheAlwaysSunnyPodcast\"\n",
      "type = \"channel\"\n",
      "\n",
      "Added in 0.7677116394042969 seconds\n"
     ]
    }
   ],
   "source": [
    "start = time.time()\n",
    "ym.add(url=\"https://www.youtube.com/c/TheAlwaysSunnyPodcast\", root=\"mymirror\")\n",
    "print(f'Added in {time.time() - start} seconds')"
   ]
  },
  {
   "cell_type": "code",
   "execution_count": 4,
   "metadata": {},
   "outputs": [
    {
     "name": "stderr",
     "output_type": "stream",
     "text": [
      "INFO:root:Removing https://www.youtube.com/c/TheAlwaysSunnyPodcast from the mirror\n"
     ]
    },
    {
     "name": "stdout",
     "output_type": "stream",
     "text": [
      "New config: \n",
      "name = \"mymirror\"\n",
      "last_updated = \"2022-04-13\"\n",
      "default_resolution = \"best\"\n",
      "\n",
      "[playlists]\n",
      "\n",
      "[singles]\n",
      "\n",
      "[channels]\n",
      "\n"
     ]
    }
   ],
   "source": [
    "start = time.time()\n",
    "ym.remove(url=\"https://www.youtube.com/c/TheAlwaysSunnyPodcast\", root=\"mymirror\")\n",
    "print(f'Added in {time.time() - start} seconds')"
   ]
  },
  {
   "cell_type": "markdown",
   "metadata": {},
   "source": [
    "### Testing the parser"
   ]
  },
  {
   "cell_type": "code",
   "execution_count": 4,
   "metadata": {},
   "outputs": [],
   "source": [
    "import youmirror.parser as parser\n",
    "from pytube import Channel, Playlist, YouTube"
   ]
  },
  {
   "cell_type": "code",
   "execution_count": 5,
   "metadata": {},
   "outputs": [],
   "source": [
    "ch = Channel(\"http://www.youtube.com/c/TheAlwaysSunnyPodcast\")\n",
    "pl = Playlist(\"https://www.youtube.com/playlist?list=PLS1QulWo1RIZiBcTr5urECberTITj7gjA\")\n",
    "si = YouTube(\"https://www.youtube.com/watch?v=GznmPACXBlY\")\n",
    "ch_urls = parser.get_children(ch)[0:10]\n",
    "pl_urls = parser.get_children(pl)[0:10]\n",
    "# print(ch_urls)\n",
    "# print(pl_urls)"
   ]
  },
  {
   "cell_type": "code",
   "execution_count": 6,
   "metadata": {},
   "outputs": [
    {
     "name": "stdout",
     "output_type": "stream",
     "text": [
      "{'name': 'The Always Sunny Podcast', 'children': ['UaddC6h5yPk', 'nlsvIiGOQT0', '9C-pfRJSUek', 'V3o4ijDFjA8', 'xviPQ07WfXI', '0C-n4c8B6_o', '-dO1yFFZu8w', 'sztaSIwdvWc', 'acNg26XkfFo', 'x2ALxWntGw4', 'mJntfYZUlWg', '0CALWTJ1gIs', 'w-0GrZZS8TY', 'qFH8ONJQu5I', 'oDGtZtZsAdY', 'w297cLhK_Zo', 'gmLD0gYDI50', 'm1o-iY70QZQ', 'bsNInoJpOVA', 'HCIQ_zocZnU', 'km1Hxg-v9ws', 'jppA5NDk364', '4f2lVSYgzjo', 'px2ch3R7Xtc', 'NxOJSgQ-ANA', 'wlPrSuBvwQo', 'iWxaqTRKi2s', 'Mmqjueb9bGw', 'rJd98ahZPmE', 'aE6Ns_odqec', 'yPM0zueqXK0', 'VpvSiTKMTrE', 'rKurm9SqXAw', 'HtbtEEOHmNY', '69cjUN4x3wA', 'fjCHw_ttEXY', 'VIORhtcxlqM', 'W4NVPRKqrN4', 'E6UQEuk7wEA', 'ZSrQfCz0NnQ', 'se5scESKZqE', '9Nh4hRaLgec', 'JRbATxvD_mo', 'IL9QLCe2xxo', '2LnURQ9NaOA', 'OK9L6xSN24Y', 'FtA5iRT4pQk', 'jTBO_K_zeR0', 'Gyy2vXixdKw', 'uye6OptPmps', 'ErF-Um18G0M', 'g43FW-1CEQo', 'kL9gJmtanfs', 'h97oKaQSX-M', 'C7ON-LSl54g'], 'available': True, 'path': ''}\n",
      "{'name': 'QT C++ GUI Tutorial For Beginners', 'children': ['EkjaiDsiM-Q', 'eS7ank-qFjg', '5JVLO8yBMXA', 'Y1c-ieVO-UY', 'F56fSKoNCtk', 'xJdxE_7IBsU', 'gWa2rqe8l6E', 'y9Zx_FJBC1U', 'VigUMAfE2q4', '6_elY8O20I8', 'SyzxerD2Yps', 'BI5TQ_NPp1s', 'CTbpS0PN-JQ', 'Sf-Vr-1q5UA', 'us2bq5vpQ9g', '2Dv-TO9KQDE', 'utjU9csHCO8', 'E9eQO5czNrw', '-6ZS7nxgzrQ', '2YRAJt-LbkM', 'hstOtTEeW9Y', 'tY6nW3Wm3NE', 'Fgt4WWdn3Ko', 'E4L4IjAR-Ww', 'zywq2kpcXP4', 'j4j1gbYJtUw', 'ucWsnp064ow', '68_PHjBohAs', 'Kmpg6MD-LjM', 'rtgOb03xl_U', 'ugW7ULhJwPw', 'TfEttsC1vEA', 'MhYECGUzdA4', 'SukVA3w6l3E', 'DTxc1rA2Itg', 'GK39mFS9fKc', 'ae-gENE5wvE', '6PfmUiZTWBM', 'ghToze5bboE', '6F6ECKek1Dc', 'bVAH2772w3Q', 'cyyfke88sro', 'awVkDykjCbc', 'jhrjYank-wg', 'y7GNJlilbvg', 'i4BCSEPz25o', '3FM0KzuDiRg', 'KrH1qNVYKO0', 'Mwd1dX--HaU', 'QBXoWOc7T_Q', 'h1NlXUaDpmk', 'tt5h-zF8dUI', 'fpgDeQ_EW1A', '0kNe9aGtsLA', 'hQSuM1uCdXE'], 'available': True, 'path': ''}\n",
      "{'name': 'How I built a software agency website with Next.js + Tailwind CSS (in nature)', 'parent': None, 'available': True, 'path': '', 'captions': '', 'filename': 'How I built a software agency website with Next.js + Tailwind CSS (in nature)'}\n"
     ]
    }
   ],
   "source": [
    "print(parser.get_keys(ch))\n",
    "print(parser.get_keys(pl))\n",
    "print(parser.get_keys(si))"
   ]
  },
  {
   "cell_type": "markdown",
   "metadata": {},
   "source": [
    "### Testing the helper"
   ]
  },
  {
   "cell_type": "code",
   "execution_count": 1,
   "metadata": {},
   "outputs": [],
   "source": [
    "import youmirror.helper as helper"
   ]
  },
  {
   "cell_type": "code",
   "execution_count": 6,
   "metadata": {},
   "outputs": [
    {
     "name": "stdout",
     "output_type": "stream",
     "text": [
      "youmirror.toml\n"
     ]
    }
   ],
   "source": [
    "print(get_config('.'))"
   ]
  },
  {
   "cell_type": "code",
   "execution_count": 17,
   "metadata": {},
   "outputs": [
    {
     "name": "stdout",
     "output_type": "stream",
     "text": [
      "2022-04-12\n"
     ]
    }
   ],
   "source": [
    "import datetime\n",
    "timestamp = 1339521878.04 \n",
    "value = datetime.datetime.now().strftime('%Y-%m-%d')\n",
    "print(value)"
   ]
  }
 ],
 "metadata": {
  "interpreter": {
   "hash": "7d1fb857c91084ff2f5c4554f4552112f847df0461cff6be6b8b14c3a23eca4b"
  },
  "kernelspec": {
   "display_name": "Python 3.9.6 ('personate-gaLREsct-py3.9')",
   "language": "python",
   "name": "python3"
  },
  "language_info": {
   "codemirror_mode": {
    "name": "ipython",
    "version": 3
   },
   "file_extension": ".py",
   "mimetype": "text/x-python",
   "name": "python",
   "nbconvert_exporter": "python",
   "pygments_lexer": "ipython3",
   "version": "3.9.12"
  },
  "orig_nbformat": 4
 },
 "nbformat": 4,
 "nbformat_minor": 2
}
