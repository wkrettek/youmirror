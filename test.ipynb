{
 "cells": [
  {
   "cell_type": "markdown",
   "metadata": {},
   "source": [
    "### Testing the core"
   ]
  },
  {
   "cell_type": "code",
   "execution_count": 5,
   "metadata": {},
   "outputs": [],
   "source": [
    "# Import and create\n",
    "import logging\n",
    "import time\n",
    "from sqlitedict import SqliteDict\n",
    "from pytube import Channel, Playlist, YouTube\n",
    "from youmirror.core import YouMirror\n",
    "ym = YouMirror()"
   ]
  },
  {
   "cell_type": "markdown",
   "metadata": {},
   "source": [
    "new()"
   ]
  },
  {
   "cell_type": "code",
   "execution_count": 8,
   "metadata": {},
   "outputs": [
    {
     "name": "stderr",
     "output_type": "stream",
     "text": [
      "INFO:root:Creating new mirror directory 'tests/testmirror'\n",
      "INFO:root:Creating config file 'tests/testmirror/youmirror.toml'\n",
      "INFO:root:Creating database 'tests/testmirror/youmirror.db'\n"
     ]
    }
   ],
   "source": [
    "ym.new(\"\")"
   ]
  },
  {
   "cell_type": "markdown",
   "metadata": {},
   "source": [
    "add()"
   ]
  },
  {
   "cell_type": "code",
   "execution_count": 6,
   "metadata": {},
   "outputs": [
    {
     "name": "stderr",
     "output_type": "stream",
     "text": [
      "INFO:root:Adding http://www.youtube.com/c/TheAlwaysSunnyPodcast to the mirror\n",
      "INFO:sqlitedict:opening Sqlite table 'channels' in PosixPath('mymirror/youmirror.db')\n",
      "INFO:sqlitedict:opening Sqlite table 'playlists' in PosixPath('mymirror/youmirror.db')\n",
      "INFO:sqlitedict:opening Sqlite table 'singles' in PosixPath('mymirror/youmirror.db')\n"
     ]
    },
    {
     "name": "stdout",
     "output_type": "stream",
     "text": [
      "Adding /c/TheAlwaysSunnyPodcast to table SqliteDict(mymirror/youmirror.db)\n",
      "Adding child UaddC6h5yPk and {'parent': '/c/TheAlwaysSunnyPodcast', 'name': 'So Many Johns', 'available': True, 'path': 'singles', 'captions': '', 'filename': 'So Many Johns'} to singles table\n",
      "Adding child nlsvIiGOQT0 and {'parent': '/c/TheAlwaysSunnyPodcast', 'name': \"27. Who's Got Donkey Brains?\", 'available': True, 'path': 'singles', 'captions': '', 'filename': \"27. Who's Got Donkey Brains?\"} to singles table\n",
      "Adding child 9C-pfRJSUek and {'parent': '/c/TheAlwaysSunnyPodcast', 'name': 'You’ve Got Donkey Brains', 'available': True, 'path': 'singles', 'captions': '', 'filename': 'You’ve Got Donkey Brains'} to singles table\n",
      "Adding child V3o4ijDFjA8 and {'parent': '/c/TheAlwaysSunnyPodcast', 'name': 'Glenn Kicks A Door Down', 'available': True, 'path': 'singles', 'captions': '', 'filename': 'Glenn Kicks A Door Down'} to singles table\n",
      "Adding child xviPQ07WfXI and {'parent': '/c/TheAlwaysSunnyPodcast', 'name': '26. The Gang Solves the North Korea Situation', 'available': True, 'path': 'singles', 'captions': '', 'filename': '26. The Gang Solves the North Korea Situation'} to singles table\n",
      "Adding child 0C-n4c8B6_o and {'parent': '/c/TheAlwaysSunnyPodcast', 'name': 'Glenn’s Bucket List', 'available': True, 'path': 'singles', 'captions': '', 'filename': 'Glenn’s Bucket List'} to singles table\n",
      "Adding child -dO1yFFZu8w and {'parent': '/c/TheAlwaysSunnyPodcast', 'name': '25. The Aluminum Monster vs. Fatty Magoo', 'available': True, 'path': 'singles', 'captions': '', 'filename': '25. The Aluminum Monster vs. Fatty Magoo'} to singles table\n",
      "Adding child sztaSIwdvWc and {'parent': '/c/TheAlwaysSunnyPodcast', 'name': 'The Great Gazoo', 'available': True, 'path': 'singles', 'captions': '', 'filename': 'The Great Gazoo'} to singles table\n",
      "Adding child acNg26XkfFo and {'parent': '/c/TheAlwaysSunnyPodcast', 'name': 'Yippee Ki-Yay, Mr. Falcon', 'available': True, 'path': 'singles', 'captions': '', 'filename': 'Yippee Ki-Yay, Mr. Falcon'} to singles table\n",
      "Adding child x2ALxWntGw4 and {'parent': '/c/TheAlwaysSunnyPodcast', 'name': '24. The Gang Gets Held Hostage', 'available': True, 'path': 'singles', 'captions': '', 'filename': '24. The Gang Gets Held Hostage'} to singles table\n",
      "Adding child mJntfYZUlWg and {'parent': '/c/TheAlwaysSunnyPodcast', 'name': 'Charlie The Muskrat', 'available': True, 'path': 'singles', 'captions': '', 'filename': 'Charlie The Muskrat'} to singles table\n",
      "Adding child 0CALWTJ1gIs and {'parent': '/c/TheAlwaysSunnyPodcast', 'name': 'Happy St. Paddy’s Day', 'available': True, 'path': 'singles', 'captions': '', 'filename': 'Happy St. Paddy’s Day'} to singles table\n",
      "Adding child w-0GrZZS8TY and {'parent': '/c/TheAlwaysSunnyPodcast', 'name': 'Meg Toasts The Guys', 'available': True, 'path': 'singles', 'captions': '', 'filename': 'Meg Toasts The Guys'} to singles table\n",
      "Adding child qFH8ONJQu5I and {'parent': '/c/TheAlwaysSunnyPodcast', 'name': 'Red Nose Rob', 'available': True, 'path': 'singles', 'captions': '', 'filename': 'Red Nose Rob'} to singles table\n",
      "Adding child oDGtZtZsAdY and {'parent': '/c/TheAlwaysSunnyPodcast', 'name': '23. Everybody Browns Out', 'available': True, 'path': 'singles', 'captions': '', 'filename': '23. Everybody Browns Out'} to singles table\n",
      "Adding child w297cLhK_Zo and {'parent': '/c/TheAlwaysSunnyPodcast', 'name': 'The Guys Get Hammered', 'available': True, 'path': 'singles', 'captions': '', 'filename': 'The Guys Get Hammered'} to singles table\n",
      "Adding child gmLD0gYDI50 and {'parent': '/c/TheAlwaysSunnyPodcast', 'name': 'Coffee Eggs For Your Trying Times', 'available': True, 'path': 'singles', 'captions': '', 'filename': 'Coffee Eggs For Your Trying Times'} to singles table\n",
      "Adding child m1o-iY70QZQ and {'parent': '/c/TheAlwaysSunnyPodcast', 'name': 'A Very Sh*tty Audition', 'available': True, 'path': 'singles', 'captions': '', 'filename': 'A Very Sh*tty Audition'} to singles table\n",
      "Adding child bsNInoJpOVA and {'parent': '/c/TheAlwaysSunnyPodcast', 'name': 'The Penaissance', 'available': True, 'path': 'singles', 'captions': '', 'filename': 'The Penaissance'} to singles table\n",
      "Adding child HCIQ_zocZnU and {'parent': '/c/TheAlwaysSunnyPodcast', 'name': \"22. Dennis and Dee's Mom Is Dead\", 'available': True, 'path': 'singles', 'captions': '', 'filename': \"22. Dennis and Dee's Mom Is Dead\"} to singles table\n",
      "Adding child km1Hxg-v9ws and {'parent': '/c/TheAlwaysSunnyPodcast', 'name': 'Is “The Rock” Bringing Baggy Back?', 'available': True, 'path': 'singles', 'captions': '', 'filename': 'Is “The Rock” Bringing Baggy Back?'} to singles table\n",
      "Adding child jppA5NDk364 and {'parent': '/c/TheAlwaysSunnyPodcast', 'name': 'Sweet Dee Is On The Line', 'available': True, 'path': 'singles', 'captions': '', 'filename': 'Sweet Dee Is On The Line'} to singles table\n",
      "Adding child 4f2lVSYgzjo and {'parent': '/c/TheAlwaysSunnyPodcast', 'name': '21. The Gang Gets Invincible', 'available': True, 'path': 'singles', 'captions': '', 'filename': '21. The Gang Gets Invincible'} to singles table\n",
      "Adding child px2ch3R7Xtc and {'parent': '/c/TheAlwaysSunnyPodcast', 'name': 'Donny John McCrab', 'available': True, 'path': 'singles', 'captions': '', 'filename': 'Donny John McCrab'} to singles table\n",
      "Adding child NxOJSgQ-ANA and {'parent': '/c/TheAlwaysSunnyPodcast', 'name': 'Rob’s Childhood Beach Memories', 'available': True, 'path': 'singles', 'captions': '', 'filename': 'Rob’s Childhood Beach Memories'} to singles table\n",
      "Adding child wlPrSuBvwQo and {'parent': '/c/TheAlwaysSunnyPodcast', 'name': '20. The Gang Finds A Dumpster Baby', 'available': True, 'path': 'singles', 'captions': '', 'filename': '20. The Gang Finds A Dumpster Baby'} to singles table\n",
      "Adding child iWxaqTRKi2s and {'parent': '/c/TheAlwaysSunnyPodcast', 'name': 'Glenn Took A Tumble', 'available': True, 'path': 'singles', 'captions': '', 'filename': 'Glenn Took A Tumble'} to singles table\n",
      "Adding child Mmqjueb9bGw and {'parent': '/c/TheAlwaysSunnyPodcast', 'name': 'Who’s Most Like Their Character?', 'available': True, 'path': 'singles', 'captions': '', 'filename': 'Who’s Most Like Their Character?'} to singles table\n",
      "Adding child rJd98ahZPmE and {'parent': '/c/TheAlwaysSunnyPodcast', 'name': '19. The Guys Take Some Calls', 'available': True, 'path': 'singles', 'captions': '', 'filename': '19. The Guys Take Some Calls'} to singles table\n",
      "Adding child aE6Ns_odqec and {'parent': '/c/TheAlwaysSunnyPodcast', 'name': \"Let's Go to the Phones!\", 'available': True, 'path': 'singles', 'captions': '', 'filename': \"Let's Go to the Phones!\"} to singles table\n",
      "Adding child yPM0zueqXK0 and {'parent': '/c/TheAlwaysSunnyPodcast', 'name': \"Glenn's Liquid Diet\", 'available': True, 'path': 'singles', 'captions': '', 'filename': \"Glenn's Liquid Diet\"} to singles table\n",
      "Adding child VpvSiTKMTrE and {'parent': '/c/TheAlwaysSunnyPodcast', 'name': '18. Dennis And Dee Get A New Dad', 'available': True, 'path': 'singles', 'captions': '', 'filename': '18. Dennis And Dee Get A New Dad'} to singles table\n",
      "Adding child rKurm9SqXAw and {'parent': '/c/TheAlwaysSunnyPodcast', 'name': 'Gunshots vs. Clicks', 'available': True, 'path': 'singles', 'captions': '', 'filename': 'Gunshots vs. Clicks'} to singles table\n",
      "Adding child HtbtEEOHmNY and {'parent': '/c/TheAlwaysSunnyPodcast', 'name': 'The Story Behind \"Rock, Flag and Eagle\"', 'available': True, 'path': 'singles', 'captions': '', 'filename': 'The Story Behind \"Rock, Flag and Eagle\"'} to singles table\n",
      "Adding child 69cjUN4x3wA and {'parent': '/c/TheAlwaysSunnyPodcast', 'name': \"17. Charlie Goes America All Over Everybody's Ass\", 'available': True, 'path': 'singles', 'captions': '', 'filename': \"17. Charlie Goes America All Over Everybody's Ass\"} to singles table\n",
      "Adding child fjCHw_ttEXY and {'parent': '/c/TheAlwaysSunnyPodcast', 'name': 'If The Guys Were The Beatles, Who Would Be Who?', 'available': True, 'path': 'singles', 'captions': '', 'filename': 'If The Guys Were The Beatles, Who Would Be Who?'} to singles table\n",
      "Adding child VIORhtcxlqM and {'parent': '/c/TheAlwaysSunnyPodcast', 'name': 'George Bush Hands', 'available': True, 'path': 'singles', 'captions': '', 'filename': 'George Bush Hands'} to singles table\n",
      "Adding child W4NVPRKqrN4 and {'parent': '/c/TheAlwaysSunnyPodcast', 'name': '16. The Gang Runs For Office', 'available': True, 'path': 'singles', 'captions': '', 'filename': '16. The Gang Runs For Office'} to singles table\n",
      "Adding child E6UQEuk7wEA and {'parent': '/c/TheAlwaysSunnyPodcast', 'name': 'Glenn Insults the Audience', 'available': True, 'path': 'singles', 'captions': '', 'filename': 'Glenn Insults the Audience'} to singles table\n",
      "Adding child ZSrQfCz0NnQ and {'parent': '/c/TheAlwaysSunnyPodcast', 'name': '15. The Gang Exploits A Miracle', 'available': True, 'path': 'singles', 'captions': '', 'filename': '15. The Gang Exploits A Miracle'} to singles table\n",
      "Adding child se5scESKZqE and {'parent': '/c/TheAlwaysSunnyPodcast', 'name': '14. Rob Almost Fights Some Guy Outside A Hamburger Store', 'available': True, 'path': 'singles', 'captions': '', 'filename': '14. Rob Almost Fights Some Guy Outside A Hamburger Store'} to singles table\n",
      "Adding child 9Nh4hRaLgec and {'parent': '/c/TheAlwaysSunnyPodcast', 'name': '13. The Gang Gives Back', 'available': True, 'path': 'singles', 'captions': '', 'filename': '13. The Gang Gives Back'} to singles table\n",
      "Adding child JRbATxvD_mo and {'parent': '/c/TheAlwaysSunnyPodcast', 'name': '12. Hundred Dollar Baby', 'available': True, 'path': 'singles', 'captions': '', 'filename': '12. Hundred Dollar Baby'} to singles table\n",
      "Adding child IL9QLCe2xxo and {'parent': '/c/TheAlwaysSunnyPodcast', 'name': \"11. Mac Bangs Dennis' Mom\", 'available': True, 'path': 'singles', 'captions': '', 'filename': \"11. Mac Bangs Dennis' Mom\"} to singles table\n",
      "Adding child 2LnURQ9NaOA and {'parent': '/c/TheAlwaysSunnyPodcast', 'name': '10. Dennis and Dee Go On Welfare', 'available': True, 'path': 'singles', 'captions': '', 'filename': '10. Dennis and Dee Go On Welfare'} to singles table\n",
      "Adding child OK9L6xSN24Y and {'parent': '/c/TheAlwaysSunnyPodcast', 'name': '9. The Gang Goes Jihad', 'available': True, 'path': 'singles', 'captions': '', 'filename': '9. The Gang Goes Jihad'} to singles table\n",
      "Adding child FtA5iRT4pQk and {'parent': '/c/TheAlwaysSunnyPodcast', 'name': '8. Charlie Gets Crippled', 'available': True, 'path': 'singles', 'captions': '', 'filename': '8. Charlie Gets Crippled'} to singles table\n",
      "Adding child jTBO_K_zeR0 and {'parent': '/c/TheAlwaysSunnyPodcast', 'name': '7. Charlie Got Molested', 'available': True, 'path': 'singles', 'captions': '', 'filename': '7. Charlie Got Molested'} to singles table\n",
      "Adding child Gyy2vXixdKw and {'parent': '/c/TheAlwaysSunnyPodcast', 'name': '6. The Gang Finds A Dead Guy', 'available': True, 'path': 'singles', 'captions': '', 'filename': '6. The Gang Finds A Dead Guy'} to singles table\n",
      "Adding child uye6OptPmps and {'parent': '/c/TheAlwaysSunnyPodcast', 'name': '5. Gun Fever', 'available': True, 'path': 'singles', 'captions': '', 'filename': '5. Gun Fever'} to singles table\n",
      "Adding child ErF-Um18G0M and {'parent': '/c/TheAlwaysSunnyPodcast', 'name': '4. Charlie Has Cancer', 'available': True, 'path': 'singles', 'captions': '', 'filename': '4. Charlie Has Cancer'} to singles table\n",
      "Adding child g43FW-1CEQo and {'parent': '/c/TheAlwaysSunnyPodcast', 'name': '3. Underage Drinking: A National Concern', 'available': True, 'path': 'singles', 'captions': '', 'filename': '3. Underage Drinking: A National Concern'} to singles table\n",
      "Adding child kL9gJmtanfs and {'parent': '/c/TheAlwaysSunnyPodcast', 'name': '2. Charlie Wants An Abortion', 'available': True, 'path': 'singles', 'captions': '', 'filename': '2. Charlie Wants An Abortion'} to singles table\n",
      "Adding child h97oKaQSX-M and {'parent': '/c/TheAlwaysSunnyPodcast', 'name': '1. The Gang Gets Racist', 'available': True, 'path': 'singles', 'captions': '', 'filename': '1. The Gang Gets Racist'} to singles table\n"
     ]
    },
    {
     "name": "stderr",
     "output_type": "stream",
     "text": [
      "INFO:root:https://youtube.com/watch?v=cRLnR4Kot2M already exists in the mirror\n",
      "INFO:sqlitedict:opening Sqlite table 'channels' in PosixPath('mymirror/youmirror.db')\n"
     ]
    },
    {
     "name": "stdout",
     "output_type": "stream",
     "text": [
      "Adding child C7ON-LSl54g and {'parent': '/c/TheAlwaysSunnyPodcast', 'name': 'Video Podcast Teaser', 'available': True, 'path': 'singles', 'captions': '', 'filename': 'Video Podcast Teaser'} to singles table\n",
      "New config: \n",
      "name = \"mymirror\"\n",
      "last_updated = \"2022-04-13\"\n",
      "default_resolution = \"best\"\n",
      "\n",
      "[playlists]\n",
      "\n",
      "[singles.cRLnR4Kot2M]\n",
      "name = \"5 Reasons Unreal Engine 5 is a BIG DEAL\"\n",
      "url = \"https://youtube.com/watch?v=cRLnR4Kot2M\"\n",
      "type = \"single\"\n",
      "\n",
      "[channels.\"/user/videogamedunkey\"]\n",
      "name = \"videogamedunkey\"\n",
      "url = \"http://www.youtube.com/user/videogamedunkey\"\n",
      "type = \"channel\"\n",
      "\n",
      "[channels.\"/c/TheAlwaysSunnyPodcast\"]\n",
      "name = \"The Always Sunny Podcast\"\n",
      "url = \"http://www.youtube.com/c/TheAlwaysSunnyPodcast\"\n",
      "type = \"channel\"\n",
      "\n"
     ]
    },
    {
     "name": "stderr",
     "output_type": "stream",
     "text": [
      "INFO:sqlitedict:opening Sqlite table 'playlists' in PosixPath('mymirror/youmirror.db')\n",
      "INFO:sqlitedict:opening Sqlite table 'singles' in PosixPath('mymirror/youmirror.db')\n"
     ]
    },
    {
     "name": "stdout",
     "output_type": "stream",
     "text": [
      "New config: \n",
      "name = \"mymirror\"\n",
      "last_updated = \"2022-04-13\"\n",
      "default_resolution = \"best\"\n",
      "\n",
      "[playlists]\n",
      "\n",
      "[singles.cRLnR4Kot2M]\n",
      "name = \"5 Reasons Unreal Engine 5 is a BIG DEAL\"\n",
      "url = \"https://youtube.com/watch?v=cRLnR4Kot2M\"\n",
      "type = \"single\"\n",
      "\n",
      "[channels.\"/user/videogamedunkey\"]\n",
      "name = \"videogamedunkey\"\n",
      "url = \"http://www.youtube.com/user/videogamedunkey\"\n",
      "type = \"channel\"\n",
      "\n",
      "[channels.\"/c/TheAlwaysSunnyPodcast\"]\n",
      "name = \"The Always Sunny Podcast\"\n",
      "url = \"http://www.youtube.com/c/TheAlwaysSunnyPodcast\"\n",
      "type = \"channel\"\n",
      "\n",
      "Added in 45.47805142402649 seconds\n"
     ]
    }
   ],
   "source": [
    "start = time.time()\n",
    "ym.add(url=\"https://www.youtube.com/c/TheAlwaysSunnyPodcast\", root=\"mymirror\")\n",
    "ym.add(url=\"https://www.youtube.com/watch?v=cRLnR4Kot2M\", root=\"mymirror\")\n",
    "print(f'Added in {time.time() - start} seconds')"
   ]
  },
  {
   "cell_type": "code",
   "execution_count": 5,
   "metadata": {},
   "outputs": [
    {
     "name": "stderr",
     "output_type": "stream",
     "text": [
      "INFO:root:Removing https://www.youtube.com/c/TheAlwaysSunnyPodcast from the mirror\n"
     ]
    },
    {
     "name": "stdout",
     "output_type": "stream",
     "text": [
      "New config: \n",
      "name = \"mymirror\"\n",
      "last_updated = \"2022-04-13\"\n",
      "default_resolution = \"best\"\n",
      "\n",
      "[playlists]\n",
      "\n",
      "[singles.cRLnR4Kot2M]\n",
      "name = \"5 Reasons Unreal Engine 5 is a BIG DEAL\"\n",
      "url = \"https://youtube.com/watch?v=cRLnR4Kot2M\"\n",
      "type = \"single\"\n",
      "\n",
      "[channels.\"/user/videogamedunkey\"]\n",
      "name = \"videogamedunkey\"\n",
      "url = \"http://www.youtube.com/user/videogamedunkey\"\n",
      "type = \"channel\"\n",
      "\n",
      "Removed in 0.002500295639038086 seconds\n"
     ]
    }
   ],
   "source": [
    "start = time.time()\n",
    "ym.remove(url=\"https://www.youtube.com/c/TheAlwaysSunnyPodcast\", root=\"mymirror\")\n",
    "print(f'Removed in {time.time() - start} seconds')"
   ]
  },
  {
   "cell_type": "markdown",
   "metadata": {},
   "source": [
    "### Testing the parser"
   ]
  },
  {
   "cell_type": "code",
   "execution_count": 4,
   "metadata": {},
   "outputs": [],
   "source": [
    "import youmirror.parser as parser"
   ]
  },
  {
   "cell_type": "code",
   "execution_count": 5,
   "metadata": {},
   "outputs": [],
   "source": [
    "ch = Channel(\"http://www.youtube.com/c/TheAlwaysSunnyPodcast\")\n",
    "pl = Playlist(\"https://www.youtube.com/playlist?list=PLS1QulWo1RIZiBcTr5urECberTITj7gjA\")\n",
    "si = YouTube(\"https://www.youtube.com/watch?v=GznmPACXBlY\")\n",
    "ch_urls = parser.get_children(ch)[0:10]\n",
    "pl_urls = parser.get_children(pl)[0:10]\n",
    "# print(ch_urls)\n",
    "# print(pl_urls)"
   ]
  },
  {
   "cell_type": "code",
   "execution_count": 6,
   "metadata": {},
   "outputs": [
    {
     "name": "stdout",
     "output_type": "stream",
     "text": [
      "{'name': 'The Always Sunny Podcast', 'children': ['UaddC6h5yPk', 'nlsvIiGOQT0', '9C-pfRJSUek', 'V3o4ijDFjA8', 'xviPQ07WfXI', '0C-n4c8B6_o', '-dO1yFFZu8w', 'sztaSIwdvWc', 'acNg26XkfFo', 'x2ALxWntGw4', 'mJntfYZUlWg', '0CALWTJ1gIs', 'w-0GrZZS8TY', 'qFH8ONJQu5I', 'oDGtZtZsAdY', 'w297cLhK_Zo', 'gmLD0gYDI50', 'm1o-iY70QZQ', 'bsNInoJpOVA', 'HCIQ_zocZnU', 'km1Hxg-v9ws', 'jppA5NDk364', '4f2lVSYgzjo', 'px2ch3R7Xtc', 'NxOJSgQ-ANA', 'wlPrSuBvwQo', 'iWxaqTRKi2s', 'Mmqjueb9bGw', 'rJd98ahZPmE', 'aE6Ns_odqec', 'yPM0zueqXK0', 'VpvSiTKMTrE', 'rKurm9SqXAw', 'HtbtEEOHmNY', '69cjUN4x3wA', 'fjCHw_ttEXY', 'VIORhtcxlqM', 'W4NVPRKqrN4', 'E6UQEuk7wEA', 'ZSrQfCz0NnQ', 'se5scESKZqE', '9Nh4hRaLgec', 'JRbATxvD_mo', 'IL9QLCe2xxo', '2LnURQ9NaOA', 'OK9L6xSN24Y', 'FtA5iRT4pQk', 'jTBO_K_zeR0', 'Gyy2vXixdKw', 'uye6OptPmps', 'ErF-Um18G0M', 'g43FW-1CEQo', 'kL9gJmtanfs', 'h97oKaQSX-M', 'C7ON-LSl54g'], 'available': True, 'path': ''}\n",
      "{'name': 'QT C++ GUI Tutorial For Beginners', 'children': ['EkjaiDsiM-Q', 'eS7ank-qFjg', '5JVLO8yBMXA', 'Y1c-ieVO-UY', 'F56fSKoNCtk', 'xJdxE_7IBsU', 'gWa2rqe8l6E', 'y9Zx_FJBC1U', 'VigUMAfE2q4', '6_elY8O20I8', 'SyzxerD2Yps', 'BI5TQ_NPp1s', 'CTbpS0PN-JQ', 'Sf-Vr-1q5UA', 'us2bq5vpQ9g', '2Dv-TO9KQDE', 'utjU9csHCO8', 'E9eQO5czNrw', '-6ZS7nxgzrQ', '2YRAJt-LbkM', 'hstOtTEeW9Y', 'tY6nW3Wm3NE', 'Fgt4WWdn3Ko', 'E4L4IjAR-Ww', 'zywq2kpcXP4', 'j4j1gbYJtUw', 'ucWsnp064ow', '68_PHjBohAs', 'Kmpg6MD-LjM', 'rtgOb03xl_U', 'ugW7ULhJwPw', 'TfEttsC1vEA', 'MhYECGUzdA4', 'SukVA3w6l3E', 'DTxc1rA2Itg', 'GK39mFS9fKc', 'ae-gENE5wvE', '6PfmUiZTWBM', 'ghToze5bboE', '6F6ECKek1Dc', 'bVAH2772w3Q', 'cyyfke88sro', 'awVkDykjCbc', 'jhrjYank-wg', 'y7GNJlilbvg', 'i4BCSEPz25o', '3FM0KzuDiRg', 'KrH1qNVYKO0', 'Mwd1dX--HaU', 'QBXoWOc7T_Q', 'h1NlXUaDpmk', 'tt5h-zF8dUI', 'fpgDeQ_EW1A', '0kNe9aGtsLA', 'hQSuM1uCdXE'], 'available': True, 'path': ''}\n",
      "{'name': 'How I built a software agency website with Next.js + Tailwind CSS (in nature)', 'parent': None, 'available': True, 'path': '', 'captions': '', 'filename': 'How I built a software agency website with Next.js + Tailwind CSS (in nature)'}\n"
     ]
    }
   ],
   "source": [
    "print(parser.get_keys(ch))\n",
    "print(parser.get_keys(pl))\n",
    "print(parser.get_keys(si))"
   ]
  },
  {
   "cell_type": "markdown",
   "metadata": {},
   "source": [
    "### Testing the helper"
   ]
  },
  {
   "cell_type": "code",
   "execution_count": 1,
   "metadata": {},
   "outputs": [],
   "source": [
    "import youmirror.helper as helper\n",
    "from pytube import Channel, Playlist, YouTube"
   ]
  },
  {
   "cell_type": "code",
   "execution_count": 2,
   "metadata": {},
   "outputs": [
    {
     "name": "stdout",
     "output_type": "stream",
     "text": [
      "channels/The Always Sunny Podcast\n",
      "playlists/QT C++ GUI Tutorial For Beginners\n",
      "singles\n"
     ]
    }
   ],
   "source": [
    "ch = Channel(\"http://www.youtube.com/c/TheAlwaysSunnyPodcast\")\n",
    "pl = Playlist(\"https://www.youtube.com/playlist?list=PLS1QulWo1RIZiBcTr5urECberTITj7gjA\")\n",
    "si = YouTube(\"https://www.youtube.com/watch?v=GznmPACXBlY\")\n",
    "path = helper.calculate_path(ch)\n",
    "print(path)\n",
    "path = helper.calculate_path(pl)\n",
    "print(path)\n",
    "path = helper.calculate_path(si)\n",
    "print(path)"
   ]
  },
  {
   "cell_type": "code",
   "execution_count": 17,
   "metadata": {},
   "outputs": [
    {
     "name": "stdout",
     "output_type": "stream",
     "text": [
      "2022-04-12\n"
     ]
    }
   ],
   "source": [
    "import datetime\n",
    "timestamp = 1339521878.04 \n",
    "value = datetime.datetime.now().strftime('%Y-%m-%d')\n",
    "print(value)"
   ]
  },
  {
   "cell_type": "markdown",
   "metadata": {},
   "source": [
    "### Testing the databasing"
   ]
  },
  {
   "cell_type": "code",
   "execution_count": 7,
   "metadata": {},
   "outputs": [],
   "source": [
    "from sqlitedict import SqliteDict\n",
    "import youmirror.databaser as databaser"
   ]
  },
  {
   "cell_type": "code",
   "execution_count": 12,
   "metadata": {},
   "outputs": [
    {
     "name": "stderr",
     "output_type": "stream",
     "text": [
      "INFO:sqlitedict:opening Sqlite table 'channels' in 'mymirror/youmirror.db'\n"
     ]
    },
    {
     "name": "stdout",
     "output_type": "stream",
     "text": [
      "{'name': 'ProgrammingKnowledge', 'children': 'brKsxunQkbM eva_u2_3v3M ZBiGHV-joos htX-J2cdePQ 9q_AeiQA5gM iKnynvncBps Vs_4P2SsCXI LoHfWrWqz3c sWQjgx9s5I8 R-ESp5gH68E guDFeZ-hSJI ynj3CrWGGC4 O8IzOkY8NhM dT1C_jxXUH0 ZBVI0bTWKH8 hjPWXfdjOfM 9rQNOUu-Nw4 dhKL1MFxG7s CWkSHhvPeyw o8N4GHho03U B314nau6m9s 3Sl3j8sOUeY DVGn4C33d3M IPaOfvOSVnI kRfi8DBb5UA xgYsfcGj1vQ OlmvNPsvCgU OtwzB50EZBQ unG5f566gEY ASbE45IqQL0 40AIPOEKJjY OKrdqZ3s8eg qNsEX61Z3hU cUhi1b1HKrE M2cTlFutByM 0kQxjD5cjwg 7cBGU1zjCxU T9BswedARxs KwnKWcXFcys 72jFT84NPuc STxr9txg1tQ ifTsjnqS44Q 41yQ7Dp5Cic sw_nmU2MgVM FVHNk--fOrg pMnGp0bHNCk 8lZbKOfyVnk DT90U69abyY oMGz8wEPm0A y_SGTWvGCKg VbUh_F1ZTDc OH6IX3eVL2s LeHYhJIOVJQ HGOCtrMEhvY jJKL-0guwa0 XMF4eezCttE vq6pwgnLCL4 fEWL0-lw7WU gANpYPM_PTQ rIfk6-AybJA BomCx0jbwPY miODyMpQAQ4 OWro7Az0gAU ET1BLgRKHJw rxfZnWaN9eg ADTH8jzbU2w VGzF6pSAIqc iROxaNpPrGo KdpngPsPRlE msAB1NivnhI uKG4WFhX14Y Xd9jKOzbVrs tHR4sILEU9U 5rV1FX4yS90 -nCwNDWfVP0 UIRo3f-B9zY IKitRTLRUSM -eXCecS-Rwk S9vSLo8M2D4 EC51Xd8JU9E bKJs0iJXDBE Jplb0Y2Aogs rOs1ERCsbG0 qELVsMyo0SM uFydSHo4LcM E6St-xY8wjs roEVP47TsDU VOmH2Pblx00 Et2IelnH8H8 KM7-rHvVuIA TfanV-nzIDE NwbFJT23YbA 9h_g5prL0oM IaHcT8mMsGw XRxZoWeCQ84 Ph1Z97X6xno PMKBmaVjWus 081xcYZKOZA smPFIi9-U_Q AvOIyjBY_mk daCSwO-T7sY Bn4TuMkHmB0 vyX8ioYbT8I mpKb5DThDX4 pfG61TIk1eo KS9209_8b-I nytgVtMOh9o 7uCmzPxcY30 plkDtbGc8YY oevd3u_VTfE khyzgpP4kIY cTgCXm8N_po wwzNue-0tA4 DKf-RJEzcsk fVwwDLwKV9c 8nW2nS1-wvA K2zX-qta2QE xmg8xLU6KCw MNpylfUuur0 kcZCwq5jYWc 2TDqOhFpuqs cn1wyUcRyr4 Co8coZwmtlw MDLHyTSbuD0 OlLHiIkZFmI Y-44qRHi3pc vM2RhpKGxwk ZttLq-Pturw Ku7QrP3FRhk g2fgpM7RxCM MwwBJuezCFo R_Clppr0FaQ 4wIRzzTlgQE twqRa24eqnE gP1ELrkkNJg BR2rrnTavmY BL1CRUEbJl0 W0orX0uLmZU 3_BIibHEXvc ARnTnX8WcnE 6PLU2a1XqWM CWHnOJjKNw0 wbYjEU2RWY0 fmbjZO5oUkI YXsH7yxRFD0 _tH97Rtlgfo AYoUmqB2B8M oSdeY-JG6NE C408abuCeYs KzdBRD2RMp4 6qzJcyazUBU os3VgdvrRjA 8DRt2CRD6X8 ujklUEgs3dk dr9nnsaE4Ag 3AghgkZEU2w qolz57T69Qw vT-IjtQQBfs fsmVbLMzBoo 12xfEpc2H5Q laTEM2gcbXk z73PyNDgVyQ UG-3ohc12PU kUfjRx2R-MI hMFblMCr4mU okgZ_0ZoRh4 lp1LQDUX7R8 932g0e4Do9Q Pht73P1ABLs OBuOEYjj9kc feIjGv03eek VTzzmqNwGzM icchqEI9Z2w bCY4D9n3Pew ysIIaUY56NY A81nEem_ieE 7MmatFBKBek bg3V3h80vjI EiagF6xD1k4 fvlOaOE8M10 qoCqqeB7tPM aSVpyrFz2K4 qp1spsE1WJk cvJbo6Ca6JA O4FtrkaOYm4 CshTI9had0s KYkEMuA50yE eM4V2--6Txk rfd01rRLYQ4 Jpq8yx7iAiE fmEqFR3Reo4 BTwNoAthxZ4 o3-8Y6G01Fs cjE5BU_3P0o M-s-_akauoY Pc1IhGa_2Wc u5NsXfMLwMQ reVOf70R3Fg -WhK4eHQTM0 B_7GturEDT4 _7NeueNO-Lc KNY7zsi4hVQ pJQ-bm3SY7s v3wCU7_aHyA rv_V2Ul_Pcw gpKFhwR8Iu8 21aYz1N_77I 7Sw7FBoxies Xl9DnGlHpmc RhBXMnJHdZw c20NzlR0Ncc PL5Wi6f8rVA BGdrH8lIaas r1N0wka_xrs pNDF1iSoGak kbr5RaRDgQk bkzGLTUExCw NE59oP-giFo 5FIQtgglrFc X8cQ-rQUlTc 7mHEQceBHgI TTvWoTKbZ3Y tUsvvTZhvtM OttKw1z_g0Y DTDLQkyCDbg 4oKVPi7hmsA Gwtdwqc6Nik uC2wvK79mBs IphTFhKDp7Q YUa8snm-JmA RBpxG-eEgps 9RquYCH1x_4 sNv84I0gs3c Z_-_GDkPeic SLbqrJoWU0M EJYjE9X6G3M 49QUcPoR9W0 8jK9O0lwem0 9F7eLV1XT6U clH7SxG-Vdc tljZWMreKrY LMrX5K4_aEQ 2hB3eOjc8w0 l70eI12BQuo 20xIeaJ33gs aZxcJrH0o7w VWXH1NBljPE D90EYXEgaE4 2IJFB2fu0_Y ENDGUQWL9BQ 6swXsg4PRlA O5_5Of7k00E dnKFlNl3bFg Jbd5eHC9gbI N9rEgaOp7l0 9perRym3hMo 91ewFyaR4Qo 0PWhaheStd0 bWvKih0cuGI QPE7L9b1bms b_s29QOREfs 2zZCzcupQao _czdYw3ac88 oRolZljP7kc OWK2iIx7e5c V8hGx428Dl4 CoK5FlHJB7A DJYaoaq_5mk C1thvZFmKr4 3sWQlAgtkE8 L5SM-CTdhCc 6KavPTuC0pU VtKYKnPcIPc b4i2hc94NKA KO1_yBT9cy8 LiUCHKHH7Oc 1yL9WRMSMIc 3J63m8oU5lw GOPtcHJxslI S3NuQ-rQRY8 p-tri2hT5pc MgF1sfaoB8Q QQydGvbbpKI hIQVyLQVz3s i0hgaD9fJ0Q r733nZdAHfw lrOZUcnfd0A MNjRm6qV4UE kS6HgDQKvZM 4JgtZtzsHJw krcwvKuZ0b8 _Mt-SzvkFcY 67n3BH9IHps zj9y5vCCgC0 ZJVFprmGb-s nW8YVVASIes BIYU6hIuJSc aTPeJYCKCtI cOZWiHSS2sg QZ-CyA6cBsQ wCQSnu_G5sY MLQ9K8Y44OY Ftc9nPKvv3Y tMqMU1U2MCU YBfInrtWq8Y EP9WrMw6Gzg d02YLD7VmP4 fUPJFWu0N2E TP3U54n8tgk X4vOmsvJFN4 IJi5Cmv3blY 0FkPqTpiHDA xXYRdRaSfwc W3Z2joCpbpY RV6sYHv2_VY v-KsKpXnIaM dRiBHd8RH6s Z9AcBUKoic8 JvZw0ngYhW8 tPxf_rqew9U eJLpbBnZgI8 dXHqcJ7enow 1BEa0r0tc84 TFjon4T_vL4 O5HFxsO9xOE PFh9v-HExxg RjT25lG4KNQ uXLC3uhHnTQ bZ-aGMWAVhk fLPCi3niuaA S_zcRxVVtH8 MsSWkG5Ojeo t_xLpJo_35k ccbh5YhxouQ wDnFjDjxW_0 F3W_p_4XftA _fxm0xGGEi4 cRbKZzcuIsg sdDu3dfIuow 10KIbp-gJCE wZIT-cRtd6s KucCvEbTj0w DmUgwYSyhW4 IvzEvrPJH6w 6i4YwAjw_GU mPdD8ms5gEQ noUaGvexdok 2jgXQi2BzV0 tTV3RRxdqT0 4rAlxRGBNz0 IQZz3BJddt8 nFNQp_NP5yw dy9U5be135E cnmMSZbVU4Y VAMpHvL7AIg o5HzOz2R3ZU rZLR5olMR64 ZsKOQ7HmsSE 5e67tbgqgLA 9acwlCukLRQ 1MjgnFafTqU DQeq4RqM5yg aKmN_i8Cy28 ml5sNqftiK4 XaQGgtC_R18 rxFg5E6jBlQ Y3lSoqb9Dog EZ3IZg3Jeys LqDlPEbHDYY fLanCWsjGrk zu9AcxfklrI 8TZE6FedtTw DWgvASfAdTc _IIiqGdWG9s Ix578mIRZv4 ZGzE9zjD1Kw KAX4GeVuaxY hibJ0OMojQk IaK68_CO8GA EYA2YNHHPls OfngvXKNkpM sZOC2cfZDLk Qu5gX2uOaL8 m-7oUV1x7jc JF7UdMoF_5s L8jWbCxvrOU LLl3bQXhhzI LQQbW3Pve5U My7yZ6KCmqk xX9rj78TXTc _6H49euHmJc imW_U0KGjGY AxrQje7V65o YmbA2xmF8Ug xDLIsbSx248 15daSz2QExo Qqgvy6nr-O0 izx0icK3kYw Ak4Kvn682WY NGHL9mGVCBQ ky-VT9sf5FU 69RXb8yeDRw kDXMDljMdO4 HmVrsxJawas J1RvOumKNa4 qS0vElszJXU crrGjyDRo64 yLzsAEVi_aw x3nVHXv3oyw 78k-7x2nWt8 HT82p_re-EY nkP6mxB77e4 B7oup_ws1Bw n5T8UZxzp20 2mc3baeuvJs Rv648phpmKE zCkozcDBJ-A OlLl21gWK5g Bhgnz6aZg1Y PpDSz9zJVYI yuSapdn_Lr4 SI0D-fwPMpo mAzHELZWE-Y BfDZCo4TeJ4 yhs-ik8ameg 77rJ4g_aElU 4-wI_oHX4jw oMb6688DrxM u40T1K10PUI q3sFmqbCFuE uvISKB2ROrQ uREMI_k2ivA 7BoUqFq31oI ZJ3fmuyvmec MJNsprnt0AI LCy1nUzDpDg yMUo4WXIZ1c a-3hcS-tEn0 bdPAVhX4qyI aEpooxc_SZs 736vNlUA67c 1anpiE9ZWXg vIGodALvMlw J-S_TvtIm5Y Zhq4O7vEqq8 JVkYfJuRhro gK8f_eRVurw DU4MvUMkk6c q5TP2XygqUw 694YjzL-yKY QWP1CLEkAVc 4igq44jaWS8 fe5Y1r2fCJI peUU6UqNFPE 9c5U_CKDzOA QufHOp4Z1Q8 Q_OgdrsWmGM -5vWl6oOqvY b3THbY12OFU o-BgRjxNf2Q 3K9_2hiMReA VjfNOOY4SPc iNKgSls9HRg NTpqFgNqWbQ BTtqrXYliMs opikRla1PyI -nMHiatinU4 JiSfa8oB06Y YPr-_tXXQ4Y Sr3W_zdmhlM bRo1HtdZLRQ cIHyCRQtyUI Kf6aPOZHtyE hbufH3zSUoY SV9pJqR41KI RhuSX6KrAMI ZL6fbpo4huU ormRboQsB-I O_Wp2wXOiVg jHL_hoYPJbk fMiq6afen00 8ghYv5xSh00 U8JEpuyZa-0 TZzKQMjSts4 Nf2_QWh-fik -uOY86gIdW0 3wmO_B__ock mR5KsbfXk9E TS24r1Szi08 j24FBa49cVs bodRnroBlqM ecx-SJ4qpAI VA15eMLBPgE em0UJJNPqmg Q1SHSsh4Vqk XdtZEcMxxRk PsWeSg38XFY aNNDipAjdls pE9lqcpMgjM wCira4WnwvQ Nd04naElzgs tndfCJwLuUU a6V1Aic0HYQ U3rVqIcQLBU 5f8WB1jiw-A G5h_C-dhi20 oR8ILWB-510 R1NyrPj1shc vMgEIoYdFow Eomdkl52Er4 78xznd37l_Q dVH4kMcKvEA 2-jmzLJ5poU emHDSX6R6eg GPnDfDlLNHQ nTmttZ4KdiA ZjrcfIdG1OQ 2F9QZLvnENQ nRTaAZTNUx0 SeswFFdH03U blx2hBeUcYY lUwxromalPc Y8InSLqLirc gDKhuC4LDQk spOFpdlIgFc 1PgLUTIIA_k ykoMmrxX8pA uBpiCwWE8aE LCY8NR_M0wI E6y-nFVBpbI vOF35qsWn8M L3JZhj9Odfg jSG93ixmifc ri90tcQL-Aw 1ndwiYe1PXQ K5cAu-Wro3M a0yzyZHqs14 LqL9aHgd6FA Wu1USmxZlog knEgbNvZncA _MFXKysUljw HstpGCUUYd0 kjN7mV5POXc 1jjywkLagVc M-dxBSKgzYM oU5Di3be-Sk -pdhDyr7jyQ FLZYLog369s cV08xcNgZzs KYkiEEnSePc 1cWOTWa26ug 3KpLuF3TF-w ThmTK59y334 DcViqoeHlCc 4z5TS40qQLY -gvKczaCtZE 2lBmO9igOVg Vc3Hyb_toFw 72lZCF8KYrI k_1AnppoMus z_yRCVhNams wqCvdK-Aljk nsdd9YZF1CM qfuHodDsFK8 tyXq2d5g8-0 _AsKTwbtxr0 uXNKizJOHcw M67vNXN1OOk VBWdxvauGWU 1sAoZH4dh_o 997DsFsxGa8 3vl0YO5Hrkw QvaXpp_z0rc dcTXWcdT4Ws 9O_funn7UIE rcpQ53a5FT4 laUeLh1AJ-k uZeDUky6Mmc PjmDLTuAnzA mYuKzKzp4Yo s3sL6_RI9k4 pDOXJodvbew OtA4J0WwdpY QzmApHGh-7M 78lKLUw8suI VOxIlZ3b_cQ _ljCYjlTj-4 8nJ1Udsug9k 9nUNPrvCFAE Du2JBaXODOs tdv_A8-EwDY 0xVLi-eTwgQ 23sp3cj5Pnc wIy0Gyz2Jlo -N0eyxBjWgU 0Jf9UQ3MURo KrvhhdSqOVw rnn-lpiJYig 8F015OASXco jJaGXSH1fOc 7OlsR7tAXZE jIoGfjnIEmE qVU_y8vYlD0 yE7a-URx4fQ _Wt8gN0ctdE 2DyAs2RnZ_0 u7mh9nt6fZA -2MoTCunTPI 9EGyW03QO5c g1KBEDvRcxE uYpeaN9sYVw iZsWezD_kL0 rbmXYQsq7Xs Y4DmhGEvg60 XNHSSduMBbY B8G4nAM0XOM ohVZkMuxN3o nrR7smJpguY jChBDVPv77c 8gHEv5iNRKk v8KFcI56gyU dyaBx5BaFyc cviedwnnMCY 8IJhtrQUbso GcbGa7BtAhU uRWClu5H9aU QaFUIWs3MhY nQD5JEnAlgg U4iQGzDij00 Jb49c4tOARk hUFwhVjF_Dg 1HKvCmNcyOA hr5ydoR-Wz8 T_cam3S_wEI iRcOT-WhFIk tgCloxNQAjw LR-G3Nbu4Z4 DFp3y37vlJg MzPmXv8o8GU GVyqFtalg9w Waka99rBlPk 8w_ThMyO7RU 2E4n7lXBK4M lRlbGYAYXaI jZs_mhJG4nA QoOBPQB1-6I lI220GRfCZ0 aH5ty3SA1bA tWog40-jrdg vPYrdh4h4FQ gY_BdVyYxVo cmoxwx9b6bo 3cX2zu1uhx8 mlp7yafqoSc EhTOP-I0RuE NdxqjOq9NCA 1hmuvovrMDw X_fDdUgqIUQ Hti3LCocY8k Z2brmJ1iqCk kENidSltTuA DirkdQjBTnM hok1wPoQtTU y2OgPMuRM70 sHpGvOlPfEw YiZkTpuKT7g 9wVM-7UmhD0 30VYh5vtP0Y pBtkl8N6MwE mv6htYaIrTE XUpMfgXPNR4 3_FAPBeqaog a6ISqlQEdAE 1LsIE2l__A8 MiS6y9kffBs ADM2KkHp-rE mK8ujb_E_Bc e91G_3pJ_dY 651dabuh7zE jkEpVbyQ9hQ GihVM8rh0Zs ME3BHmb1bmE OFgkfknIc0c q0oMSH6p4Wo 3qmjSYh9xzc 0ceMopa3608 Aetg6TFKH9Y lpw7fSW2OW0 QipJaHoZKRU hmhfMeD6J1s l1sh77ydAXM uqr74zfVxso wCjcmGq2nW4 mMS42-knTCU IlsA80uF4sc 3ybxoq1wrno 3DM-LIkuFLU 4cveGMN4-Dg OidA3B2u2wU fje5735B6Qs YK-uVRuL4MI sQQ5ZFMMF8g FIiXwpf-tNU PrVr5mdrBQk vptqUmjmBnc glFc4b6a7MQ -b-LLGfVt9A q0xKGBeHcuI esNddpigYZI 8lm7_05CIZk VZK224Tj_4w cIzfLukHHao vDZMSvsw66o HXBHH746WeE fG9uRwnKZhc ieeZh9oYyTU 397qHHOh4R4 5rDUWKkOOxY 29JAOgUfDkQ VDuT7FavdLY TdOLTlKsRd8 yD3pqmv0ghA AYu6SaFgg_o BgYVraAic0c Ye5P5lgf4ns j50GOguJyX8 3o7_ssI9Bnw OWlbuyQ2eig LIa3IiZkh3o IYMKts1ZyPg ATscvBeyxq8 Cfi1lu5bkTc uAlfowXUEqs 0POIdYglC6A cg4U2glnXA8 0tn0-DSdHdA -FN7h2xM0W8 p-jp2daPme8 8PPvgexhmYg 0xNsoscAzo4 dCwEj8-COS4 i4tCaRfHMyQ _ts6qss1hVw 5xKGW8cflDA N-1xpb9yGo4 t24UEghfyvo a5nkDgjAzfk ddn5f8QO2rw cSWQSsj59n8 RqrKJseqN-Y UDBnFHcqAxY Z0YfNQDbAxs aQ2tJcVs1Uk WN4aHd8wUf4 Mc3X6E92qAI MAt-mRJk4rw ygPkj4grsTQ Kja_28SNIow hzRP48OQsxE okqDuBKTgWM Rb0xjNAk5qI P0uHl17N_PA 8fCeOgw-y90 feACUCTF294 tH2W4wKLqvo vyQ75MXBMos i8GuMCY6j0M pycueJyFgxk u7QeVq3HwZU dSnaRTKPedM 1Oq4o2cMnyY x3KoYy4czXU KMXm43LVNeY wlmnLtcktks AI5z99W_AUo UuiiRAW7jyU gvOlxhujP6M hQSuM1uCdXE a3CosrFgsJs 51nHfHVCgNs mBWo7KU4g1g 0kNe9aGtsLA 8dio6QOi4UU ZmQnnExzbJ0 mXaILJsCmSo -F2NITXaO2I wTVYfHM3J6A 6wG0ZPauWns CGOox3yLLYU nbRkDs0_Alc gqlAmSqq6Tw e-srF6c3TJ8 l5tCJ-t-y8E fpgDeQ_EW1A pxi3iIy4F5A rsIelEYIG30 ELqoQFmcugQ 0hKFJr1TA6c smMcEo1YQyE c5ODpAPrB74 0zx_eFyHRU0 ubXGgk6cad4 Sd2WJ6mzNPE 6AXWMxNZzA4 zTvQVugfvgk JTrK69zge4s DTZAz9rj0kU 6UgQqQ2Am1Q EfOfCLgSjtQ GFifaBiah4Y f7eQ2lQv-NI q41aLMcurlo h218bHboRIU Ecz_EV_tGfA cjachiJagWE v7OyYBolPuI 3dHyS1W4TIE ztJzl1Pa7T4 4-rgHbeqjTU SdP4j-n8S0g capVFW4v9JY I4GxA1cF7gw keWfxWcoaPI NSssXbaUD6s jYslO-9oHTM 74SCjVyklzc DizDxrJz3sI bx47J8YPJ24 -wIYdmPiHcA ymA7FmWR-40 6RkGmqcfiTw CpN2a_4KG6s M4_Rhdw_tLQ 7c-mnmpNYpk QZBnRF02u6k hGbAMSlcxYw LVbPzO42dT4 qqQfgIEQyuM UTAxy6q86wU LDim479YZRc JaGqZAarChk yg7olFUQf8o mPFc3JHLnz8 2QOHt_ntYn0 _5vjEuLfMUM tt5h-zF8dUI prhR_-MNgtg sFZ0z3-NG6U nWiT6KQeBQc bYH_g-64KyY 4UZufg54dFc ZcP0Du4KFSU 9mBMEIFBgq0 tTlqNTPujiA Bp5xjoUdjoo P6bEdnm4hfs ogWtR_DIGKs FF3C5aZKO54 S9uq3bVI1Sc ypWwSv-zNKs yoqTQs9CBXI OV0eg1UrBTA 83Y2qZvWxdE 4vgIS9ZId-I nQkk4yeBHCY XxRtj-GU5_8 8dK7IqWf5uM wGvvW-tGFx4 zRo-ciY-koE C1l71RBApTA LxfQ3UbfJcI kNvQiXlZ8xE ptvty55bLkk _laxA4vUocI 3XRSULw-HlE HToRDfbkR9s YYz-F0SqQTY R160EgGC6X8 1LM67wRAWb8 i0BoZewLojs qyCplVHg1QE hqPX-POlKM4 OMhMnj7SBRQ pd2TGaao4lI nl_Md8qmUL8 h1NlXUaDpmk 43i3FLtsD-0 O_LyJ0roqas xjnM1iWvo2g RG15YpYPuqM 71lNYi9EstE lIM5YQyZ3pc W7UgaeedAHo 9DKuDV2EiV4 _j862nsfSzY KO3RdLzJJYI LSvewgMa10s jKYNBtLAGa8 tf2TvxztXa0 aisUxv2S3gk IpuLm0sdcwI CP3Hs7s01Ww xiWbRC5BgKg BW6tl56PA1k VhRTXqENxoo AT03wSaXbLU aMKUuaga85A EMg9onUwKD0 WpffgMoIXdU 3omkZ6XjP2E SQWy_J2txsI Om-4U2a2PYA kK5_zTbnEDU mcixZ9Im-2Q SwYikLw6YEY _SH1T3y_D7o 9komuUR9iVY X4uS1qsNIAo l-yoxklZwfM G2hLLgsUNY4 Tak8VJ5_Rfg JeVFVeSKNpM QBXoWOc7T_Q uXGAOwcfwL4 Cr-tPf-MUgI VZJ6KZUc25M 0foEWFH7qzs nfqMzlaX_d4 kPlfIQyg9pc Y1fei1mzP7Q Hy6Cc6eulkQ ogWKP9Lm-Qo doZSpEVeEUU Wx8NbZEAPNM IUfr04E8eTA EMLTOMdIz4w oERRvl_tw0U 2nfGscP2qWg UvJIRH-WHMo kRQBuchIawU wjhuQ6gIj6g RHE3QX386Qs wMF3cibwvak Mwd1dX--HaU lt4_kqVLBAo nP3fzCSkf0k CNOjutBKcl4 oyZKw8R5boE rUGYuYiph7U 7G_LuyBM3eg CHMeurZ3sjg p89zyJcCoj0 vU4ejtRc-vk Hiy-aJDvxIo UbGYDDnFAEg V_Payl5FlgQ 3xtUfE6Vii4 1De08e3bPU8 JtvwqCCMOfU nyhZNo8xGDI mb_kIkc5vj8 7ldeQunzBtQ RNu4pEIcRKw zzot5xCFbH8 U5Vep8vjcEQ A9B7JjR9kCU o-iLIesjt44 KrH1qNVYKO0 wIAPtuew_IQ 070pw01cS9o 9rUhGWijf9U 9QXXyG0hKtI 7bCQ5_QZpmU x5MhydijWmc 3FM0KzuDiRg a3Lgg_mWiTo YtkBnc8Rffw tYAsRxxTsyY V6f2jeAatM8 6Cs3Z-E-TJM p7LMKjLMef4 PRTlp5CJAVM QCQ6Ol-OMcI VX0zVCOslZo tDF6t_jpfW8 mQ2SyNnvrpE 3hYGjSsbDiU h3wFGW0D6Vc jgrE0IlsZ0M NzQ3HaOKnGw tRoOT0jG5dU jzz79AtoJEg zUeyn6bsD9U s_j-UlUWt3k NMlEc90mO3I 1_DmPRyvJUQ Fnnp6FBYSvo G64cQ8y6Cfo pPOBH21RnaA FqggIdHRRvE 6YOFjV-6lZw IZac8-d4wgA OiF8K6JRA74 6sujEBgZS3U o4J5kHhNWeI bbWJJ3IyfFE 1ap3hL-UR9I fHtYpO-IQ6A dlGtSoigdB0 WnYJ7o1qxSI TRODv6UTXpM 3iuoQkQOx2w SUyzNtoyWbg 53MCxR6pFIo i4BCSEPz25o dK02TGVgBKI OJfrgZnoetY GJyQ-Nkn_WQ Tqe0Knpt6lY q8WNvNUoohI jrSLANMB_-g 6VhpF8mDOx4 QuDDdAfUX4E ya83dBdMcSk TMpyvXLZd5M WYBN1JWHH3s xd1ovzN9IDY 8d6NOuHAl_A n5-KwBKi-rE rDlTHHNX6ZQ gVDlVHYEUrU UVSnq16pAmQ UR4Aat6WQJY k8eavMhdahQ Ogp80B_BnLo n3b4R6iPXc4 W7SeyDVyFb4 MrB5ozVTSgI nG5DwbaC7EI wnZ6zMJuRjY deN2bjHzpwo y7GNJlilbvg zLoFywj3BOs -oZXuAm0ZUc B3tTqJba3QQ 89Q-fSDAm70 5ptPeqNul8Q D-OpEdfuxX8 KOZY1-rLauc ofX871Dc0sI RrywtW7nn2w uinT9XO4R6Q 5DVOcOjvYAY uWqfarK-R7w qRWjFwgShRI 0MYjLrKq77c zjFpslO0Yv0 _QpPUSe6TZo jhrjYank-wg cOcm31iojZY nOitBf34Zrw bZkAn8K0Usg 9XMynnH4kzU OnYkdwgHIH8 814RhciHwX0 uwTOISwAvDQ I5P3hqdyc2g hgYnQW5znjE O97mYnPs0NI jU9KrhCLs_Y MUZ_PLr1p7g BlQbUV_W954 MBdfpiEUxuI 7VjlagNVlSU gfThicvGC50 Qmuc6kNxSLs KjsMTxJVT2M WqbDdcQK3jI 70t5W0BC4qc gsW5gYTNi34 GHoHMToRLkU ZvBbDI8NCWk ufUZadWeEuk K-2YRDHD8yM FD1ovMqBMPI 6U0BT4xIXag R0UXQs2nP2E 9_A0z8Ra7Yk awVkDykjCbc ZIFC-NTNPEE ZGtyqv3PNyk eznG1Gfyt8w N-wXTRpR03U 2kxDbZnvzWs PPo3CELZt6Y IJ-PJbvJBGs olzCJJEg98o XetjtMPnCTI 7ZfJogU1utY FJvkZ8bnSRs qf7xVtY4iNI z2sERygyIE4 Z5_6_i5GqIY HbkWIaT0lVI rxUtbmlG9oE G5gKqVvh9HQ m-EBQgUw4j8 JeGRi2R9zp0 HbDpvKMGY7A QgsXHUFNDIg cSjfrgYnH6Q -Mno5TMzAew 1xEOswULjaw i-HnvsehuSw GH4lDgTBAZU PcE-2VjtYF4 mdG1BgwTCsk rst283lS06A UO9WiDJFxMw OO7Y5wQWnQs PGwy7DsiV1Y hhKi1oCUqG4 EcYXsp78Xy8 cyyfke88sro lUyOZd8dnfQ goyLCSTpR54 VV27bG69-kg 5P9QUW0FEl0 YEQxnb9w_vU xA7qrXwXUlg v4LcDfQBcaw kDzI77KI9cI uKe5ZHcj3Lg aRMLYVpwJfA xGTcuJxIt4c uMUR_6j1uLY iimTVATRE8Y FdudxZN6rIo 8MyOxe6tuwg N81PCpADwKQ h-C_w1UUwKw KYD6zqWxm8o bVAH2772w3Q jNWn73y9EPA fOy21QYQrtk zfHaBuzcz58 vxFppjHV63Q jqjT4TbkUzU R9y6AdBWHeg khFAGfSwF4I KERULjBIKhE HyMbCNWll9M Mls6lOLYWW4 jN1Uw5HwAk4 i02GtDMlWfs VEzqSeNkqjs A6wiPElJ27Y Cs_6T5My2yw 6F6ECKek1Dc TOZvgMjJen4 nMpimCDOoE0 N2-SkuxsKvc BzUmdMsGxq4 qOkB8mi5Qlk UqLQ51_BBsM Ov6HUNk1Bbk ebdgfeFbXPY AdSDlN-8TV0 3h2kDnelAC4 bPp_Nr71GxY 8Iu5uqby9PY XEddZ3CCHew U9EJcsPdtxE qlcvXoD2nVc myZ66m0C8VQ EOaXjiJeRms yJrGgacXc_U FqDzb6ZXgQY R6ooI2_OaAk X-Bv_jgNszo Mzyp7vA-idU JwAKLs1Ger4 c2dl9Ig4T10 -fsUgXQ5CJ4 55b6G5IXjIw SNUBVor7dnA ghToze5bboE kftHcxKjbxA -CoYSzoNkDw NWmUTSqjI5I FiHfrv2q-I4 RM6qVRLwMME 4SFKV9Yx3GM eJZWRAIIcds C4OySvF6GqE BXC30tGwzb0 nWc8FuThxf0 O5Z3vfuHeE0 8jauFBX5_JE OEXOmfnH8UY 5FXLJAKeRWE KRzHNHmF4Rs 2EJ03wM0erI ZOlRWjaeo-w mbSsh40_8WM WrB24AtxL9c 8sSRHVy7TAM U3fa977ZOh0 T1atRDfUz3s OffzaO7fB50 9O_4RW0dZjM nSixsPmBEBw _DxR7SUZQDk 7abOLeOzvMk xOymrJnCgcQ N3GxtYiXuT8 ZAh9nSAzh7g FC_hvd3N9Tk LsnuXECkZE8 _9AWYlt86B8 l5WU7d49OGk 6PfmUiZTWBM Ey2imp7iaP8 L_M1Ka3wnOY Y82NaZ2VZjE -OKY0_r6Hpc b2TjqA1Oa2E cfSI6S3_W6s AxckTfZiIx4 scMJqa1pl-Y ae-gENE5wvE 8gSvUqnzIWE kfvOqGSCmW4 QvCvVqUsVXs qCxvOqB3l3U sMIPIMz2GIE 629QTToEIpM pvYqmp12bW8 ONKwk6CYXcA 3HSh_eSGf4c z4TvOGhdowY WYge0KZBhe0 d663N2xTxO0 6sgRwbUmWRc y2op1D0W8oE ZNMguDdEMDg QBKL-3Na6hY l5H1EZ7Q5PQ pYXyLW7xNP8 xocy7YU9Qik 81x9kOIBZZs t-QEFlMq6Hg alWGWxiBzKI 3ul2lx39M5o PKty65906m8 vHA5h5Sw1hs XactTKR0Wfc tXZys87vD58 Ysu1KWyjO_k XhdR2ffYGoE z9bskALELQA G--IVojM65E An2vBBqFres rmhiadCz4d4 2LCSTSmapRA O1UKlIVEoTE pnj9wECJM30 nQDrKGxzXW8 -U6flwcgPr8 ItqsK5uhLBg Gv_U_99uQ9w FJ-wKWp_84M RakJosoS4yo 9VcWSvmFVhU dpJkif_D5rQ SawQZdAcazY _bgBcGMDk4k F9Qo6opGCgg cWrlxgsbTdI PnvXLHhWNy8 21aHa2a_qvg c-IcGoTVUeY xJ_6eMKpVLQ ZWa0k6floR4 wsq_HcaHA5I uASqtaYZors fULnzyAO5qk d0JbEW4vnzg f3Z2f_2my_0 GK39mFS9fKc HYzw8LFvmw4 BadUWF5JMn0 EoBO3MADR_Q YrVpKRKmzhE 3rOtdXEAOMI kFaXKpzKOQ4 mXT3d3ZRVYs x4-lccsxnzI cpAhikiKfkE hKtTjCGrba4 AtFP0QXLR74 2J7GXHpGz0w EefD7qxiIZQ qAN9KYhOSec w7mNyGqpKzM Ib1WThZ4uD4 sV4YHsyuy3A U5DwI-5XXSo uPg1ydmnzpk IpdI_Wv0bic FzQ4bbGYObY 48CjgH_DFLU kRIySCMMrVQ ZfaN0aSr5Qw OWJODOqO5Qg zEabrO9l1vg 9OMpioZ-H50 MeyQ0aJetyM DTxc1rA2Itg SukVA3w6l3E ysb63ZOmRw4 hTyeF3jZZ_E OB8jBvu8N34 5ttcWjmLaAk BTYi4bTPfug 7t8lNEdFH9o eZ2kDurOodI Tg6NmPjZJFA pnsuQbh9e58 OH7EPKA2Uio QvPVHMoFn4A 7AW_cj7ml54 xiXRQginKH0 yJZ9QkBm778 S_feUwqoosw NFJtdwx8aOI qKkLbcBtC9k Mas1UucYbcE x1g0KMBuEQQ ZYToTcsDrL8 AOoGsVayiA4 NMHbrLq3HbA 7j834VpIb0E RsOEfAYIr0U wbqq83VeT78 SPg1c5PIbcI yNq5zzglSnI NGRSZ-EbDIU TSwgZn2FKUw W-oqv3uezlY VGkggh60X4U QjSrAUoiJ-o g4iOOKjMcSA 6e23Xh3vrsE qxYZRw5pZc8 -gU2N5APqbs q_jDixroQkw p89XNWqe43s QC61CKXgxkU ZVOfc8pZH1A XkLYK3X4dcQ 7HGfPTdhxsI Ids4w5fmMpk BchjaHlXXJA NWFXW02f82w sOc63cZfC90 itNxtzSNYB0 UKwHaltYX3I _bi0SqW_4L0 V538cKUx0TU TG2fw3v4wz4 fJJC1_c93QU QAOyXtfAI64 ndugkmK3Qsg 1WWPwQjqibI SVM_pX0oTU8 _lvaSO_BrDA bT7mCyyr5XA BiBFQbIl7ys VcrW7BCJLK4 yPaZp-BAr_Q elYXtghfZo0 osLOEfQRER0 PJHOuCIt9NE VyqeuORmwiA CJfViueFZlk 7dDX2qgKRVc hsE9b6fFcF0 2WztaC6kyLs VGzKgEJn39E C893qy0c5do mHOmVBRy9bQ f_CWdtoTMKg r7c6JBWA1jI ENNGLXiRqZg KPO0buTEFrY E6xpTD_dRCI T-oBw6OVg3I tQXqb2Lhb1k Ei-G0fEOu9I 6vS_ZM3P1_U --IPoRlsA9k MFcavjs7MLA hMX5pZnXDOA XJXWOqvj1So KH8Mq9FPVPw X_i7FsClpOU JFELFNII60U YD8YP2_1354 u8ilG1YSyhg _kqunm8w7GI 9kgjl1Eqgh0 4hlXsy9msqo 8iXZTS7f_hY tzrN9wg5amU 1jIafDb0_j8 w77F4XDsOU0 6eK42AK1yoM FCa4HsG-hb4 oKOWF_wc80o DBFZBWzNuEc MlIzFUI1QGA T6TeFXN389s E9U-EBG8jVk yifY51wjnSg _Q8wtPCyMdo YxHplztMQMc WrTqj4kMlw0 RvfF9CDzn1s 3rVOSw-wrb4 LopYA64KmdE dp1r9oT_h9k 0se6_UPNWVc hr2X7rmkprM 6tdN6d7Ribk G0cHyaP9HaQ yvfI4p6Wyvk 2QVSKBQg7_0 6ETHuRIQKEw Y2L-m3h9ks8 J_qTsugeFcU b8F4uAS5LxU XHRsPp6TORo LIpQGLdll7A nbrJ6ursWBQ vt7_6HwCFOU pBVWIVeIa-E rVBVqVmHtfc gbL3XKOiBvw yuT1anJuN0g 7m-RVJ6ABsY 1BDT_jjdA-8 sghglbXyjHc CsN77JZDcA4 ClU9N4ub_Ko F9TZb0XBow0 2VixyD18GYU mVWQNeY1Pb4 -g8FPtNihzM 89a-onbToN8 MkcUgPhOlP8 1R3fqSFCAjM mDxEGtMNPtA FbR9Xr0TVdY 2MQEHYjfrf8 agC5CGkA3EI W-0reoB45ak coQzJGPfXnk HfM9s2ehErE xy_-uj75Nxs Z32D5Mvf7zI kDZES1wtKUY j_XreObDcT8 hUVopUdXOVY dPPkKdBi1Aw kzp7-0EFrIg 9C5zXLzmdZ4 nIPHwRK51-k t51bT7WbeCM vq6KijVEtZE ZGsLUC49Jns 8yvln2atFkA AwYCSw1rgus JnqxJWFp_0E t3FZEU_dTS8 EKC_jcFH98o CGfXCkHNemo aDY4aBLFOIg aH3UIOxqQ_E UOvBCgHfAZQ xQZ_rrt7hF4 MWgmRKz8qhQ lYp6divDnus HaBaC7an_ZE aQPCFq1xAgk hppCUTy1oSU tiTIFIY9jIw u3poUhCxx4k 6NVnZrsXH8A MdZKJBnQZsU eNqfBZ4dcjE QsP9P0JlFg4 xSzsD4kXhRw wubZMlkgxCM CMR92LVg25A DhdEOsq66tE eX7wXfNLFDw OftlvQWtyKY gYSopFoFGd8 wdE5K-DvoZE PaI70u-DqXM PmJlDlI-Pb4 Zf1F4cz8GHU TCLTL7xveGc FTDAmCi-Oyg eRaO35fvsHs flktquFkjJY bZ6NL59FMoc OcfUmXGRvfg 0R4jYuvYeJ4 qdvWTR9PP4Q ELPFBrMcrKs eOTZ_iP1P10 eCnqiFzOcsg LGAYMfQysUg CdltAssTMs8 67Z2uYPp0LA OK_ntOcU28g e03HQoVpHzs QBLVGCT33p4 tT3VmfcjPLk FBo5Cso-ufE sPPp0-NICUo zIAnerzuCls Szu8-_g1dAk HSLHycPlOmE UW6wxEyEO7g af22YNMHqgo o8LoEI_xU9w X9WjsGgfMB4 rpgqdR-KHhE 5_X9NZPo24Y YLDbzBAj3lE QLagu8NmsLE v3RIEfBbqIw fIfKeBMVLAQ mdkxEJWB9ps 3D7O_kZi8-o c6M-2V7cpE4 nmzpe8wFZyI 8bSp9Smac4g NBtlWVXNNtE WEnavAPW4dk L7QXspb2NHk h-ZdSwNIIcg jBGx0S5-pxk ls3BAhPV06M OXG6fauVVpY 6H9cTvlHUBg NOElaBDb8PA JB9l_4hGkBs 3FSNgLDjors J4eqDaHN1Mg fM6ff3VEviI cfY9BkYdAh0 OqyTwG3kIOM gpM9hUKXLgk JC86E5CfIrw 00Thb3oPJ74 NqkZZamT-HA ZqlSPEIHBPg -GhzpvvIXlM mc846qb0ngk ny-Z4HRmtpI wSjB_iaQ1wE vJTStapcRiE a7_dBO3EAng nmOaoC5I2p0 6i-TO2eyDhY fHMh27nluTg rrh-4NtuK-w DHLkyqHCpG4 Jn13gAgYVf8 TB-G1KqRb5o ccBuLYVP9mY 2-OP5bAWVlw dzxnYkDLr3Q 2Pflndv7n8A rRSyg9kYfcU e1LPfehYSgg FVnA3xpqEKY V1aMDD5583k -RtVZsCvXAQ 6XbgNXcLUSE cGmGOi2kkJ4 BrPpGrsuN78 TGQcDaZ56ao d3AT9EGp4iw kdLM6AOd2vc MvN7Wdh0Juk eVt0uxO1VtI rQTJuCCCLVo 70F0FjCl62Y 9MeTAvQarDI RC5VX-ATODY znnzcYXzMVE HAqMy9Usy00 VOZHjLls010 bgATKeiNcL8 xrUntlcfKGA bbp_849-RZ4 D__VCSj4o6U daVgEXjv6DE 1a7esDg4JQY AmTD9BaL6zY M9C-_s3HQl8 Ld1A8QTDY3o mPB2PyzkOfw 3wzu77zx5kU srmGbx7RVr0 M04E_Wr6dG4 2sb5JJLpzw8 JJmTO95AoqE gz_eN6nl5xA 7qMhuVGqGY4 VKY-0LEmrwk _QtM7QGuj1A FwMwO8pXfq0 KerrqE3Ou84 sIan8TOz0GA eLTLtUVuuy4 xuTDnFikBhw 38n9STvQsO0 BqF_r0FDgEc o77mO0ZOzkI a0fOBCqMz10 5bRDpzdcuf8 QILBGC7TApM i0toy3zfUUk 9G0hvmPbvmk qwWwrqNheZY T0cTJQX3ke8 walXPsausPI pDq06gwJnLk EJHeSRKWtfM 27GrUulGrWo V3nqBxllUlI BvUkXrAAqjE qc5ec7UJbeU hJcv9JwiPlA PDMe3wgAsWg rOo_BosuJBE lhiH-6ygGl8 aBexJgZ6GjI o_GrDGjRUuQ m6hhUBXcA-E rY7zQ0zv-SM aQz9_V8aoEw TFLo9m0jFEg fQjopulaxME oE_dWWWqxQ0 NL04MIIP0P0 QOryrmkr1tA 3nrm-aTCwdQ EHzKEh74sJI 4qw5atfs_As u0ylwy4Mv7A aD_If3Lr6dw L22zs3v6Rtg DY0DB_NwEu0 5mDYijMfSzs aohKO3ferVU OwDabRSs3h8 XQOWZidQSnE MUJ1SuS-KoA 7P7KGVwMSIs qBpB_ve4sWo 0MBLkNlffT0 PLC_Jn9qCbU cVROiVgR_qg cHa85et7LK0 EYpOPmFPecs C7oahkeJRFg AovxLr8jUH4 OOvzRzS_eZs Os4gZUI1ZlM rVb1TqqbPj0 mpnBNGOSplA KARUSWj8sZs MiEa3IShVws mPGi1IHQxFM 8hrJ4oN1u_8 gXXwCki94ys 6M1DivpQSdo cPDNnpsdteU ONmBOPgTKYw zKj5wd4esjU BXX7cEmZHi0 xzxke78PNHw j0OnSAP-KtU VBTzB9Kdx58 DBTzigADUEE GQjvUAmhBX8 NlwR_FEsE0A 56jtwSrNvrs yXeDNEKuu7E FqnzHT7Ax-Q Vc3z48_Gx3E l4g-hrrtqLk pwP9zimYec4 OEIyk80XuDU 0QeFAE03qJc TYfO26yc1EM BvwHwSdGtDw v-AVR0UoB-c MQQaSWym0Ks -XmPfQJyzqA lIhRkea8LpA SP8iZWKJNnQ ZMgLZUYd8Cw cPI1HF5Y094 RNeYmD9mJpU -wKkcxYpCoY GPeSfPjm6L4 YyPMhKdBCxw 4RJ60fqeTN4 8ExK0jPq_vM qNecdUsuTPw QbmRXJJKsvs 74pE3kLerAU yz3tyeA3Fe0 br-1VuwIjd8 tCfbi5PF1y0 W1VLzv66dkU R5CUn5wGQGg K5alCbt6MoQ EqnXU4_fQmo 6iHGTS4-wWs ZQQs44OHJLc mDqxeCqVsOg 0hGzGdRQeak Hq91R_QVZ04 l1pFcHa82L8 l9srA3vnnWE wXEZZ2JT3-k sa32HlWC3f8 zaokK25DITo Br7-ry5swIg DIw02CaEusY dNFgRUD2w68 _bKLttPVoC8 N-SDrN4G4lE WQTbZ4vk4CY DX15WbKidXY YEudoVTR02o Be6HXqHrU-s u0FLmrnAm5k OCOWjTPu9DI afOjfMiicxI ohKDVmCMKEg WIzzHeWukUU fTpDHQ_V0Fw CHc_hzNKYOI fmMg6cyww14 umFEuHWJW3w JZ7h5FxlTVg Tadg1OVTH5E GuGRsmuczWU 5AOkxqFaYEE OKiwZFMgnEk flfARstLqmc mPBWWu7sZU4 LzL9EPrwGZA JYDhVgKfauk rF1ZHmqvm8I _tLEX80p5-k fMXG_arerHA wvsxOedxQRo uYcSYCGITeU 6xRsw_6fc18 haMI6uoMKs0 GD4qyXACuTc LQVDJtfpQU0 33N1mgiRYK0 KdweixONFyA EiGl2Ag35AI 1GRJJC33igU q-JVfek1fc0 UcpHkYfWarM 6pABIQl1ZP0 88TbU8eTl2g h_qQOVDTxo8 petG-Djk4NQ zWVV31NYi1U 1IN0-SlmNxs M4Q4jUlhAYc 2WQO3PvtAAw A0Nlz-L9ezo r2zYjT4ILm0 pdkmHa9n2SI 64VG179N4no -H_EyIqBNDA g-Lsk7ypjDI WuBcTJnIuzo yrIlmyRST8c tF0Qau7zcsw lEvM-No4eQo EcldWxfoEmw x8Zbspqm_x4 16T4e4DME8I kvQpx0q3qhY OOG076Z5SU8 k3yTt0V01Mo t4ehYIynI34 8BrZ7CMrNe8 qQVqfvs3p48 n7JvUzBMFVc gufMbpxzfWw y6szNJ4rMZ0 qnmlnu-J3_g mhhAbETJpag e1MwsT5FJRQ PgVIvWIi89I A-rBp1OJSH4 L2eaBxAoMfQ iwEteYwKDfE p4ZHbf4_6IU dqaMU4v6KvQ dW3oYQbNFyI yqpY-Wk-i9k kr3WP_-bu8A RtbeGJfssGQ m4G3MLK8l4s 0Z72-LpvwjU uVi5o38NGi0 TQks1p7xjdI uA8SA81nivg OO2Avn1g5Tw BjBBfmDRakg _HgjasKuOBw AcSkkNAsGCY vQv4W-JfrmQ cQepf9fY6cE -ufYOOKyGoQ EYKjBJDPvEU GFGImSdJNWk 4p6s1JbL9qs 7EHJafw3djk tnUIKTttvXQ -LwI4HMR_Eg zGNcvBaN5wE _SxRZ4HMIBE MlElVQffEts waCYu4QGsYc uYE0XrM-VZA VTMP1lZCkXs MQlPKWAlTQQ xKnCCXPiNYM dKEEoGUjlpA 30CimEkI7UY ke3tnd73aUI tDPx6yeQFXU ad4omyYRMTg psruEx7gkEw 0utcg3ztzuI pYL0iKIyik4 z-F3yjnuQU0 HOzWrh70aBw O1ZAiqpfAnc z_TIdpRN2b0 zecpbG_qTDE K7jKuue3sXY EFGh69twwWY l4rhnxGJq0k s_ye8VTeMmM gljLhpD1QVY VInSrQ929m4 aIfhhTFOUAo A-VZwc-0Y1M xuQL_BZydS0 Rc0JxFEcnBs xtzVdE3x5Ig 6RVANksAPTc WVmAC37BfVA 8fssCpuqkLo 9OFZyI60TjA nshxC0YO_X0 GGorVpzZQwA Dk1y06JCa7o -8rfsOhH0ik jSKAO0pgslM rnZAD-X9KVg _X9UPThjJvg tcQclvrf2dc 8tkuu0Rugg4 IvrpcaCU3Cc MSCtnotXKdo spPtAEmwys4 MhYECGUzdA4 nAuTUbGG61s -GNxBGja9xw LFNwRp-rwMs VwOapNGpILI s1o9BKW2rdw 82vriGF3b1U TfEttsC1vEA tYmFsyH7VJY KVr8NTZ-vG4 fT-h45L9RAY M4kM0JleVDs NV55X0MvVEo ak8c9SfHGWI frSbkNV1pc8 DG0C3Tntl1M 06GsFVeuWNk nTLWfSl5nuQ Bnx_GAHM0wo yrw6Uxs-yJk qixSaXSUs-U B7nHENGa7pc E01hskdRmUg FTTr2bjI2UM dQ8JgDUS8DA YHFzr-akOas ugW7ULhJwPw rtgOb03xl_U Kmpg6MD-LjM 68_PHjBohAs ucWsnp064ow j4j1gbYJtUw zywq2kpcXP4 E4L4IjAR-Ww Fgt4WWdn3Ko tY6nW3Wm3NE hstOtTEeW9Y rWhnsx4PDQU zPg5aPjh-sA 2YRAJt-LbkM -6ZS7nxgzrQ E9eQO5czNrw utjU9csHCO8 2Dv-TO9KQDE us2bq5vpQ9g Sf-Vr-1q5UA CTbpS0PN-JQ BI5TQ_NPp1s SyzxerD2Yps 6_elY8O20I8 VigUMAfE2q4 y9Zx_FJBC1U gWa2rqe8l6E xJdxE_7IBsU F56fSKoNCtk Y1c-ieVO-UY 5JVLO8yBMXA eS7ank-qFjg EkjaiDsiM-Q 2Cd8rznMOho 5vSyylPPEko T3NlWMzPyXM 2IqfF4WMKGc FVmWMogGX4Q xOzfmvcvHeA xvSSdnvewRM N6ENnaRotmo mGmUH-SxFHA OQvAeDGFYGE olGJsY2zNvg ypVE8EgDzzI NwrdhG4nTgg vGtGxKZQ-l8 TpPEgCm65CE WH5GgHaEy7E MHrUzW-4XzI 3ODSQ0EpoQI HBXxBJ-7LFw waN5-o1quks 2-AADwh3hQo ilcwtzi92Cs J_L6r_v3hss vj_YkHxzF2s P0iQBL81qrw dO3sWwJUv04 a5dlmqM9Oo8 -rcvh5aMyW8 0x7myKJqI44 1avpbijGmBw FH4XRY6h8Fg TCT5ulUzfR8 ecRT_GPQPGE 9RqMh282OGc CQQQ-_2JsRM NcW07q9FiAc 0ws3oIyqieY GtD93tVZDX4 pgr-Bzkc4zg X9mEBGXX3dA hK8Fwelri5Y 3SIj6zL6mmA KwOLqfyQ7TU 78Eq67godTk sjiS4mhb0gQ age2l7Rrwtc axtVId9ASmY VrOhA-I3aFs UqY4DY2rHOs eldh8l8yPew HK515-8-Q_w tzEYNQfIXPQ XbBGYm14xY4 yWstRAlAX1A Jq7McfWe8ds nIh4kjjNXOI cAUHOKsFsn8 9Ss7DHUTXqk ndp9o4uPSwI Q-h8g9TLsks WE4Bh938x5w 2ZZ7UOGjY54 2DxAmkdPC5I GolxCQvGKdE dSwsiolZqQo m3rbpR9uuHA _20DvFPHCc4 -CpG3oATGIs DeK9DfXG5Tg w7Ul5fS0XS4 dX2-V2BocqQ aS5_jrIbKmA x3jhTJTDIwQ jm9aET4qyKQ VNKOljKzIG4 hNz8Xf4tMI4 _eCn4pLw350 nTm1rzhHOc8 NWcFTTbKbLs ajwGHb16sgk 0tdFBqDsOqQ qYjEIiErtrA 1vbe206bLEI 7rc8aDtVFvE c8jV2V0w9hU m0qm_bcV_jE RY_Rb2UVQKQ YvAac9FciWk YO9PQfTdbFI DxRLKnw_DKI mokD1I7hl-o T41RvRwdqKo Q_1cZYoGoYM lL1HHWTBZm4 cgv63JD7pfc 2j-e1CHsqsE 57zkzBE0g48 5KyYAsYvLjs ejx3VxuIc8w 9YrmON6nlEw A_0_CoCr0H0 GNvN3WQw9iQ oz0mAXOsQDU lEP0GS2n0E4 TnyTlw9UAqg IeZVaETHNuE 6L0i7yTFiVg FxSkfmP-ZO0 NfwqGwNMQeE 08yflg_VVO8 NfQ9Ffw_siE aYZz7Y11zs0 _15mKw--RG0 sdhl8zGSpv4 iJzT3Ade6oY BTzav965P7w GzK5iVTlbIk E-wJJQFlQBs x0UkbmhxT6c gEqunib1gX8 Wp6uS7CmivE aTLRdrRQyN4 Qvi20AiiCmI Dc1aagp-Pyk XtY5O5DBg5U gVruQosX-yM g3L2jUmnuNA YYZwNE4BtoI RL6zSbM5gws lYdXSIXQm60 bIj5kzzD8GA Hjs6LEVrymY Fy6lhfZQQzs nVOpi4gmej8 mz-WEfqUNiM njyrhf-wd70 ct4oW_cRMMw JrpYV6agZeU ZBejUQX49ls cJsqMisTaa8 mcF28h9WiGQ AkbY74Ni_fQ xfKAh8phcIA p3RHxwA2-8A TSPmWaTWmvg DCCAk0aHL90 nl2QugbxdC0 8JCsYn3cPCw v8vZEhBKHMw c7kjSs2l7iM L29UVUm8aro DuWjY6WGRVE aJ6NPK-iSj8 CEnLxPbLxHI MbsGRek7s9s p2w_BRsaoYk YfmKSegokuA vhg2nYgY2fM Rp7Wws5I970 uAZn1M9v06E m7BWTh6xPsw JtAplwiTOXc SF3Hh31clqQ o4WeEitmF9E 7ICZGNFD28g fgjIk7qQong KKbGGbczheI 0MrPs4yk9pU 66QM57aGPiQ GQPyXkbikXw nuYdT5q3Gxc YCalEDpu2oA vpirrqkm0h8 8bSlaGsG4dk UXW5a-iHjso 0ySznjdXMEA b5sj13Z7aho neaCUaHa2Ek PA4A9IesyCg aY4Rhmv5P_Q KUq5wf3Mh0c T0ClYrJukPA p8TaTgr4uKM cp2rL3sAFmI SwK2dPFXhpU VBkjXV1aSRA R4hQkcjDbDw xrJ113yGbnw WAIBI3dOmLo 8p76pJsUP44 czKLAx750N0 3-3mWaWlycU YSpqHOwYrk4 K17DGXWqYDM GDAjPcXRZho yTjLqTFtjOw k3MSTD9SLy4 MWZ2rVFOQWw l5FrTkGoeX8 DmPO6ZWF8-s JpgYAoHXuBk FF-e6CnBwYY 8nkwoRwsz9A L27EhVTLcng tkzJsP7NP54 L9HhSoFDevo 1ADi5C1ZuY4 DNIxrdJ9uso nB-relROsrY POYRev0zk2k IgbGeOIPu8w ihHdHra7zF8 PQqEKrr8KSQ xRXg7RaXG64 3f0NAn5xFy4 oqEXYBepqus cTlWwuAvRpE HO7CsnUEJAs V7HPQ6DVvug 7OQJIaXNmT4 ecZEMtpw-Gs odqACn2Vgic myjSxtAk9XM taSwS5rhtmc Qpr111vbCzI SLNTnJkg6EE EknEIzswvC0 Z7xoPCv3sYs ZLcozYGkxl0 kLgquZ2FiuQ vSio4fvNgzg erMEReJeBs8 R7JFhZ-WwYw i4poeR9Vucs 6zskWpj5unE EWr6rFqJUTU rwurs1fz-WA VE0HeWFaAIQ 1kUbxn9aba4 HxmP7ZVUeGU vcN_mXHPXVA 3X7ssX6OvLM rVSlCg2ttZ0 GnLtvmeGAWA TXbuATMlVNY lz1Cx6GzOuc aN8znC-ME-w 0JBqL99wjSE G9octOBgSf4 n4axao9LWWE pBe4hLdrMHA 0Jc_rT7t1W8 ZHLdVRXIuC8 c7iU8ZFA9gQ o5dcpcuyuIA sliTbMkQBZ4 _NfwcH5zKpA z-QgsXkYqjc xwvdENKCkLg apW3UWr_dhA L5_7XQR0r0w HBnB69yFf_4 WZXq5_9_JDs f5YdkIzNmfM ss7BtLrbxp4 qgMH6jOOFOE 4ekASokneGU U8wrZRYAnmI gzlhm0jco0g r59xYe3Vyks tf-qp4t-0_M AlOcHa_KB0k P93X4tXsHYE Eql9FpZX2XY AS3oqdKBFXU id2-DOKxL9o YjiMT7Pr3-8 EMDkPDxjDv4 MZLNML-RfsQ e6CLz9mxBpQ bSX9ls0yE1I MHdE5CGX028 PQ_pHQDPWaA d5vNMsMJuFQ fM04p9QSdw0 6ivBvwmrILw f5TxxBe2UYk lCWvgJXGP2E TCzryttCPRk gc890OfJO4c QSA4k0QtYOQ ZJaHACQRNxE AiN1KsW8m8g IDdN8OlHmfo oz4dhs9Pym8 Bgtty7nNu08 BXSMF410IsQ jop-btLDWw0 Qt5qI_dIsno FOpDfqQP5TU _i2xt5HlhXY o4ALYD3beW0 ksb8x3KXUdw 5bZC4LH3PUY CCZE4zuOwZM 77a_-bfK4-k LGkV2okB5_A lzxWNtjii8U 13TrhiKLZg8 JIVHiXXTUHQ SNLZEhWZ1og uaCG1Oevq-k NSssW0duUkQ cJq_kuAKPCs 5LBcuhdAb-o ezi3ko4mwA4 L8lmOLoCrB4 SeO4gfZwrGI HTy3D98C188 eFNgoraf2oA RDzm2oHSAug OtDysNsdF1s 7ab1FGcJBW0 lX09jBr9I1s TkBLZk_hV5Y 26VtIlzEcmU 2YMfBb9x4hU LDCU8r9OZiA YuVcBm_J2js OrOJYiId2Qk 0viQu84xj8c 1QfPTboc1Pw -nJvt_7l-sk fDoYwL90WUg dV9K6QMrIn4 xBDGux27Qrg dw3jaIj1ylw GTpl5yq3bvk YtX-Rmoea0M Lbs7vmx3YwU 41qgdwd3zAg SfIa67dD4Wc qVfG3YWkLFM PuLF8iXeKA0 miydHp2y_Rg HXs3j-lF8JE mOHM-H6YUew Xjj-Ng8oh7o jEqMOw_p5Sg MorBFlewwyA -tq6_o4bK_M CQgPmOQGT_k Q7yWOVyhHrw DgdxUzvVjmY 2gwXRo-FKW0 Ty_tjx4W8MM gdYjBdM4hhc ImtTqXrtBpw k0-ESSiN5jo yUmeKsxeXsQ OAQZtNt8l4M uhx7hhPs2XI -_xFKPyXkE8 0FT4lwbMpYs WwoOyRsLX3Q XSLZBj5X2g0 zmjPOF4wlQw k5uzEGxx0VE AZYgQ5Lolsk 3f0efM27ajg jPhpsM8oSRs 1jBLkSuy1cQ dJfjVK56Bmk Ek539mj6IEE b-AZsyofrlM 5-o5lfR3VNA yc78XSUjNTI W68vp8wlA6M ncvpH2IkLNA VGC8St0MH2E JCLlVu_0OiA 2H6grMdxcHw 3lfWcIWrHtc U5ghHLRv6uc yMclPkD4sQg of1EXRC1xpA URt2HvtI-XY X8p0lNinLoo X67eC9jf2uE iJqB6UsM-hs tpQAslXjNKU KN_WsJ5DE9E Oj39t8D239g Yl2_NQuSB7o mrr85AfKr5M ncOxOPRBUgM P362s-b4wpg lMyknvJOb7s xZ2ijmDbU50 opq9AJPI_Oo j6CRpyp5LuQ yS25Hwl9fm8 6r8lJIxclSg AtbGJv5BDKs M7FAF38zAGU Tm36-pphxkQ J4jimQnsxcs ocRJ2UPKGRU Wu5h6J6OnzI 6cNYUc2PIag xh6n4bIZEpQ tFwp589MAFk IGTL5mvYU54 HGPgRdX-AxQ l7IDevUUa3A JuYb-VZaD1g -GoqPrxM8TQ r8Qiz9Bn1Ag oeswfZz4IW0 35NUuhmQuB4 pb-r8U2kpCU z1t9m7K6cpI iS9Gb3detjo c6DbVqgm7Ds 543HQ-X3Rkw lzN0HUNkDwk J1Pfxmr7ja4 yUtY63Fk3hM 8FL-fDuASyk FNnPScv9Qkg bFNcauq7bCA ghTksCsFBcI LzTCCtw-UaE amF-m8Z3hqI JdaMqr55EWY PKjJHhNbYW0 TF20wvY0uQ8 Yx8TitvxcpI 1YEz85gFj2s _WDwdF78Fr8 oEiHByK1PAQ J5-YVez5pp4 ptvtyX7UY8o u3RadefPNBU njusjZHSUkM NlDH2Zq7xpc lt6K9P22DWs hjHBfFy4SpE 72POpCW5-zE AE-PS6-sL7U 9xLNPaNnu2M -1eLIDSWiLk ORbLz0Af3uo CpSmzgxJv4w DJ486tfZnuo Fg_mb4HWsnM FJI2GXfGx0k XRVBpTFa3To sF2lEcUBadE YKwAHRjyfOc 0aKxDYTHFSo u2FbMkXGwpY Fmv16MKFDxc bzmP7JIXosc h6aXzd1nTXQ I8BDhSTwacM h8nEHMj7Jlk XTuzbY1YyzM ECUCGau3MQ4 N8zEMM3WA68 kf8NK2ol_hE BR3E85ilvuA p73iNenBT-E oaA9IHiYvfY MRqz0PfOmdA DZc_1sppl90 QzDbwqhGnZA Z9weGna1Elc 1jMuRnMSQoU vhZLTp6N4XA PTaL1s3YJPY EPS5KofXU4I XQ6ixJc8Q_Y 8PiD4awKjQw _PZAqojDEIw BUE-XJEHp7g 2BTFA8TEzlU ttEn0KfHH44 gJYPaiGQunc b8Luumpu_kE IMFDdTUre4Q XS16alJYY7w amn6wHUrv4U aOVputhO2Ow HGwNczk1n0Y si5nWWhjRt0 VcHXsiMPCeQ ExcwHSLkZ9A VMvCCrBU5Rw mk-hKbRebHk S_82v5ZuCO4 zaj7OxqEo1E qDGfz4oaIkQ gWsCOHTl1nA MXnfeqcZcfQ pvfUXIG6KEc ahAU6mHHuTs 98Ga_B8LpwU uvODOG3_hQk MTjDwDHbcv0 sqgR26VHBa0 fta0zpX05vk tkPjecc0ViY XWE3hA4PAoI e1YafrxYOWw W6bmRHFPQBI mh6LsecW-Uk uwiHpaAkE5I gxHqJFl72fI hbwV1poEX1A aw9wHbFTnAQ 7YNaxsUPwZc CJzZOVxhfuA 2nwZ0cO1FcU ssvq9nji5Y8 TySyyY7Gs3c wjarGUJhcoM dJN-ZDTmIK0 M-7kJSpzmDM aCzJYMde5_E M-5NEWPLWEU tixCmD3Ib10 VniSxKSXhVE HkokWeGe0K8 Rskmm9tskEE 1cNx7rTCzMA S4x68t6vI4c EVzZFb_aQWE ZAA6baS7oZM _Pr_D3IE4Qs Yfa1hnpKIzk FYVK7HHowFo jDIdzkgW4kE zy_pGgC7hj8 M6W_hQ3-zwA h3nHrZxDub8 7qqHwy_RuFI WKY2RaZHi6Q ebzbJYySJc8 AOLb-nfYdIw w7cCfCQ7E6Y HfnoGEmRGvc -RLEMhGWht0 vYvI0Os8Rig ze3ZnkaYzT4 AdpONCvSwFo 3lGLxo1jXjg Fd5yZmrG0mg dTmupBRvIdI PUN-0Fx9GQM wTr5Ehx6rTc XMLAXQR_YFI nc2Jep6UdS4 Bi0zlbpOyJc fhL1Lb2HcCM kiH7K6az-84 sFcSQVYu3zk C16QgidWZsU D-O5uXgodOI mwAabakiYyM RtgveiamSYE K31g-D7GaMM VaeXMjlm7PM 3WPDkrJEATk pCBDnhGKmY4 W8bsWFGuFII 2dFgCD4H4b0 whEpog7Tm20 Z2049v4Dfhg 0X8lcO3qrOY k3w0igwp-FM 0XuxnBqGpWI nN85QMYZzQQ r85MOIW-Ktw crwL4gQJHn0 tWE-lGgdzss jRHUSgngjUY DNPebU-cbPE 8_pK0blSQr4 UjXA-JcYFl4 cNRgcHxGnfU 7ZrLjJm_QB8 tzwjyVWiKmA PMLFozeRj2k LPMRGKXAe-8 uvWusTkhO_s qmkwB7ZLt8M RCdaa7N8pHs Gd1bM90Rpxg K6qIjQIS-xg zKPXjkcQBNg D554oSH5kMc EghYOe7_iE0 xMXJBs2dXc0 lXPVJX6LQpE gquKlyJR94Q ToH3EdHV-U8 5TwImdGXrTE FcbOoIXQ0rI Mkn8TvrtaOI oJ-ZkqWlVKk UotIw7zq2Cw HJJCCSaWUIA Sg0xauiBkuQ doDIbULDcvA 52GkUpA2qRE AJpTbPasJqI shH1Uu-ZgJ4 pxlrZ3FhsVE 1EpYqtSlOr8 zzOGWRff3oE QoPABrUknsE Nu_zREtF_X8 RCnRmoa8r0A Tyr1YXpNOrk 20In2FA59A8 KVlXccl-XBA FzfE6LiioRg MvD_hFuLfzc wmFX8FyCOP0 9A_PX_6UtSc tKdfpA74HYY VYwdcBxHobs 714w3HQDTcA aAdKP79jT6o uBIS6n2QjAc KTly0rYQb10 TgDKcdC7X3E dqpF4sY30hc Qpt-CUuTJkY 0-W1ZjddS10 8GvsTIKIFA4 2y7O-NcV2E4 fhX7cHfXtCo 6kRPYByFHUU RP7O2MI-Etc 0mE0LuXi9b8 jZMo433LhVQ POpMQPM9YlY ur-ctfgzGxs cAMTHwrw9X4 jZs899M-kQo ebYMbi_0Www r55tXGTQa1c 9Y98-OPb5zM DBgYKhsvQPI 8rrh3T60Cic yBDNVwHw_CU sKiDjO_0dCQ jvPeLibTidU uqaoGTnxqNw f48D90y3BWI 9WqIqz9NtRs 6GeOUAV0TaA smXPU8QYCQg BwXqJD-n2O0 NJNl4eUa3Xc ULA8ofwAwng OrHitqwJu8Q NIp6pMtEhC0 q_NYqgOXXS8 ENtlGF2iADI nZ9Mejld2lI EQa_3YiUicw 0TKybMXXizQ z8-gxkbprSY I8pc8-VcVFo NvZdWvt2S2E NyT33tOkxYQ lRoAjs8RwfE UzqVxdD7Ae4 wdfiZuPmxTc USfQzZX-ytQ XFgkk9hBkQc 8opfd5aYkq8 WeEKAhEm67Q Q0g_9rieG8g z2o8wqhVh_M ckSOqSSSB6w h-AAT72G_ps EAD8x7z75tU QvSpGwVMOS8 9r1dcSsB8uw pzzccU9mErg TiLpJWa1MWs a-HPsj42nRo ZhVav-fqL_k Qc9Smcr-huk swuYhvwHw9w x01yVzlm8xI W6c0NyQYG-I 9xeIEcr7lqs uS3Yrc7kIEM PypmJwgNqbU ScQhBPHn-Jw vNOEp_23Pa0 d2suYQr6ebI sKealDA-Wr8 TnKY_8UIul4 NR4LqLFLScs 2ueEFcV_FsQ tP70B-pdTH0 RX5KMgoaVy8 iwe-uW0P7ys WPbvvBGi5oI KyuRksYpjRs -4EYhC9xDHo RDrmd50pBVo btTcMgYLbgc P1pBUGblPKY bELwz4YWNVw g2Sk6VQmM3k gLEDpXMTmos 76VdvbflSPE 6WWaFRBxNBU c6YxNnJeaw8 0f7Oa2JzRj0 KfL0DgUdv0g affbgRZoeGc krxYDsee2cQ iYACQafSi8g 4XZdpwchIt4 2mXeSvohG6w qitjsJce2XI ZS8l0eDcexM QtaiceqB_o0 ObcGBT4ZWEU L8OBPyIqsmI ui4X_qoA7Gg uu8cSew7a7k B8KUknLT6qU 7rA4pI7wTRA PNIZDLFPmXE R_VOAu2BqCk BoHZQgLZMFw zFCIumbLk_I FPSkIXyyiH0 b1S2kFMMSd4 IMPP7CD_Gt8 vekS9l8ITmI 6jSzVlpylNQ PDPTNEdbvl4 686wpijpyNI d3QUdDrctLE cFPStnsFwAE n5AvISgzRH8 34d__lSNcps YJOyZRi8rWQ MW4OXdzU2Mg 9B26MQX2O70 qKZb-K4oQ8k U7nfe4adDw8 o7noU1io1BE 2gbEAE5Puag ZIxKFTB_u8Y qlm2E_VHhOM dfeaEaO1mvw gIqm7tbpa1s ldOeGUto6BM x337HGAVwpM NQJ-PY6A02c 9C7J2Be07jE 9B5ZgItFxNA hX3eoPXPPf8 xfOM1sIMlGw j1sxbXtfmY4 PMmKaIdTgiI CaYQLq72ZN4 knPoK3akhs4 zZaCv3AlDD4 EcZQghn88vE V6NnrIXN6dY HwPLsmmbA5k 0KHbyrwZmHM Srm0fpdx4a0 TDK-aqcBcLw 4qGKSaRIeXA JKbKqtFjhvk cYLX94DR8_Q GraxONsZg1M ZbXfzwsZciw qk4_IjwosNM 9pXKQFhqOyY jdx8abFQazE tMWQuGNPRyM KVA3VWlDzVE MyhLW84cWrY zNVPyTf626M _URg3DWwaMs ZtSMF4Py4gE gCeR0lIuQdc K7l1OGHNfeE GLCtoHagrtE C3y00RYQRSI QnbIfuQV8S4 mISher6eNUA WH-RZOtcjXk KivQxmJj78k a59LvC6BOuk CfNMPDJVjPI WcIkjudRORw FPDjOngX2cw fDvbE7LQDqE hs74fKPJpFw kfbkLxH8xDI Ct9EV5QT6Pk FJ5rNOMTZ9w Yb7R7Dr2DBk dA0ekFVYY7U VHSIAz-WVDA SqQAbzDs3jo 20h3qWNP8DU MPU0_-BC3Zw TkO8JQGoyrA b5pFzMo2wR0 V-n6lJ-M-oo Hm_0ucMjRZY 82jnryBxsnI Sm5mxkytfWk dwG6eg5UofI I5qvyyhUKfY cdkDHkXyVFI RJvKaHPc8Dc gVKleua4pKo gCaaQqVQMK0 twO-kOhhCC4 LWoE7P4RHFM F3c1NKcHWMg sSBx9_eddmo V2A8tcb_YyY PMq_Kvd1QvQ 9DOGDIzCW5k 6jR78lp8Ar0 bayqlUP_1tk T_T9U8Djles 8-vZB7ma_3s rJQxSL4ctWA Z3ma0jrs7js g6dzTQIfa-k QXxT9KOWf84 psqbtypA6jE 2NIUS-0ZlcQ GKLTyPuRiDM mMjl9Bgu198 lJ7umhkNZp4 MvFOnA9ESjQ SryBtl0rbKQ rxIH6rq2vuE Teshp2y3YOA rx14eHnML1Q s_Q2v5Xx2h0 m7i9J3UdcHI 0a5LprwZrPI uQz0GwVkhEg r_cj1uhs9-c g69_D0t5MR0 lkhGpWUclc8 p6xwwK2ICF8 3n4jncfwflo SIS2EbkT9AM A41LMCEXZBo iyZOhbJvxZg d7qwtRMY5s0 1N9DMQjUmg0 ZjONL4PniYg grvvgNNL0TE rP-6qT4nuzs 6MtcLqBTwj8 F00oCt9uSxE nDHnOuJsPtY g095sife6uk 3kaRgZf7HL0 3_iZ9FR0JmE kyRD0hWWNrY Iv3P6vW3q6I sfzhB4eSNNM hofIXcoxlHQ ZkE84vy26hU 0GxBvj6A7Uw 3u9xmO7D3vo slngSoUh7c0 YR6fxe1wa8g o3u97Vry2bE jXvhHzQgW0M JblX87aJ1oA I5cV0V7vLJw l03rU5zwu_w WiaiZmWxcck hlyKRQcqgFo f8BpSf9EJ68 rt8wrKBKrt0 CJ1oW71O0Pg ZPsokYlwgEs 6SQp_70uVs4 UUQrOK5ZbR0 zQem0vL-kv8 _VKhe_nuTCw _ai3uQRKZL8 mTZjvfvn-L8 7iUQRYXPcVs lGR6JuDdoPE OtEkdeDmMFw Iaj3jm2pC0Q JyRWDQSQYNw iP1wOSsKjW8 G-HwMi6tiII gqnR8ulWN14 pAzbJTIT-1k YV80Titt9Q4 5yJ5AXPPtvc oD5ucURVTdw tWxTkzuMVPE ykGAHWLsKOM upb9EycNiRk -IZDduig-3w QmvHna33zAQ FdsJcpunZHI S8I79NlkjWc 6xtVVdkwYwc nBJn1GKmaR8 1RfXcW6q5B4 SCf2x2qGcdI syGFTx7iQio kB67jL8-DO0 6ctYQU5SKwk PQgPjv_rAnY ydNRavmbzWU nM7Xsr-_8_g TqAvAt-s0xc zRvmnOESoOc XyBECGDOEto S3u40KfAf3E G8ccin6w4JM g0PaxUV55h0 bE6YvJndboo CP6V1T74q3Q eOwba4PV9LQ 9kEljCVpsdg bGVWtWiKagk Y3t6Fejalug an9XyNgDxI0 6xGihZDvOA0 BAUiJod0zn0 J2zRhNb5pjw 6Bh_eChpwSg rfECvrXg20E 7uHiB-pD7aA kWaqUnjDoUU auc_GMdsA1U ugka_yKT-k4 G3lvUTy2bU4 ccHaXvAMSAU 9H4hu1JMfMw vAl3gE-c0SU VRKWJqVhi_0 ZZsO-qLF7E0 gUn8-jvNZrE I-pllTcYW3Y z0fLprufs0o mPmmyfc9a-k xb23ytjGkTg 42X_IIozfeo Bx6sqTD05WU Te5z-lb_dNA kBPzwalqWFQ _4RN5EJNzTU pqwG36bHFEI b1yzAOK9CKg BvMp69TWCz0 Tfs33fmoOic WMVx3MIUApU 6x-ZAAGgnsc L84QSSGLJAs xhUCTtmFlIQ OJa1PPwR8tc hP4_uZfqstw qrowBMvXkQo skxH0oX6XlI LNZMP3XwYTs -_xHT8vg-F4 MkrtvyxPpNg aBONSQ44cnk t1W50gh-o74 DeH0rPLU8mI pEywM5J-z0Q z0ZykoqfArw AZE4A5sT5q4 p6iQvswfGtk ktpeW2m4rtU bLek4Ycb7p8 F4b55du_Nic r2i1BbA9MBU 0zV15Z8gUZc eG3CVtG7B8A nVWXJ3qqi0o 5ZA1w5wxmXA wkNYvZ3wPtA qGelg87DpQA EkAaFNV-GB0 q1-ttUrRhl0 jC1Tsmtb1tw ieT1fPSL6Jw l7S41Yu6qf8 bRtN_18v7y4 gM3y-sgGxkQ LIo34CwgEJ8 RxWxlwehiG8 R6CyxRuqU4I l0-EgdN5oBE UgvX3p5Opwg psFT0_pOpw0 7njKaKoP0q8 fbYxThOFsLI 5GpL5PiUQRU 7RkHHqUda1s 1c4hrBJ58Kw MDn8pTlfjLc Dq7ORUWwSMg ExJzvlSRh2k yhqu-NG-AzY cBep9XcUPkE timhmE256vg dCiAhqjlr5U Frt0dCUawjQ Q8IGBS8bsMQ ShLFRsK9-eQ fdYN02NHe5I R7PSiMPXdVE qF3C3gqTPDc ccQDinbe9uk NCWe_195S5M Ml2b6XBunMI U3zO4znmYB0 lMbfAyFYkDM FT0J3MRQGfI GO2bT3tx-KA HXFJsaC4fs4 QQFgxQ-B8ag Q2itkhLHaeE o7dn0cLvb5o lrvm5B1PcO0 hg1S3QHFNrE 5nfTfgQyXs8 vuI34kj7D60 fbnvh_Becs4 -pDR2Emdzzc v-JM749op-8 gp-rmc78YCo', 'available': True, 'path': None}\n",
      "{'name': 'videogamedunkey', 'children': 'kUKinGYoeDA mZavtHhk508 D1H4o4FW-wA KjHe05UG0aU Q38fjcyP1IQ 82oJt2enz8A -vak7MUaa5E LCgYKW-UPYc 9xRTFtw7qWk wXqHtF4I3M8 Gvn9Pg4lUy8 FdFJzNC0NPI DRnMwtdegII YwqOqCplWMc c4sB4endNFI uZmHbYShJRM LGJ6TvKDlvI 3aGnSWsJ2KY vC5JnJD9KzY KuvDsT4sRzU ajh9e3PDAOc 6EvZF2m546k VAB7Pn-aRe8 HSRY0CdeOl0 UV2ofHNLQa4 ONfg5qeK_mI JNhmhw60QDk JXUz8Js8Weg HmZVrqi4Nw8 AOQzTtsr3AQ p24cqO7rP8o mjA_4n8IbRs yRiZ1MoAa5c m5P24B-s7ks 4KXqQT4JLIQ zvPkAYT6B1Q kEiuRdCZ8UA 7pO39Sh6THg aGlDnY7GQPU qteWNccZvg0 oA4G0dEDxmc tWoWvkmfK38 HQ4MfK4bO4g 3gdfNdilGFE BJi6QKO8-A0 iTBW6jbHgX0 tWWRTcLsYQU 4uQjE3A2RQA j_E7_LC-t88 kXnGmUu5qCg TVVum6X3TuM D-cp5TEid5o GduwxBZAxs4 aX5rs0jjkw8 enBceUyGf9Q iIKRnF43pbI 3VNKlKu7gb0 1nMRX06x6Vo L8mEHOjps1I g4Gpn2IzvJQ BcpuvXValTQ gTXNnzfdlLQ 6Bx1IKQ1btY VGj-D890CbI YBNTaT6zSmk UA3NlwU7keI V6wrPRoPTLg eLR8IbbWeIM llrebUD0pk0 9pfRKdzGGyU bxg9tAru3IQ e3D5uPCXTaA i59JzvLu4I4 h4SMSCKOXO8 LZMwJzkMbcs xGf21NNJva8 DPW6fkcM-14 stlfQNzKdbc Lr7JFvQLacA GlGkzb6uoaM MrciXNtHIm8 gjIMrVti1qM z3TzXvcFy1o MIchMEqVwvg q5UnT4Ik6KU ZLIQfdAnpKY aCN4sKv9esM iGOMViJlQmE VZzZKuQUguk Pjib5LReUSo b8DtkCOyE0I gy7VILMeN28 qNtK4-1uAi4 dVQcZa4O01A a3cw0oz6IIQ DNJ59hiUd-s oz9w8FkjIRs XZp6zxh2yjE eak2dTkR3Ck BCd7ZCN5uhk dW0QCU3RPtY fJrNzEurrg4 s2GhFL7fZio 6notqS434xg FNkntZMzE9o WMfpKQaZKhg -BdPQWBnuY0 I7OcL8j6rhk _-rjDmpEWhQ XhVUuqQ8PaA fXSjsSHWekw xm3ZGC9gxxs o2cX719XCgE XdSReowWF9k CV4he9sDXL8 8Qlf3b9wa4s 7QWUnsxwAYs dGGegRjExsk bMDeKarwTv8 d97XsNAvKAo KfFAgD7uIvk f7SVY9CyBBc CqXRLwKJz7s KPCN34nwv3U Q5ysxb_nL7w rezzjJ4NtK0 68tCnWFxMTM Qn1TReY-Am4 fC3PkiFk0sg mGLMi9kXTRI IoyTGoyiSds n0qIgPIDy00 SzfmtGESBxw stnVEc8R3IY gqXF1urD_Gc uTe9zlzjIcQ 78vQacqkCbE ukqZ5VOoK5s aaLiLRVeaZA 6OqfhefjQ5w nxIvg0y6vCY hPu7aLcZVTY QHW_5f_l2-s a6PUlx0K1AU _tsFZ8F_qcY waXb8QGdEYQ 9STHqt_vsCc ETXQUkp-VOg GwRcSyOoBj4 pKYeAN-_wFI 8iSIoTLauEU 30BFiSOP8JU Kl0-WESlJrM sBqk7I5-0I0 rd844ocrBDY ZE3bT2Z-8eE CSSNP2DudNw j-N8YuYUDQs wHP7v_vHE7w Y_HHZcTqJo8 L17uPcEUfyc LTqaD1BoIQM 8MQO2STCbbY Ojo7sRcGFlY 7WTEB7Qbt4U OxwehhlBVgY 9FQUcwbIYMc UWUYvyatLp0 -oKd0ilJEKs sp7Ofgpfxoc UD6ESrCFEeE EUJb1BD63ME xFnFiJAmADc oK158ih4smY 7c9L4TQls5w LMph2hAGj7k bWu5X4jcvv8 XkksE5DKj8Y 1UhFWoDZLxA Npxw4Y7w9RE iNkkMMaXSBI VKh9inKBlks MY-_dsTlosI y6z2PBK_VhE 4wJF2ni96Xg c66IR3qA5-w X2YfNeBxGLg Fn3g25ZEbak G6KXLtn6OHU L9y25i-csW8 eFAgO5WKnQA -Wv6okd57t8 8o1ieehttdA hKd3Ui8f0-c v1SpVYmcTGM RPjE9riEhtA MdRLVgRRce8 3UKpeM9X5AY okYcCeYBPUk TvO5epO-298 tLUaycJFjWA McB8dx9vDQA dLmszhDOkBE IQkLe77Pvdk NHjJPAkPzYU 9pSsg2Dn2Jc iH08rrt38m8 ryQpA86ZC8U q430dWj9sG4 FnRHJ_nhgjU WDQNWYOogOI hWbZZslsKqc vhgp_WId5ds acWuVPeTwa0 Of9GOMM9HPg 4umiOnu3wuk NB9EqUiLhq4 RSDtCgxwGiw IY5mBERhSDg sxvC647Yi0A sFg2rYQj1SE ZZmzAuvYCJw BtvRaMPJWLs N7r_PZP6T3s pMPomCWUraQ HS6R2Q7eRdg Ji_slRovrmk Mxv9AM397Y8 qHLizp8fARo _nW9k6k1I3k EQRuWJT0MLI P6ODTQKhaXk 8qGCleYV4cw eR7yRKBromQ fiVZMxf4E2Q 5LWnvV0Umvo DTBu4tigSDo 6rjYXEYpuDo CxvQbKWVjyk e7Z2I9x4Pd0 OzXm5A2dq3g CCkPhYiKbJU 2zE-J1rK1NQ 40hln85PONY ksQA0vgKF_A ipFCPsaVRc8 dDagv6SA8nw tU1hnE6klVw daIFi9xmTtQ YplCV7Se4ts uwTejwu4oaw 6ZDBDWAt1DI vprjSFyDpV0 JWD1fanD0ZI lG2dXobAXLI fVfT0z90Oko 7o8IcA66K9A a5Ck2qNAGmw nSYWIh7ajR4 atCA7JWOi_0 bxvPG4xCyCA a3o_ZKWi-OU CqRFXQJ2ghQ HSOuLJtDRFA GmUiVXW4R5E QDjci1ODoBs HlSpfIx3wIA 9EvbqxBUG_c XQDw1hlU99E Ug86qB68f1M FBtgI8lJ9r4 tcwgX7gQPf0 64TbMz-hA3w 5iszUCmLyW4 7y9CLWJvia8 ojapVW-7lQ0 S-khGy_yN8E 9OxnkKqsDI8 QvcFRgJwE2k ITfKaUFfx7g fiu1qbH37yw ziUMJB3id8I HJORTxZ8j9s 3tpQGRpoB58 W1YDaSw8gDM fgUqgM3euC8 kR3HFEeC3_E IvDeXaiBy3I J2gBkqP4V9Y wTXRMBoc4Qs a4UxBrJ2yIQ VELVomIF2Ts Mgfxo3CLdNM A4_auMe1HsY rUyoOUUE4YE ZuUfDXFZh6Y i6RV8O4Q9rc z55rJznqF3E mu0I-9FPFKU z3RKj9-X8dg lPwlfbeQOBg waZII8dRI90 jK7SFNx5mug BzmFbfCEv9k nLIK5HYkVQE YlFujEBi40E lN-rVlMIJZs iv5wXEwDiaw vlo0-GDi-qc P6uTKPwVnNI I50gWiTGyb8 g_FB4Bw99KU UOgvbS4GkF0 nFLNmPLRxyI ZgsByqwaC5k W3Vz25q_a9w __zGnZtL53Q oXkbUe3yKz8 XQkYBbM9YyM o_oEB0qf7Hg _8Nb_zgWZZ4 KtglAQCxUIk -_ZZAX_zt7Y y7OTIMoY5qY CjHlcRjfB9E U49VvGYZr98 E_7EhU5Y59M 5cvW09f2rww YaLopjibdOY 9g3CjQv5yec QtplRk6BdyA e5jx9aYSG1c IvMQe3v-HwA OeHjN4oWVfk KqRs_2kGZuY JYM-vPKyxfA WojvlJ_xibE VjzgbZL12VI SkNaUiaGRxw p8iBBJE_MZ0 duPynkGEFGI 9MTPdf6bxK8 8_fk6ni-0eI IR0-o1bqaig _lDb3MzDZEM WqnXp6Saa8Y uNLnBYqOXUA 939NGDTTNcg H46u8Yg9Q08 16cwAvQcW0E XtzqW-CnPm8 i1qnIBLNOG0 6n83K-cHHg4 huG8jhWKQYM SyphzxruFeo VTAoTeUpKnI pocXo5ZIfLA S5jdwIzkbkU REs9lYQlN2g cQdn1kbBVcg Vy_Dj_YSEsE 3sq2-7Eccl4 jM-eIB8xIz0 PUBnqS1qcvk q6yHoSvrTss Bj23JhwiNfY p8EfMTiOtb0 4wY4NNGW8LM hW0K_8AgJmg Y3Y1lbG0HkI zhkEwfrCNR0 -2fcSWvJ3wI zH8GLzkqlks YgSSql6MAKo kQShIMS9R6I 4Cr6QNQkk3o XGTwbaYXkvA 3ih9QXqYi28 N1uiLR6luWo Hh-N_GItTWo s4n6WGRHezA gPduSGytMlA fCrv01ESmcg EX9aDLjKYww 3GSzlqcK9CM hk2eZdhTdMk RGmJwiFXHDo Yaou-qomTrg 8O9JPYsxefI 69_mWyat9tw McDXSxH3Sx8 pYHh6he3Jig KgF3WFBqr2Q bGKNPWH7zIA YvMCeGLzTWE 3dC7F2TLkRA ecItRVAZxNI m2ONLDKum38 4z8rr88sztU OZMBjYSjjTM FMVxFdCZshM 7ZlNDMFyGzE hqMblpSqhgM jVWnDcNrhgk kIfZ96niHzY c1QxSfMUujo BfZpBZCdCCo j_3nT030hW4 6brM44delco XFoufkmR5Uo RDxWKr6xLKI 8l5ZjSI5G4E K-7vORaRZ-E NyWwRivr1wE BqZjHnarpX0 0HGU77c2HIE se32VCORUjc sEiGgaHiDJw tbTBIV5Dsjc KThQnm8oTlk k7WW3SSHb9s PnGAuJz4dMU Rz6jHTpi6zw SGs0-JmwwoA Bl4X8bCVnQU gbrWW08msFg TTuN7ZJ0g50 WNnTOqgSHQ0 z4WE21E_C3o BUUyae8vmmQ 8WvIOuAAqCw c1NoTNCiomU _k9cZHvJAZM 3EmcfIJQ-CU kb6GML4rx0o VaaApgbfKyU VDqvAAHFvlc YpzV6h6xiZI F5eqBbLvDIA S7x0izEw9yw tC9GF0tGZIY W2EZZVW7jjQ Zr0-jxm2Sd0 E1TZB2edISs PttKq0GcnoQ tAtIyWFeFMc RDPsKJ0E7NY ED0zaEbzASA 3u4PCz_Q4jw kfcu_dhwVA4 6P4jUcpwr7w AaxobrC3Qmo GZS-NHmhT34 f4LxBKN9ank vIdP01p4SqU N-YT_Ii9e_o mx4wbM6UnfA C4niIKg5pzI EAGK7FHPPSA 6Q4w_rJG2Ko 11NbCupbOls ct4mQCZCk3E eCZdqYimZkg SvoYY2lpETs WXIewCMep64 fF9-XOEpFS8 jqIyybWSKAk _WLIA-z2GVU EBLVEAHegs0 Sd3aiNZzyuA HgNc7K1dSqw WHW-B-XqwrM fZR0SNAthIU ahqOcapNi4w dKX1RzzyKmQ N6uwlIA7a7M KndsrvsucH4 UNObFaK5fTM XufKgP5saUQ 4O4SRcNBGp8 5yqs57gnI5c DbdVuAQf7s8 OzKX6cO70WY SsiBHDEFu10 a-5uEbrQR3s 7ofma5684ds b7beoe_nQEw W1x8br9H1Z4 EC-VrN9ABkk EoC4-ydyeos nYckzqc-VmU KQvl_Ble7n4 iiWkYRJd_s4 KrIpl40nwqY Sgrpjp_6XOk kCHVdq73o4s 7XoqRrfBmrQ isVrIuraCs0 kA1pmsOGv40 rMcCKLmivHE UzSGtoUMc7g eYG8almTvJo ymPE6nAoZE0 kihvf7hVlvE mHdHkbauAOg R_0A8i9_clI 3W7LztCEpA4 DI4shM8NlR0 T3eTRB2kfsw YaS-83AC_4c bd6B20J9iJU oMEI5TWbPMA tTsBn36yPrg CvtdvQzsb9s weaK0WuNSyQ Y7DzZwAP2H8 uQHgfmwPccc 7onpZl0tayA nPhubc3x6Pw -TjRLJa-J_w AUYDaypMqNQ Hx37TiGmsk8 2etiPxlKkFo fiBBqwwdpe8 JMMXFtB33Xc P1zPcom3j-Q bb0mGUSHwRQ 2pfESWR7gBs ybZ9PVcf6X8 sdnYy1b8KEY up0YjG_KhLU hznvlGA3f5U rO9vQmZfk0s GG7aDyn08Qk ZkP-dlAgrsw vTSHTXEyoXc i-daRJOoxzY I4X0CEdBiTc Z8N5n88EuVc Vqw-cP51MSQ jGo0ZNfsgHo CpTTv1mKL8w Pu6ixyJ_Y-0 Knwii6O5lwM T-3j2qj1Lq0 W8f-ZI3HGbU MHBdoUs1e5U lbeILUhuxDE kdGyUvCksD8 o-1AA-IysH8 hQWbFnAeDAo Jrlbb6mlTiU 6iJ3wSz7Xq0 KfO1XhRob3c oFiSVAGJ3Ac ce9hvZxVbf4 eCxFP24LOU0 5GWyZ58qHkM kacTMmoQPQM irzTY-SFirg 24UKEXHlbcw GGEGF7cHmMU c4bIYQgreic MbYgG0N9vic e5lGCSx3K4o 1tXKc_DrOXc OX3UQlcjcFc TpVG9eObxOM XEUPbRG3wMo BWIElnq7d7k TYTirwx3FkU PWRgAfAxKX4 U5jwoWJVcws uEci3e8JPAU 0RD-O9zGv10 dYSxcZ6sdB0 AQbRq-G12zI UO7OrHtmtqg 11jglGXXWsM gK_SVEbPNhA TK5ki5S-_qA Ky97jpPM4ZU fu-YbhX-JRA oPu3wpG5xZU -K1wsGeLSMM aQ_ju38_RzA JonGvS0e0zQ 4iMBROGV2O8 gG1U5yrRQeQ tRV27Dr8zs8 auYIAM4wgLE DoboklUZ590 VfZdneHad0E bxKSMQ7upHg Zvc4nYEwT3Y azZvxew31Gw t88VU72eAI0 F1GGAtxv-OA WgnG6f5fpyw c79sW3gVp8s ZaXmOkRIpzI Y6fUlwNONYc axqrHbLGW6g XOkFUkHB9q0 SES3vj-yZ2A nkWyVbuFwbs ECQKwvEoD8o 6X3tsDRfX1k rCsvWfEMcII WEtf3XolX9w 4OxmkY0Pkjw glZKI9Obj30 BGPoh9sQiUI rNVWOue9GLw Cn9yiGW-mfU NdBMLhBHevM RnqrYBPUmUk vyOA4BxRMH0 qdroeDSpoGU yurgqnrVm1w npC_lOcWAnU M_avgJJvgSc zHqbSsgI2rY rw2sMk-PTp8 iUejvXJ9-II R_NIW1Upu98 coBZlc3g1n4 Jkg8GiriHvU DjUhK8rYJYM _gYAPmUf08Y uEC2C-T47Xs q70ilCLciDk S35z2xDvKvc w5_cVzKFyTk sTdF5a9AYeQ 2uRdjm_mG4o QZeG9icVcC4 6r5sMN_QGQs 2iv8qcLmtws DNp-Y5qUBs4 SJSb7_-PHNA 48nFaBC6mDg 17XvXLHFDP0 W2wLQHCUmNE COVQ-iwHUlA X0k-x9zTfTM VS9IhcD1YYE Kv5esEjxtr4 LmjHx7yIvV8 aYDIYzPFvKc 2YeTbQYF6Hk zPej5c7DU7Q nUZM_-0AeDE yUWB2li9fUo 5uCMLhllWkk h5DEQb06T7Y JUFl_sDOHlM NLuUZptMcc0 ZrcpS_msu-c oaNlzC9T4rc YB_-T_dW2Aw F3rwO0ndPKw 7pOAsXK3bYs OkJguTJ6Ysw t7GN_R_SRnM Mj5KiiHznJk 7pdAhFhPtu8 T9D0yUNKkBw jJusfNv0DO0 PIJ54HCj_mY mi7dkQJI-Kc kvwmNx5AeAs EQzBI5hVBOI zIoJndp0sKI x0acbC7CLq4 OelHPDBSiJg UL5nJ1Q-VM4 TL8RaxLR894 wWBYZQwmJCg 8hXN0wPcv0k 3K78y5aX95M VzM_xwsC_YU 1UrmLlLjxlQ xtVsM6V9qxA P-UIrfOBNF4 MTA1God4ly0 Eyz_YJl4AjQ PDuRoI1kHxg RDcWc1t9XN8 8qnQNe9zQmo -CrFHP19-S8 789lNhxE--A H2qVL7hn7oE fcN7RP723eM gDHMtw_ECjE EHsMCYQ8HL8 uFFcKmoSoPE SBXL2WbARa4 8dzY5fUJ9CU ALAHuveI3A4 jmU7aAgA04s u7LsHloIjMc 4tiwthzgba4 McUGzPJq2dA fQ2rGXGVXzQ sRcBlcIZuXM ix_y9SmNLHc uX_fqzrQR74 wQusm6rHRaY Ong43KWh_x8 IiMJzjKKtgg 7pgmsGh0R3A ix3ZMxfefBk Bpsc1nrRSUE YXTjcxboiZU q6klZ4JF7K4 PwO_dAftBBY Pq_lmSRcBSY K3ca1X7A2Nw jumQjjmHbYE yQKI9oclZsk tyuWN4bzI6M zUUZWskaq8s fQ8vhfrZYHg ZY7ajv7zkHU 5TwrjtUIcr8 -uo-JnbtVqo lVdtV_JmMsg eZOlNmGRuDQ RM9R4IFSMHQ -StowFeeoog L-myMEB40Hg pl9R0Aos6aA j5PU-TjrciQ ZNdRu7E0ggc 3S8BvTbhkY0 _UOnfCZDUWo o7HUbFZW_kU bGz60wDqtco TUXugRstZaE uZfJ5S3WCY4 q8ghM-thJ2s I-GbEWY3Auk 8MhOouhhrTU Wqsb7VR6EB8 9VUETYy0Sbo o3T4IVOygHY 6EpmU__N7oQ iLMF6Dyd4GU', 'available': True, 'path': PosixPath('channels/videogamedunkey')}\n",
      "{'parent': '/c/TheAlwaysSunnyPodcast', 'name': 'So Many Johns', 'available': True, 'path': 'singles', 'captions': '', 'filename': 'So Many Johns'}\n",
      "{'parent': '/c/TheAlwaysSunnyPodcast', 'name': \"27. Who's Got Donkey Brains?\", 'available': True, 'path': 'singles', 'captions': '', 'filename': \"27. Who's Got Donkey Brains?\"}\n",
      "{'parent': '/c/TheAlwaysSunnyPodcast', 'name': 'You’ve Got Donkey Brains', 'available': True, 'path': 'singles', 'captions': '', 'filename': 'You’ve Got Donkey Brains'}\n",
      "{'parent': '/c/TheAlwaysSunnyPodcast', 'name': 'Glenn Kicks A Door Down', 'available': True, 'path': 'singles', 'captions': '', 'filename': 'Glenn Kicks A Door Down'}\n",
      "{'parent': '/c/TheAlwaysSunnyPodcast', 'name': '26. The Gang Solves the North Korea Situation', 'available': True, 'path': 'singles', 'captions': '', 'filename': '26. The Gang Solves the North Korea Situation'}\n",
      "{'parent': '/c/TheAlwaysSunnyPodcast', 'name': 'Glenn’s Bucket List', 'available': True, 'path': 'singles', 'captions': '', 'filename': 'Glenn’s Bucket List'}\n",
      "{'parent': '/c/TheAlwaysSunnyPodcast', 'name': '25. The Aluminum Monster vs. Fatty Magoo', 'available': True, 'path': 'singles', 'captions': '', 'filename': '25. The Aluminum Monster vs. Fatty Magoo'}\n",
      "{'parent': '/c/TheAlwaysSunnyPodcast', 'name': 'The Great Gazoo', 'available': True, 'path': 'singles', 'captions': '', 'filename': 'The Great Gazoo'}\n",
      "{'parent': '/c/TheAlwaysSunnyPodcast', 'name': 'Yippee Ki-Yay, Mr. Falcon', 'available': True, 'path': 'singles', 'captions': '', 'filename': 'Yippee Ki-Yay, Mr. Falcon'}\n",
      "{'parent': '/c/TheAlwaysSunnyPodcast', 'name': '24. The Gang Gets Held Hostage', 'available': True, 'path': 'singles', 'captions': '', 'filename': '24. The Gang Gets Held Hostage'}\n",
      "{'parent': '/c/TheAlwaysSunnyPodcast', 'name': 'Charlie The Muskrat', 'available': True, 'path': 'singles', 'captions': '', 'filename': 'Charlie The Muskrat'}\n",
      "{'parent': '/c/TheAlwaysSunnyPodcast', 'name': 'Happy St. Paddy’s Day', 'available': True, 'path': 'singles', 'captions': '', 'filename': 'Happy St. Paddy’s Day'}\n",
      "{'parent': '/c/TheAlwaysSunnyPodcast', 'name': 'Meg Toasts The Guys', 'available': True, 'path': 'singles', 'captions': '', 'filename': 'Meg Toasts The Guys'}\n",
      "{'parent': '/c/TheAlwaysSunnyPodcast', 'name': 'Red Nose Rob', 'available': True, 'path': 'singles', 'captions': '', 'filename': 'Red Nose Rob'}\n",
      "{'parent': '/c/TheAlwaysSunnyPodcast', 'name': '23. Everybody Browns Out', 'available': True, 'path': 'singles', 'captions': '', 'filename': '23. Everybody Browns Out'}\n",
      "{'parent': '/c/TheAlwaysSunnyPodcast', 'name': 'The Guys Get Hammered', 'available': True, 'path': 'singles', 'captions': '', 'filename': 'The Guys Get Hammered'}\n",
      "{'parent': '/c/TheAlwaysSunnyPodcast', 'name': 'Coffee Eggs For Your Trying Times', 'available': True, 'path': 'singles', 'captions': '', 'filename': 'Coffee Eggs For Your Trying Times'}\n",
      "{'parent': '/c/TheAlwaysSunnyPodcast', 'name': 'A Very Sh*tty Audition', 'available': True, 'path': 'singles', 'captions': '', 'filename': 'A Very Sh*tty Audition'}\n",
      "{'parent': '/c/TheAlwaysSunnyPodcast', 'name': 'The Penaissance', 'available': True, 'path': 'singles', 'captions': '', 'filename': 'The Penaissance'}\n",
      "{'parent': '/c/TheAlwaysSunnyPodcast', 'name': \"22. Dennis and Dee's Mom Is Dead\", 'available': True, 'path': 'singles', 'captions': '', 'filename': \"22. Dennis and Dee's Mom Is Dead\"}\n",
      "{'parent': '/c/TheAlwaysSunnyPodcast', 'name': 'Is “The Rock” Bringing Baggy Back?', 'available': True, 'path': 'singles', 'captions': '', 'filename': 'Is “The Rock” Bringing Baggy Back?'}\n",
      "{'parent': '/c/TheAlwaysSunnyPodcast', 'name': 'Sweet Dee Is On The Line', 'available': True, 'path': 'singles', 'captions': '', 'filename': 'Sweet Dee Is On The Line'}\n",
      "{'parent': '/c/TheAlwaysSunnyPodcast', 'name': '21. The Gang Gets Invincible', 'available': True, 'path': 'singles', 'captions': '', 'filename': '21. The Gang Gets Invincible'}\n",
      "{'parent': '/c/TheAlwaysSunnyPodcast', 'name': 'Donny John McCrab', 'available': True, 'path': 'singles', 'captions': '', 'filename': 'Donny John McCrab'}\n",
      "{'parent': '/c/TheAlwaysSunnyPodcast', 'name': 'Rob’s Childhood Beach Memories', 'available': True, 'path': 'singles', 'captions': '', 'filename': 'Rob’s Childhood Beach Memories'}\n",
      "{'parent': '/c/TheAlwaysSunnyPodcast', 'name': '20. The Gang Finds A Dumpster Baby', 'available': True, 'path': 'singles', 'captions': '', 'filename': '20. The Gang Finds A Dumpster Baby'}\n",
      "{'parent': '/c/TheAlwaysSunnyPodcast', 'name': 'Glenn Took A Tumble', 'available': True, 'path': 'singles', 'captions': '', 'filename': 'Glenn Took A Tumble'}\n",
      "{'parent': '/c/TheAlwaysSunnyPodcast', 'name': 'Who’s Most Like Their Character?', 'available': True, 'path': 'singles', 'captions': '', 'filename': 'Who’s Most Like Their Character?'}\n",
      "{'parent': '/c/TheAlwaysSunnyPodcast', 'name': '19. The Guys Take Some Calls', 'available': True, 'path': 'singles', 'captions': '', 'filename': '19. The Guys Take Some Calls'}\n",
      "{'parent': '/c/TheAlwaysSunnyPodcast', 'name': \"Let's Go to the Phones!\", 'available': True, 'path': 'singles', 'captions': '', 'filename': \"Let's Go to the Phones!\"}\n",
      "{'parent': '/c/TheAlwaysSunnyPodcast', 'name': \"Glenn's Liquid Diet\", 'available': True, 'path': 'singles', 'captions': '', 'filename': \"Glenn's Liquid Diet\"}\n",
      "{'parent': '/c/TheAlwaysSunnyPodcast', 'name': '18. Dennis And Dee Get A New Dad', 'available': True, 'path': 'singles', 'captions': '', 'filename': '18. Dennis And Dee Get A New Dad'}\n",
      "{'parent': '/c/TheAlwaysSunnyPodcast', 'name': 'Gunshots vs. Clicks', 'available': True, 'path': 'singles', 'captions': '', 'filename': 'Gunshots vs. Clicks'}\n",
      "{'parent': '/c/TheAlwaysSunnyPodcast', 'name': 'The Story Behind \"Rock, Flag and Eagle\"', 'available': True, 'path': 'singles', 'captions': '', 'filename': 'The Story Behind \"Rock, Flag and Eagle\"'}\n",
      "{'parent': '/c/TheAlwaysSunnyPodcast', 'name': \"17. Charlie Goes America All Over Everybody's Ass\", 'available': True, 'path': 'singles', 'captions': '', 'filename': \"17. Charlie Goes America All Over Everybody's Ass\"}\n",
      "{'parent': '/c/TheAlwaysSunnyPodcast', 'name': 'If The Guys Were The Beatles, Who Would Be Who?', 'available': True, 'path': 'singles', 'captions': '', 'filename': 'If The Guys Were The Beatles, Who Would Be Who?'}\n",
      "{'parent': '/c/TheAlwaysSunnyPodcast', 'name': 'George Bush Hands', 'available': True, 'path': 'singles', 'captions': '', 'filename': 'George Bush Hands'}\n",
      "{'parent': '/c/TheAlwaysSunnyPodcast', 'name': '16. The Gang Runs For Office', 'available': True, 'path': 'singles', 'captions': '', 'filename': '16. The Gang Runs For Office'}\n",
      "{'parent': '/c/TheAlwaysSunnyPodcast', 'name': 'Glenn Insults the Audience', 'available': True, 'path': 'singles', 'captions': '', 'filename': 'Glenn Insults the Audience'}\n",
      "{'parent': '/c/TheAlwaysSunnyPodcast', 'name': '15. The Gang Exploits A Miracle', 'available': True, 'path': 'singles', 'captions': '', 'filename': '15. The Gang Exploits A Miracle'}\n",
      "{'parent': '/c/TheAlwaysSunnyPodcast', 'name': '14. Rob Almost Fights Some Guy Outside A Hamburger Store', 'available': True, 'path': 'singles', 'captions': '', 'filename': '14. Rob Almost Fights Some Guy Outside A Hamburger Store'}\n",
      "{'parent': '/c/TheAlwaysSunnyPodcast', 'name': '13. The Gang Gives Back', 'available': True, 'path': 'singles', 'captions': '', 'filename': '13. The Gang Gives Back'}\n",
      "{'parent': '/c/TheAlwaysSunnyPodcast', 'name': '12. Hundred Dollar Baby', 'available': True, 'path': 'singles', 'captions': '', 'filename': '12. Hundred Dollar Baby'}\n",
      "{'parent': '/c/TheAlwaysSunnyPodcast', 'name': \"11. Mac Bangs Dennis' Mom\", 'available': True, 'path': 'singles', 'captions': '', 'filename': \"11. Mac Bangs Dennis' Mom\"}\n",
      "{'parent': '/c/TheAlwaysSunnyPodcast', 'name': '10. Dennis and Dee Go On Welfare', 'available': True, 'path': 'singles', 'captions': '', 'filename': '10. Dennis and Dee Go On Welfare'}\n",
      "{'parent': '/c/TheAlwaysSunnyPodcast', 'name': '9. The Gang Goes Jihad', 'available': True, 'path': 'singles', 'captions': '', 'filename': '9. The Gang Goes Jihad'}\n",
      "{'parent': '/c/TheAlwaysSunnyPodcast', 'name': '8. Charlie Gets Crippled', 'available': True, 'path': 'singles', 'captions': '', 'filename': '8. Charlie Gets Crippled'}\n",
      "{'parent': '/c/TheAlwaysSunnyPodcast', 'name': '7. Charlie Got Molested', 'available': True, 'path': 'singles', 'captions': '', 'filename': '7. Charlie Got Molested'}\n",
      "{'parent': '/c/TheAlwaysSunnyPodcast', 'name': '6. The Gang Finds A Dead Guy', 'available': True, 'path': 'singles', 'captions': '', 'filename': '6. The Gang Finds A Dead Guy'}\n",
      "{'parent': '/c/TheAlwaysSunnyPodcast', 'name': '5. Gun Fever', 'available': True, 'path': 'singles', 'captions': '', 'filename': '5. Gun Fever'}\n",
      "{'parent': '/c/TheAlwaysSunnyPodcast', 'name': '4. Charlie Has Cancer', 'available': True, 'path': 'singles', 'captions': '', 'filename': '4. Charlie Has Cancer'}\n",
      "{'parent': '/c/TheAlwaysSunnyPodcast', 'name': '3. Underage Drinking: A National Concern', 'available': True, 'path': 'singles', 'captions': '', 'filename': '3. Underage Drinking: A National Concern'}\n",
      "{'parent': '/c/TheAlwaysSunnyPodcast', 'name': '2. Charlie Wants An Abortion', 'available': True, 'path': 'singles', 'captions': '', 'filename': '2. Charlie Wants An Abortion'}\n",
      "{'parent': '/c/TheAlwaysSunnyPodcast', 'name': '1. The Gang Gets Racist', 'available': True, 'path': 'singles', 'captions': '', 'filename': '1. The Gang Gets Racist'}\n",
      "{'parent': '/c/TheAlwaysSunnyPodcast', 'name': 'Video Podcast Teaser', 'available': True, 'path': 'singles', 'captions': '', 'filename': 'Video Podcast Teaser'}\n",
      "{'name': '5 Reasons Unreal Engine 5 is a BIG DEAL', 'available': True, 'path': 'singles', 'captions': '', 'filename': '5 Reasons Unreal Engine 5 is a BIG DEAL'}\n",
      "{'name': 'The Always Sunny Podcast', 'children': ['UaddC6h5yPk', 'nlsvIiGOQT0', '9C-pfRJSUek', 'V3o4ijDFjA8', 'xviPQ07WfXI', '0C-n4c8B6_o', '-dO1yFFZu8w', 'sztaSIwdvWc', 'acNg26XkfFo', 'x2ALxWntGw4', 'mJntfYZUlWg', '0CALWTJ1gIs', 'w-0GrZZS8TY', 'qFH8ONJQu5I', 'oDGtZtZsAdY', 'w297cLhK_Zo', 'gmLD0gYDI50', 'm1o-iY70QZQ', 'bsNInoJpOVA', 'HCIQ_zocZnU', 'km1Hxg-v9ws', 'jppA5NDk364', '4f2lVSYgzjo', 'px2ch3R7Xtc', 'NxOJSgQ-ANA', 'wlPrSuBvwQo', 'iWxaqTRKi2s', 'Mmqjueb9bGw', 'rJd98ahZPmE', 'aE6Ns_odqec', 'yPM0zueqXK0', 'VpvSiTKMTrE', 'rKurm9SqXAw', 'HtbtEEOHmNY', '69cjUN4x3wA', 'fjCHw_ttEXY', 'VIORhtcxlqM', 'W4NVPRKqrN4', 'E6UQEuk7wEA', 'ZSrQfCz0NnQ', 'se5scESKZqE', '9Nh4hRaLgec', 'JRbATxvD_mo', 'IL9QLCe2xxo', '2LnURQ9NaOA', 'OK9L6xSN24Y', 'FtA5iRT4pQk', 'jTBO_K_zeR0', 'Gyy2vXixdKw', 'uye6OptPmps', 'ErF-Um18G0M', 'g43FW-1CEQo', 'kL9gJmtanfs', 'h97oKaQSX-M', 'C7ON-LSl54g'], 'available': True, 'path': 'channels/The Always Sunny Podcast'}\n"
     ]
    }
   ],
   "source": [
    "channels_table = databaser.get_table('mymirror/youmirror.db', 'channels')\n",
    "for c in channels_table.keys():\n",
    "    print(channels_table[c])\n",
    "# singles_table = databaser.get_table('mymirror/youmirror.db', 'singles')\n",
    "# for c in singles_table:\n",
    "#     print(singles_table[c])"
   ]
  }
 ],
 "metadata": {
  "interpreter": {
   "hash": "7d1fb857c91084ff2f5c4554f4552112f847df0461cff6be6b8b14c3a23eca4b"
  },
  "kernelspec": {
   "display_name": "Python 3.9.6 ('personate-gaLREsct-py3.9')",
   "language": "python",
   "name": "python3"
  },
  "language_info": {
   "codemirror_mode": {
    "name": "ipython",
    "version": 3
   },
   "file_extension": ".py",
   "mimetype": "text/x-python",
   "name": "python",
   "nbconvert_exporter": "python",
   "pygments_lexer": "ipython3",
   "version": "3.9.12"
  },
  "orig_nbformat": 4
 },
 "nbformat": 4,
 "nbformat_minor": 2
}
