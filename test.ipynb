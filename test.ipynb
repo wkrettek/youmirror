{
 "cells": [
  {
   "cell_type": "code",
   "execution_count": 11,
   "metadata": {},
   "outputs": [],
   "source": [
    "import logging\n",
    "logging.basicConfig(level=logging.INFO)"
   ]
  },
  {
   "cell_type": "markdown",
   "metadata": {},
   "source": [
    "### Testing the core"
   ]
  },
  {
   "cell_type": "code",
   "execution_count": 1,
   "metadata": {},
   "outputs": [],
   "source": [
    "# Import and create\n",
    "from youmirror.core import YouMirror\n",
    "ym = YouMirror()"
   ]
  },
  {
   "cell_type": "code",
   "execution_count": 5,
   "metadata": {},
   "outputs": [],
   "source": [
    "ym.new(\"fucko\")"
   ]
  },
  {
   "cell_type": "code",
   "execution_count": 8,
   "metadata": {},
   "outputs": [
    {
     "name": "stderr",
     "output_type": "stream",
     "text": [
      "INFO:root:Adding https://www.youtube.com/playlist?list=PLBZw8Bdva63UAhbdAlbbYotegKhUMeSzN to the mirror\n"
     ]
    },
    {
     "name": "stdout",
     "output_type": "stream",
     "text": [
      "Adding url to config\n",
      "New config: \n",
      "default_resolution = \"best\"\n",
      "captions = [ \"en\", \"a.en\",]\n",
      "\n",
      "[channels]\n",
      "\n",
      "[playlists.PLBZw8Bdva63UAhbdAlbbYotegKhUMeSzN]\n",
      "name = \"Pepe Prawn\"\n",
      "url = \"https://www.youtube.com/playlist?list=PLBZw8Bdva63UAhbdAlbbYotegKhUMeSzN\"\n",
      "type = \"playlist\"\n",
      "\n",
      "[singles.1AYRsx-l5W4]\n",
      "name = \"\\\"Shake it Bake it Booty Quake it\\\" Sym-Bionic Titan\"\n",
      "url = \"https://youtube.com/watch?v=1AYRsx-l5W4\"\n",
      "type = \"single\"\n",
      "\n"
     ]
    }
   ],
   "source": [
    "ym.add(url=\"https://www.youtube.com/c/TheAlwaysSunnyPodcast\", root=\"fucko\")"
   ]
  },
  {
   "cell_type": "markdown",
   "metadata": {},
   "source": [
    "### Testing the parser"
   ]
  },
  {
   "cell_type": "code",
   "execution_count": null,
   "metadata": {},
   "outputs": [],
   "source": [
    "from youmirror.parser import link_type, get_metadata, is_available"
   ]
  },
  {
   "cell_type": "code",
   "execution_count": 2,
   "metadata": {},
   "outputs": [
    {
     "name": "stdout",
     "output_type": "stream",
     "text": [
      "False\n"
     ]
    }
   ],
   "source": []
  },
  {
   "cell_type": "markdown",
   "metadata": {},
   "source": [
    "### Testing the helper"
   ]
  },
  {
   "cell_type": "code",
   "execution_count": 1,
   "metadata": {},
   "outputs": [],
   "source": [
    "from youmirror.helper import file_exists, get_config"
   ]
  },
  {
   "cell_type": "code",
   "execution_count": 6,
   "metadata": {},
   "outputs": [
    {
     "name": "stdout",
     "output_type": "stream",
     "text": [
      "youmirror.toml\n"
     ]
    }
   ],
   "source": [
    "print(get_config('.'))"
   ]
  }
 ],
 "metadata": {
  "interpreter": {
   "hash": "7d1fb857c91084ff2f5c4554f4552112f847df0461cff6be6b8b14c3a23eca4b"
  },
  "kernelspec": {
   "display_name": "Python 3.9.6 ('personate-gaLREsct-py3.9')",
   "language": "python",
   "name": "python3"
  },
  "language_info": {
   "codemirror_mode": {
    "name": "ipython",
    "version": 3
   },
   "file_extension": ".py",
   "mimetype": "text/x-python",
   "name": "python",
   "nbconvert_exporter": "python",
   "pygments_lexer": "ipython3",
   "version": "3.9.12"
  },
  "orig_nbformat": 4
 },
 "nbformat": 4,
 "nbformat_minor": 2
}
