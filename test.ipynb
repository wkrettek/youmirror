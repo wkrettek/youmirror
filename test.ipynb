{
 "cells": [
  {
   "cell_type": "markdown",
   "metadata": {},
   "source": [
    "### Testing the core"
   ]
  },
  {
   "cell_type": "code",
   "execution_count": 1,
   "metadata": {},
   "outputs": [],
   "source": [
    "# Import and create\n",
    "import logging\n",
    "import time\n",
    "from sqlitedict import SqliteDict\n",
    "from pytube import Channel, Playlist, YouTube\n",
    "from youmirror.core import YouMirror\n",
    "ym = YouMirror()"
   ]
  },
  {
   "cell_type": "markdown",
   "metadata": {},
   "source": [
    "new()"
   ]
  },
  {
   "cell_type": "code",
   "execution_count": 2,
   "metadata": {},
   "outputs": [],
   "source": [
    "ym.new(\"mymirror\")"
   ]
  },
  {
   "cell_type": "markdown",
   "metadata": {},
   "source": [
    "add()"
   ]
  },
  {
   "cell_type": "code",
   "execution_count": 3,
   "metadata": {},
   "outputs": [
    {
     "name": "stderr",
     "output_type": "stream",
     "text": [
      "INFO:root:http://www.youtube.com/c/TheAlwaysSunnyPodcast already exists in the mirror\n",
      "INFO:sqlitedict:opening Sqlite table 'channels' in PosixPath('mymirror/youmirror.db')\n",
      "INFO:sqlitedict:opening Sqlite table 'playlists' in PosixPath('mymirror/youmirror.db')\n",
      "INFO:sqlitedict:opening Sqlite table 'singles' in PosixPath('mymirror/youmirror.db')\n"
     ]
    },
    {
     "name": "stdout",
     "output_type": "stream",
     "text": [
      "New config: \n",
      "name = \"mymirror\"\n",
      "last_updated = \"2022-04-13\"\n",
      "default_resolution = \"best\"\n",
      "\n",
      "[playlists]\n",
      "\n",
      "[singles]\n",
      "\n",
      "[channels.\"/user/videogamedunkey\"]\n",
      "name = \"videogamedunkey\"\n",
      "url = \"http://www.youtube.com/user/videogamedunkey\"\n",
      "type = \"channel\"\n",
      "\n",
      "[channels.\"/c/TheAlwaysSunnyPodcast\"]\n",
      "name = \"The Always Sunny Podcast\"\n",
      "url = \"http://www.youtube.com/c/TheAlwaysSunnyPodcast\"\n",
      "type = \"channel\"\n",
      "\n"
     ]
    },
    {
     "name": "stderr",
     "output_type": "stream",
     "text": [
      "INFO:root:http://www.youtube.com/user/videogamedunkey already exists in the mirror\n",
      "INFO:sqlitedict:opening Sqlite table 'channels' in PosixPath('mymirror/youmirror.db')\n",
      "INFO:sqlitedict:opening Sqlite table 'playlists' in PosixPath('mymirror/youmirror.db')\n",
      "INFO:sqlitedict:opening Sqlite table 'singles' in PosixPath('mymirror/youmirror.db')\n"
     ]
    },
    {
     "name": "stdout",
     "output_type": "stream",
     "text": [
      "New config: \n",
      "name = \"mymirror\"\n",
      "last_updated = \"2022-04-13\"\n",
      "default_resolution = \"best\"\n",
      "\n",
      "[playlists]\n",
      "\n",
      "[singles]\n",
      "\n",
      "[channels.\"/user/videogamedunkey\"]\n",
      "name = \"videogamedunkey\"\n",
      "url = \"http://www.youtube.com/user/videogamedunkey\"\n",
      "type = \"channel\"\n",
      "\n",
      "[channels.\"/c/TheAlwaysSunnyPodcast\"]\n",
      "name = \"The Always Sunny Podcast\"\n",
      "url = \"http://www.youtube.com/c/TheAlwaysSunnyPodcast\"\n",
      "type = \"channel\"\n",
      "\n",
      "Added in 6.341966390609741 seconds\n"
     ]
    }
   ],
   "source": [
    "start = time.time()\n",
    "ym.add(url=\"https://www.youtube.com/c/TheAlwaysSunnyPodcast\", root=\"mymirror\")\n",
    "ym.add(url=\"https://www.youtube.com/user/videogamedunkey\", root=\"mymirror\")\n",
    "print(f'Added in {time.time() - start} seconds')"
   ]
  },
  {
   "cell_type": "code",
   "execution_count": 3,
   "metadata": {},
   "outputs": [
    {
     "name": "stderr",
     "output_type": "stream",
     "text": [
      "INFO:root:Removing https://www.youtube.com/c/TheAlwaysSunnyPodcast from the mirror\n"
     ]
    },
    {
     "name": "stdout",
     "output_type": "stream",
     "text": [
      "New config: \n",
      "name = \"mymirror\"\n",
      "last_updated = \"2022-04-13\"\n",
      "default_resolution = \"best\"\n",
      "\n",
      "[playlists]\n",
      "\n",
      "[singles]\n",
      "\n",
      "[channels.\"/user/videogamedunkey\"]\n",
      "name = \"videogamedunkey\"\n",
      "url = \"http://www.youtube.com/user/videogamedunkey\"\n",
      "type = \"channel\"\n",
      "\n",
      "Added in 0.004656076431274414 seconds\n"
     ]
    }
   ],
   "source": [
    "start = time.time()\n",
    "ym.remove(url=\"https://www.youtube.com/c/TheAlwaysSunnyPodcast\", root=\"mymirror\")\n",
    "print(f'Added in {time.time() - start} seconds')"
   ]
  },
  {
   "cell_type": "markdown",
   "metadata": {},
   "source": [
    "### Testing the parser"
   ]
  },
  {
   "cell_type": "code",
   "execution_count": 4,
   "metadata": {},
   "outputs": [],
   "source": [
    "import youmirror.parser as parser"
   ]
  },
  {
   "cell_type": "code",
   "execution_count": 5,
   "metadata": {},
   "outputs": [],
   "source": [
    "ch = Channel(\"http://www.youtube.com/c/TheAlwaysSunnyPodcast\")\n",
    "pl = Playlist(\"https://www.youtube.com/playlist?list=PLS1QulWo1RIZiBcTr5urECberTITj7gjA\")\n",
    "si = YouTube(\"https://www.youtube.com/watch?v=GznmPACXBlY\")\n",
    "ch_urls = parser.get_children(ch)[0:10]\n",
    "pl_urls = parser.get_children(pl)[0:10]\n",
    "# print(ch_urls)\n",
    "# print(pl_urls)"
   ]
  },
  {
   "cell_type": "code",
   "execution_count": 6,
   "metadata": {},
   "outputs": [
    {
     "name": "stdout",
     "output_type": "stream",
     "text": [
      "{'name': 'The Always Sunny Podcast', 'children': ['UaddC6h5yPk', 'nlsvIiGOQT0', '9C-pfRJSUek', 'V3o4ijDFjA8', 'xviPQ07WfXI', '0C-n4c8B6_o', '-dO1yFFZu8w', 'sztaSIwdvWc', 'acNg26XkfFo', 'x2ALxWntGw4', 'mJntfYZUlWg', '0CALWTJ1gIs', 'w-0GrZZS8TY', 'qFH8ONJQu5I', 'oDGtZtZsAdY', 'w297cLhK_Zo', 'gmLD0gYDI50', 'm1o-iY70QZQ', 'bsNInoJpOVA', 'HCIQ_zocZnU', 'km1Hxg-v9ws', 'jppA5NDk364', '4f2lVSYgzjo', 'px2ch3R7Xtc', 'NxOJSgQ-ANA', 'wlPrSuBvwQo', 'iWxaqTRKi2s', 'Mmqjueb9bGw', 'rJd98ahZPmE', 'aE6Ns_odqec', 'yPM0zueqXK0', 'VpvSiTKMTrE', 'rKurm9SqXAw', 'HtbtEEOHmNY', '69cjUN4x3wA', 'fjCHw_ttEXY', 'VIORhtcxlqM', 'W4NVPRKqrN4', 'E6UQEuk7wEA', 'ZSrQfCz0NnQ', 'se5scESKZqE', '9Nh4hRaLgec', 'JRbATxvD_mo', 'IL9QLCe2xxo', '2LnURQ9NaOA', 'OK9L6xSN24Y', 'FtA5iRT4pQk', 'jTBO_K_zeR0', 'Gyy2vXixdKw', 'uye6OptPmps', 'ErF-Um18G0M', 'g43FW-1CEQo', 'kL9gJmtanfs', 'h97oKaQSX-M', 'C7ON-LSl54g'], 'available': True, 'path': ''}\n",
      "{'name': 'QT C++ GUI Tutorial For Beginners', 'children': ['EkjaiDsiM-Q', 'eS7ank-qFjg', '5JVLO8yBMXA', 'Y1c-ieVO-UY', 'F56fSKoNCtk', 'xJdxE_7IBsU', 'gWa2rqe8l6E', 'y9Zx_FJBC1U', 'VigUMAfE2q4', '6_elY8O20I8', 'SyzxerD2Yps', 'BI5TQ_NPp1s', 'CTbpS0PN-JQ', 'Sf-Vr-1q5UA', 'us2bq5vpQ9g', '2Dv-TO9KQDE', 'utjU9csHCO8', 'E9eQO5czNrw', '-6ZS7nxgzrQ', '2YRAJt-LbkM', 'hstOtTEeW9Y', 'tY6nW3Wm3NE', 'Fgt4WWdn3Ko', 'E4L4IjAR-Ww', 'zywq2kpcXP4', 'j4j1gbYJtUw', 'ucWsnp064ow', '68_PHjBohAs', 'Kmpg6MD-LjM', 'rtgOb03xl_U', 'ugW7ULhJwPw', 'TfEttsC1vEA', 'MhYECGUzdA4', 'SukVA3w6l3E', 'DTxc1rA2Itg', 'GK39mFS9fKc', 'ae-gENE5wvE', '6PfmUiZTWBM', 'ghToze5bboE', '6F6ECKek1Dc', 'bVAH2772w3Q', 'cyyfke88sro', 'awVkDykjCbc', 'jhrjYank-wg', 'y7GNJlilbvg', 'i4BCSEPz25o', '3FM0KzuDiRg', 'KrH1qNVYKO0', 'Mwd1dX--HaU', 'QBXoWOc7T_Q', 'h1NlXUaDpmk', 'tt5h-zF8dUI', 'fpgDeQ_EW1A', '0kNe9aGtsLA', 'hQSuM1uCdXE'], 'available': True, 'path': ''}\n",
      "{'name': 'How I built a software agency website with Next.js + Tailwind CSS (in nature)', 'parent': None, 'available': True, 'path': '', 'captions': '', 'filename': 'How I built a software agency website with Next.js + Tailwind CSS (in nature)'}\n"
     ]
    }
   ],
   "source": [
    "print(parser.get_keys(ch))\n",
    "print(parser.get_keys(pl))\n",
    "print(parser.get_keys(si))"
   ]
  },
  {
   "cell_type": "markdown",
   "metadata": {},
   "source": [
    "### Testing the helper"
   ]
  },
  {
   "cell_type": "code",
   "execution_count": 1,
   "metadata": {},
   "outputs": [],
   "source": [
    "import youmirror.helper as helper\n",
    "from pytube import Channel, Playlist, YouTube"
   ]
  },
  {
   "cell_type": "code",
   "execution_count": 4,
   "metadata": {},
   "outputs": [
    {
     "ename": "TypeError",
     "evalue": "calculate_path() missing 1 required positional argument: 'yt'",
     "output_type": "error",
     "traceback": [
      "\u001b[0;31m---------------------------------------------------------------------------\u001b[0m",
      "\u001b[0;31mTypeError\u001b[0m                                 Traceback (most recent call last)",
      "\u001b[1;32m/home/user/Desktop/playground/youmirror/test.ipynb Cell 14'\u001b[0m in \u001b[0;36m<cell line: 4>\u001b[0;34m()\u001b[0m\n\u001b[1;32m      <a href='vscode-notebook-cell:/home/user/Desktop/playground/youmirror/test.ipynb#ch0000011?line=1'>2</a>\u001b[0m pl \u001b[39m=\u001b[39m Playlist(\u001b[39m\"\u001b[39m\u001b[39mhttps://www.youtube.com/playlist?list=PLS1QulWo1RIZiBcTr5urECberTITj7gjA\u001b[39m\u001b[39m\"\u001b[39m)\n\u001b[1;32m      <a href='vscode-notebook-cell:/home/user/Desktop/playground/youmirror/test.ipynb#ch0000011?line=2'>3</a>\u001b[0m si \u001b[39m=\u001b[39m YouTube(\u001b[39m\"\u001b[39m\u001b[39mhttps://www.youtube.com/watch?v=GznmPACXBlY\u001b[39m\u001b[39m\"\u001b[39m)\n\u001b[0;32m----> <a href='vscode-notebook-cell:/home/user/Desktop/playground/youmirror/test.ipynb#ch0000011?line=3'>4</a>\u001b[0m helper\u001b[39m.\u001b[39;49mcalculate_path()\n\u001b[1;32m      <a href='vscode-notebook-cell:/home/user/Desktop/playground/youmirror/test.ipynb#ch0000011?line=4'>5</a>\u001b[0m path \u001b[39m=\u001b[39m helper\u001b[39m.\u001b[39mcalculate_path(ch)\n\u001b[1;32m      <a href='vscode-notebook-cell:/home/user/Desktop/playground/youmirror/test.ipynb#ch0000011?line=5'>6</a>\u001b[0m \u001b[39mprint\u001b[39m(path)\n",
      "\u001b[0;31mTypeError\u001b[0m: calculate_path() missing 1 required positional argument: 'yt'"
     ]
    }
   ],
   "source": [
    "ch = Channel(\"http://www.youtube.com/c/TheAlwaysSunnyPodcast\")\n",
    "pl = Playlist(\"https://www.youtube.com/playlist?list=PLS1QulWo1RIZiBcTr5urECberTITj7gjA\")\n",
    "si = YouTube(\"https://www.youtube.com/watch?v=GznmPACXBlY\")\n",
    "path = helper.calculate_path(ch)\n",
    "print(path)\n",
    "path = helper.calculate_path(pl)\n",
    "print(path)\n",
    "path = helper.calculate_path(si)\n",
    "print(path)"
   ]
  },
  {
   "cell_type": "code",
   "execution_count": 17,
   "metadata": {},
   "outputs": [
    {
     "name": "stdout",
     "output_type": "stream",
     "text": [
      "2022-04-12\n"
     ]
    }
   ],
   "source": [
    "import datetime\n",
    "timestamp = 1339521878.04 \n",
    "value = datetime.datetime.now().strftime('%Y-%m-%d')\n",
    "print(value)"
   ]
  },
  {
   "cell_type": "markdown",
   "metadata": {},
   "source": [
    "### Testing the databasing"
   ]
  },
  {
   "cell_type": "code",
   "execution_count": 5,
   "metadata": {},
   "outputs": [
    {
     "name": "stderr",
     "output_type": "stream",
     "text": [
      "INFO:sqlitedict:opening Sqlite table 'channels' in 'mymirror/youmirror.db'\n"
     ]
    },
    {
     "name": "stdout",
     "output_type": "stream",
     "text": [
      "{'name': 'videogamedunkey', 'children': 'kUKinGYoeDA mZavtHhk508 D1H4o4FW-wA KjHe05UG0aU Q38fjcyP1IQ 82oJt2enz8A -vak7MUaa5E LCgYKW-UPYc 9xRTFtw7qWk wXqHtF4I3M8 Gvn9Pg4lUy8 FdFJzNC0NPI DRnMwtdegII YwqOqCplWMc c4sB4endNFI uZmHbYShJRM LGJ6TvKDlvI 3aGnSWsJ2KY vC5JnJD9KzY KuvDsT4sRzU ajh9e3PDAOc 6EvZF2m546k VAB7Pn-aRe8 HSRY0CdeOl0 UV2ofHNLQa4 ONfg5qeK_mI JNhmhw60QDk JXUz8Js8Weg HmZVrqi4Nw8 AOQzTtsr3AQ p24cqO7rP8o mjA_4n8IbRs yRiZ1MoAa5c m5P24B-s7ks 4KXqQT4JLIQ zvPkAYT6B1Q kEiuRdCZ8UA 7pO39Sh6THg aGlDnY7GQPU qteWNccZvg0 oA4G0dEDxmc tWoWvkmfK38 HQ4MfK4bO4g 3gdfNdilGFE BJi6QKO8-A0 iTBW6jbHgX0 tWWRTcLsYQU 4uQjE3A2RQA j_E7_LC-t88 kXnGmUu5qCg TVVum6X3TuM D-cp5TEid5o GduwxBZAxs4 aX5rs0jjkw8 enBceUyGf9Q iIKRnF43pbI 3VNKlKu7gb0 1nMRX06x6Vo L8mEHOjps1I g4Gpn2IzvJQ BcpuvXValTQ gTXNnzfdlLQ 6Bx1IKQ1btY VGj-D890CbI YBNTaT6zSmk UA3NlwU7keI V6wrPRoPTLg eLR8IbbWeIM llrebUD0pk0 9pfRKdzGGyU bxg9tAru3IQ e3D5uPCXTaA i59JzvLu4I4 h4SMSCKOXO8 LZMwJzkMbcs xGf21NNJva8 DPW6fkcM-14 stlfQNzKdbc Lr7JFvQLacA GlGkzb6uoaM MrciXNtHIm8 gjIMrVti1qM z3TzXvcFy1o MIchMEqVwvg q5UnT4Ik6KU ZLIQfdAnpKY aCN4sKv9esM iGOMViJlQmE VZzZKuQUguk Pjib5LReUSo b8DtkCOyE0I gy7VILMeN28 qNtK4-1uAi4 dVQcZa4O01A a3cw0oz6IIQ DNJ59hiUd-s oz9w8FkjIRs XZp6zxh2yjE eak2dTkR3Ck BCd7ZCN5uhk dW0QCU3RPtY fJrNzEurrg4 s2GhFL7fZio 6notqS434xg FNkntZMzE9o WMfpKQaZKhg -BdPQWBnuY0 I7OcL8j6rhk _-rjDmpEWhQ XhVUuqQ8PaA fXSjsSHWekw xm3ZGC9gxxs o2cX719XCgE XdSReowWF9k CV4he9sDXL8 8Qlf3b9wa4s 7QWUnsxwAYs dGGegRjExsk bMDeKarwTv8 d97XsNAvKAo KfFAgD7uIvk f7SVY9CyBBc CqXRLwKJz7s KPCN34nwv3U Q5ysxb_nL7w rezzjJ4NtK0 68tCnWFxMTM Qn1TReY-Am4 fC3PkiFk0sg mGLMi9kXTRI IoyTGoyiSds n0qIgPIDy00 SzfmtGESBxw stnVEc8R3IY gqXF1urD_Gc uTe9zlzjIcQ 78vQacqkCbE ukqZ5VOoK5s aaLiLRVeaZA 6OqfhefjQ5w nxIvg0y6vCY hPu7aLcZVTY QHW_5f_l2-s a6PUlx0K1AU _tsFZ8F_qcY waXb8QGdEYQ 9STHqt_vsCc ETXQUkp-VOg GwRcSyOoBj4 pKYeAN-_wFI 8iSIoTLauEU 30BFiSOP8JU Kl0-WESlJrM sBqk7I5-0I0 rd844ocrBDY ZE3bT2Z-8eE CSSNP2DudNw j-N8YuYUDQs wHP7v_vHE7w Y_HHZcTqJo8 L17uPcEUfyc LTqaD1BoIQM 8MQO2STCbbY Ojo7sRcGFlY 7WTEB7Qbt4U OxwehhlBVgY 9FQUcwbIYMc UWUYvyatLp0 -oKd0ilJEKs sp7Ofgpfxoc UD6ESrCFEeE EUJb1BD63ME xFnFiJAmADc oK158ih4smY 7c9L4TQls5w LMph2hAGj7k bWu5X4jcvv8 XkksE5DKj8Y 1UhFWoDZLxA Npxw4Y7w9RE iNkkMMaXSBI VKh9inKBlks MY-_dsTlosI y6z2PBK_VhE 4wJF2ni96Xg c66IR3qA5-w X2YfNeBxGLg Fn3g25ZEbak G6KXLtn6OHU L9y25i-csW8 eFAgO5WKnQA -Wv6okd57t8 8o1ieehttdA hKd3Ui8f0-c v1SpVYmcTGM RPjE9riEhtA MdRLVgRRce8 3UKpeM9X5AY okYcCeYBPUk TvO5epO-298 tLUaycJFjWA McB8dx9vDQA dLmszhDOkBE IQkLe77Pvdk NHjJPAkPzYU 9pSsg2Dn2Jc iH08rrt38m8 ryQpA86ZC8U q430dWj9sG4 FnRHJ_nhgjU WDQNWYOogOI hWbZZslsKqc vhgp_WId5ds acWuVPeTwa0 Of9GOMM9HPg 4umiOnu3wuk NB9EqUiLhq4 RSDtCgxwGiw IY5mBERhSDg sxvC647Yi0A sFg2rYQj1SE ZZmzAuvYCJw BtvRaMPJWLs N7r_PZP6T3s pMPomCWUraQ HS6R2Q7eRdg Ji_slRovrmk Mxv9AM397Y8 qHLizp8fARo _nW9k6k1I3k EQRuWJT0MLI P6ODTQKhaXk 8qGCleYV4cw eR7yRKBromQ fiVZMxf4E2Q 5LWnvV0Umvo DTBu4tigSDo 6rjYXEYpuDo CxvQbKWVjyk e7Z2I9x4Pd0 OzXm5A2dq3g CCkPhYiKbJU 2zE-J1rK1NQ 40hln85PONY ksQA0vgKF_A ipFCPsaVRc8 dDagv6SA8nw tU1hnE6klVw daIFi9xmTtQ YplCV7Se4ts uwTejwu4oaw 6ZDBDWAt1DI vprjSFyDpV0 JWD1fanD0ZI lG2dXobAXLI fVfT0z90Oko 7o8IcA66K9A a5Ck2qNAGmw nSYWIh7ajR4 atCA7JWOi_0 bxvPG4xCyCA a3o_ZKWi-OU CqRFXQJ2ghQ HSOuLJtDRFA GmUiVXW4R5E QDjci1ODoBs HlSpfIx3wIA 9EvbqxBUG_c XQDw1hlU99E Ug86qB68f1M FBtgI8lJ9r4 tcwgX7gQPf0 64TbMz-hA3w 5iszUCmLyW4 7y9CLWJvia8 ojapVW-7lQ0 S-khGy_yN8E 9OxnkKqsDI8 QvcFRgJwE2k ITfKaUFfx7g fiu1qbH37yw ziUMJB3id8I HJORTxZ8j9s 3tpQGRpoB58 W1YDaSw8gDM fgUqgM3euC8 kR3HFEeC3_E IvDeXaiBy3I J2gBkqP4V9Y wTXRMBoc4Qs a4UxBrJ2yIQ VELVomIF2Ts Mgfxo3CLdNM A4_auMe1HsY rUyoOUUE4YE ZuUfDXFZh6Y i6RV8O4Q9rc z55rJznqF3E mu0I-9FPFKU z3RKj9-X8dg lPwlfbeQOBg waZII8dRI90 jK7SFNx5mug BzmFbfCEv9k nLIK5HYkVQE YlFujEBi40E lN-rVlMIJZs iv5wXEwDiaw vlo0-GDi-qc P6uTKPwVnNI I50gWiTGyb8 g_FB4Bw99KU UOgvbS4GkF0 nFLNmPLRxyI ZgsByqwaC5k W3Vz25q_a9w __zGnZtL53Q oXkbUe3yKz8 XQkYBbM9YyM o_oEB0qf7Hg _8Nb_zgWZZ4 KtglAQCxUIk -_ZZAX_zt7Y y7OTIMoY5qY CjHlcRjfB9E U49VvGYZr98 E_7EhU5Y59M 5cvW09f2rww YaLopjibdOY 9g3CjQv5yec QtplRk6BdyA e5jx9aYSG1c IvMQe3v-HwA OeHjN4oWVfk KqRs_2kGZuY JYM-vPKyxfA WojvlJ_xibE VjzgbZL12VI SkNaUiaGRxw p8iBBJE_MZ0 duPynkGEFGI 9MTPdf6bxK8 8_fk6ni-0eI IR0-o1bqaig _lDb3MzDZEM WqnXp6Saa8Y uNLnBYqOXUA 939NGDTTNcg H46u8Yg9Q08 16cwAvQcW0E XtzqW-CnPm8 i1qnIBLNOG0 6n83K-cHHg4 huG8jhWKQYM SyphzxruFeo VTAoTeUpKnI pocXo5ZIfLA S5jdwIzkbkU REs9lYQlN2g cQdn1kbBVcg Vy_Dj_YSEsE 3sq2-7Eccl4 jM-eIB8xIz0 PUBnqS1qcvk q6yHoSvrTss Bj23JhwiNfY p8EfMTiOtb0 4wY4NNGW8LM hW0K_8AgJmg Y3Y1lbG0HkI zhkEwfrCNR0 -2fcSWvJ3wI zH8GLzkqlks YgSSql6MAKo kQShIMS9R6I 4Cr6QNQkk3o XGTwbaYXkvA 3ih9QXqYi28 N1uiLR6luWo Hh-N_GItTWo s4n6WGRHezA gPduSGytMlA fCrv01ESmcg EX9aDLjKYww 3GSzlqcK9CM hk2eZdhTdMk RGmJwiFXHDo Yaou-qomTrg 8O9JPYsxefI 69_mWyat9tw McDXSxH3Sx8 pYHh6he3Jig KgF3WFBqr2Q bGKNPWH7zIA YvMCeGLzTWE 3dC7F2TLkRA ecItRVAZxNI m2ONLDKum38 4z8rr88sztU OZMBjYSjjTM FMVxFdCZshM 7ZlNDMFyGzE hqMblpSqhgM jVWnDcNrhgk kIfZ96niHzY c1QxSfMUujo BfZpBZCdCCo j_3nT030hW4 6brM44delco XFoufkmR5Uo RDxWKr6xLKI 8l5ZjSI5G4E K-7vORaRZ-E NyWwRivr1wE BqZjHnarpX0 0HGU77c2HIE se32VCORUjc sEiGgaHiDJw tbTBIV5Dsjc KThQnm8oTlk k7WW3SSHb9s PnGAuJz4dMU Rz6jHTpi6zw SGs0-JmwwoA Bl4X8bCVnQU gbrWW08msFg TTuN7ZJ0g50 WNnTOqgSHQ0 z4WE21E_C3o BUUyae8vmmQ 8WvIOuAAqCw c1NoTNCiomU _k9cZHvJAZM 3EmcfIJQ-CU kb6GML4rx0o VaaApgbfKyU VDqvAAHFvlc YpzV6h6xiZI F5eqBbLvDIA S7x0izEw9yw tC9GF0tGZIY W2EZZVW7jjQ Zr0-jxm2Sd0 E1TZB2edISs PttKq0GcnoQ tAtIyWFeFMc RDPsKJ0E7NY ED0zaEbzASA 3u4PCz_Q4jw kfcu_dhwVA4 6P4jUcpwr7w AaxobrC3Qmo GZS-NHmhT34 f4LxBKN9ank vIdP01p4SqU N-YT_Ii9e_o mx4wbM6UnfA C4niIKg5pzI EAGK7FHPPSA 6Q4w_rJG2Ko 11NbCupbOls ct4mQCZCk3E eCZdqYimZkg SvoYY2lpETs WXIewCMep64 fF9-XOEpFS8 jqIyybWSKAk _WLIA-z2GVU EBLVEAHegs0 Sd3aiNZzyuA HgNc7K1dSqw WHW-B-XqwrM fZR0SNAthIU ahqOcapNi4w dKX1RzzyKmQ N6uwlIA7a7M KndsrvsucH4 UNObFaK5fTM XufKgP5saUQ 4O4SRcNBGp8 5yqs57gnI5c DbdVuAQf7s8 OzKX6cO70WY SsiBHDEFu10 a-5uEbrQR3s 7ofma5684ds b7beoe_nQEw W1x8br9H1Z4 EC-VrN9ABkk EoC4-ydyeos nYckzqc-VmU KQvl_Ble7n4 iiWkYRJd_s4 KrIpl40nwqY Sgrpjp_6XOk kCHVdq73o4s 7XoqRrfBmrQ isVrIuraCs0 kA1pmsOGv40 rMcCKLmivHE UzSGtoUMc7g eYG8almTvJo ymPE6nAoZE0 kihvf7hVlvE mHdHkbauAOg R_0A8i9_clI 3W7LztCEpA4 DI4shM8NlR0 T3eTRB2kfsw YaS-83AC_4c bd6B20J9iJU oMEI5TWbPMA tTsBn36yPrg CvtdvQzsb9s weaK0WuNSyQ Y7DzZwAP2H8 uQHgfmwPccc 7onpZl0tayA nPhubc3x6Pw -TjRLJa-J_w AUYDaypMqNQ Hx37TiGmsk8 2etiPxlKkFo fiBBqwwdpe8 JMMXFtB33Xc P1zPcom3j-Q bb0mGUSHwRQ 2pfESWR7gBs ybZ9PVcf6X8 sdnYy1b8KEY up0YjG_KhLU hznvlGA3f5U rO9vQmZfk0s GG7aDyn08Qk ZkP-dlAgrsw vTSHTXEyoXc i-daRJOoxzY I4X0CEdBiTc Z8N5n88EuVc Vqw-cP51MSQ jGo0ZNfsgHo CpTTv1mKL8w Pu6ixyJ_Y-0 Knwii6O5lwM T-3j2qj1Lq0 W8f-ZI3HGbU MHBdoUs1e5U lbeILUhuxDE kdGyUvCksD8 o-1AA-IysH8 hQWbFnAeDAo Jrlbb6mlTiU 6iJ3wSz7Xq0 KfO1XhRob3c oFiSVAGJ3Ac ce9hvZxVbf4 eCxFP24LOU0 5GWyZ58qHkM kacTMmoQPQM irzTY-SFirg 24UKEXHlbcw GGEGF7cHmMU c4bIYQgreic MbYgG0N9vic e5lGCSx3K4o 1tXKc_DrOXc OX3UQlcjcFc TpVG9eObxOM XEUPbRG3wMo BWIElnq7d7k TYTirwx3FkU PWRgAfAxKX4 U5jwoWJVcws uEci3e8JPAU 0RD-O9zGv10 dYSxcZ6sdB0 AQbRq-G12zI UO7OrHtmtqg 11jglGXXWsM gK_SVEbPNhA TK5ki5S-_qA Ky97jpPM4ZU fu-YbhX-JRA oPu3wpG5xZU -K1wsGeLSMM aQ_ju38_RzA JonGvS0e0zQ 4iMBROGV2O8 gG1U5yrRQeQ tRV27Dr8zs8 auYIAM4wgLE DoboklUZ590 VfZdneHad0E bxKSMQ7upHg Zvc4nYEwT3Y azZvxew31Gw t88VU72eAI0 F1GGAtxv-OA WgnG6f5fpyw c79sW3gVp8s ZaXmOkRIpzI Y6fUlwNONYc axqrHbLGW6g XOkFUkHB9q0 SES3vj-yZ2A nkWyVbuFwbs ECQKwvEoD8o 6X3tsDRfX1k rCsvWfEMcII WEtf3XolX9w 4OxmkY0Pkjw glZKI9Obj30 BGPoh9sQiUI rNVWOue9GLw Cn9yiGW-mfU NdBMLhBHevM RnqrYBPUmUk vyOA4BxRMH0 qdroeDSpoGU yurgqnrVm1w npC_lOcWAnU M_avgJJvgSc zHqbSsgI2rY rw2sMk-PTp8 iUejvXJ9-II R_NIW1Upu98 coBZlc3g1n4 Jkg8GiriHvU DjUhK8rYJYM _gYAPmUf08Y uEC2C-T47Xs q70ilCLciDk S35z2xDvKvc w5_cVzKFyTk sTdF5a9AYeQ 2uRdjm_mG4o QZeG9icVcC4 6r5sMN_QGQs 2iv8qcLmtws DNp-Y5qUBs4 SJSb7_-PHNA 48nFaBC6mDg 17XvXLHFDP0 W2wLQHCUmNE COVQ-iwHUlA X0k-x9zTfTM VS9IhcD1YYE Kv5esEjxtr4 LmjHx7yIvV8 aYDIYzPFvKc 2YeTbQYF6Hk zPej5c7DU7Q nUZM_-0AeDE yUWB2li9fUo 5uCMLhllWkk h5DEQb06T7Y JUFl_sDOHlM NLuUZptMcc0 ZrcpS_msu-c oaNlzC9T4rc YB_-T_dW2Aw F3rwO0ndPKw 7pOAsXK3bYs OkJguTJ6Ysw t7GN_R_SRnM Mj5KiiHznJk 7pdAhFhPtu8 T9D0yUNKkBw jJusfNv0DO0 PIJ54HCj_mY mi7dkQJI-Kc kvwmNx5AeAs EQzBI5hVBOI zIoJndp0sKI x0acbC7CLq4 OelHPDBSiJg UL5nJ1Q-VM4 TL8RaxLR894 wWBYZQwmJCg 8hXN0wPcv0k 3K78y5aX95M VzM_xwsC_YU 1UrmLlLjxlQ xtVsM6V9qxA P-UIrfOBNF4 MTA1God4ly0 Eyz_YJl4AjQ PDuRoI1kHxg RDcWc1t9XN8 8qnQNe9zQmo -CrFHP19-S8 789lNhxE--A H2qVL7hn7oE fcN7RP723eM gDHMtw_ECjE EHsMCYQ8HL8 uFFcKmoSoPE SBXL2WbARa4 8dzY5fUJ9CU ALAHuveI3A4 jmU7aAgA04s u7LsHloIjMc 4tiwthzgba4 McUGzPJq2dA fQ2rGXGVXzQ sRcBlcIZuXM ix_y9SmNLHc uX_fqzrQR74 wQusm6rHRaY Ong43KWh_x8 IiMJzjKKtgg 7pgmsGh0R3A ix3ZMxfefBk Bpsc1nrRSUE YXTjcxboiZU q6klZ4JF7K4 PwO_dAftBBY Pq_lmSRcBSY K3ca1X7A2Nw jumQjjmHbYE yQKI9oclZsk tyuWN4bzI6M zUUZWskaq8s fQ8vhfrZYHg ZY7ajv7zkHU 5TwrjtUIcr8 -uo-JnbtVqo lVdtV_JmMsg eZOlNmGRuDQ RM9R4IFSMHQ -StowFeeoog L-myMEB40Hg pl9R0Aos6aA j5PU-TjrciQ ZNdRu7E0ggc 3S8BvTbhkY0 _UOnfCZDUWo o7HUbFZW_kU bGz60wDqtco TUXugRstZaE uZfJ5S3WCY4 q8ghM-thJ2s I-GbEWY3Auk 8MhOouhhrTU Wqsb7VR6EB8 9VUETYy0Sbo o3T4IVOygHY 6EpmU__N7oQ iLMF6Dyd4GU', 'available': True, 'path': None}\n"
     ]
    }
   ],
   "source": [
    "channels_table = SqliteDict('mymirror/youmirror.db', tablename=\"channels\", autocommit=True)\n",
    "print(channels_table[\"/user/videogamedunkey\"])"
   ]
  }
 ],
 "metadata": {
  "interpreter": {
   "hash": "7d1fb857c91084ff2f5c4554f4552112f847df0461cff6be6b8b14c3a23eca4b"
  },
  "kernelspec": {
   "display_name": "Python 3.9.6 ('personate-gaLREsct-py3.9')",
   "language": "python",
   "name": "python3"
  },
  "language_info": {
   "codemirror_mode": {
    "name": "ipython",
    "version": 3
   },
   "file_extension": ".py",
   "mimetype": "text/x-python",
   "name": "python",
   "nbconvert_exporter": "python",
   "pygments_lexer": "ipython3",
   "version": "3.9.12"
  },
  "orig_nbformat": 4
 },
 "nbformat": 4,
 "nbformat_minor": 2
}
